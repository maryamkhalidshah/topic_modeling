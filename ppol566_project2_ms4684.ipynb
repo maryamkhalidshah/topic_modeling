{
 "cells": [
  {
   "cell_type": "markdown",
   "metadata": {},
   "source": [
    "# <center> <font color='royalblue'> Project 2"
   ]
  },
  {
   "attachments": {},
   "cell_type": "markdown",
   "metadata": {},
   "source": [
    "**Objective:**\n",
    "\n",
    "- Use topic modeling to decipher and identify related topics that come up in the speeches.\n",
    "\n",
    "#### Topic Modeling\n",
    "\n",
    "- Topic models are a suite of algorithms/statistical models that uncover the hidden/latent topics in a collection of documents.\n",
    "- LDA has shown excellent results in practice and therefore has been widely adopted.\n",
    "\n",
    "#### Usefulness of Topic Modeling\n",
    "- As more information becomes available, it becomes progressively more difficult to understand the information or find what we are looking for. \n",
    "- Topic modeling: a tool to organize, understand and summarize large collections of text. Useful for:\n",
    "  - Discovering hidden patterns \n",
    "  - Annotating documents according to the discovered topics\n",
    "  - Using these annotations to organize, search and summarize texts\n",
    "\n",
    "#### Application of Topic Modeling in other Policy Settings\n",
    "A few examples:\n",
    "- Legal sector: <a href=\"https://towardsdatascience.com/nlp-for-topic-modeling-summarization-of-legal-documents-8c89393b1534\">to provide document summaries of subject-matter to lawyers</a> \n",
    "- Education sector: <a href=\"https://data2x.org/wp-content/uploads/2021/04/UCSD-Brief-4_BigDataGenderCOVID19_Education.pdf\">Topic Modeling of Twitter Data to Identify Issues Impacting Women and Girls’ Education During the COVID-19 Pandemic</a>\n",
    "- Health sector: <a href=\"https://www.ncbi.nlm.nih.gov/pmc/articles/PMC6590882/\">Examining the flow of topics in the field of women’s health, by analyzing news articles on healthcare using topic modeling</a>\n",
    "\n",
    "#### Topic Modeling Tradeoffs\n",
    "- Topic modeling is notoriously more challenging to do when the text is shorter.\n",
    "- When run on different datasets, <a href=\"https://arxiv.org/abs/1608.08176\">LDA (widely used topic modeler) suffers from \"order effects\"</a> i.e. different topics are generated if the order of training data is shuffled. \n",
    "- The better the model is i.e. higher perplexity, the less humans are able to understand and interpret it. "
   ]
  },
  {
   "cell_type": "code",
   "execution_count": 1,
   "metadata": {},
   "outputs": [],
   "source": [
    "# import required modules\n",
    "import warnings\n",
    "warnings.filterwarnings(\"ignore\")\n",
    "import pandas as pd\n",
    "import numpy as np\n",
    "warnings.filterwarnings(\"ignore\")\n",
    "from sklearn.feature_extraction.text import CountVectorizer\n",
    "from sklearn.decomposition import LatentDirichletAllocation\n",
    "import pyLDAvis\n",
    "import pyLDAvis.sklearn\n",
    "warnings.filterwarnings(\"ignore\")\n",
    "import pyLDAvis.gensim_models as gensim_pyvis\n",
    "from gensim.corpora.dictionary import Dictionary\n",
    "from gensim.models import LdaModel\n",
    "from gensim.models import CoherenceModel\n",
    "from nltk.corpus import stopwords\n",
    "from nltk.tokenize import word_tokenize\n",
    "import matplotlib.pyplot as plt\n",
    "from plotnine import *\n",
    "warnings.filterwarnings(\"ignore\")"
   ]
  },
  {
   "cell_type": "markdown",
   "metadata": {},
   "source": [
    "## <center> <font color='royalblue'> Data Acquisition"
   ]
  },
  {
   "cell_type": "code",
   "execution_count": 2,
   "metadata": {},
   "outputs": [
    {
     "data": {
      "text/plain": [
       "(7507, 7)"
      ]
     },
     "execution_count": 2,
     "metadata": {},
     "output_type": "execute_result"
    }
   ],
   "source": [
    "# read in data\n",
    "un_speeches_orig = pd.read_csv('un_gen_debates_text.csv')\n",
    "\n",
    "# create copy\n",
    "un_speeches = un_speeches_orig.copy()\n",
    "\n",
    "# check shape\n",
    "un_speeches.shape"
   ]
  },
  {
   "cell_type": "code",
   "execution_count": 3,
   "metadata": {},
   "outputs": [
    {
     "name": "stdout",
     "output_type": "stream",
     "text": [
      "Dimensionality: This dataset has  7507  observations and  7  features.\n"
     ]
    }
   ],
   "source": [
    "print('Dimensionality: This dataset has ',un_speeches.shape[0], ' observations and ',un_speeches.shape[1], ' features.')"
   ]
  },
  {
   "cell_type": "code",
   "execution_count": 4,
   "metadata": {
    "scrolled": true
   },
   "outputs": [
    {
     "data": {
      "text/html": [
       "<div>\n",
       "<style scoped>\n",
       "    .dataframe tbody tr th:only-of-type {\n",
       "        vertical-align: middle;\n",
       "    }\n",
       "\n",
       "    .dataframe tbody tr th {\n",
       "        vertical-align: top;\n",
       "    }\n",
       "\n",
       "    .dataframe thead th {\n",
       "        text-align: right;\n",
       "    }\n",
       "</style>\n",
       "<table border=\"1\" class=\"dataframe\">\n",
       "  <thead>\n",
       "    <tr style=\"text-align: right;\">\n",
       "      <th></th>\n",
       "      <th>session</th>\n",
       "      <th>year</th>\n",
       "      <th>country</th>\n",
       "      <th>country_name</th>\n",
       "      <th>speaker</th>\n",
       "      <th>position</th>\n",
       "      <th>text</th>\n",
       "    </tr>\n",
       "  </thead>\n",
       "  <tbody>\n",
       "    <tr>\n",
       "      <th>0</th>\n",
       "      <td>25</td>\n",
       "      <td>1970</td>\n",
       "      <td>ALB</td>\n",
       "      <td>Albania</td>\n",
       "      <td>Mr. NAS</td>\n",
       "      <td>NaN</td>\n",
       "      <td>33: May I first convey to our President the co...</td>\n",
       "    </tr>\n",
       "    <tr>\n",
       "      <th>1</th>\n",
       "      <td>25</td>\n",
       "      <td>1970</td>\n",
       "      <td>ARG</td>\n",
       "      <td>Argentina</td>\n",
       "      <td>Mr. DE PABLO PARDO</td>\n",
       "      <td>NaN</td>\n",
       "      <td>177.\\t : It is a fortunate coincidence that pr...</td>\n",
       "    </tr>\n",
       "    <tr>\n",
       "      <th>2</th>\n",
       "      <td>25</td>\n",
       "      <td>1970</td>\n",
       "      <td>AUS</td>\n",
       "      <td>Australia</td>\n",
       "      <td>Mr. McMAHON</td>\n",
       "      <td>NaN</td>\n",
       "      <td>100.\\t  It is a pleasure for me to extend to y...</td>\n",
       "    </tr>\n",
       "    <tr>\n",
       "      <th>3</th>\n",
       "      <td>25</td>\n",
       "      <td>1970</td>\n",
       "      <td>AUT</td>\n",
       "      <td>Austria</td>\n",
       "      <td>Mr. KIRCHSCHLAEGER</td>\n",
       "      <td>NaN</td>\n",
       "      <td>155.\\t  May I begin by expressing to Ambassado...</td>\n",
       "    </tr>\n",
       "    <tr>\n",
       "      <th>4</th>\n",
       "      <td>25</td>\n",
       "      <td>1970</td>\n",
       "      <td>BEL</td>\n",
       "      <td>Belgium</td>\n",
       "      <td>Mr. HARMEL</td>\n",
       "      <td>NaN</td>\n",
       "      <td>176. No doubt each of us, before coming up to ...</td>\n",
       "    </tr>\n",
       "  </tbody>\n",
       "</table>\n",
       "</div>"
      ],
      "text/plain": [
       "   session  year country country_name             speaker position  \\\n",
       "0       25  1970     ALB      Albania             Mr. NAS      NaN   \n",
       "1       25  1970     ARG    Argentina  Mr. DE PABLO PARDO      NaN   \n",
       "2       25  1970     AUS    Australia         Mr. McMAHON      NaN   \n",
       "3       25  1970     AUT      Austria  Mr. KIRCHSCHLAEGER      NaN   \n",
       "4       25  1970     BEL      Belgium          Mr. HARMEL      NaN   \n",
       "\n",
       "                                                text  \n",
       "0  33: May I first convey to our President the co...  \n",
       "1  177.\\t : It is a fortunate coincidence that pr...  \n",
       "2  100.\\t  It is a pleasure for me to extend to y...  \n",
       "3  155.\\t  May I begin by expressing to Ambassado...  \n",
       "4  176. No doubt each of us, before coming up to ...  "
      ]
     },
     "execution_count": 4,
     "metadata": {},
     "output_type": "execute_result"
    }
   ],
   "source": [
    "# view data\n",
    "un_speeches.head()"
   ]
  },
  {
   "cell_type": "code",
   "execution_count": 5,
   "metadata": {},
   "outputs": [],
   "source": [
    "# add unique id column\n",
    "un_speeches.reset_index(inplace=True)\n",
    "un_speeches = un_speeches.rename(columns = {'index':'id'})"
   ]
  },
  {
   "cell_type": "code",
   "execution_count": 6,
   "metadata": {},
   "outputs": [
    {
     "data": {
      "text/plain": [
       "199"
      ]
     },
     "execution_count": 6,
     "metadata": {},
     "output_type": "execute_result"
    }
   ],
   "source": [
    "# check number of countries represented\n",
    "len(un_speeches.country.unique())"
   ]
  },
  {
   "cell_type": "code",
   "execution_count": 7,
   "metadata": {},
   "outputs": [
    {
     "data": {
      "image/png": "[encoded data removed]",
      "text/plain": [
       "<Figure size 1000x3500 with 1 Axes>"
      ]
     },
     "metadata": {},
     "output_type": "display_data"
    },
    {
     "data": {
      "text/plain": [
       "<ggplot: (-9223371910947322144)>"
      ]
     },
     "execution_count": 7,
     "metadata": {},
     "output_type": "execute_result"
    }
   ],
   "source": [
    "### plot country frequency\n",
    "\n",
    "# create df for countries\n",
    "countries = un_speeches[['country','id']]\n",
    "countries\n",
    "countries = countries.groupby('country').count().reset_index().rename(columns={'id':\"obs\"})\n",
    "countries.sort_values(by=['obs'], inplace=True, ascending=False)\n",
    "\n",
    "# create list of state names\n",
    "countries_list = list(countries.country.values)\n",
    "\n",
    "# plot\n",
    "plot_countries = (ggplot(countries, aes(x=countries_list,y=\"obs\"))+\n",
    "geom_bar(stat = \"identity\",position=\"dodge\",show_legend=False,fill=\"royalblue\",alpha=0.8)+\n",
    "                  coord_flip() +\n",
    "labs(x = \"Country\", y = \"Total Count\", title=\"Speeches by Countries\")+\n",
    " theme_bw()+\n",
    " scale_x_discrete(limits = countries_list)+\n",
    " theme(figure_size=(10, 35)\n",
    "))\n",
    "\n",
    "# save plot\n",
    "plot_countries.save(\"plot_countries.png\", width=10, height=25, dpi=300)\n",
    "\n",
    "# view plot\n",
    "plot_countries"
   ]
  },
  {
   "cell_type": "markdown",
   "metadata": {},
   "source": [
    "## <center> <font color='royalblue'> Topic Modeling - Full Dataset"
   ]
  },
  {
   "cell_type": "code",
   "execution_count": 8,
   "metadata": {},
   "outputs": [],
   "source": [
    "# Select only id, speaker, and speech text\n",
    "df = un_speeches[[\"id\", \"speaker\", \"text\"]]"
   ]
  },
  {
   "cell_type": "markdown",
   "metadata": {},
   "source": [
    "#### Steps:\n",
    "1. Instantiate vectorizer with parameters: vectorizer\n",
    "2. Vectorize column of text with fit_transform: X\n",
    "3. Instantiate LDA model with parameters: lda\n",
    "4. Fit LDA model to vectorized text: doc_topics"
   ]
  },
  {
   "cell_type": "markdown",
   "metadata": {},
   "source": [
    "#### 1. Instantiate vectorizer with parameters: vectorizer"
   ]
  },
  {
   "cell_type": "code",
   "execution_count": 9,
   "metadata": {},
   "outputs": [],
   "source": [
    "# remove punctuation \n",
    "df[\"text\"] = df['text'].str.replace(\"[^\\w\\s]\", '')\n",
    "\n",
    "# remove numbers\n",
    "df[\"text\"] = df['text'].str.replace('\\d+', '')\n",
    "\n",
    "# view \n",
    "df.head()\n",
    "\n",
    "warnings.filterwarnings(\"ignore\")"
   ]
  },
  {
   "cell_type": "code",
   "execution_count": 10,
   "metadata": {},
   "outputs": [],
   "source": [
    "# instantiate vectorizer\n",
    "vec = CountVectorizer(stop_words=\"english\",\n",
    "                    lowercase=True,\n",
    "                    ngram_range=(1, 1), # lower bound,upper bound: 1,1 only unigrams, 1,2 unigrams and bigrams, 2,2 only bigrams, etc...,\n",
    "                    min_df=5, # ignore rare words (appear in less than 5 documents)\n",
    "                    max_df=0.8) # ignore common words (appear in more than 80% of documents)"
   ]
  },
  {
   "cell_type": "markdown",
   "metadata": {},
   "source": [
    "#### 2. Vectorize column of text with fit_transform: X"
   ]
  },
  {
   "cell_type": "code",
   "execution_count": 11,
   "metadata": {
    "scrolled": true
   },
   "outputs": [],
   "source": [
    "# create document-term matrix\n",
    "X = vec.fit_transform(df[\"text\"])"
   ]
  },
  {
   "cell_type": "code",
   "execution_count": 12,
   "metadata": {},
   "outputs": [
    {
     "data": {
      "text/plain": [
       "(7507, 25352)"
      ]
     },
     "execution_count": 12,
     "metadata": {},
     "output_type": "execute_result"
    }
   ],
   "source": [
    "# check: documents, terms\n",
    "X.shape"
   ]
  },
  {
   "cell_type": "code",
   "execution_count": 13,
   "metadata": {},
   "outputs": [
    {
     "name": "stdout",
     "output_type": "stream",
     "text": [
      "There are 7507 documents, and 25352 terms.\n"
     ]
    }
   ],
   "source": [
    "print('There are',X.shape[0],'documents, and',X.shape[1],'terms.')"
   ]
  },
  {
   "cell_type": "markdown",
   "metadata": {},
   "source": [
    "#### 3. Instantiate LDA model with parameters: lda"
   ]
  },
  {
   "cell_type": "code",
   "execution_count": 14,
   "metadata": {},
   "outputs": [],
   "source": [
    "# instantiate LDA\n",
    "lda = LatentDirichletAllocation(n_components=4,\n",
    "                                       random_state=42)"
   ]
  },
  {
   "cell_type": "markdown",
   "metadata": {},
   "source": [
    "#### 4. Fit LDA model to vectorized text: doc_topics"
   ]
  },
  {
   "cell_type": "code",
   "execution_count": 15,
   "metadata": {},
   "outputs": [],
   "source": [
    "# fit LDA model to vectorized text\n",
    "doc_topics = lda.fit_transform(X)"
   ]
  },
  {
   "cell_type": "code",
   "execution_count": 16,
   "metadata": {},
   "outputs": [
    {
     "name": "stdout",
     "output_type": "stream",
     "text": [
      "There are 4 topics and 25352 words\n"
     ]
    }
   ],
   "source": [
    "print(f\"There are {lda.components_.shape[0]} topics and {lda.components_.shape[1]} words\")"
   ]
  },
  {
   "cell_type": "markdown",
   "metadata": {},
   "source": [
    "### Analysis"
   ]
  },
  {
   "cell_type": "markdown",
   "metadata": {},
   "source": [
    "#### Extract top words from each topic"
   ]
  },
  {
   "cell_type": "code",
   "execution_count": 17,
   "metadata": {},
   "outputs": [],
   "source": [
    "# get feature names (vocabulary)\n",
    "voc = np.array(vec.get_feature_names())"
   ]
  },
  {
   "cell_type": "code",
   "execution_count": 18,
   "metadata": {},
   "outputs": [],
   "source": [
    "# set number of top words you want\n",
    "n_words=10\n",
    "\n",
    "# create lambda function to extra top words from voc\n",
    "imp_words = lambda x: [voc[each] for each in np.argsort(x)[:-n_words-1:-1]]"
   ]
  },
  {
   "cell_type": "code",
   "execution_count": 19,
   "metadata": {},
   "outputs": [],
   "source": [
    "# use imp_words to extract words with the highest weights from our lda model\n",
    "words_in_topic = ([imp_words(x) for x in lda.components_])"
   ]
  },
  {
   "cell_type": "code",
   "execution_count": 20,
   "metadata": {},
   "outputs": [],
   "source": [
    "# join words into single string\n",
    "main_topics = [' '.join(x) for x in words_in_topic]"
   ]
  },
  {
   "cell_type": "code",
   "execution_count": 21,
   "metadata": {},
   "outputs": [],
   "source": [
    "# create dataframe with top words and set index to topic number\n",
    "main_topics_df = pd.DataFrame({\"top_words\": main_topics},\n",
    "                             index=[\"Topic_\" + str(each) for each in range(lda.n_components)])"
   ]
  },
  {
   "cell_type": "code",
   "execution_count": 22,
   "metadata": {
    "scrolled": true
   },
   "outputs": [
    {
     "data": {
      "text/html": [
       "<div>\n",
       "<style scoped>\n",
       "    .dataframe tbody tr th:only-of-type {\n",
       "        vertical-align: middle;\n",
       "    }\n",
       "\n",
       "    .dataframe tbody tr th {\n",
       "        vertical-align: top;\n",
       "    }\n",
       "\n",
       "    .dataframe thead th {\n",
       "        text-align: right;\n",
       "    }\n",
       "</style>\n",
       "<table border=\"1\" class=\"dataframe\">\n",
       "  <thead>\n",
       "    <tr style=\"text-align: right;\">\n",
       "      <th></th>\n",
       "      <th>top_words</th>\n",
       "    </tr>\n",
       "  </thead>\n",
       "  <tbody>\n",
       "    <tr>\n",
       "      <th>Topic_0</th>\n",
       "      <td>social global republic process challenges afri...</td>\n",
       "    </tr>\n",
       "    <tr>\n",
       "      <th>Topic_1</th>\n",
       "      <td>peoples africa situation south republic indepe...</td>\n",
       "    </tr>\n",
       "    <tr>\n",
       "      <th>Topic_2</th>\n",
       "      <td>africa developing global south small resources...</td>\n",
       "    </tr>\n",
       "    <tr>\n",
       "      <th>Topic_3</th>\n",
       "      <td>nuclear weapons europe problems process europe...</td>\n",
       "    </tr>\n",
       "  </tbody>\n",
       "</table>\n",
       "</div>"
      ],
      "text/plain": [
       "                                                 top_words\n",
       "Topic_0  social global republic process challenges afri...\n",
       "Topic_1  peoples africa situation south republic indepe...\n",
       "Topic_2  africa developing global south small resources...\n",
       "Topic_3  nuclear weapons europe problems process europe..."
      ]
     },
     "execution_count": 22,
     "metadata": {},
     "output_type": "execute_result"
    }
   ],
   "source": [
    "# examine top words\n",
    "main_topics_df"
   ]
  },
  {
   "cell_type": "code",
   "execution_count": 23,
   "metadata": {},
   "outputs": [
    {
     "data": {
      "text/plain": [
       "['social global republic process challenges african sustainable reform poverty democratic',\n",
       " 'peoples africa situation south republic independence relations problems war developing',\n",
       " 'africa developing global south small resources change today trade african',\n",
       " 'nuclear weapons europe problems process european conference role global disarmament']"
      ]
     },
     "execution_count": 23,
     "metadata": {},
     "output_type": "execute_result"
    }
   ],
   "source": [
    "# examine top words\n",
    "list(main_topics_df.top_words.values)"
   ]
  },
  {
   "cell_type": "markdown",
   "metadata": {},
   "source": [
    "#### Create a document topic matrix from results"
   ]
  },
  {
   "cell_type": "code",
   "execution_count": 24,
   "metadata": {},
   "outputs": [],
   "source": [
    "cols = [\"Topic_\" + str(each) for each in range(lda.n_components)]\n",
    "docs = [\"Document_\" + str(each) for each in range(X.shape[0])]"
   ]
  },
  {
   "cell_type": "code",
   "execution_count": 25,
   "metadata": {},
   "outputs": [],
   "source": [
    "# create dataframe with term weights and document # and topic # as rows, columns\n",
    "df_topics = pd.DataFrame(np.round(doc_topics, 2),\n",
    "                        columns=cols,\n",
    "                        index=docs)"
   ]
  },
  {
   "cell_type": "code",
   "execution_count": 26,
   "metadata": {},
   "outputs": [],
   "source": [
    "# Extract most important topics from those values\n",
    "imp_topic = np.argmax(df_topics.values, axis=1)"
   ]
  },
  {
   "cell_type": "code",
   "execution_count": 27,
   "metadata": {
    "scrolled": true
   },
   "outputs": [
    {
     "data": {
      "text/html": [
       "<div>\n",
       "<style scoped>\n",
       "    .dataframe tbody tr th:only-of-type {\n",
       "        vertical-align: middle;\n",
       "    }\n",
       "\n",
       "    .dataframe tbody tr th {\n",
       "        vertical-align: top;\n",
       "    }\n",
       "\n",
       "    .dataframe thead th {\n",
       "        text-align: right;\n",
       "    }\n",
       "</style>\n",
       "<table border=\"1\" class=\"dataframe\">\n",
       "  <thead>\n",
       "    <tr style=\"text-align: right;\">\n",
       "      <th></th>\n",
       "      <th>Topic_0</th>\n",
       "      <th>Topic_1</th>\n",
       "      <th>Topic_2</th>\n",
       "      <th>Topic_3</th>\n",
       "    </tr>\n",
       "  </thead>\n",
       "  <tbody>\n",
       "    <tr>\n",
       "      <th>Document_0</th>\n",
       "      <td>0.00</td>\n",
       "      <td>1.00</td>\n",
       "      <td>0.00</td>\n",
       "      <td>0.00</td>\n",
       "    </tr>\n",
       "    <tr>\n",
       "      <th>Document_1</th>\n",
       "      <td>0.00</td>\n",
       "      <td>0.60</td>\n",
       "      <td>0.00</td>\n",
       "      <td>0.40</td>\n",
       "    </tr>\n",
       "    <tr>\n",
       "      <th>Document_2</th>\n",
       "      <td>0.00</td>\n",
       "      <td>0.35</td>\n",
       "      <td>0.15</td>\n",
       "      <td>0.50</td>\n",
       "    </tr>\n",
       "    <tr>\n",
       "      <th>Document_3</th>\n",
       "      <td>0.00</td>\n",
       "      <td>0.38</td>\n",
       "      <td>0.00</td>\n",
       "      <td>0.62</td>\n",
       "    </tr>\n",
       "    <tr>\n",
       "      <th>Document_4</th>\n",
       "      <td>0.01</td>\n",
       "      <td>0.29</td>\n",
       "      <td>0.00</td>\n",
       "      <td>0.70</td>\n",
       "    </tr>\n",
       "  </tbody>\n",
       "</table>\n",
       "</div>"
      ],
      "text/plain": [
       "            Topic_0  Topic_1  Topic_2  Topic_3\n",
       "Document_0     0.00     1.00     0.00     0.00\n",
       "Document_1     0.00     0.60     0.00     0.40\n",
       "Document_2     0.00     0.35     0.15     0.50\n",
       "Document_3     0.00     0.38     0.00     0.62\n",
       "Document_4     0.01     0.29     0.00     0.70"
      ]
     },
     "execution_count": 27,
     "metadata": {},
     "output_type": "execute_result"
    }
   ],
   "source": [
    "# view dataframe\n",
    "df_topics.head()"
   ]
  },
  {
   "cell_type": "code",
   "execution_count": 28,
   "metadata": {
    "scrolled": true
   },
   "outputs": [],
   "source": [
    "# store top topic\n",
    "df_topics[\"top_topic\"] = imp_topic"
   ]
  },
  {
   "cell_type": "code",
   "execution_count": 29,
   "metadata": {},
   "outputs": [
    {
     "data": {
      "text/html": [
       "<div>\n",
       "<style scoped>\n",
       "    .dataframe tbody tr th:only-of-type {\n",
       "        vertical-align: middle;\n",
       "    }\n",
       "\n",
       "    .dataframe tbody tr th {\n",
       "        vertical-align: top;\n",
       "    }\n",
       "\n",
       "    .dataframe thead th {\n",
       "        text-align: right;\n",
       "    }\n",
       "</style>\n",
       "<table border=\"1\" class=\"dataframe\">\n",
       "  <thead>\n",
       "    <tr style=\"text-align: right;\">\n",
       "      <th></th>\n",
       "      <th>Topic_0</th>\n",
       "      <th>Topic_1</th>\n",
       "      <th>Topic_2</th>\n",
       "      <th>Topic_3</th>\n",
       "      <th>top_topic</th>\n",
       "    </tr>\n",
       "  </thead>\n",
       "  <tbody>\n",
       "    <tr>\n",
       "      <th>Document_0</th>\n",
       "      <td>0.00</td>\n",
       "      <td>1.00</td>\n",
       "      <td>0.00</td>\n",
       "      <td>0.00</td>\n",
       "      <td>1</td>\n",
       "    </tr>\n",
       "    <tr>\n",
       "      <th>Document_1</th>\n",
       "      <td>0.00</td>\n",
       "      <td>0.60</td>\n",
       "      <td>0.00</td>\n",
       "      <td>0.40</td>\n",
       "      <td>1</td>\n",
       "    </tr>\n",
       "    <tr>\n",
       "      <th>Document_2</th>\n",
       "      <td>0.00</td>\n",
       "      <td>0.35</td>\n",
       "      <td>0.15</td>\n",
       "      <td>0.50</td>\n",
       "      <td>3</td>\n",
       "    </tr>\n",
       "    <tr>\n",
       "      <th>Document_3</th>\n",
       "      <td>0.00</td>\n",
       "      <td>0.38</td>\n",
       "      <td>0.00</td>\n",
       "      <td>0.62</td>\n",
       "      <td>3</td>\n",
       "    </tr>\n",
       "    <tr>\n",
       "      <th>Document_4</th>\n",
       "      <td>0.01</td>\n",
       "      <td>0.29</td>\n",
       "      <td>0.00</td>\n",
       "      <td>0.70</td>\n",
       "      <td>3</td>\n",
       "    </tr>\n",
       "  </tbody>\n",
       "</table>\n",
       "</div>"
      ],
      "text/plain": [
       "            Topic_0  Topic_1  Topic_2  Topic_3  top_topic\n",
       "Document_0     0.00     1.00     0.00     0.00          1\n",
       "Document_1     0.00     0.60     0.00     0.40          1\n",
       "Document_2     0.00     0.35     0.15     0.50          3\n",
       "Document_3     0.00     0.38     0.00     0.62          3\n",
       "Document_4     0.01     0.29     0.00     0.70          3"
      ]
     },
     "execution_count": 29,
     "metadata": {},
     "output_type": "execute_result"
    }
   ],
   "source": [
    "# view\n",
    "df_topics.head()"
   ]
  },
  {
   "cell_type": "code",
   "execution_count": 30,
   "metadata": {
    "scrolled": true
   },
   "outputs": [
    {
     "data": {
      "text/html": [
       "\n",
       "<link rel=\"stylesheet\" type=\"text/css\" href=\"https://cdn.jsdelivr.net/gh/bmabey/pyLDAvis@3.3.1/pyLDAvis/js/ldavis.v1.0.0.css\">\n",
       "\n",
       "\n",
       "<div id=\"ldavis_el2021220145647980245464302918\"></div>\n",
       "<script type=\"text/javascript\">\n",
       "\n",
       "var ldavis_el2021220145647980245464302918_data = {\"mdsDat\": {\"x\": [-0.06004222518853724, 0.09872252608393439, -0.04606928944529841, 0.007388988549901313], \"y\": [0.03528759125902459, -0.012357776811041995, -0.06562434691640211, 0.04269453246841957], \"topics\": [1, 2, 3, 4], \"cluster\": [1, 1, 1, 1], \"Freq\": [22.16859551520523, 36.7338078591679, 18.69838184445092, 22.399214781175957]}, \"tinfo\": {\"Term\": [\"global\", \"europe\", \"european\", \"sustainable\", \"africa\", \"peoples\", \"arab\", \"nuclear\", \"poverty\", \"challenges\", \"reform\", \"small\", \"millennium\", \"change\", \"african\", \"process\", \"south\", \"independence\", \"climate\", \"democracy\", \"republic\", \"developing\", \"regional\", \"commitment\", \"let\", \"aggression\", \"peacekeeping\", \"goals\", \"terrorism\", \"caribbean\", \"guineas\", \"bougainville\", \"ivorian\", \"malian\", \"burundis\", \"fijians\", \"myanmars\", \"cplp\", \"bangui\", \"ramsi\", \"yaound\\u00e9\", \"celac\", \"divoire\", \"sahelosaharan\", \"burundian\", \"tuvalus\", \"c\\u00f4te\", \"lldcs\", \"paraguays\", \"salvadorans\", \"microcredit\", \"zine\", \"monuc\", \"abidine\", \"unasur\", \"mbasogo\", \"synergies\", \"obiang\", \"paraguayan\", \"bicesse\", \"myanmar\", \"guatemalans\", \"ldcs\", \"marino\", \"brazzaville\", \"tuvalu\", \"burundi\", \"rwandan\", \"monaco\", \"tonga\", \"timorleste\", \"rwandese\", \"paraguay\", \"papua\", \"ping\", \"ldc\", \"millennium\", \"sustainable\", \"congo\", \"mdgs\", \"monterrey\", \"guatemalan\", \"kimoon\", \"kofi\", \"rwanda\", \"annan\", \"mali\", \"dominican\", \"solomon\", \"gabon\", \"globalization\", \"mongolia\", \"sixtieth\", \"reform\", \"challenges\", \"highlevel\", \"excellency\", \"governance\", \"fiji\", \"goals\", \"summit\", \"poverty\", \"democracy\", \"islands\", \"commitments\", \"climate\", \"integration\", \"commitment\", \"terrorism\", \"social\", \"process\", \"programme\", \"agenda\", \"global\", \"democratic\", \"dialogue\", \"financial\", \"republic\", \"elections\", \"african\", \"regional\", \"regard\", \"ensure\", \"central\", \"implementation\", \"change\", \"respect\", \"stability\", \"role\", \"region\", \"progress\", \"member\", \"action\", \"developing\", \"peoples\", \"imperialist\", \"zionist\", \"expansionist\", \"colonialist\", \"imperialists\", \"reactionary\", \"fascist\", \"capitalist\", \"imperialism\", \"kurt\", \"vietnamese\", \"xxix\", \"indochinese\", \"maneuvers\", \"hegemonism\", \"puppet\", \"vietnam\", \"salisbury\", \"comrade\", \"pol\", \"colonialists\", \"zionists\", \"peking\", \"waldheim\", \"moslem\", \"yemeni\", \"neocolonialism\", \"plots\", \"honorable\", \"antiimperialist\", \"kampuchea\", \"viet\", \"racist\", \"rhodesia\", \"swapo\", \"indochina\", \"racists\", \"neighboring\", \"connexion\", \"nam\", \"domination\", \"namibian\", \"kampuchean\", \"nonalignment\", \"arab\", \"honor\", \"pretoria\", \"socialist\", \"liberation\", \"interference\", \"aggression\", \"lebanese\", \"nonaligned\", \"colonialism\", \"detente\", \"colonial\", \"independence\", \"occupation\", \"struggle\", \"occupied\", \"peoples\", \"territories\", \"israeli\", \"namibia\", \"israel\", \"lebanon\", \"powers\", \"palestinian\", \"withdrawal\", \"regime\", \"mankind\", \"race\", \"relations\", \"situation\", \"south\", \"resolutions\", \"foreign\", \"sovereignty\", \"problem\", \"africa\", \"policy\", \"republic\", \"right\", \"question\", \"military\", \"solution\", \"problems\", \"delegation\", \"war\", \"principles\", \"east\", \"middle\", \"charter\", \"conference\", \"just\", \"developing\", \"peaceful\", \"region\", \"african\", \"malawi\", \"tobago\", \"trinidad\", \"swaziland\", \"igad\", \"eritrean\", \"liberians\", \"nigerian\", \"kitts\", \"zambias\", \"liberias\", \"malawis\", \"alshabaab\", \"dispensation\", \"swazi\", \"ruf\", \"nigerias\", \"ghanas\", \"npfl\", \"hamas\", \"eswatini\", \"eritreas\", \"leoneans\", \"kenyas\", \"guyanas\", \"gambian\", \"tanzanias\", \"zambian\", \"taylor\", \"jamaicas\", \"ghana\", \"ethiopias\", \"gambia\", \"bahamas\", \"dominica\", \"maldives\", \"jamaica\", \"lesotho\", \"uganda\", \"barbuda\", \"zealand\", \"kenya\", \"antigua\", \"saint\", \"banana\", \"ethiopia\", \"barbados\", \"caribbean\", \"lucia\", \"caricom\", \"botswana\", \"malaysia\", \"grenada\", \"nevis\", \"small\", \"meaningful\", \"let\", \"food\", \"nigeria\", \"poor\", \"global\", \"change\", \"cent\", \"developing\", \"africa\", \"children\", \"somalia\", \"worlds\", \"trade\", \"resources\", \"south\", \"debt\", \"developed\", \"growth\", \"island\", \"economies\", \"address\", \"poverty\", \"today\", \"lives\", \"come\", \"african\", \"climate\", \"issues\", \"financial\", \"action\", \"war\", \"long\", \"assistance\", \"commitment\", \"future\", \"conflict\", \"past\", \"problems\", \"member\", \"tajikistan\", \"csce\", \"kazakhstan\", \"belarus\", \"turkmenistan\", \"latvia\", \"azerbaijan\", \"osce\", \"uzbekistan\", \"kyrgyzstan\", \"baltic\", \"armenia\", \"karabakh\", \"caucasus\", \"nagorny\", \"minsk\", \"georgian\", \"caspian\", \"cis\", \"croatian\", \"azerbaijani\", \"ukraines\", \"securitybuilding\", \"croatia\", \"aral\", \"estonia\", \"georgias\", \"austrian\", \"polands\", \"turkeys\", \"romania\", \"bulgaria\", \"slovakia\", \"lithuania\", \"chernobyl\", \"malta\", \"austria\", \"georgia\", \"slovenia\", \"turkey\", \"greece\", \"serbian\", \"ireland\", \"bosnia\", \"ukraine\", \"herzegovina\", \"european\", \"poland\", \"europe\", \"yugoslavia\", \"italy\", \"russia\", \"netherlands\", \"peacekeeping\", \"japan\", \"nuclear\", \"treaty\", \"weapons\", \"nonproliferation\", \"pakistan\", \"afghanistan\", \"chemical\", \"operations\", \"union\", \"disarmament\", \"regional\", \"role\", \"process\", \"issues\", \"comprehensive\", \"member\", \"conflict\", \"problems\", \"conference\", \"field\", \"future\", \"conflicts\", \"importance\", \"law\", \"common\", \"global\", \"progress\", \"relations\", \"negotiations\", \"secretarygeneral\", \"region\", \"effective\", \"war\", \"way\", \"today\", \"social\", \"respect\", \"charter\"], \"Freq\": [21786.0, 8921.0, 8483.0, 7619.0, 29131.0, 31984.0, 10418.0, 19370.0, 10295.0, 10157.0, 9279.0, 10065.0, 5644.0, 11209.0, 17955.0, 19397.0, 22283.0, 14065.0, 8939.0, 9473.0, 23274.0, 25947.0, 13030.0, 10307.0, 7729.0, 7030.0, 5997.0, 7562.0, 11141.0, 3692.0, 104.63366461092893, 130.13225231552107, 59.472438604941416, 59.38034050523152, 50.427465395817556, 51.40880525748435, 49.42493949610199, 48.431943197240365, 49.38174545014832, 45.41237322926016, 44.40770815532561, 46.35473710883291, 635.0538088026605, 40.39731507832759, 48.26132252766389, 40.37655351166723, 588.893593389967, 38.38370020567821, 40.330444983171205, 37.37806042938397, 37.36574988887941, 36.382333288688415, 54.07454965899361, 35.38045626615486, 36.3558704821575, 35.36366206620665, 54.01179138484727, 34.36637151403281, 64.79235834681216, 34.33462286681923, 711.0569933969207, 93.85856325553678, 208.24703165015316, 335.10014291031956, 108.94363960003962, 457.03287548473776, 1473.8528501004685, 145.14887137157862, 274.84042496505805, 330.99564481518524, 362.4018823727088, 229.31441713165222, 716.4410988194423, 901.3523154242712, 152.04266167502016, 71.8640103114948, 4592.555631955668, 5986.932090011284, 1479.103924390258, 1324.1786867842698, 345.56292066919394, 162.08885148897193, 670.6356175425531, 1065.915984337102, 1387.532439295643, 1091.9074556253925, 834.5916390119074, 599.2226265149727, 881.9038465753295, 498.97209759875346, 2293.348150154738, 409.01586353466007, 408.91530115884075, 5950.493736531459, 6428.258245024418, 1311.794542909931, 1431.6122099853753, 1932.6822162059268, 714.1210153685464, 4575.54695196205, 4178.308186190225, 5815.209510641096, 5306.705197853188, 2394.676413026651, 2464.5155235799575, 4709.003087286946, 2064.783011590385, 4953.511550656729, 5252.688785052508, 8426.832293869587, 7525.755267121427, 3564.804459529883, 4027.5671522846133, 7793.763767741861, 5545.742632726446, 4309.253089447917, 4413.887512333556, 7554.09625945902, 2270.3837050993407, 6095.083919744119, 4946.969425799963, 4511.079988279649, 4426.10891500403, 3840.515243118212, 4161.911182266856, 4248.709365606479, 5290.54346014163, 4214.251584005806, 4620.365362523097, 5285.463499594939, 4676.607853824084, 4496.369861216292, 4531.765603062609, 4919.63662508348, 4799.571819892485, 1760.7769836863952, 1262.780396085507, 712.657532339841, 525.2887918012233, 471.1926877405951, 419.06207943031086, 412.05869721331817, 477.0185975430206, 1913.8929105359878, 574.7634001099715, 1362.1659637177527, 264.7652501737725, 267.7384806767421, 247.74166749737725, 244.7209263891239, 262.6561541764637, 914.6979598550331, 223.67148290825108, 243.62773645703487, 213.66314640566407, 207.65931697096954, 199.64445092769424, 174.58754422880887, 743.8088767828515, 149.5454032606234, 183.42412650485142, 398.69798261692637, 142.5173959446279, 152.47745672406282, 136.5152323127525, 3212.5520626292014, 2462.941830455363, 3227.5958451332, 1177.50582757685, 904.3827940096941, 803.8278479192817, 365.1419820492746, 595.6026661435418, 964.6296865357473, 2303.780989543891, 2422.6601051804537, 1468.889115846413, 840.7308342223778, 896.7283768510662, 9682.835355670835, 546.9300255548222, 1742.2617790719173, 2623.4131605405696, 4351.2666677637835, 2756.728951660326, 6335.6192659000635, 1592.9563930732338, 4500.282203013943, 2809.7469162893735, 3277.00193483146, 3152.449897448531, 11791.770893415509, 4208.278886968465, 8178.536345620469, 3594.9104912907396, 24080.03555958172, 4740.190418283668, 3602.0414724319753, 6107.695466940423, 8021.024112368673, 4356.00762833216, 6411.5409782583565, 7628.874055203415, 3433.517350049894, 6170.4832575176815, 6071.563807654646, 4581.674312753562, 11693.693007316671, 13301.538208682938, 13076.594988585206, 7069.483817663602, 8390.110855114692, 5950.275959554232, 8972.578763343718, 14803.14095926314, 8390.810911302744, 12370.504264132418, 9442.726213466247, 7307.8652609045885, 7623.26950265556, 8749.618041983424, 11324.359117027256, 7740.1983455839945, 10132.566754425245, 8777.256709870619, 8539.480887918115, 7519.871527694812, 8502.384341101239, 9602.858679047713, 8113.376538287849, 10021.298656858173, 7571.154559649374, 8155.33485054445, 7696.053401947774, 673.646281322115, 745.9767597748561, 775.617169522535, 464.75492119008436, 172.54622620798287, 149.64129469189837, 96.82493829571709, 91.86799715800436, 313.22169350420893, 66.95933938238572, 61.003520538182705, 58.01339538037801, 55.99543899347647, 62.79254282429981, 49.04625229900678, 55.91205033613185, 48.04239013202845, 47.05781097499306, 45.068553055635434, 63.67390565744333, 44.058578275747905, 43.075954309606054, 42.06849067608552, 56.74300872417971, 49.883074696314445, 39.088759895561076, 38.08350709370685, 39.04807422494516, 38.06078960481937, 36.10217520280113, 579.433922432392, 155.49925508203015, 365.12483394318065, 1030.482373814368, 397.18427012184077, 457.67123185587957, 546.7677177550913, 471.24606599245345, 862.2209703469256, 354.2671581038795, 844.1951118260106, 840.467078047876, 373.65833105509205, 1371.260422838058, 159.09592120878054, 897.7257188164182, 943.7558417551918, 2691.7035855001495, 578.2964554453594, 396.1117325827987, 374.769972078236, 544.4197015942492, 777.5610492123601, 381.2251588686441, 5347.749994870623, 1124.9708349676312, 3900.5969386568195, 2584.2097776113437, 642.7164045468888, 2297.732596920686, 7936.920124258744, 4690.30837487088, 3040.6955161539045, 8306.547752365717, 8965.212813004719, 2420.6765598751344, 1473.657279721322, 1952.5875247231616, 4297.30979593504, 4824.457101871028, 6099.085466897767, 2431.5011730696247, 3962.379675576962, 2885.57355066491, 2094.131558944574, 2039.6465089784724, 2434.557206855188, 3290.383092384581, 4299.305018219694, 1992.9442491012817, 2630.1884887160713, 4017.4231607074094, 2793.233796173587, 2989.686658406552, 2852.5429702652814, 3466.047570266896, 3724.248441091689, 2783.744570224259, 2880.496981794118, 2747.760713036501, 2990.56657294766, 2956.0555351474704, 2717.0973678002138, 2818.869477874454, 2640.5106372029954, 644.0415695406361, 500.56103709227267, 495.6366072349869, 473.03418841277716, 416.0174019153936, 692.6989485976611, 813.3200118951917, 433.60431821597274, 297.0872198739189, 340.0890157917072, 297.9273030252018, 525.1672378075946, 222.33086770301782, 206.65127957051126, 142.7541200891145, 140.7934828995777, 139.81295058433494, 124.0920706647505, 122.12839750343167, 114.2631533980373, 165.98510824209575, 106.39715300376609, 103.40587653592746, 752.8513758686848, 89.68789560730193, 521.1092464093801, 91.54647197556552, 156.78827653105998, 77.88977802543715, 109.03118904296434, 744.366413855192, 803.6613186731989, 324.4453887826585, 397.51386252411714, 196.42965517309062, 865.5317383958281, 717.1289117949802, 711.3163115058272, 232.4557129573096, 1252.4220479588475, 790.7839823324339, 206.07881029443294, 1142.179620458604, 1751.212005663317, 1006.3142884882063, 1356.7477844223308, 6686.066782910619, 851.0886440959611, 6819.254663023794, 1290.842835516686, 745.2590365904153, 795.3421671185772, 593.2398081045811, 3764.7427189655987, 1779.062192990877, 9896.668326535928, 4866.944642152095, 7659.386294899171, 1846.7248855670198, 1534.3114114178227, 3258.6396944351272, 1627.320643944411, 2325.915729102809, 4574.079281468628, 5424.512019667335, 5244.620852520337, 5845.920873981905, 6722.355277179773, 4348.331343344783, 3457.5476582380547, 5271.05504582013, 5346.893482038627, 6746.282521005979, 6401.90961224751, 2494.7603748419283, 5028.468323100192, 4145.879217516549, 3518.764493740049, 4434.624289790275, 3828.03233997751, 5584.771371305599, 4920.677753123369, 5049.035788926712, 4179.214229400571, 4212.293882297828, 5119.152344678524, 3826.8562789572047, 4773.530812112095, 4153.472029750972, 4285.03524505086, 4554.297276722199, 4255.630837372405, 3988.024945898664], \"Total\": [21786.0, 8921.0, 8483.0, 7619.0, 29131.0, 31984.0, 10418.0, 19370.0, 10295.0, 10157.0, 9279.0, 10065.0, 5644.0, 11209.0, 17955.0, 19397.0, 22283.0, 14065.0, 8939.0, 9473.0, 23274.0, 25947.0, 13030.0, 10307.0, 7729.0, 7030.0, 5997.0, 7562.0, 11141.0, 3692.0, 105.39540659513835, 131.49053103582935, 60.222727872719176, 60.222126411335815, 51.188115112631856, 52.1916843279615, 50.184186448543855, 49.1804970685395, 50.18422343725033, 46.16890520124621, 45.16509392596841, 47.17263240291299, 646.3834698110353, 41.149768047460896, 49.1800628858279, 41.1495989757257, 600.2069781109051, 39.14193741672625, 41.14961221930237, 38.138151895596586, 38.1380683274286, 37.13440127227081, 55.20057061919347, 36.1305723084052, 37.13423775075768, 36.13057232271607, 55.199529221852416, 35.12674670507803, 66.24445905837287, 35.12637147739453, 738.4431643593227, 96.35672932579871, 215.76575715875154, 349.04797610576776, 112.40741232725858, 478.66306317622207, 1583.7758086041117, 150.53254912204042, 288.8170488985916, 349.1729664378285, 385.2961742032013, 241.89468974345593, 790.8824847694362, 1026.4611885643933, 161.5369895528496, 74.26377197770663, 5644.695421400217, 7619.733873477434, 1749.4259304399104, 1579.084640141839, 385.1653943120182, 174.63874958494813, 779.1126545558867, 1269.0887749989781, 1691.988235901713, 1319.8500692462476, 994.2906245921428, 699.2222973992709, 1057.34197319294, 576.0373956274658, 3046.8281329533434, 467.921705484566, 469.94870073692596, 9279.172344355964, 10157.527608882665, 1726.7859609338702, 1916.607077517016, 2755.5930117173875, 880.0820300226613, 7562.397790082845, 6905.679840179245, 10295.011305215667, 9473.086523363736, 3742.1056408601353, 3966.85782334226, 8939.942348014727, 3266.550677178031, 10307.36425786345, 11141.706711206007, 21107.200044634894, 19397.20195467405, 6995.80072168681, 8382.175968421496, 21786.396655683828, 13925.944848363672, 9840.195515094974, 10316.842231199229, 23274.302039588278, 3880.1627051877085, 17955.788321387827, 13030.320838932108, 11431.675242818139, 11613.120387802557, 9251.086781950873, 10707.789222254269, 11209.312289686752, 17263.75080897537, 11272.889368860428, 15307.88339946209, 21041.23599051976, 17491.13245880967, 15392.594361693395, 16283.62780429843, 25947.21266960476, 31984.942813285044, 1761.529357424805, 1263.52996205108, 713.42576810913, 526.049850680119, 471.9413503355151, 419.83637563663194, 412.82249249416543, 477.95246378237823, 1917.824369681842, 576.1465381849102, 1365.6815367581921, 265.52699108825414, 268.53229703165243, 248.49288357495192, 245.48666173481774, 263.5223614386909, 917.790871904357, 224.44446091130843, 244.48423528230572, 214.42434622869044, 208.41244016190547, 200.39636850782674, 175.34595794376492, 747.4542077834321, 150.29583256225732, 184.36443626791677, 400.790837808227, 143.28169444610472, 153.30137177660222, 137.2696503427311, 3246.026181170352, 2498.045420985799, 3283.257170011418, 1191.2751799915227, 913.7775127867153, 814.4379411632717, 367.7214773487837, 603.1076239125192, 981.6494620615885, 2367.795763458724, 2494.2730013725964, 1508.7368651944844, 856.4433342113616, 918.5034191993839, 10418.739937985472, 555.9843225041254, 1815.215906245569, 2771.7323802473647, 4734.80213019504, 2951.566979507563, 7030.175957419953, 1675.066726882575, 4969.665694039056, 3043.7348931386064, 3586.2199270925826, 3456.191682922002, 14065.6839575661, 4703.669332983869, 9594.390896386265, 4036.256579862393, 31984.942813285044, 5514.019169810784, 4092.996349714095, 7346.008892125268, 10034.248450838104, 5137.720141903999, 8011.669052902606, 9956.413927800557, 3996.194430002547, 8181.294841736381, 8033.452238706522, 5746.711742187157, 18845.674762053164, 22589.758297261727, 22283.470023404847, 10072.761153933166, 13150.571584883724, 8293.717350806517, 14494.11834324134, 29131.316748340574, 13398.809135682914, 23274.302039588278, 16022.551739259827, 11229.596423715026, 12025.627436896815, 14933.390502396987, 23074.207756469703, 12661.647520150887, 19964.319103162106, 16330.737239058526, 15568.596633224182, 12631.80890007042, 15969.76313549399, 21598.56556224182, 15171.72623575617, 25947.21266960476, 15031.290806241983, 21041.23599051976, 17955.788321387827, 674.412628186796, 747.1366344516892, 778.0276804921973, 466.2155061973492, 173.33527225235977, 150.42309906563705, 97.62582460554981, 92.64467841748738, 316.8062465434941, 67.74036480573895, 61.763169302331775, 58.774612371987665, 56.782442404096756, 63.75284435485019, 49.80902507878118, 56.783134680673726, 48.81279057574632, 47.81667043918845, 45.824289375357964, 64.75354532482324, 44.82822512552303, 43.831932585522786, 42.83581353605428, 57.780446322703405, 50.80549842692183, 39.84725269109556, 38.851132674613204, 39.84750148802048, 38.85130930581206, 36.858662586076086, 600.8512198288759, 159.3854146054224, 377.6412535760855, 1078.1090840594215, 412.52911526441056, 483.33631659157663, 579.9836788216813, 504.25383183370053, 959.02273498212, 386.7593559678895, 965.7799124126333, 965.2014317402263, 415.72155807350487, 1683.2738713620754, 171.4310476636872, 1110.6454546113343, 1179.2741242067534, 3692.8820670563905, 699.0856200925147, 466.7446594909181, 448.706164916665, 688.5449834647558, 1032.5799880787467, 462.6875573682189, 10065.978776050633, 1667.9488326084884, 7729.717041614569, 4827.092982581801, 869.0322084648325, 4444.646613906578, 21786.396655683828, 11209.312289686752, 6683.046349837105, 25947.21266960476, 29131.316748340574, 5169.610468128925, 2629.6785114953614, 3996.126713041314, 12597.818562531029, 14984.098271475641, 22283.470023404847, 5698.678992439047, 12032.96302996192, 7710.476505654807, 4674.4902705459335, 4480.427366061191, 6035.734154487694, 10295.011305215667, 16877.794256570858, 4490.098131308719, 7676.593083864351, 17955.788321387827, 8939.942348014727, 11370.3912073719, 10316.842231199229, 16283.62780429843, 19964.319103162106, 10223.451650942157, 11511.246815045948, 10307.36425786345, 15438.63704971119, 16013.61129092244, 10845.030126862923, 23074.207756469703, 15392.594361693395, 644.8254061035334, 501.3149320633115, 496.40041525256265, 473.7925683118093, 416.78192828177157, 693.9830049012525, 814.8910037625221, 434.4771969186792, 297.8455608900135, 341.10035697612847, 298.8314412142686, 526.8911323461971, 223.14261635753186, 207.4147783219592, 143.52353561182588, 141.55752674344842, 140.57449392516273, 124.84731589670102, 122.88137951146808, 115.01786071644821, 167.12115990793933, 107.15434254029407, 104.20633489470922, 758.9577357853844, 90.44429095524757, 525.9665255197264, 92.41219964123053, 158.28142343354546, 78.64900187435893, 110.10927724956399, 752.0985682288037, 819.0979401317368, 328.3829930677089, 404.1244608660503, 198.59726424811933, 893.9654813587275, 740.5739214132249, 735.6590685056566, 235.9773111860199, 1338.357918218675, 834.3650683570168, 209.434618597306, 1226.051263156685, 1953.3305367614566, 1098.659410983966, 1528.1035194376705, 8483.323374426709, 940.4103761504276, 8921.761829623334, 1524.1336687721082, 841.2038987784866, 917.1742884859796, 656.6522858649421, 5997.146429180716, 2435.535480656744, 19370.76221457214, 8377.39275587771, 16564.39308711419, 2706.2883685962106, 2132.7635014482366, 5912.491719999682, 2357.6005004355347, 3894.5435411290455, 10217.280913962912, 13192.03192562724, 13030.320838932108, 15307.88339946209, 19397.20195467405, 11370.3912073719, 8030.433645080158, 15392.594361693395, 16013.61129092244, 23074.207756469703, 21598.56556224182, 4876.382853329396, 15438.63704971119, 11400.376198938555, 8828.525322243438, 13804.146884474972, 10792.363957144556, 21786.396655683828, 17491.13245880967, 18845.674762053164, 13173.205568331312, 13478.82448752884, 21041.23599051976, 11367.251385368276, 19964.319103162106, 14296.889325293743, 16877.794256570858, 21107.200044634894, 17263.75080897537, 15969.76313549399], \"Category\": [\"Default\", \"Default\", \"Default\", \"Default\", \"Default\", \"Default\", \"Default\", \"Default\", \"Default\", \"Default\", \"Default\", \"Default\", \"Default\", \"Default\", \"Default\", \"Default\", \"Default\", \"Default\", \"Default\", \"Default\", \"Default\", \"Default\", \"Default\", \"Default\", \"Default\", \"Default\", \"Default\", \"Default\", \"Default\", \"Default\", \"Topic1\", \"Topic1\", \"Topic1\", \"Topic1\", \"Topic1\", \"Topic1\", \"Topic1\", \"Topic1\", \"Topic1\", \"Topic1\", \"Topic1\", \"Topic1\", \"Topic1\", \"Topic1\", \"Topic1\", \"Topic1\", \"Topic1\", \"Topic1\", \"Topic1\", \"Topic1\", \"Topic1\", \"Topic1\", \"Topic1\", \"Topic1\", \"Topic1\", \"Topic1\", \"Topic1\", \"Topic1\", \"Topic1\", \"Topic1\", \"Topic1\", \"Topic1\", \"Topic1\", \"Topic1\", \"Topic1\", \"Topic1\", \"Topic1\", \"Topic1\", \"Topic1\", \"Topic1\", \"Topic1\", \"Topic1\", \"Topic1\", \"Topic1\", \"Topic1\", \"Topic1\", \"Topic1\", \"Topic1\", \"Topic1\", \"Topic1\", \"Topic1\", \"Topic1\", \"Topic1\", \"Topic1\", \"Topic1\", \"Topic1\", \"Topic1\", \"Topic1\", \"Topic1\", \"Topic1\", \"Topic1\", \"Topic1\", \"Topic1\", \"Topic1\", \"Topic1\", \"Topic1\", \"Topic1\", \"Topic1\", \"Topic1\", \"Topic1\", \"Topic1\", \"Topic1\", \"Topic1\", \"Topic1\", \"Topic1\", \"Topic1\", \"Topic1\", \"Topic1\", \"Topic1\", \"Topic1\", \"Topic1\", \"Topic1\", \"Topic1\", \"Topic1\", \"Topic1\", \"Topic1\", \"Topic1\", \"Topic1\", \"Topic1\", \"Topic1\", \"Topic1\", \"Topic1\", \"Topic1\", \"Topic1\", \"Topic1\", \"Topic1\", \"Topic1\", \"Topic1\", \"Topic1\", \"Topic1\", \"Topic1\", \"Topic1\", \"Topic1\", \"Topic1\", \"Topic1\", \"Topic2\", \"Topic2\", \"Topic2\", \"Topic2\", \"Topic2\", \"Topic2\", \"Topic2\", \"Topic2\", \"Topic2\", \"Topic2\", \"Topic2\", \"Topic2\", \"Topic2\", \"Topic2\", \"Topic2\", \"Topic2\", \"Topic2\", \"Topic2\", \"Topic2\", \"Topic2\", \"Topic2\", \"Topic2\", \"Topic2\", \"Topic2\", \"Topic2\", \"Topic2\", \"Topic2\", \"Topic2\", \"Topic2\", \"Topic2\", \"Topic2\", \"Topic2\", \"Topic2\", \"Topic2\", \"Topic2\", \"Topic2\", \"Topic2\", \"Topic2\", \"Topic2\", \"Topic2\", \"Topic2\", \"Topic2\", \"Topic2\", \"Topic2\", \"Topic2\", \"Topic2\", \"Topic2\", \"Topic2\", \"Topic2\", \"Topic2\", \"Topic2\", \"Topic2\", \"Topic2\", \"Topic2\", \"Topic2\", \"Topic2\", \"Topic2\", \"Topic2\", \"Topic2\", \"Topic2\", \"Topic2\", \"Topic2\", \"Topic2\", \"Topic2\", \"Topic2\", \"Topic2\", \"Topic2\", \"Topic2\", \"Topic2\", \"Topic2\", \"Topic2\", \"Topic2\", \"Topic2\", \"Topic2\", \"Topic2\", \"Topic2\", \"Topic2\", \"Topic2\", \"Topic2\", \"Topic2\", \"Topic2\", \"Topic2\", \"Topic2\", \"Topic2\", \"Topic2\", \"Topic2\", \"Topic2\", \"Topic2\", \"Topic2\", \"Topic2\", \"Topic2\", \"Topic2\", \"Topic2\", \"Topic2\", \"Topic2\", \"Topic2\", \"Topic2\", \"Topic2\", \"Topic2\", \"Topic3\", \"Topic3\", \"Topic3\", \"Topic3\", \"Topic3\", \"Topic3\", \"Topic3\", \"Topic3\", \"Topic3\", \"Topic3\", \"Topic3\", \"Topic3\", \"Topic3\", \"Topic3\", \"Topic3\", \"Topic3\", \"Topic3\", \"Topic3\", \"Topic3\", \"Topic3\", \"Topic3\", \"Topic3\", \"Topic3\", \"Topic3\", \"Topic3\", \"Topic3\", \"Topic3\", \"Topic3\", \"Topic3\", \"Topic3\", \"Topic3\", \"Topic3\", \"Topic3\", \"Topic3\", \"Topic3\", \"Topic3\", \"Topic3\", \"Topic3\", \"Topic3\", \"Topic3\", \"Topic3\", \"Topic3\", \"Topic3\", \"Topic3\", \"Topic3\", \"Topic3\", \"Topic3\", \"Topic3\", \"Topic3\", \"Topic3\", \"Topic3\", \"Topic3\", \"Topic3\", \"Topic3\", \"Topic3\", \"Topic3\", \"Topic3\", \"Topic3\", \"Topic3\", \"Topic3\", \"Topic3\", \"Topic3\", \"Topic3\", \"Topic3\", \"Topic3\", \"Topic3\", \"Topic3\", \"Topic3\", \"Topic3\", \"Topic3\", \"Topic3\", \"Topic3\", \"Topic3\", \"Topic3\", \"Topic3\", \"Topic3\", \"Topic3\", \"Topic3\", \"Topic3\", \"Topic3\", \"Topic3\", \"Topic3\", \"Topic3\", \"Topic3\", \"Topic3\", \"Topic3\", \"Topic3\", \"Topic3\", \"Topic3\", \"Topic3\", \"Topic3\", \"Topic3\", \"Topic3\", \"Topic3\", \"Topic3\", \"Topic4\", \"Topic4\", \"Topic4\", \"Topic4\", \"Topic4\", \"Topic4\", \"Topic4\", \"Topic4\", \"Topic4\", \"Topic4\", \"Topic4\", \"Topic4\", \"Topic4\", \"Topic4\", \"Topic4\", \"Topic4\", \"Topic4\", \"Topic4\", \"Topic4\", \"Topic4\", \"Topic4\", \"Topic4\", \"Topic4\", \"Topic4\", \"Topic4\", \"Topic4\", \"Topic4\", \"Topic4\", \"Topic4\", \"Topic4\", \"Topic4\", \"Topic4\", \"Topic4\", \"Topic4\", \"Topic4\", \"Topic4\", \"Topic4\", \"Topic4\", \"Topic4\", \"Topic4\", \"Topic4\", \"Topic4\", \"Topic4\", \"Topic4\", \"Topic4\", \"Topic4\", \"Topic4\", \"Topic4\", \"Topic4\", \"Topic4\", \"Topic4\", \"Topic4\", \"Topic4\", \"Topic4\", \"Topic4\", \"Topic4\", \"Topic4\", \"Topic4\", \"Topic4\", \"Topic4\", \"Topic4\", \"Topic4\", \"Topic4\", \"Topic4\", \"Topic4\", \"Topic4\", \"Topic4\", \"Topic4\", \"Topic4\", \"Topic4\", \"Topic4\", \"Topic4\", \"Topic4\", \"Topic4\", \"Topic4\", \"Topic4\", \"Topic4\", \"Topic4\", \"Topic4\", \"Topic4\", \"Topic4\", \"Topic4\", \"Topic4\", \"Topic4\", \"Topic4\", \"Topic4\", \"Topic4\", \"Topic4\", \"Topic4\", \"Topic4\", \"Topic4\", \"Topic4\", \"Topic4\"], \"logprob\": [30.0, 29.0, 28.0, 27.0, 26.0, 25.0, 24.0, 23.0, 22.0, 21.0, 20.0, 19.0, 18.0, 17.0, 16.0, 15.0, 14.0, 13.0, 12.0, 11.0, 10.0, 9.0, 8.0, 7.0, 6.0, 5.0, 4.0, 3.0, 2.0, 1.0, -9.7865, -9.5684, -10.3514, -10.353, -10.5164, -10.4971, -10.5365, -10.5568, -10.5374, -10.6212, -10.6435, -10.6006, -7.9832, -10.7382, -10.5603, -10.7387, -8.0587, -10.7893, -10.7399, -10.8159, -10.8162, -10.8429, -10.4466, -10.8708, -10.8436, -10.8713, -10.4478, -10.8999, -10.2658, -10.9008, -7.8702, -9.8952, -9.0982, -8.6225, -9.7461, -8.3122, -7.1413, -9.4592, -8.8208, -8.6349, -8.5442, -9.0019, -7.8627, -7.6331, -9.4128, -10.1622, -6.0048, -5.7396, -7.1378, -7.2484, -8.5918, -9.3488, -7.9287, -7.4654, -7.2017, -7.4413, -7.71, -8.0413, -7.6549, -8.2244, -6.6992, -8.4232, -8.4235, -5.7457, -5.6685, -7.2578, -7.1704, -6.8703, -7.8659, -6.0085, -6.0993, -5.7687, -5.8602, -6.656, -6.6272, -5.9797, -6.8042, -5.9291, -5.8705, -5.3978, -5.5109, -6.2581, -6.136, -5.4759, -5.8162, -6.0684, -6.0444, -5.5071, -6.7093, -5.7217, -5.9304, -6.0227, -6.0417, -6.1836, -6.1032, -6.0826, -5.8633, -6.0907, -5.9987, -5.8642, -5.9866, -6.0259, -6.0181, -5.936, -5.9607, -7.4685, -7.8009, -8.373, -8.678, -8.7867, -8.904, -8.9208, -8.7744, -7.3851, -8.588, -7.7251, -9.3631, -9.352, -9.4296, -9.4419, -9.3711, -8.1234, -9.5318, -9.4463, -9.5776, -9.6061, -9.6454, -9.7796, -8.3302, -9.9344, -9.7302, -8.9538, -9.9825, -9.915, -10.0255, -6.8672, -7.1329, -6.8625, -7.8708, -8.1347, -8.2526, -9.0417, -8.5524, -8.0702, -7.1997, -7.1494, -7.6497, -8.2077, -8.1432, -5.7639, -8.6377, -7.479, -7.0697, -6.5638, -7.0202, -6.188, -7.5686, -6.5301, -7.0011, -6.8473, -6.886, -5.5668, -6.5972, -5.9327, -6.7547, -4.8528, -6.4781, -6.7527, -6.2247, -5.9522, -6.5627, -6.1761, -6.0023, -6.8006, -6.2144, -6.2306, -6.5122, -5.5752, -5.4463, -5.4634, -6.0784, -5.9072, -6.2508, -5.8401, -5.3394, -5.9071, -5.5189, -5.789, -6.0453, -6.003, -5.8652, -5.6073, -5.9878, -5.7185, -5.8621, -5.8895, -6.0167, -5.8939, -5.7722, -5.9407, -5.7295, -6.0099, -5.9356, -5.9935, -7.754, -7.652, -7.6131, -8.1252, -9.1161, -9.2585, -9.6938, -9.7464, -8.5198, -10.0626, -10.1558, -10.206, -10.2414, -10.1269, -10.374, -10.2429, -10.3946, -10.4153, -10.4585, -10.1129, -10.4812, -10.5038, -10.5274, -10.2282, -10.357, -10.6009, -10.6269, -10.6019, -10.6275, -10.6804, -7.9047, -9.2201, -8.3665, -7.3289, -8.2823, -8.1406, -7.9627, -8.1113, -7.5072, -8.3967, -7.5283, -7.5328, -8.3434, -7.0432, -9.1972, -7.4669, -7.4169, -6.3688, -7.9066, -8.285, -8.3404, -7.967, -7.6106, -8.3233, -5.6823, -7.2412, -5.9978, -6.4095, -7.801, -6.527, -5.2874, -5.8135, -6.2469, -5.2419, -5.1656, -6.4749, -6.9712, -6.6898, -5.901, -5.7853, -5.5508, -6.4705, -5.9821, -6.2992, -6.6198, -6.6462, -6.4692, -6.168, -5.9005, -6.6694, -6.3919, -5.9683, -6.3318, -6.2638, -6.3108, -6.1159, -6.0441, -6.3352, -6.301, -6.3482, -6.2635, -6.2751, -6.3594, -6.3226, -6.388, -7.9795, -8.2316, -8.2415, -8.2881, -8.4166, -7.9067, -7.7462, -8.3752, -8.7533, -8.6181, -8.7505, -8.1836, -9.0431, -9.1163, -9.4862, -9.5, -9.507, -9.6263, -9.6422, -9.7088, -9.3354, -9.7801, -9.8086, -7.8234, -9.951, -8.1913, -9.9305, -9.3924, -10.092, -9.7557, -7.8348, -7.7581, -8.6652, -8.4621, -9.167, -7.684, -7.8721, -7.8802, -8.9986, -7.3145, -7.7743, -9.119, -7.4066, -6.9792, -7.5333, -7.2345, -5.6395, -7.7008, -5.6198, -7.2843, -7.8336, -7.7685, -8.0617, -6.2139, -6.9635, -5.2474, -5.9571, -5.5036, -6.9261, -7.1115, -6.3582, -7.0526, -6.6954, -6.0191, -5.8486, -5.8824, -5.7738, -5.6341, -6.0698, -6.299, -5.8773, -5.863, -5.6306, -5.683, -6.6254, -5.9244, -6.1174, -6.2814, -6.0501, -6.1972, -5.8195, -5.9461, -5.9204, -6.1094, -6.1015, -5.9066, -6.1975, -5.9765, -6.1156, -6.0844, -6.0235, -6.0913, -6.1563], \"loglift\": [30.0, 29.0, 28.0, 27.0, 26.0, 25.0, 24.0, 23.0, 22.0, 21.0, 20.0, 19.0, 18.0, 17.0, 16.0, 15.0, 14.0, 13.0, 12.0, 11.0, 10.0, 9.0, 8.0, 7.0, 6.0, 5.0, 4.0, 3.0, 2.0, 1.0, 1.4992, 1.4961, 1.494, 1.4924, 1.4915, 1.4914, 1.4912, 1.4912, 1.4904, 1.49, 1.4896, 1.489, 1.4888, 1.488, 1.4876, 1.4875, 1.4875, 1.4869, 1.4864, 1.4864, 1.486, 1.486, 1.4859, 1.4855, 1.4853, 1.485, 1.4847, 1.4846, 1.4843, 1.4837, 1.4687, 1.4802, 1.471, 1.4657, 1.4752, 1.4603, 1.4346, 1.4701, 1.4569, 1.453, 1.4452, 1.4531, 1.4076, 1.3765, 1.4459, 1.4736, 1.3002, 1.2653, 1.3386, 1.3304, 1.398, 1.4319, 1.3566, 1.332, 1.3081, 1.3169, 1.3314, 1.3522, 1.3251, 1.3629, 1.2224, 1.3719, 1.3674, 1.0622, 1.049, 1.2316, 1.2147, 1.1518, 1.2975, 1.004, 1.0041, 0.9353, 0.927, 1.0601, 1.0305, 0.8654, 1.0478, 0.7737, 0.7545, 0.5883, 0.5597, 0.8323, 0.7735, 0.4785, 0.5858, 0.6808, 0.6575, 0.3812, 0.9706, 0.4261, 0.538, 0.5766, 0.5419, 0.6274, 0.5615, 0.5364, 0.3238, 0.5226, 0.3086, 0.125, 0.1874, 0.2759, 0.2274, -0.1563, -0.3902, 1.001, 1.0009, 1.0004, 1.0, 0.9999, 0.9996, 0.9996, 0.9995, 0.9994, 0.9991, 0.9989, 0.9986, 0.9985, 0.9984, 0.9983, 0.9982, 0.9981, 0.998, 0.998, 0.9979, 0.9979, 0.9977, 0.9971, 0.9966, 0.9965, 0.9964, 0.9962, 0.9961, 0.9961, 0.996, 0.9911, 0.9873, 0.9844, 0.9898, 0.9911, 0.9884, 0.9944, 0.989, 0.984, 0.9741, 0.9723, 0.9747, 0.983, 0.9775, 0.9282, 0.9851, 0.9605, 0.9465, 0.917, 0.9332, 0.8974, 0.9512, 0.9023, 0.9215, 0.9113, 0.9095, 0.8251, 0.8902, 0.8418, 0.8857, 0.7176, 0.8503, 0.8737, 0.8169, 0.7775, 0.8364, 0.7787, 0.7352, 0.8497, 0.7194, 0.7215, 0.7749, 0.5242, 0.4719, 0.4685, 0.6474, 0.5521, 0.6694, 0.5219, 0.3245, 0.5334, 0.3694, 0.4727, 0.5719, 0.5456, 0.4669, 0.2897, 0.5093, 0.3233, 0.3806, 0.4009, 0.4828, 0.3711, 0.1909, 0.3756, 0.0501, 0.3157, 0.0537, 0.1543, 1.6756, 1.6752, 1.6736, 1.6736, 1.6722, 1.6715, 1.6685, 1.6683, 1.6654, 1.6651, 1.6644, 1.6637, 1.6628, 1.6616, 1.6613, 1.6613, 1.6608, 1.6607, 1.6601, 1.6599, 1.6594, 1.6593, 1.6587, 1.6586, 1.6584, 1.6575, 1.6568, 1.6565, 1.6562, 1.656, 1.6404, 1.652, 1.643, 1.6316, 1.6388, 1.6222, 1.6178, 1.609, 1.5703, 1.589, 1.5422, 1.5384, 1.5701, 1.4717, 1.6021, 1.4639, 1.4539, 1.3605, 1.487, 1.5126, 1.4967, 1.4419, 1.3931, 1.4831, 1.0442, 1.2829, 0.9928, 1.0519, 1.3751, 1.017, 0.667, 0.8055, 0.8892, 0.5377, 0.4983, 0.918, 1.0976, 0.9606, 0.6012, 0.5434, 0.381, 0.825, 0.5659, 0.6939, 0.8738, 0.8898, 0.7688, 0.5361, 0.3092, 0.8645, 0.6056, 0.1795, 0.5134, 0.3409, 0.3912, 0.1296, -0.0023, 0.3758, 0.2914, 0.3547, 0.0353, -0.0129, 0.2926, -0.4256, -0.0862, 1.4949, 1.4946, 1.4946, 1.4945, 1.4943, 1.4943, 1.4942, 1.4941, 1.4936, 1.4932, 1.4931, 1.4929, 1.4925, 1.4925, 1.4908, 1.4907, 1.4907, 1.4901, 1.49, 1.4896, 1.4893, 1.4891, 1.4884, 1.4881, 1.4877, 1.4869, 1.4867, 1.4867, 1.4864, 1.4863, 1.4858, 1.4771, 1.4841, 1.4797, 1.4852, 1.4638, 1.464, 1.4625, 1.4811, 1.4298, 1.4425, 1.48, 1.4253, 1.3869, 1.4083, 1.3772, 1.2581, 1.3963, 1.2274, 1.33, 1.375, 1.3536, 1.3946, 1.0305, 1.1821, 0.8246, 0.9531, 0.7248, 1.114, 1.1668, 0.9004, 1.1254, 0.9807, 0.6925, 0.6075, 0.5861, 0.5335, 0.4365, 0.5349, 0.6535, 0.4245, 0.3992, 0.2664, 0.2801, 0.8259, 0.3744, 0.4846, 0.5763, 0.3606, 0.4597, 0.1349, 0.2279, 0.1791, 0.3481, 0.333, 0.0826, 0.4075, 0.0653, 0.26, 0.1253, -0.0374, 0.0958, 0.1087]}, \"token.table\": {\"Topic\": [1, 1, 2, 3, 4, 1, 2, 3, 4, 1, 2, 3, 4, 1, 2, 3, 4, 1, 2, 3, 4, 1, 2, 3, 4, 1, 2, 3, 4, 3, 1, 3, 4, 1, 3, 2, 1, 2, 3, 4, 4, 1, 2, 4, 1, 2, 3, 4, 1, 2, 3, 4, 2, 4, 1, 4, 2, 4, 1, 2, 3, 4, 4, 1, 3, 1, 1, 3, 1, 3, 4, 1, 1, 3, 4, 2, 3, 1, 3, 1, 2, 3, 1, 2, 4, 1, 2, 3, 1, 1, 2, 1, 2, 3, 4, 1, 3, 4, 4, 1, 1, 2, 3, 4, 1, 2, 3, 4, 1, 2, 3, 4, 1, 2, 3, 4, 1, 2, 3, 4, 1, 2, 3, 4, 1, 4, 1, 2, 3, 4, 4, 1, 2, 3, 4, 1, 2, 3, 4, 1, 2, 3, 4, 2, 2, 1, 2, 3, 4, 1, 2, 3, 4, 1, 2, 3, 4, 1, 2, 3, 4, 1, 2, 3, 4, 2, 1, 2, 3, 4, 1, 2, 3, 4, 1, 2, 3, 4, 1, 2, 3, 2, 4, 1, 1, 4, 4, 4, 1, 3, 1, 2, 3, 4, 1, 2, 3, 4, 1, 2, 3, 4, 1, 2, 3, 4, 2, 4, 1, 2, 3, 4, 1, 2, 3, 4, 1, 2, 3, 4, 1, 2, 3, 4, 3, 1, 3, 1, 2, 3, 4, 1, 3, 1, 2, 3, 1, 2, 3, 4, 1, 2, 3, 4, 1, 2, 3, 4, 1, 2, 3, 4, 1, 2, 3, 4, 3, 3, 1, 3, 4, 3, 1, 2, 3, 4, 2, 3, 4, 1, 2, 3, 4, 1, 2, 3, 4, 1, 2, 3, 4, 2, 2, 1, 2, 3, 4, 1, 3, 4, 1, 1, 2, 3, 4, 1, 2, 3, 4, 1, 2, 3, 4, 1, 2, 3, 4, 1, 2, 3, 1, 3, 3, 1, 2, 3, 4, 4, 4, 1, 3, 3, 1, 2, 3, 4, 1, 3, 4, 1, 2, 3, 4, 1, 3, 4, 2, 4, 1, 2, 3, 1, 2, 3, 4, 1, 2, 1, 2, 1, 3, 2, 3, 2, 1, 3, 4, 1, 2, 3, 4, 2, 3, 4, 2, 3, 2, 3, 2, 2, 1, 2, 3, 4, 1, 2, 3, 4, 1, 2, 3, 4, 2, 4, 2, 1, 2, 3, 4, 1, 2, 3, 4, 1, 2, 3, 4, 1, 2, 3, 4, 1, 2, 3, 4, 1, 2, 3, 4, 1, 2, 3, 4, 1, 2, 3, 4, 1, 2, 3, 4, 1, 1, 2, 3, 3, 1, 2, 3, 4, 1, 2, 3, 4, 2, 3, 4, 2, 3, 4, 4, 4, 1, 2, 3, 4, 1, 3, 1, 3, 4, 1, 3, 1, 3, 4, 2, 3, 1, 4, 1, 4, 1, 2, 3, 4, 1, 3, 1, 3, 1, 2, 3, 4, 1, 2, 3, 4, 3, 2, 3, 1, 2, 3, 4, 1, 2, 3, 4, 3, 3, 1, 4, 1, 2, 3, 4, 1, 1, 2, 3, 4, 1, 2, 3, 3, 3, 1, 2, 3, 4, 1, 3, 1, 2, 3, 1, 1, 2, 3, 4, 2, 1, 2, 3, 4, 1, 4, 1, 1, 3, 1, 2, 3, 4, 1, 2, 3, 4, 1, 1, 2, 3, 4, 1, 2, 3, 4, 1, 3, 4, 4, 1, 4, 1, 2, 4, 1, 3, 1, 3, 2, 1, 3, 4, 1, 4, 1, 2, 4, 1, 2, 3, 4, 2, 3, 4, 1, 2, 3, 4, 2, 3, 4, 2, 3, 1, 2, 3, 4, 1, 2, 3, 4, 1, 2, 3, 4, 3, 3, 1, 2, 3, 4, 2, 3, 4, 1, 2, 3, 4, 3, 1, 2, 3, 4, 1, 1, 2, 3, 4, 1, 2, 3, 4, 1, 2, 3, 4, 4, 1, 2, 3, 4, 1, 2, 3, 4, 1, 2, 3, 4, 1, 2, 1, 2, 1, 1, 2, 3, 4, 1, 2, 3, 4, 1, 2, 3, 4, 2, 1, 2, 3, 4, 1, 3, 4, 2, 2, 2, 4, 4, 1, 2, 3, 4, 1, 2, 3, 4, 1, 2, 3, 4, 1, 2, 3, 4, 1, 2, 3, 1, 2, 3, 4, 1, 2, 3, 4, 1, 2, 3, 4, 1, 2, 3, 4, 1, 2, 3, 4, 1, 2, 3, 4, 2, 1, 2, 3, 4, 1, 2, 3, 4, 2, 3, 4, 2, 3, 1, 2, 1, 2, 3, 4, 1, 2, 3, 4, 1, 2, 3, 4, 1, 2, 3, 4, 1, 2, 3, 4, 1, 2, 3, 4, 1, 2, 3, 4, 1, 2, 3, 4, 1, 2, 3, 4, 1, 2, 3, 4, 2, 3, 4, 1, 2, 3, 4, 1, 2, 3, 4, 2, 4, 3, 1, 2, 3, 4, 1, 2, 3, 4, 1, 3, 1, 2, 1, 1, 2, 3, 4, 2, 1, 1, 2, 3, 4, 4, 1, 4, 1, 2, 3, 4, 1, 2, 3, 4, 1, 4, 1, 4, 1, 2, 3, 4, 1, 2, 3, 4, 1, 2, 4, 1, 2, 3, 4, 1, 2, 3, 4, 1, 2, 3, 4, 1, 2, 3, 4, 1, 2, 3, 4, 1, 2, 3, 4, 1, 2, 3, 4, 1, 2, 3, 4, 1, 3, 4, 2, 3, 3, 2, 3, 1, 3, 4, 3, 3, 1, 2, 3, 4, 1, 2, 3, 4, 1, 3, 1, 3, 1, 2, 3, 4, 1, 3, 4, 1, 2, 3, 4, 1, 2, 3, 4, 1, 3, 1, 2, 3, 4, 2, 4, 4, 1, 3, 1, 1, 2, 3, 1, 3, 4, 4, 1, 1, 2, 3, 4, 4, 1, 2, 4, 2, 4, 2, 4, 2, 3, 4, 1, 2, 3, 4, 1, 2, 3, 4, 1, 2, 3, 4, 1, 2, 3, 4, 1, 2, 3, 4, 2, 1, 2, 1, 2, 3, 4, 3, 3, 1, 2, 3, 4, 1, 2, 2], \"Freq\": [0.9687087074415871, 0.27831635888924433, 0.2803429343180495, 0.21285183140117409, 0.22851173244194137, 0.38354903326528217, 0.03876910314646913, 0.4034306246224458, 0.1742952842311347, 0.00862580489161391, 0.3712478771978928, 0.06900643913291128, 0.5512058459170537, 0.14438070329380456, 0.5081473016781238, 0.3077444139393623, 0.03971670796741129, 0.33944485705147304, 0.4286083051465359, 0.22371615927412095, 0.008186775059321827, 0.48054347882636256, 0.07599458689483439, 0.22070641405878122, 0.22285382781719096, 0.003556098759322505, 0.9012576695626957, 0.02090986070481633, 0.07439358604502681, 0.9862203460969776, 0.8273667028131685, 0.09091941789155698, 0.08182747610240128, 0.1010291604665204, 0.8996406193923483, 0.9980356157238119, 0.03810441592390513, 0.9293830211364569, 0.011901631170186994, 0.020635892754759706, 0.9950876838045266, 0.001897925280213188, 0.001897925280213188, 0.9964107721119236, 0.3245521584262102, 0.22855908158976418, 0.250190100713995, 0.1965903464985315, 0.008101824580252975, 0.01350304096708829, 0.009452128676961803, 0.9681680373402305, 0.006317860796973756, 0.9919041451248797, 0.0012271579823348042, 0.9976794396381958, 0.005983682739820989, 0.9932913348102842, 0.0009275499249432941, 0.04173974662244823, 0.955376422691593, 0.0018550998498865882, 0.9972176916495463, 0.06999898888526632, 0.9274866027297787, 0.976402475596119, 0.1992751262630089, 0.8004924220948101, 0.0827387870680413, 0.9152978319402069, 0.9983271828964448, 0.9679337366764625, 0.09982949446093345, 0.0035836228780847905, 0.8964176656466383, 0.1626899866944279, 0.8357362330193214, 0.9886643469755004, 0.007605110361350004, 0.9696869427316912, 0.008896210483776984, 0.017792420967553967, 0.00854598657502933, 0.009766841800033519, 0.9815676009033687, 0.9306872803538624, 0.0612460421942501, 0.00820823245902321, 0.9760052587047838, 0.9767892388688745, 0.9980071997645107, 0.1906370112060364, 0.07934182426614868, 0.7289699348958096, 0.0010831648363979342, 0.1499749350669583, 0.8484296326645069, 0.9932131829137433, 0.9980002470155942, 0.9751416797583555, 0.30495075049863674, 0.14499375722923408, 0.45503200798152815, 0.09501654885507083, 0.4151944620705426, 0.2629961276276048, 0.06539772183094983, 0.25640230774051737, 0.6328311620220233, 0.00836817809145488, 0.18213093493166504, 0.17661778230670655, 0.3790598290235288, 0.07119080808679124, 0.4184021177030713, 0.1313193853430535, 0.12461048940526091, 0.5323810959414714, 0.09323870287659974, 0.24972192550159825, 0.08271121420443217, 0.15609090680631302, 0.07125889223766464, 0.6901084385159546, 0.01007063217900767, 0.9869219535427517, 0.3541852933191516, 0.06828367479063928, 0.4683138149239028, 0.10929256729946513, 0.992827395696792, 0.5267371775664433, 0.06700266922112966, 0.3124181220945161, 0.09384847992742536, 0.00694405930046954, 0.9119864547949995, 0.0778313313260961, 0.003182693846048539, 0.001971262350583031, 0.9232078675230528, 0.07326525069666932, 0.0013141749003886874, 0.9980042753005981, 0.9980210386597601, 0.13495570087954745, 0.291405311648212, 0.3425998970204728, 0.23096183171760387, 0.48062723661100965, 0.07606212222507702, 0.2666054998399383, 0.17676681976287031, 0.6213986257574324, 0.10209592025629215, 0.14268219966681817, 0.1338590954471386, 0.222379453614627, 0.27148824962119045, 0.15149600277496464, 0.35469522851533003, 0.2784407541141797, 0.1884082562498899, 0.10260965178447408, 0.4306118639207662, 0.9980193598914606, 0.1561677783776813, 0.4446128596978576, 0.10283090298749782, 0.29640857313190505, 0.2492879293418922, 0.2322399321699642, 0.18459296571508851, 0.33390344644065567, 0.3477078239197995, 0.16183676466499244, 0.1268379196236201, 0.3636722093772676, 0.8454201885689958, 0.07945463570729575, 0.07488170703349456, 0.9830392999690313, 0.01731779077665651, 0.9759966421873629, 0.00790557855476772, 0.9921501086233487, 0.9911504116829514, 0.9993717879856175, 0.9813281442575393, 0.018327011183077984, 0.33288416535076315, 0.14985929215052807, 0.42676557202585974, 0.0905473006436446, 0.17801790773379067, 0.6112948561932297, 0.19152325920782712, 0.019112836588987284, 0.5602186770817725, 0.04159151286418285, 0.19887921379726012, 0.19940702487421674, 0.3982494588617926, 0.33362188710275664, 0.08609828726564898, 0.18203432712128456, 0.9137755259356687, 0.08616314846326567, 0.21948043831132405, 0.3660777473537987, 0.32926220999222483, 0.08509957168905559, 0.1896157426482813, 0.38620718639805424, 0.3201499947518847, 0.10405741974600803, 0.43789780328957323, 0.21778022567870864, 0.08414466955761583, 0.2600558084516171, 0.06299257041560628, 0.4876428465506561, 0.038204880252064456, 0.41123308604652714, 0.9881912036636383, 0.9823889837183443, 0.01701776192267998, 0.0012027552711147106, 0.9714253406369813, 0.017239492219310853, 0.010022960592622587, 0.03636106990990381, 0.9623563169487875, 0.8566660448729343, 0.07722865846934633, 0.06435721539112194, 0.11889318244971876, 0.5484758967791186, 0.100908260199086, 0.23168433770725855, 0.2428339779016386, 0.20265923891055868, 0.45531370856557235, 0.09932088250572535, 0.3043831690441588, 0.24201101099435862, 0.11691480683805983, 0.3366688982462415, 0.5850270136778157, 0.08917151838437191, 0.1850437867051417, 0.14045802751295575, 0.3811206507984449, 0.22586522075108928, 0.18547986484858797, 0.20743778756743197, 0.9971872733093178, 0.9810199428487539, 0.005703785040379885, 0.0019012616801266282, 0.9905573353459732, 0.9815244720663393, 0.05942490443369835, 0.110746412808256, 0.8085388512342594, 0.02160905615770849, 0.012548199626366306, 0.9724854710433887, 0.006274099813183153, 0.011096462995827323, 0.1994000774704728, 0.0251071485966194, 0.7643109208944092, 0.09088419313640783, 0.08734784320892114, 0.03371320264203974, 0.7881345205058661, 0.7471536637833825, 0.030261810404634208, 0.17061400003992044, 0.05217553518040381, 0.9994032061523955, 0.9980076364318327, 0.10581613780544244, 0.34595314821275464, 0.03670753617669418, 0.5116497360941451, 0.8112880113932279, 0.18748252364129217, 0.0011362577190381343, 0.9771671609509054, 0.4278440923184416, 0.1143760826768829, 0.27653810498063297, 0.18135394126139653, 0.28940813964863915, 0.1321706464537092, 0.5353118345397878, 0.04309011671218106, 0.10478631982688713, 0.6379950822551401, 0.07406522170637742, 0.18318595389185133, 0.23065507586802267, 0.24995729788674514, 0.19373471831543268, 0.3256764171481095, 0.8662632040693287, 0.12672788356124448, 0.0069439936197942176, 0.03177618940294692, 0.9665257610063023, 0.9787374879351496, 0.008155951930542762, 0.010874602574057016, 0.01359325321757127, 0.9664803037693173, 0.995913242088792, 0.9955395538377962, 0.03495041585499462, 0.9636328942877088, 0.9829208008067591, 0.3577461717592768, 0.02161899498314336, 0.36430990059704643, 0.2563526262863178, 0.7525859352550206, 0.17296676313972778, 0.07417549994227415, 0.605099087223481, 0.06823232714320722, 0.20284571673968968, 0.12390250103330458, 0.7014824002602921, 0.2812461770314156, 0.017419118061300577, 0.05153619396443945, 0.9480262657179443, 0.030021887270621668, 0.21693234672965334, 0.7534525256949567, 0.33110794101086344, 0.10180953141148757, 0.3742959333166282, 0.19272479449359303, 0.9276291795779243, 0.06871327256132773, 0.9755416218224863, 0.02075620471962737, 0.9962483507781582, 0.984145447798717, 0.01544316986789989, 0.988362871545593, 0.998017563433473, 0.11124900756891039, 0.0006544059268759434, 0.8880288427706553, 0.7597930662410829, 0.0028955528439065657, 0.12335055115041971, 0.11408478204991869, 0.9838406909323262, 0.0053958355992632144, 0.010791671198526429, 0.9915110232770868, 0.9980657586421785, 0.9980058811733232, 0.0015642725410240177, 0.9996994898651141, 0.9980053658471633, 0.38868901073902445, 0.29838092006515693, 0.08713283205658574, 0.22581692166433473, 0.2711664646833289, 0.2832862690781143, 0.047006717979775056, 0.3985943146285022, 0.028295815631909676, 0.8383524068630123, 0.07386771970239737, 0.05950652684399095, 0.9871838716792061, 0.01227840636416923, 0.9980177541489927, 0.632165303427636, 0.05051199761044065, 0.05234879752354758, 0.2651114541251006, 0.01219691108145078, 0.9340801069877722, 0.01626254810860104, 0.03726833941554405, 0.008156265810822003, 0.015496905040561804, 0.04404383537843881, 0.9314455555958726, 0.4000436179711211, 0.10717746128531105, 0.4479632813002821, 0.04471075730265471, 0.6400140000990194, 0.1905344392779127, 0.14857945054490806, 0.02084387975270293, 0.05939657592893462, 0.7993623079295044, 0.08451056440895395, 0.05670579144893254, 0.04568780033558114, 0.8800398759826913, 0.023943339213299206, 0.0503298763055065, 0.2525858563369361, 0.10210730473787702, 0.2629636874816988, 0.38239669336803556, 0.060627393755612845, 0.02377544853161288, 0.030908083091096744, 0.8856354578025798, 0.9796965711134272, 0.01896605094534393, 0.03793210189068786, 0.9431299879184664, 0.9767039136574516, 0.19585015442738557, 0.01888701698880448, 0.054608114337195555, 0.730434852675721, 0.15093865816026997, 0.5347446871852708, 0.1484339992038987, 0.16590069982069847, 0.9898256577960056, 0.003388758865781532, 0.006777517731563064, 0.98196806070587, 0.002335239145554982, 0.016346674018884875, 0.9948794346136862, 0.9991933623738833, 0.11707400785374378, 0.011396584835320191, 0.8702846601517237, 0.0010360531668472902, 0.017306892965398824, 0.9864928990277331, 0.8612361717863336, 0.13476870050307754, 0.0038505343000879294, 0.009469510253448023, 0.9879855697764104, 0.8399727591955561, 0.08904026434249329, 0.07091702469756103, 0.9980099885898434, 0.0017356695453736406, 0.002931688517904377, 0.9967740960874882, 0.0014409574772544912, 0.9985835317373625, 0.29730196544167614, 0.28020565358879224, 0.1012739151285242, 0.32128026723533964, 0.9695171425121499, 0.026931031736448608, 0.96400838918551, 0.032442590020666205, 0.007163893716838911, 0.9510068909103655, 0.0011939822861398186, 0.03999840658568392, 0.01965852502868523, 0.8478468814351768, 0.02024244161369568, 0.112306623183677, 0.9804879733321561, 0.06346010278917104, 0.9340533879281111, 0.09469945614556431, 0.11785683681503974, 0.5046756535844896, 0.2829340308611327, 0.013939336467537086, 0.9189401965189978, 0.05216691071941909, 0.014995346805986865, 0.9935895588275089, 0.9876436181796946, 0.014846911239032224, 0.9848451121891375, 0.2556736994221093, 0.12382802863997629, 0.4438655774810661, 0.1766108394091748, 0.9708257308633303, 0.10153126707498455, 0.4306764633248141, 0.27231507469822447, 0.19543301697092405, 0.0557871580806352, 0.11586563601362695, 0.8267942915540294, 0.9993881665770324, 0.9868206298480524, 0.10021131757113712, 0.050831827753475355, 0.7900718370825883, 0.05809351743254326, 0.051723818678258385, 0.9475803581856936, 0.8397947032262487, 0.12270054346539203, 0.03721245990343856, 0.9797063557173602, 0.002237222847754953, 0.01566055993428467, 0.014541948510407196, 0.9687174930778948, 0.9980165082884426, 0.03734384559536554, 0.7558394348501986, 0.07331841685223435, 0.13356648774609076, 0.9597534520540781, 0.037244163811053776, 0.9687087070578936, 0.8384604386254265, 0.16085268233448513, 0.10312066931394467, 0.06355111015859381, 0.6744811219662079, 0.15887777539648454, 0.29208851310919487, 0.19392442429513937, 0.17157601492913338, 0.3424374004890049, 0.9701592561621663, 0.10687305441997891, 0.5953224957320307, 0.09863987096836573, 0.19917970734864218, 0.03958213427929301, 0.6338962386786778, 0.06544357075168823, 0.2610258813081949, 0.813684292439762, 0.13605694243277536, 0.050312723503786724, 0.9960614828736104, 0.952159857074632, 0.04501119324352806, 0.8740778536367565, 0.0406050836652772, 0.08334727699714793, 0.8983153863498684, 0.10125520250764412, 0.9782507570895286, 0.018115754760917195, 0.9980316649023866, 0.9628364569084574, 0.018958805058675674, 0.017604604697341698, 0.9764031952623551, 0.9963522664795422, 0.02534002337784229, 0.9730568977091438, 0.0012670011688921145, 0.0012251550647655446, 0.8314719039542163, 0.14157347415068516, 0.025864384700605942, 0.9736621632895792, 0.023198213556933474, 0.0026512244065066827, 0.12593745625501163, 0.47437200972728605, 0.08244007082154467, 0.3172348581613584, 0.9882149990636659, 0.004974236572468117, 0.008290394287446863, 0.995531739652482, 0.004990134033345774, 0.01979738787153753, 0.022843139851774073, 0.05330065965413951, 0.9030654621401351, 0.0064838570915200155, 0.16858028437952038, 0.8234498506230419, 0.0021612856971733384, 0.15994804179415517, 0.08860431092194207, 0.7399035314650487, 0.012657758703134582, 0.993041387497917, 0.9833488197220551, 0.010061038926616995, 0.9054935033955295, 0.040646597263532654, 0.04386612972005009, 0.97658863456586, 0.00653236544860107, 0.01741964119626952, 0.23131311772393084, 0.0528398974992366, 0.033625389317696014, 0.6824845502174126, 0.9820119550877046, 0.07015728059361848, 0.35708455472116185, 0.06184578524735462, 0.5109246549190891, 0.9679233971042601, 0.0021259997869910417, 0.8946207103658302, 0.025299397465193395, 0.07781159220387213, 0.013874241860488757, 0.8906767765795908, 0.009414664119617371, 0.08597074867124284, 0.30196093266916524, 0.0397992725881978, 0.060854371634857275, 0.5972458583235359, 0.9989016755722429, 0.009846380053737844, 0.20255410396260706, 0.06845578513551072, 0.7192546191635167, 0.10897497913083293, 0.7662397380544925, 0.07070818922406118, 0.054035519605887664, 0.8777730809872479, 0.0837830021808028, 0.03702039631244775, 0.0009742209555907303, 0.905317811164744, 0.0935663659583674, 0.9812141411362981, 0.015095602171327663, 0.9720626232593484, 0.15149796549945233, 0.2747802417458112, 0.2505295022897212, 0.32318951252317735, 0.15953387043807257, 0.5036826243063585, 0.09234070565806703, 0.2444234528730103, 0.283301403436318, 0.0005002379107174538, 0.08837536422675017, 0.6277985779504045, 0.998026997897061, 0.15007061378913283, 0.7528542458421498, 0.04427083106779419, 0.05280609722705112, 0.9409609552632562, 0.05571479340374543, 0.006190532600416159, 0.9980339816108841, 0.9980209979129988, 0.09463953424708237, 0.9049240858906414, 0.9917481231942943, 0.13210129214291447, 0.6262496849554776, 0.03522701123811053, 0.20643625653519856, 0.21351528758905894, 0.22813962235543284, 0.5170264814327266, 0.041398116877119966, 0.5648366793977195, 0.04536177631620551, 0.31957225713129794, 0.07022818902915756, 0.013605155090687326, 0.8003326095549278, 0.07638857720642792, 0.10983978421839309, 0.0005508986542919355, 0.9596654557765516, 0.03966470310901935, 0.1822330465817701, 0.53745277212641, 0.0506407021247056, 0.22968956912910607, 0.05595373107866007, 0.6190787040306003, 0.12122158508656689, 0.2037378148893751, 0.09469447545332753, 0.4907644119146366, 0.12217104178623812, 0.29236106700601716, 0.3879941043860966, 0.13955621054652717, 0.12589444630758012, 0.3465448272234044, 0.5095914165977581, 0.09834471097314378, 0.23657048933219907, 0.1553789256218129, 0.26739263515464146, 0.3122153475688469, 0.13904188340733117, 0.2813425609570217, 0.9980177718663453, 0.08815989129487199, 0.6507802884676006, 0.07916580137489011, 0.18192995749032675, 0.008004577585179648, 0.7973255325063727, 0.06125241978224426, 0.13346763060506064, 0.9831700146683222, 0.016751657622911312, 0.00030457559314384206, 0.9925990796936716, 0.0054388990668146385, 0.9746819813865836, 0.9980078533324711, 0.6412209816987691, 0.004526265753167782, 0.12253248003218495, 0.23170169926930312, 0.3946053316056193, 0.306954136245648, 0.1201923577091822, 0.17818910673479194, 0.022001407293346875, 0.7541593499997234, 0.13555311493512048, 0.0882500892544247, 0.2511734577940756, 0.3875722891789379, 0.11791132427381298, 0.24328418740735538, 0.37965296949706023, 0.10889985116562129, 0.10889985116562129, 0.4025227056826523, 0.09614938296868865, 0.6205137331323648, 0.015441208854243044, 0.26791293300712415, 0.3245639756307653, 0.5315304398369337, 0.018131585612415003, 0.12576102153445193, 0.10791479946643559, 0.701793668287243, 0.034350064963557234, 0.1559651793576544, 0.2505322597320569, 0.290908396423025, 0.3219412948714551, 0.13654475317309228, 0.30648032739497294, 0.3863007566428037, 0.06076315695281168, 0.24652811819939613, 0.9888563278959466, 0.009233802722288126, 0.002518309833351307, 0.10972035095336269, 0.5893568111789556, 0.15035058330298676, 0.15066264345928188, 0.30180527767557624, 0.21492194016291033, 0.10138566903733642, 0.3818947301496577, 0.009307290687289884, 0.9892320387633818, 0.986208322504952, 0.06214740286068468, 0.0010903053133453453, 0.0697795400541021, 0.8667927241095494, 0.8203366728848984, 0.03782532209267543, 0.07505962352765282, 0.06678533431988005, 0.9632468249936096, 0.03321540775840033, 0.9466929606551863, 0.04960836475049011, 0.9720589422002383, 0.02198097447449847, 0.15861946445111058, 0.8144842163388487, 0.004752643129621291, 0.9980197287582693, 0.9701571303530312, 0.28125598070570534, 0.24660904243359655, 0.15965783974641992, 0.3124901584627884, 0.9884235934799156, 0.014324279434281594, 0.9836005211540028, 0.1706525563165186, 0.5888509219513178, 0.0772916636390769, 0.16321555775330843, 0.8703077577587673, 0.019151026454349403, 0.0425578365652209, 0.06809253850435343, 0.0091356740858423, 0.9866528012709683, 0.012713086630752874, 0.9831453661115555, 0.2810456949035961, 0.120405578728582, 0.5312945833667133, 0.06725625148452971, 0.3992476492466847, 0.26896035419169684, 0.11602675839624195, 0.21575576061105994, 0.0007215703847358846, 0.9463395595811126, 0.05267463808571957, 0.8341672064115209, 0.11632944034990597, 0.04350531915524939, 0.005674606846336877, 0.11196385708467371, 0.5859352568725448, 0.06301315162480739, 0.23912854883335516, 0.33578249057444054, 0.013309611744173748, 0.5605247917403459, 0.09012508523911937, 0.04779327451610569, 0.5868475594808583, 0.2737006396936419, 0.0916823097055436, 0.09597626327627304, 0.7174105106706339, 0.04979672956419694, 0.13685057640523857, 0.3738172053422708, 0.2184887937252048, 0.08258752211050169, 0.3251162927336076, 0.054927926711688904, 0.8524772534628151, 0.06462109024904578, 0.02803721496289244, 0.6050092238118522, 0.08514730100559335, 0.12467997647247599, 0.18506505218562638, 0.7857229792288927, 0.15696086239481472, 0.05735108433656692, 0.9892998977870475, 0.009849224646109987, 0.9837574600687009, 0.002144930802830697, 0.9973928233162741, 0.9782692128218814, 0.018116096533738545, 0.9987199541213473, 0.978092461763171, 0.9780880150238668, 0.033006776798392125, 0.8596270440899928, 0.02792881113710103, 0.07943389141591073, 0.4714717534896772, 0.08715002334636904, 0.16613253678077144, 0.275361762746303, 0.939536969835275, 0.05709893186844213, 0.001338443269796137, 0.9984786792679181, 0.19552317973749708, 0.2958917453360789, 0.2547133786943939, 0.2538838864167197, 0.9479542571029357, 0.045822562276879066, 0.005727820284609883, 0.3092598913583063, 0.17979303232201327, 0.34109079906741324, 0.1698706795448602, 0.11924951224222904, 0.23814091784108804, 0.061713711540773195, 0.5809683444273561, 0.002570602627832928, 0.9973938195991761, 0.017185238482851056, 0.03138173983824975, 0.015690869919124877, 0.935474720892588, 0.009081886876193802, 0.9899256695051245, 0.9981238911077667, 0.9547425635216672, 0.043872196573205714, 0.9720629361077405, 0.08133279551652571, 0.019811834805307547, 0.898831663272374, 0.05643241151911895, 0.027306005573767233, 0.9156613869069946, 0.9892272910931259, 0.9694557416697066, 0.2333301805123153, 0.2518282527089712, 0.0671411509360102, 0.4476729218386452, 0.9971610760708107, 0.013210328252148943, 0.9859708631831166, 0.0004003129773378468, 0.9969591417938531, 0.0032687184976847644, 0.9973042494468137, 0.002196705395257299, 0.9953787031399882, 0.0013378746009946078, 0.0026757492019892156, 0.06681920846420004, 0.5075555017749168, 0.18653278284908617, 0.23912661259976836, 0.20661837220589294, 0.33811550820693514, 0.1647910917119444, 0.2904827690491108, 0.14325909724069574, 0.3025163658968084, 0.09182346687867603, 0.4623773391346349, 0.010760237208971984, 0.8593175482699953, 0.021270236343316713, 0.10860332438822887, 0.1851793131546651, 0.1213675228108278, 0.48872324133927153, 0.2046982137304271, 0.9980153012464221, 0.9742036642749343, 0.9925992436744472, 0.0629866014818377, 0.07807714142019465, 0.012466098209947044, 0.8470385678442965, 0.9787313769653723, 0.9890705518362336, 0.10250782681189362, 0.002070865188119063, 0.8739051093862445, 0.021744084475250162, 0.9694514726667239, 0.9995805702539734, 0.9980220773920299], \"Term\": [\"abidine\", \"action\", \"action\", \"action\", \"action\", \"address\", \"address\", \"address\", \"address\", \"afghanistan\", \"afghanistan\", \"afghanistan\", \"afghanistan\", \"africa\", \"africa\", \"africa\", \"africa\", \"african\", \"african\", \"african\", \"african\", \"agenda\", \"agenda\", \"agenda\", \"agenda\", \"aggression\", \"aggression\", \"aggression\", \"aggression\", \"alshabaab\", \"annan\", \"annan\", \"annan\", \"antigua\", \"antigua\", \"antiimperialist\", \"arab\", \"arab\", \"arab\", \"arab\", \"aral\", \"armenia\", \"armenia\", \"armenia\", \"assistance\", \"assistance\", \"assistance\", \"assistance\", \"austria\", \"austria\", \"austria\", \"austria\", \"austrian\", \"austrian\", \"azerbaijan\", \"azerbaijan\", \"azerbaijani\", \"azerbaijani\", \"bahamas\", \"bahamas\", \"bahamas\", \"bahamas\", \"baltic\", \"banana\", \"banana\", \"bangui\", \"barbados\", \"barbados\", \"barbuda\", \"barbuda\", \"belarus\", \"bicesse\", \"bosnia\", \"bosnia\", \"bosnia\", \"botswana\", \"botswana\", \"bougainville\", \"bougainville\", \"brazzaville\", \"brazzaville\", \"brazzaville\", \"bulgaria\", \"bulgaria\", \"bulgaria\", \"burundi\", \"burundi\", \"burundi\", \"burundian\", \"burundis\", \"capitalist\", \"caribbean\", \"caribbean\", \"caribbean\", \"caribbean\", \"caricom\", \"caricom\", \"caspian\", \"caucasus\", \"celac\", \"cent\", \"cent\", \"cent\", \"cent\", \"central\", \"central\", \"central\", \"central\", \"challenges\", \"challenges\", \"challenges\", \"challenges\", \"change\", \"change\", \"change\", \"change\", \"charter\", \"charter\", \"charter\", \"charter\", \"chemical\", \"chemical\", \"chemical\", \"chemical\", \"chernobyl\", \"chernobyl\", \"children\", \"children\", \"children\", \"children\", \"cis\", \"climate\", \"climate\", \"climate\", \"climate\", \"colonial\", \"colonial\", \"colonial\", \"colonial\", \"colonialism\", \"colonialism\", \"colonialism\", \"colonialism\", \"colonialist\", \"colonialists\", \"come\", \"come\", \"come\", \"come\", \"commitment\", \"commitment\", \"commitment\", \"commitment\", \"commitments\", \"commitments\", \"commitments\", \"commitments\", \"common\", \"common\", \"common\", \"common\", \"comprehensive\", \"comprehensive\", \"comprehensive\", \"comprehensive\", \"comrade\", \"conference\", \"conference\", \"conference\", \"conference\", \"conflict\", \"conflict\", \"conflict\", \"conflict\", \"conflicts\", \"conflicts\", \"conflicts\", \"conflicts\", \"congo\", \"congo\", \"congo\", \"connexion\", \"connexion\", \"cplp\", \"croatia\", \"croatia\", \"croatian\", \"csce\", \"c\\u00f4te\", \"c\\u00f4te\", \"debt\", \"debt\", \"debt\", \"debt\", \"delegation\", \"delegation\", \"delegation\", \"delegation\", \"democracy\", \"democracy\", \"democracy\", \"democracy\", \"democratic\", \"democratic\", \"democratic\", \"democratic\", \"detente\", \"detente\", \"developed\", \"developed\", \"developed\", \"developed\", \"developing\", \"developing\", \"developing\", \"developing\", \"dialogue\", \"dialogue\", \"dialogue\", \"dialogue\", \"disarmament\", \"disarmament\", \"disarmament\", \"disarmament\", \"dispensation\", \"divoire\", \"divoire\", \"domination\", \"domination\", \"domination\", \"domination\", \"dominica\", \"dominica\", \"dominican\", \"dominican\", \"dominican\", \"east\", \"east\", \"east\", \"east\", \"economies\", \"economies\", \"economies\", \"economies\", \"effective\", \"effective\", \"effective\", \"effective\", \"elections\", \"elections\", \"elections\", \"elections\", \"ensure\", \"ensure\", \"ensure\", \"ensure\", \"eritrean\", \"eritreas\", \"estonia\", \"estonia\", \"estonia\", \"eswatini\", \"ethiopia\", \"ethiopia\", \"ethiopia\", \"ethiopia\", \"ethiopias\", \"ethiopias\", \"ethiopias\", \"europe\", \"europe\", \"europe\", \"europe\", \"european\", \"european\", \"european\", \"european\", \"excellency\", \"excellency\", \"excellency\", \"excellency\", \"expansionist\", \"fascist\", \"field\", \"field\", \"field\", \"field\", \"fiji\", \"fiji\", \"fiji\", \"fijians\", \"financial\", \"financial\", \"financial\", \"financial\", \"food\", \"food\", \"food\", \"food\", \"foreign\", \"foreign\", \"foreign\", \"foreign\", \"future\", \"future\", \"future\", \"future\", \"gabon\", \"gabon\", \"gabon\", \"gambia\", \"gambia\", \"gambian\", \"georgia\", \"georgia\", \"georgia\", \"georgia\", \"georgian\", \"georgias\", \"ghana\", \"ghana\", \"ghanas\", \"global\", \"global\", \"global\", \"global\", \"globalization\", \"globalization\", \"globalization\", \"goals\", \"goals\", \"goals\", \"goals\", \"governance\", \"governance\", \"governance\", \"greece\", \"greece\", \"grenada\", \"grenada\", \"grenada\", \"growth\", \"growth\", \"growth\", \"growth\", \"guatemalan\", \"guatemalan\", \"guatemalans\", \"guatemalans\", \"guineas\", \"guyanas\", \"hamas\", \"hamas\", \"hegemonism\", \"herzegovina\", \"herzegovina\", \"herzegovina\", \"highlevel\", \"highlevel\", \"highlevel\", \"highlevel\", \"honor\", \"honor\", \"honor\", \"honorable\", \"igad\", \"imperialism\", \"imperialism\", \"imperialist\", \"imperialists\", \"implementation\", \"implementation\", \"implementation\", \"implementation\", \"importance\", \"importance\", \"importance\", \"importance\", \"independence\", \"independence\", \"independence\", \"independence\", \"indochina\", \"indochina\", \"indochinese\", \"integration\", \"integration\", \"integration\", \"integration\", \"interference\", \"interference\", \"interference\", \"interference\", \"ireland\", \"ireland\", \"ireland\", \"ireland\", \"island\", \"island\", \"island\", \"island\", \"islands\", \"islands\", \"islands\", \"islands\", \"israel\", \"israel\", \"israel\", \"israel\", \"israeli\", \"israeli\", \"israeli\", \"israeli\", \"issues\", \"issues\", \"issues\", \"issues\", \"italy\", \"italy\", \"italy\", \"italy\", \"ivorian\", \"jamaica\", \"jamaica\", \"jamaica\", \"jamaicas\", \"japan\", \"japan\", \"japan\", \"japan\", \"just\", \"just\", \"just\", \"just\", \"kampuchea\", \"kampuchea\", \"kampuchea\", \"kampuchean\", \"kampuchean\", \"kampuchean\", \"karabakh\", \"kazakhstan\", \"kenya\", \"kenya\", \"kenya\", \"kenya\", \"kenyas\", \"kenyas\", \"kimoon\", \"kimoon\", \"kimoon\", \"kitts\", \"kitts\", \"kofi\", \"kofi\", \"kofi\", \"kurt\", \"kurt\", \"kyrgyzstan\", \"kyrgyzstan\", \"latvia\", \"latvia\", \"law\", \"law\", \"law\", \"law\", \"ldc\", \"ldc\", \"ldcs\", \"ldcs\", \"lebanese\", \"lebanese\", \"lebanese\", \"lebanese\", \"lebanon\", \"lebanon\", \"lebanon\", \"lebanon\", \"leoneans\", \"lesotho\", \"lesotho\", \"let\", \"let\", \"let\", \"let\", \"liberation\", \"liberation\", \"liberation\", \"liberation\", \"liberians\", \"liberias\", \"lithuania\", \"lithuania\", \"lives\", \"lives\", \"lives\", \"lives\", \"lldcs\", \"long\", \"long\", \"long\", \"long\", \"lucia\", \"lucia\", \"lucia\", \"malawi\", \"malawis\", \"malaysia\", \"malaysia\", \"malaysia\", \"malaysia\", \"maldives\", \"maldives\", \"mali\", \"mali\", \"mali\", \"malian\", \"malta\", \"malta\", \"malta\", \"malta\", \"maneuvers\", \"mankind\", \"mankind\", \"mankind\", \"mankind\", \"marino\", \"marino\", \"mbasogo\", \"mdgs\", \"mdgs\", \"meaningful\", \"meaningful\", \"meaningful\", \"meaningful\", \"member\", \"member\", \"member\", \"member\", \"microcredit\", \"middle\", \"middle\", \"middle\", \"middle\", \"military\", \"military\", \"military\", \"military\", \"millennium\", \"millennium\", \"millennium\", \"minsk\", \"monaco\", \"monaco\", \"mongolia\", \"mongolia\", \"mongolia\", \"monterrey\", \"monterrey\", \"monuc\", \"monuc\", \"moslem\", \"myanmar\", \"myanmar\", \"myanmar\", \"myanmars\", \"nagorny\", \"nam\", \"nam\", \"nam\", \"namibia\", \"namibia\", \"namibia\", \"namibia\", \"namibian\", \"namibian\", \"namibian\", \"negotiations\", \"negotiations\", \"negotiations\", \"negotiations\", \"neighboring\", \"neighboring\", \"neighboring\", \"neocolonialism\", \"neocolonialism\", \"netherlands\", \"netherlands\", \"netherlands\", \"netherlands\", \"nevis\", \"nevis\", \"nevis\", \"nevis\", \"nigeria\", \"nigeria\", \"nigeria\", \"nigeria\", \"nigerian\", \"nigerias\", \"nonaligned\", \"nonaligned\", \"nonaligned\", \"nonaligned\", \"nonalignment\", \"nonalignment\", \"nonalignment\", \"nonproliferation\", \"nonproliferation\", \"nonproliferation\", \"nonproliferation\", \"npfl\", \"nuclear\", \"nuclear\", \"nuclear\", \"nuclear\", \"obiang\", \"occupation\", \"occupation\", \"occupation\", \"occupation\", \"occupied\", \"occupied\", \"occupied\", \"occupied\", \"operations\", \"operations\", \"operations\", \"operations\", \"osce\", \"pakistan\", \"pakistan\", \"pakistan\", \"pakistan\", \"palestinian\", \"palestinian\", \"palestinian\", \"palestinian\", \"papua\", \"papua\", \"papua\", \"papua\", \"paraguay\", \"paraguay\", \"paraguayan\", \"paraguayan\", \"paraguays\", \"past\", \"past\", \"past\", \"past\", \"peaceful\", \"peaceful\", \"peaceful\", \"peaceful\", \"peacekeeping\", \"peacekeeping\", \"peacekeeping\", \"peacekeeping\", \"peking\", \"peoples\", \"peoples\", \"peoples\", \"peoples\", \"ping\", \"ping\", \"ping\", \"plots\", \"pol\", \"poland\", \"poland\", \"polands\", \"policy\", \"policy\", \"policy\", \"policy\", \"poor\", \"poor\", \"poor\", \"poor\", \"poverty\", \"poverty\", \"poverty\", \"poverty\", \"powers\", \"powers\", \"powers\", \"powers\", \"pretoria\", \"pretoria\", \"pretoria\", \"principles\", \"principles\", \"principles\", \"principles\", \"problem\", \"problem\", \"problem\", \"problem\", \"problems\", \"problems\", \"problems\", \"problems\", \"process\", \"process\", \"process\", \"process\", \"programme\", \"programme\", \"programme\", \"programme\", \"progress\", \"progress\", \"progress\", \"progress\", \"puppet\", \"question\", \"question\", \"question\", \"question\", \"race\", \"race\", \"race\", \"race\", \"racist\", \"racist\", \"racist\", \"racists\", \"racists\", \"ramsi\", \"reactionary\", \"reform\", \"reform\", \"reform\", \"reform\", \"regard\", \"regard\", \"regard\", \"regard\", \"regime\", \"regime\", \"regime\", \"regime\", \"region\", \"region\", \"region\", \"region\", \"regional\", \"regional\", \"regional\", \"regional\", \"relations\", \"relations\", \"relations\", \"relations\", \"republic\", \"republic\", \"republic\", \"republic\", \"resolutions\", \"resolutions\", \"resolutions\", \"resolutions\", \"resources\", \"resources\", \"resources\", \"resources\", \"respect\", \"respect\", \"respect\", \"respect\", \"rhodesia\", \"rhodesia\", \"rhodesia\", \"right\", \"right\", \"right\", \"right\", \"role\", \"role\", \"role\", \"role\", \"romania\", \"romania\", \"ruf\", \"russia\", \"russia\", \"russia\", \"russia\", \"rwanda\", \"rwanda\", \"rwanda\", \"rwanda\", \"rwandan\", \"rwandan\", \"rwandese\", \"rwandese\", \"sahelosaharan\", \"saint\", \"saint\", \"saint\", \"saint\", \"salisbury\", \"salvadorans\", \"secretarygeneral\", \"secretarygeneral\", \"secretarygeneral\", \"secretarygeneral\", \"securitybuilding\", \"serbian\", \"serbian\", \"situation\", \"situation\", \"situation\", \"situation\", \"sixtieth\", \"sixtieth\", \"sixtieth\", \"sixtieth\", \"slovakia\", \"slovakia\", \"slovenia\", \"slovenia\", \"small\", \"small\", \"small\", \"small\", \"social\", \"social\", \"social\", \"social\", \"socialist\", \"socialist\", \"socialist\", \"solomon\", \"solomon\", \"solomon\", \"solomon\", \"solution\", \"solution\", \"solution\", \"solution\", \"somalia\", \"somalia\", \"somalia\", \"somalia\", \"south\", \"south\", \"south\", \"south\", \"sovereignty\", \"sovereignty\", \"sovereignty\", \"sovereignty\", \"stability\", \"stability\", \"stability\", \"stability\", \"struggle\", \"struggle\", \"struggle\", \"struggle\", \"summit\", \"summit\", \"summit\", \"summit\", \"sustainable\", \"sustainable\", \"sustainable\", \"swapo\", \"swapo\", \"swazi\", \"swaziland\", \"swaziland\", \"synergies\", \"synergies\", \"tajikistan\", \"tanzanias\", \"taylor\", \"territories\", \"territories\", \"territories\", \"territories\", \"terrorism\", \"terrorism\", \"terrorism\", \"terrorism\", \"timorleste\", \"timorleste\", \"tobago\", \"tobago\", \"today\", \"today\", \"today\", \"today\", \"tonga\", \"tonga\", \"tonga\", \"trade\", \"trade\", \"trade\", \"trade\", \"treaty\", \"treaty\", \"treaty\", \"treaty\", \"trinidad\", \"trinidad\", \"turkey\", \"turkey\", \"turkey\", \"turkey\", \"turkeys\", \"turkeys\", \"turkmenistan\", \"tuvalu\", \"tuvalu\", \"tuvalus\", \"uganda\", \"uganda\", \"uganda\", \"ukraine\", \"ukraine\", \"ukraine\", \"ukraines\", \"unasur\", \"union\", \"union\", \"union\", \"union\", \"uzbekistan\", \"viet\", \"viet\", \"viet\", \"vietnam\", \"vietnam\", \"vietnamese\", \"vietnamese\", \"waldheim\", \"waldheim\", \"waldheim\", \"war\", \"war\", \"war\", \"war\", \"way\", \"way\", \"way\", \"way\", \"weapons\", \"weapons\", \"weapons\", \"weapons\", \"withdrawal\", \"withdrawal\", \"withdrawal\", \"withdrawal\", \"worlds\", \"worlds\", \"worlds\", \"worlds\", \"xxix\", \"yaound\\u00e9\", \"yemeni\", \"yugoslavia\", \"yugoslavia\", \"yugoslavia\", \"yugoslavia\", \"zambian\", \"zambias\", \"zealand\", \"zealand\", \"zealand\", \"zealand\", \"zine\", \"zionist\", \"zionists\"]}, \"R\": 30, \"lambda.step\": 0.01, \"plot.opts\": {\"xlab\": \"PC1\", \"ylab\": \"PC2\"}, \"topic.order\": [1, 2, 3, 4]};\n",
       "\n",
       "function LDAvis_load_lib(url, callback){\n",
       "  var s = document.createElement('script');\n",
       "  s.src = url;\n",
       "  s.async = true;\n",
       "  s.onreadystatechange = s.onload = callback;\n",
       "  s.onerror = function(){console.warn(\"failed to load library \" + url);};\n",
       "  document.getElementsByTagName(\"head\")[0].appendChild(s);\n",
       "}\n",
       "\n",
       "if(typeof(LDAvis) !== \"undefined\"){\n",
       "   // already loaded: just create the visualization\n",
       "   !function(LDAvis){\n",
       "       new LDAvis(\"#\" + \"ldavis_el2021220145647980245464302918\", ldavis_el2021220145647980245464302918_data);\n",
       "   }(LDAvis);\n",
       "}else if(typeof define === \"function\" && define.amd){\n",
       "   // require.js is available: use it to load d3/LDAvis\n",
       "   require.config({paths: {d3: \"https://d3js.org/d3.v5\"}});\n",
       "   require([\"d3\"], function(d3){\n",
       "      window.d3 = d3;\n",
       "      LDAvis_load_lib(\"https://cdn.jsdelivr.net/gh/bmabey/pyLDAvis@3.3.1/pyLDAvis/js/ldavis.v3.0.0.js\", function(){\n",
       "        new LDAvis(\"#\" + \"ldavis_el2021220145647980245464302918\", ldavis_el2021220145647980245464302918_data);\n",
       "      });\n",
       "    });\n",
       "}else{\n",
       "    // require.js not available: dynamically load d3 & LDAvis\n",
       "    LDAvis_load_lib(\"https://d3js.org/d3.v5.js\", function(){\n",
       "         LDAvis_load_lib(\"https://cdn.jsdelivr.net/gh/bmabey/pyLDAvis@3.3.1/pyLDAvis/js/ldavis.v3.0.0.js\", function(){\n",
       "                 new LDAvis(\"#\" + \"ldavis_el2021220145647980245464302918\", ldavis_el2021220145647980245464302918_data);\n",
       "            })\n",
       "         });\n",
       "}\n",
       "</script>"
      ],
      "text/plain": [
       "<IPython.core.display.HTML object>"
      ]
     },
     "execution_count": 30,
     "metadata": {},
     "output_type": "execute_result"
    }
   ],
   "source": [
    "# visualize\n",
    "lda_viz = pyLDAvis.sklearn.prepare(lda_model=lda,\n",
    "                                  dtm=X,\n",
    "                                  vectorizer=vec,\n",
    "                                  sort_topics=False)\n",
    "\n",
    "pyLDAvis.display(lda_viz)"
   ]
  },
  {
   "cell_type": "markdown",
   "metadata": {},
   "source": [
    "This is a good topic model since there are big non-overlapping bubbles scattered throughout the chart. We can also see that some bubbles are quite far away from each other e.g. 1 and 2 - the longer the distance between bubbles, the more different they are. The bubble representing Topic 2 (i.e. Topic_1 in our dataframe) is the biggest - this means that the percentage of speeches about that topic are the highest in the corpus we have. \n",
    "\n",
    "Using the visualization above, I will look at the highest  frequency words in each topic and try to interpret them. \n",
    "\n",
    "- Topic 1: Sustainable Development (in developing nations)\n",
    "- Topic 2: Conflict and Political Unrest in the Global South\n",
    "- Topic 3: Development Challenges in the Global South\n",
    "- Topic 4: Nuclear Weapons & Disarmament "
   ]
  },
  {
   "cell_type": "code",
   "execution_count": 31,
   "metadata": {},
   "outputs": [
    {
     "data": {
      "text/html": [
       "<div>\n",
       "<style scoped>\n",
       "    .dataframe tbody tr th:only-of-type {\n",
       "        vertical-align: middle;\n",
       "    }\n",
       "\n",
       "    .dataframe tbody tr th {\n",
       "        vertical-align: top;\n",
       "    }\n",
       "\n",
       "    .dataframe thead th {\n",
       "        text-align: right;\n",
       "    }\n",
       "</style>\n",
       "<table border=\"1\" class=\"dataframe\">\n",
       "  <thead>\n",
       "    <tr style=\"text-align: right;\">\n",
       "      <th></th>\n",
       "      <th>top_words</th>\n",
       "      <th>topic_name</th>\n",
       "    </tr>\n",
       "  </thead>\n",
       "  <tbody>\n",
       "    <tr>\n",
       "      <th>Topic_0</th>\n",
       "      <td>social global republic process challenges afri...</td>\n",
       "      <td>Sustainable Development (in developing nations)</td>\n",
       "    </tr>\n",
       "    <tr>\n",
       "      <th>Topic_1</th>\n",
       "      <td>peoples africa situation south republic indepe...</td>\n",
       "      <td>Conflict and Political Unrest in the Global South</td>\n",
       "    </tr>\n",
       "    <tr>\n",
       "      <th>Topic_2</th>\n",
       "      <td>africa developing global south small resources...</td>\n",
       "      <td>Development Challenges in the Global South</td>\n",
       "    </tr>\n",
       "    <tr>\n",
       "      <th>Topic_3</th>\n",
       "      <td>nuclear weapons europe problems process europe...</td>\n",
       "      <td>Nuclear Weapons &amp; Disarmament</td>\n",
       "    </tr>\n",
       "  </tbody>\n",
       "</table>\n",
       "</div>"
      ],
      "text/plain": [
       "                                                 top_words  \\\n",
       "Topic_0  social global republic process challenges afri...   \n",
       "Topic_1  peoples africa situation south republic indepe...   \n",
       "Topic_2  africa developing global south small resources...   \n",
       "Topic_3  nuclear weapons europe problems process europe...   \n",
       "\n",
       "                                                topic_name  \n",
       "Topic_0    Sustainable Development (in developing nations)  \n",
       "Topic_1  Conflict and Political Unrest in the Global South  \n",
       "Topic_2         Development Challenges in the Global South  \n",
       "Topic_3                      Nuclear Weapons & Disarmament  "
      ]
     },
     "execution_count": 31,
     "metadata": {},
     "output_type": "execute_result"
    }
   ],
   "source": [
    "# add labels\n",
    "main_topics_df['topic_name'] = ['Sustainable Development (in developing nations)',\n",
    "                                'Conflict and Political Unrest in the Global South',\n",
    "                                'Development Challenges in the Global South',\n",
    "                                'Nuclear Weapons & Disarmament']\n",
    "\n",
    "# view \n",
    "main_topics_df"
   ]
  },
  {
   "cell_type": "markdown",
   "metadata": {},
   "source": [
    "## <center> <font color='royalblue'> Topic Modeling - USA "
   ]
  },
  {
   "cell_type": "code",
   "execution_count": 32,
   "metadata": {},
   "outputs": [],
   "source": [
    "# filter dataset to only include USA\n",
    "usa_un_speeches = un_speeches[un_speeches.country == 'USA']"
   ]
  },
  {
   "cell_type": "code",
   "execution_count": 33,
   "metadata": {},
   "outputs": [
    {
     "name": "stdout",
     "output_type": "stream",
     "text": [
      "Dimensionality: This dataset has  46  observations and  8  features.\n"
     ]
    }
   ],
   "source": [
    "print('Dimensionality: This dataset has ',usa_un_speeches.shape[0], ' observations and ',usa_un_speeches.shape[1], ' features.')"
   ]
  },
  {
   "cell_type": "code",
   "execution_count": 34,
   "metadata": {},
   "outputs": [],
   "source": [
    "# Select only id, speaker, and speech text\n",
    "df = usa_un_speeches[[\"id\", \"speaker\", \"text\"]]"
   ]
  },
  {
   "cell_type": "markdown",
   "metadata": {},
   "source": [
    "#### Steps:\n",
    "1. Instantiate vectorizer with parameters: vectorizer\n",
    "2. Vectorize column of text with fit_transform: X\n",
    "3. Instantiate LDA model with parameters: lda\n",
    "4. Fit LDA model to vectorized text: doc_topics"
   ]
  },
  {
   "cell_type": "markdown",
   "metadata": {},
   "source": [
    "#### 1. Instantiate vectorizer with parameters: vectorizer"
   ]
  },
  {
   "cell_type": "code",
   "execution_count": 35,
   "metadata": {},
   "outputs": [
    {
     "data": {
      "text/html": [
       "<div>\n",
       "<style scoped>\n",
       "    .dataframe tbody tr th:only-of-type {\n",
       "        vertical-align: middle;\n",
       "    }\n",
       "\n",
       "    .dataframe tbody tr th {\n",
       "        vertical-align: top;\n",
       "    }\n",
       "\n",
       "    .dataframe thead th {\n",
       "        text-align: right;\n",
       "    }\n",
       "</style>\n",
       "<table border=\"1\" class=\"dataframe\">\n",
       "  <thead>\n",
       "    <tr style=\"text-align: right;\">\n",
       "      <th></th>\n",
       "      <th>id</th>\n",
       "      <th>speaker</th>\n",
       "      <th>text</th>\n",
       "    </tr>\n",
       "  </thead>\n",
       "  <tbody>\n",
       "    <tr>\n",
       "      <th>65</th>\n",
       "      <td>65</td>\n",
       "      <td>Mr. YOST</td>\n",
       "      <td>\\t It is my privilege to extend to you once ag...</td>\n",
       "    </tr>\n",
       "    <tr>\n",
       "      <th>179</th>\n",
       "      <td>179</td>\n",
       "      <td>Mr. ROGERS</td>\n",
       "      <td>Mr President I should like first of all to as...</td>\n",
       "    </tr>\n",
       "    <tr>\n",
       "      <th>304</th>\n",
       "      <td>304</td>\n",
       "      <td>Mr. Rogers</td>\n",
       "      <td>During the past few years the world has made r...</td>\n",
       "    </tr>\n",
       "    <tr>\n",
       "      <th>424</th>\n",
       "      <td>424</td>\n",
       "      <td>Kissinger</td>\n",
       "      <td>\\tI should like to add my congratulations to t...</td>\n",
       "    </tr>\n",
       "    <tr>\n",
       "      <th>554</th>\n",
       "      <td>554</td>\n",
       "      <td>Mr. Kissinger</td>\n",
       "      <td>Last year at the previous session th meeting i...</td>\n",
       "    </tr>\n",
       "  </tbody>\n",
       "</table>\n",
       "</div>"
      ],
      "text/plain": [
       "      id        speaker                                               text\n",
       "65    65       Mr. YOST  \\t It is my privilege to extend to you once ag...\n",
       "179  179     Mr. ROGERS   Mr President I should like first of all to as...\n",
       "304  304    Mr. Rogers   During the past few years the world has made r...\n",
       "424  424      Kissinger  \\tI should like to add my congratulations to t...\n",
       "554  554  Mr. Kissinger  Last year at the previous session th meeting i..."
      ]
     },
     "execution_count": 35,
     "metadata": {},
     "output_type": "execute_result"
    }
   ],
   "source": [
    "warnings.filterwarnings(\"ignore\")\n",
    "\n",
    "\n",
    "# remove punctuation \n",
    "df[\"text\"] = df['text'].str.replace(\"[^\\w\\s]\", '')\n",
    "\n",
    "# remove numbers\n",
    "df[\"text\"] = df['text'].str.replace('\\d+', '')\n",
    "\n",
    "# view \n",
    "df.head()"
   ]
  },
  {
   "cell_type": "code",
   "execution_count": 36,
   "metadata": {},
   "outputs": [],
   "source": [
    "# instantiate vectorizer\n",
    "vec = CountVectorizer(stop_words=\"english\",\n",
    "                    lowercase=True,\n",
    "                    ngram_range=(1, 1), # lower bound,upper bound: 1,1 only unigrams, 1,2 unigrams and bigrams, 2,2 only bigrams, etc...,\n",
    "                    min_df=5, # ignore rare words (appear in less than 5 documents)\n",
    "                    max_df=0.8) # ignore common words (appear in more than 80% of documents)"
   ]
  },
  {
   "cell_type": "markdown",
   "metadata": {},
   "source": [
    "#### 2. Vectorize column of text with fit_transform: X"
   ]
  },
  {
   "cell_type": "code",
   "execution_count": 37,
   "metadata": {},
   "outputs": [],
   "source": [
    "# create document-term matrix\n",
    "X = vec.fit_transform(df[\"text\"])"
   ]
  },
  {
   "cell_type": "code",
   "execution_count": 38,
   "metadata": {},
   "outputs": [
    {
     "data": {
      "text/plain": [
       "(46, 2433)"
      ]
     },
     "execution_count": 38,
     "metadata": {},
     "output_type": "execute_result"
    }
   ],
   "source": [
    "# check: documents, terms\n",
    "X.shape"
   ]
  },
  {
   "cell_type": "code",
   "execution_count": 39,
   "metadata": {},
   "outputs": [
    {
     "name": "stdout",
     "output_type": "stream",
     "text": [
      "There are 46 documents, and 2433 terms.\n"
     ]
    }
   ],
   "source": [
    "print('There are',X.shape[0],'documents, and',X.shape[1],'terms.')"
   ]
  },
  {
   "cell_type": "markdown",
   "metadata": {},
   "source": [
    "#### 3. Instantiate LDA model with parameters: lda"
   ]
  },
  {
   "cell_type": "code",
   "execution_count": 40,
   "metadata": {},
   "outputs": [],
   "source": [
    "# instantiate LDA\n",
    "lda = LatentDirichletAllocation(n_components=3,\n",
    "                                       random_state=42)"
   ]
  },
  {
   "cell_type": "markdown",
   "metadata": {},
   "source": [
    "#### 4. Fit LDA model to vectorized text: doc_topics"
   ]
  },
  {
   "cell_type": "code",
   "execution_count": 41,
   "metadata": {},
   "outputs": [],
   "source": [
    "# fit LDA model to vectorized text\n",
    "doc_topics = lda.fit_transform(X)"
   ]
  },
  {
   "cell_type": "code",
   "execution_count": 42,
   "metadata": {
    "scrolled": true
   },
   "outputs": [
    {
     "name": "stdout",
     "output_type": "stream",
     "text": [
      "There are 3 topics and 2433 words\n"
     ]
    }
   ],
   "source": [
    "print(f\"There are {lda.components_.shape[0]} topics and {lda.components_.shape[1]} words\")"
   ]
  },
  {
   "cell_type": "markdown",
   "metadata": {},
   "source": [
    "### Analysis"
   ]
  },
  {
   "cell_type": "markdown",
   "metadata": {},
   "source": [
    "#### Extract top words from each topic"
   ]
  },
  {
   "cell_type": "code",
   "execution_count": 43,
   "metadata": {},
   "outputs": [],
   "source": [
    "# get feature names (vocabulary)\n",
    "voc = np.array(vec.get_feature_names())"
   ]
  },
  {
   "cell_type": "code",
   "execution_count": 44,
   "metadata": {},
   "outputs": [],
   "source": [
    "# set number of top words you want\n",
    "n_words=10\n",
    "\n",
    "# create lambda function to extra top words from voc\n",
    "imp_words = lambda x: [voc[each] for each in np.argsort(x)[:-n_words-1:-1]]"
   ]
  },
  {
   "cell_type": "code",
   "execution_count": 45,
   "metadata": {},
   "outputs": [],
   "source": [
    "# use imp_words to extract words with the highest weights from our lda model\n",
    "words_in_topic = ([imp_words(x) for x in lda.components_])"
   ]
  },
  {
   "cell_type": "code",
   "execution_count": 46,
   "metadata": {},
   "outputs": [],
   "source": [
    "# join words into single string\n",
    "main_topics = [' '.join(x) for x in words_in_topic]"
   ]
  },
  {
   "cell_type": "code",
   "execution_count": 47,
   "metadata": {},
   "outputs": [],
   "source": [
    "# create dataframe with top words and set index to topic number\n",
    "main_topics_df = pd.DataFrame({\"top_words\": main_topics},\n",
    "                             index=[\"Topic_\" + str(each) for each in range(lda.n_components)])"
   ]
  },
  {
   "cell_type": "code",
   "execution_count": 48,
   "metadata": {
    "scrolled": true
   },
   "outputs": [
    {
     "data": {
      "text/html": [
       "<div>\n",
       "<style scoped>\n",
       "    .dataframe tbody tr th:only-of-type {\n",
       "        vertical-align: middle;\n",
       "    }\n",
       "\n",
       "    .dataframe tbody tr th {\n",
       "        vertical-align: top;\n",
       "    }\n",
       "\n",
       "    .dataframe thead th {\n",
       "        text-align: right;\n",
       "    }\n",
       "</style>\n",
       "<table border=\"1\" class=\"dataframe\">\n",
       "  <thead>\n",
       "    <tr style=\"text-align: right;\">\n",
       "      <th></th>\n",
       "      <th>top_words</th>\n",
       "    </tr>\n",
       "  </thead>\n",
       "  <tbody>\n",
       "    <tr>\n",
       "      <th>Topic_0</th>\n",
       "      <td>iraq terror regime terrorists iraqi afghanista...</td>\n",
       "    </tr>\n",
       "    <tr>\n",
       "      <th>Topic_1</th>\n",
       "      <td>democracy children live century change like le...</td>\n",
       "    </tr>\n",
       "    <tr>\n",
       "      <th>Topic_2</th>\n",
       "      <td>soviet arms negotiations developing important ...</td>\n",
       "    </tr>\n",
       "  </tbody>\n",
       "</table>\n",
       "</div>"
      ],
      "text/plain": [
       "                                                 top_words\n",
       "Topic_0  iraq terror regime terrorists iraqi afghanista...\n",
       "Topic_1  democracy children live century change like le...\n",
       "Topic_2  soviet arms negotiations developing important ..."
      ]
     },
     "execution_count": 48,
     "metadata": {},
     "output_type": "execute_result"
    }
   ],
   "source": [
    "# examine top words\n",
    "main_topics_df"
   ]
  },
  {
   "cell_type": "code",
   "execution_count": 49,
   "metadata": {},
   "outputs": [
    {
     "data": {
      "text/plain": [
       "['iraq terror regime terrorists iraqi afghanistan good iraqs terrorist dignity',\n",
       " 'democracy children live century change like leaders citizens challenges democratic',\n",
       " 'soviet arms negotiations developing important conference problems organization resolution growth']"
      ]
     },
     "execution_count": 49,
     "metadata": {},
     "output_type": "execute_result"
    }
   ],
   "source": [
    "# examine top words\n",
    "list(main_topics_df.top_words.values)"
   ]
  },
  {
   "cell_type": "markdown",
   "metadata": {},
   "source": [
    "#### Create a document topic matrix from results"
   ]
  },
  {
   "cell_type": "code",
   "execution_count": 50,
   "metadata": {},
   "outputs": [],
   "source": [
    "cols = [\"Topic_\" + str(each) for each in range(lda.n_components)]\n",
    "docs = [\"Document_\" + str(each) for each in range(X.shape[0])]"
   ]
  },
  {
   "cell_type": "code",
   "execution_count": 51,
   "metadata": {},
   "outputs": [],
   "source": [
    "# create dataframe with term weights and document # and topic # as rows, columns\n",
    "df_topics = pd.DataFrame(np.round(doc_topics, 2),\n",
    "                        columns=cols,\n",
    "                        index=docs)"
   ]
  },
  {
   "cell_type": "code",
   "execution_count": 52,
   "metadata": {},
   "outputs": [],
   "source": [
    "# Extract most important topics from those values\n",
    "imp_topic = np.argmax(df_topics.values, axis=1)"
   ]
  },
  {
   "cell_type": "code",
   "execution_count": 53,
   "metadata": {
    "scrolled": true
   },
   "outputs": [
    {
     "data": {
      "text/html": [
       "<div>\n",
       "<style scoped>\n",
       "    .dataframe tbody tr th:only-of-type {\n",
       "        vertical-align: middle;\n",
       "    }\n",
       "\n",
       "    .dataframe tbody tr th {\n",
       "        vertical-align: top;\n",
       "    }\n",
       "\n",
       "    .dataframe thead th {\n",
       "        text-align: right;\n",
       "    }\n",
       "</style>\n",
       "<table border=\"1\" class=\"dataframe\">\n",
       "  <thead>\n",
       "    <tr style=\"text-align: right;\">\n",
       "      <th></th>\n",
       "      <th>Topic_0</th>\n",
       "      <th>Topic_1</th>\n",
       "      <th>Topic_2</th>\n",
       "    </tr>\n",
       "  </thead>\n",
       "  <tbody>\n",
       "    <tr>\n",
       "      <th>Document_0</th>\n",
       "      <td>0.0</td>\n",
       "      <td>0.0</td>\n",
       "      <td>1.0</td>\n",
       "    </tr>\n",
       "    <tr>\n",
       "      <th>Document_1</th>\n",
       "      <td>0.0</td>\n",
       "      <td>0.0</td>\n",
       "      <td>1.0</td>\n",
       "    </tr>\n",
       "    <tr>\n",
       "      <th>Document_2</th>\n",
       "      <td>0.0</td>\n",
       "      <td>0.0</td>\n",
       "      <td>1.0</td>\n",
       "    </tr>\n",
       "    <tr>\n",
       "      <th>Document_3</th>\n",
       "      <td>0.0</td>\n",
       "      <td>0.0</td>\n",
       "      <td>1.0</td>\n",
       "    </tr>\n",
       "    <tr>\n",
       "      <th>Document_4</th>\n",
       "      <td>0.0</td>\n",
       "      <td>0.0</td>\n",
       "      <td>1.0</td>\n",
       "    </tr>\n",
       "  </tbody>\n",
       "</table>\n",
       "</div>"
      ],
      "text/plain": [
       "            Topic_0  Topic_1  Topic_2\n",
       "Document_0      0.0      0.0      1.0\n",
       "Document_1      0.0      0.0      1.0\n",
       "Document_2      0.0      0.0      1.0\n",
       "Document_3      0.0      0.0      1.0\n",
       "Document_4      0.0      0.0      1.0"
      ]
     },
     "execution_count": 53,
     "metadata": {},
     "output_type": "execute_result"
    }
   ],
   "source": [
    "# view dataframe\n",
    "df_topics.head()"
   ]
  },
  {
   "cell_type": "code",
   "execution_count": 54,
   "metadata": {
    "scrolled": true
   },
   "outputs": [],
   "source": [
    "# store top topic\n",
    "df_topics[\"top_topic\"] = imp_topic"
   ]
  },
  {
   "cell_type": "code",
   "execution_count": 55,
   "metadata": {},
   "outputs": [
    {
     "data": {
      "text/html": [
       "<div>\n",
       "<style scoped>\n",
       "    .dataframe tbody tr th:only-of-type {\n",
       "        vertical-align: middle;\n",
       "    }\n",
       "\n",
       "    .dataframe tbody tr th {\n",
       "        vertical-align: top;\n",
       "    }\n",
       "\n",
       "    .dataframe thead th {\n",
       "        text-align: right;\n",
       "    }\n",
       "</style>\n",
       "<table border=\"1\" class=\"dataframe\">\n",
       "  <thead>\n",
       "    <tr style=\"text-align: right;\">\n",
       "      <th></th>\n",
       "      <th>Topic_0</th>\n",
       "      <th>Topic_1</th>\n",
       "      <th>Topic_2</th>\n",
       "      <th>top_topic</th>\n",
       "    </tr>\n",
       "  </thead>\n",
       "  <tbody>\n",
       "    <tr>\n",
       "      <th>Document_0</th>\n",
       "      <td>0.0</td>\n",
       "      <td>0.0</td>\n",
       "      <td>1.0</td>\n",
       "      <td>2</td>\n",
       "    </tr>\n",
       "    <tr>\n",
       "      <th>Document_1</th>\n",
       "      <td>0.0</td>\n",
       "      <td>0.0</td>\n",
       "      <td>1.0</td>\n",
       "      <td>2</td>\n",
       "    </tr>\n",
       "    <tr>\n",
       "      <th>Document_2</th>\n",
       "      <td>0.0</td>\n",
       "      <td>0.0</td>\n",
       "      <td>1.0</td>\n",
       "      <td>2</td>\n",
       "    </tr>\n",
       "    <tr>\n",
       "      <th>Document_3</th>\n",
       "      <td>0.0</td>\n",
       "      <td>0.0</td>\n",
       "      <td>1.0</td>\n",
       "      <td>2</td>\n",
       "    </tr>\n",
       "    <tr>\n",
       "      <th>Document_4</th>\n",
       "      <td>0.0</td>\n",
       "      <td>0.0</td>\n",
       "      <td>1.0</td>\n",
       "      <td>2</td>\n",
       "    </tr>\n",
       "  </tbody>\n",
       "</table>\n",
       "</div>"
      ],
      "text/plain": [
       "            Topic_0  Topic_1  Topic_2  top_topic\n",
       "Document_0      0.0      0.0      1.0          2\n",
       "Document_1      0.0      0.0      1.0          2\n",
       "Document_2      0.0      0.0      1.0          2\n",
       "Document_3      0.0      0.0      1.0          2\n",
       "Document_4      0.0      0.0      1.0          2"
      ]
     },
     "execution_count": 55,
     "metadata": {},
     "output_type": "execute_result"
    }
   ],
   "source": [
    "# view\n",
    "df_topics.head()"
   ]
  },
  {
   "cell_type": "code",
   "execution_count": 56,
   "metadata": {},
   "outputs": [
    {
     "data": {
      "text/html": [
       "\n",
       "<link rel=\"stylesheet\" type=\"text/css\" href=\"https://cdn.jsdelivr.net/gh/bmabey/pyLDAvis@3.3.1/pyLDAvis/js/ldavis.v1.0.0.css\">\n",
       "\n",
       "\n",
       "<div id=\"ldavis_el202122014577495112231548565\"></div>\n",
       "<script type=\"text/javascript\">\n",
       "\n",
       "var ldavis_el202122014577495112231548565_data = {\"mdsDat\": {\"x\": [-0.09176049636916467, -0.023030135059383425, 0.11479063142854815], \"y\": [0.049078754570409035, -0.07355402502650299, 0.024475270456093955], \"topics\": [1, 2, 3], \"cluster\": [1, 1, 1], \"Freq\": [9.436514887411086, 42.6118349764805, 47.95165013610841]}, \"tinfo\": {\"Term\": [\"iraq\", \"terror\", \"terrorists\", \"regime\", \"soviet\", \"democracy\", \"iraqi\", \"afghanistan\", \"stand\", \"good\", \"dignity\", \"fight\", \"children\", \"terrorist\", \"mass\", \"leaders\", \"middle\", \"liberty\", \"democratic\", \"women\", \"iraqs\", \"innocent\", \"aid\", \"resolutions\", \"hall\", \"coalition\", \"region\", \"citizens\", \"helping\", \"extremists\", \"taliban\", \"contempt\", \"darfur\", \"iraqi\", \"iraqs\", \"infrastructure\", \"grateful\", \"outlaw\", \"deliberately\", \"medicine\", \"evil\", \"malaria\", \"ambitions\", \"iraq\", \"saddam\", \"oppression\", \"terror\", \"sudan\", \"murder\", \"saudi\", \"outcomes\", \"regimes\", \"learning\", \"intentions\", \"aids\", \"suicide\", \"transformed\", \"property\", \"rape\", \"prepare\", \"regime\", \"violations\", \"terrorists\", \"helping\", \"terrorist\", \"afghanistan\", \"coalition\", \"liberty\", \"resolutions\", \"fight\", \"extremists\", \"good\", \"aid\", \"stand\", \"innocent\", \"dignity\", \"mass\", \"middle\", \"including\", \"democracy\", \"palestinian\", \"suffering\", \"hall\", \"leaders\", \"democratic\", \"region\", \"justice\", \"violence\", \"commitment\", \"israelis\", \"russia\", \"haiti\", \"bosnia\", \"libya\", \"core\", \"sectarian\", \"walk\", \"love\", \"engagement\", \"false\", \"worth\", \"ireland\", \"emerging\", \"limited\", \"direction\", \"humankind\", \"sign\", \"chosen\", \"corrupt\", \"embraced\", \"elected\", \"hear\", \"harder\", \"criminals\", \"understood\", \"iranian\", \"eyes\", \"summer\", \"integration\", \"syria\", \"partners\", \"reform\", \"americans\", \"ukraine\", \"twentyfirst\", \"speech\", \"walls\", \"powerful\", \"climate\", \"institution\", \"democracy\", \"children\", \"live\", \"chemical\", \"americas\", \"makes\", \"millennium\", \"change\", \"like\", \"threats\", \"cold\", \"society\", \"century\", \"iran\", \"citizens\", \"hard\", \"neighbours\", \"home\", \"challenges\", \"leaders\", \"economy\", \"women\", \"democratic\", \"destruction\", \"state\", \"stand\", \"israel\", \"markets\", \"universal\", \"mass\", \"want\", \"responsibility\", \"region\", \"terrorism\", \"said\", \"place\", \"institutions\", \"interests\", \"dignity\", \"iraq\", \"military\", \"treaty\", \"shall\", \"proposals\", \"restraint\", \"reduction\", \"solutions\", \"confrontation\", \"area\", \"namibia\", \"southern\", \"soviets\", \"withdrawal\", \"arrangements\", \"equitable\", \"dialog\", \"proposal\", \"committee\", \"technological\", \"defense\", \"technical\", \"consultations\", \"addition\", \"tension\", \"note\", \"soviet\", \"armaments\", \"machinery\", \"imperative\", \"programs\", \"accommodation\", \"limitation\", \"involved\", \"strategic\", \"contribution\", \"program\", \"session\", \"conference\", \"republic\", \"arms\", \"relations\", \"negotiations\", \"cyprus\", \"regional\", \"concerned\", \"important\", \"settlement\", \"independence\", \"mankind\", \"process\", \"concern\", \"essential\", \"geneva\", \"developing\", \"parties\", \"major\", \"issues\", \"organization\", \"reality\", \"problem\", \"problems\", \"resolution\", \"charter\", \"control\", \"recent\", \"spirit\", \"energy\", \"growth\", \"national\", \"talks\", \"middle\", \"treaty\", \"trade\"], \"Freq\": [123.0, 79.0, 88.0, 85.0, 199.0, 153.0, 43.0, 65.0, 87.0, 77.0, 93.0, 55.0, 114.0, 46.0, 63.0, 95.0, 122.0, 45.0, 87.0, 75.0, 27.0, 59.0, 51.0, 44.0, 62.0, 34.0, 86.0, 88.0, 34.0, 36.0, 11.253055032323857, 4.490348641218929, 6.901807614125539, 33.7851495300943, 20.932476251222354, 4.528946413972813, 6.11429821366376, 7.335885419398481, 3.55854023022663, 3.501502954239634, 7.043891968429749, 7.911976542983787, 5.215613649384657, 72.37113795483327, 9.832335268423892, 7.49084028933746, 44.10855859814014, 5.891659561414922, 14.28455672764149, 5.208885847677579, 2.830988599326285, 12.653920648551042, 6.086911975575187, 2.803441441570918, 8.390603426124693, 5.000382953634245, 3.1753782967743223, 3.1778318928587375, 2.670960399799552, 3.567653937465794, 41.33386354310177, 4.44372130063658, 41.09665055916371, 15.84056552424614, 20.70003318973173, 27.126523863500264, 14.412890502120982, 17.967070440207053, 16.392938874486095, 18.95860338937077, 13.411081136969678, 21.488345415820618, 15.827815017300392, 20.618237724203336, 16.223405400393165, 20.678060287034917, 15.429779955989051, 18.976215869503548, 14.816930854844037, 19.3211989896639, 13.72624788548074, 12.062740822289197, 13.349900786606723, 15.26540604239167, 14.741425682300443, 14.43460071263487, 14.314381645387718, 14.02008220994332, 14.047168362702662, 29.09238481728879, 46.36518040977857, 16.62104313382027, 15.657740055877056, 15.631278090122766, 14.665826797265028, 13.744303680656355, 15.538521131555163, 15.536227228048675, 12.774723820275879, 13.686302951260869, 13.66568923445815, 11.830364501975422, 11.819075138835327, 11.813616334088161, 15.450730046792465, 12.685252272257472, 10.842525501905001, 10.809975182875776, 9.903668569897905, 9.896617857413244, 9.866528737045707, 9.852323094882248, 8.949533476281458, 8.940384906954174, 10.724410279228614, 23.12754426595533, 9.788866984061787, 8.875161711450527, 7.980054138213409, 32.91517798252068, 25.616424033536784, 50.275292477963276, 27.325511250366056, 22.042515682248013, 26.91880541291325, 20.118596290287098, 17.540417577222577, 22.69472738496516, 21.810437475381317, 52.614092244417414, 125.85690207056946, 95.31195185578278, 82.56297155746516, 51.150196724014, 44.35739185820201, 25.598369784316493, 20.70627254399137, 74.86590295000079, 72.05535252660968, 34.766619832066695, 37.616152562968786, 33.72701512743389, 79.23148882432626, 52.41585299718866, 65.66800225448068, 41.561363109954975, 26.42634709063935, 35.539507504962295, 63.15643132584241, 66.3327287521587, 59.998598861009455, 53.54315373572447, 60.15042148092498, 49.64121396830411, 59.29441313731188, 57.49813501940173, 52.86057253315401, 46.82441099447303, 51.34014133674648, 44.61543404024536, 46.63841711996669, 52.11206446546223, 51.08740496451555, 50.304667690184, 52.77322372297052, 46.65563523511341, 49.90599306366626, 51.55348875997529, 49.72860358415688, 51.21873425537246, 49.56653659622226, 50.12947794190398, 62.30602413978329, 42.82540267856219, 29.412199113290082, 29.389779904336905, 27.466386290895283, 25.530412342249107, 40.66014719012208, 24.514708259729208, 22.623726534855173, 24.49994823330427, 21.646051928417755, 24.457844342592168, 21.577914897097305, 18.743231627611646, 18.739753948210467, 24.3721507343035, 18.715573858313203, 16.771294688164463, 16.769917311447834, 15.835770167389628, 15.828694948902992, 16.755067908850048, 17.685362696202347, 191.86842491491709, 14.864967611916356, 14.841117355484382, 14.839571988482497, 13.899445198497396, 13.898075798852384, 13.89448610860528, 20.333036602295383, 67.07839132249346, 27.470499971541738, 26.50567701505324, 76.21104785280433, 95.92550224917366, 50.97596161347012, 128.5773266381186, 53.21156552348526, 117.75089762203423, 25.465179492211256, 77.34666889093084, 34.85529228610148, 96.71727508110334, 61.23282311798106, 40.97116081758607, 41.74606697457835, 74.66293965305073, 42.64274904540334, 39.97879435933777, 40.136110277569735, 111.49887300852555, 75.23230434924072, 72.1456891889951, 71.77251069148294, 82.15198984613295, 44.2866359631173, 57.17558414327996, 89.92374704860468, 80.83557831256462, 66.30783901412867, 69.98997190166537, 59.510957753115974, 54.79274491472003, 72.66556812703548, 78.08405991810928, 54.47507275256098, 49.217618890099494, 67.68349475861812, 66.34230805127163, 57.66061790698176], \"Total\": [123.0, 79.0, 88.0, 85.0, 199.0, 153.0, 43.0, 65.0, 87.0, 77.0, 93.0, 55.0, 114.0, 46.0, 63.0, 95.0, 122.0, 45.0, 87.0, 75.0, 27.0, 59.0, 51.0, 44.0, 62.0, 34.0, 86.0, 88.0, 34.0, 36.0, 12.930142794831866, 5.175642764631925, 8.699329050695415, 43.576801293049385, 27.021092387825682, 6.140437723384878, 8.801743012573125, 10.573458093768636, 5.297600222456628, 5.31638677635664, 11.566117603719164, 13.36466546661285, 8.929375025097357, 123.94006160188232, 16.952509413614784, 13.459313833834944, 79.64863872477667, 10.749376008283061, 26.95980713590674, 9.878921243269689, 5.401926022846612, 24.285517938712967, 11.710449163000348, 5.405509889108687, 16.18061339852008, 9.90594653053412, 6.306128548376822, 6.321616935225885, 5.41219418061182, 7.237766067032994, 85.92242666449269, 9.042833134008772, 88.75262005705883, 34.492310413377496, 46.31873017197591, 65.7160701841711, 34.58402591452948, 45.685079430968074, 44.073050152672856, 55.112762368012476, 36.632968751231836, 77.08685281263797, 51.95060396055007, 87.59964147249903, 59.44909117690638, 93.49593392198196, 63.26342130241511, 122.02329082295753, 71.29215741603332, 153.95502233569778, 61.701817885991005, 43.70115586980008, 62.627269553538135, 95.05437686567964, 87.43790583585766, 86.61142465951784, 87.83060734481458, 82.90464367965183, 92.57307957433358, 29.705952383301433, 47.82341241590497, 17.23489739646816, 16.275601914721165, 16.27132431789971, 15.31144428094467, 14.356084665253652, 16.27669097948934, 16.276938519939904, 13.397640471533045, 14.355384290368436, 14.350415539305677, 12.438136650525173, 12.437964999311603, 12.438320976076303, 16.277878454504005, 13.397739905859861, 11.479110636682234, 11.475414127845829, 10.519547349895447, 10.519624409717572, 10.5142443778097, 10.51727120204013, 9.560151090054708, 9.560250784648659, 11.480410300566, 24.80152953647895, 10.507707794176087, 9.560967925819062, 8.600923443734045, 35.480699784170056, 27.800276892337877, 55.07238482952286, 29.725081516961477, 23.93258587857614, 29.456284810437186, 21.885797852319598, 19.03974153699275, 24.911990554193235, 23.965039070948315, 60.60148681986939, 153.95502233569778, 114.54236473311352, 100.25419977655913, 59.99617221606445, 51.692835383040205, 28.653915852531235, 22.798678698709207, 96.78756305393371, 93.5557712539029, 40.99515601111954, 45.13028256415084, 40.0827396199364, 108.88062600227639, 67.66537084543624, 88.78810762721722, 52.59956809989652, 30.48714975039109, 43.73698535929452, 89.13094177355956, 95.05437686567964, 86.42637997137471, 75.06567637734767, 87.43790583585766, 70.55346021961692, 90.11465649448473, 87.59964147249903, 79.81461969511075, 67.29333119667874, 79.34702025303763, 63.26342130241511, 71.51789239645352, 89.56739057927732, 86.61142465951784, 85.33219310202753, 98.77148618542454, 72.52871280337234, 89.66757693775602, 102.02728578747895, 93.49593392198196, 123.94006160188232, 98.64077094335292, 117.6127930402364, 62.99814190910143, 43.59927242859004, 30.022720771041534, 30.02247641887023, 28.082871479316854, 26.142900130056532, 41.65716913642144, 25.172500073704434, 23.233486938040162, 25.17257820072713, 22.263510225079788, 25.171881152713567, 22.262494816319755, 19.3539099875141, 19.35387187599582, 25.171187389426898, 19.35360838223347, 17.413776142954152, 17.413761148042816, 16.44425872958171, 16.444181462839232, 17.413599392952683, 18.382725467555318, 199.55947622594994, 15.474357071270544, 15.473101550610041, 15.473490153360428, 14.50451303108922, 14.504498102388329, 14.504458731770688, 21.28949747451155, 71.57386264365496, 28.931886675235393, 27.962063917906526, 83.13810534145682, 106.30492693667938, 55.19982940956634, 145.150595329677, 57.984826202151275, 134.36824663089544, 26.985384083590063, 86.95890109877392, 37.756654236839914, 112.52246427651254, 69.47341311646676, 45.07763157599906, 46.1262667666997, 87.85468928329796, 47.434659777210754, 44.31981559167213, 44.52577393595043, 144.7795136647281, 95.1388363098774, 92.83153865205082, 94.51909463463043, 113.09990711249544, 52.24770903788958, 72.4254341657758, 130.44917181296148, 114.39292119672045, 88.07359048422319, 97.26253381259609, 77.94041575501876, 69.62882563526576, 107.00047351743027, 119.65112019537142, 71.01393652784387, 60.93557992515059, 122.02329082295753, 117.6127930402364, 111.4211243908695], \"Category\": [\"Default\", \"Default\", \"Default\", \"Default\", \"Default\", \"Default\", \"Default\", \"Default\", \"Default\", \"Default\", \"Default\", \"Default\", \"Default\", \"Default\", \"Default\", \"Default\", \"Default\", \"Default\", \"Default\", \"Default\", \"Default\", \"Default\", \"Default\", \"Default\", \"Default\", \"Default\", \"Default\", \"Default\", \"Default\", \"Default\", \"Topic1\", \"Topic1\", \"Topic1\", \"Topic1\", \"Topic1\", \"Topic1\", \"Topic1\", \"Topic1\", \"Topic1\", \"Topic1\", \"Topic1\", \"Topic1\", \"Topic1\", \"Topic1\", \"Topic1\", \"Topic1\", \"Topic1\", \"Topic1\", \"Topic1\", \"Topic1\", \"Topic1\", \"Topic1\", \"Topic1\", \"Topic1\", \"Topic1\", \"Topic1\", \"Topic1\", \"Topic1\", \"Topic1\", \"Topic1\", \"Topic1\", \"Topic1\", \"Topic1\", \"Topic1\", \"Topic1\", \"Topic1\", \"Topic1\", \"Topic1\", \"Topic1\", \"Topic1\", \"Topic1\", \"Topic1\", \"Topic1\", \"Topic1\", \"Topic1\", \"Topic1\", \"Topic1\", \"Topic1\", \"Topic1\", \"Topic1\", \"Topic1\", \"Topic1\", \"Topic1\", \"Topic1\", \"Topic1\", \"Topic1\", \"Topic1\", \"Topic1\", \"Topic1\", \"Topic2\", \"Topic2\", \"Topic2\", \"Topic2\", \"Topic2\", \"Topic2\", \"Topic2\", \"Topic2\", \"Topic2\", \"Topic2\", \"Topic2\", \"Topic2\", \"Topic2\", \"Topic2\", \"Topic2\", \"Topic2\", \"Topic2\", \"Topic2\", \"Topic2\", \"Topic2\", \"Topic2\", \"Topic2\", \"Topic2\", \"Topic2\", \"Topic2\", \"Topic2\", \"Topic2\", \"Topic2\", \"Topic2\", \"Topic2\", \"Topic2\", \"Topic2\", \"Topic2\", \"Topic2\", \"Topic2\", \"Topic2\", \"Topic2\", \"Topic2\", \"Topic2\", \"Topic2\", \"Topic2\", \"Topic2\", \"Topic2\", \"Topic2\", \"Topic2\", \"Topic2\", \"Topic2\", \"Topic2\", \"Topic2\", \"Topic2\", \"Topic2\", \"Topic2\", \"Topic2\", \"Topic2\", \"Topic2\", \"Topic2\", \"Topic2\", \"Topic2\", \"Topic2\", \"Topic2\", \"Topic2\", \"Topic2\", \"Topic2\", \"Topic2\", \"Topic2\", \"Topic2\", \"Topic2\", \"Topic2\", \"Topic2\", \"Topic2\", \"Topic2\", \"Topic2\", \"Topic2\", \"Topic2\", \"Topic2\", \"Topic2\", \"Topic2\", \"Topic2\", \"Topic2\", \"Topic2\", \"Topic2\", \"Topic2\", \"Topic2\", \"Topic3\", \"Topic3\", \"Topic3\", \"Topic3\", \"Topic3\", \"Topic3\", \"Topic3\", \"Topic3\", \"Topic3\", \"Topic3\", \"Topic3\", \"Topic3\", \"Topic3\", \"Topic3\", \"Topic3\", \"Topic3\", \"Topic3\", \"Topic3\", \"Topic3\", \"Topic3\", \"Topic3\", \"Topic3\", \"Topic3\", \"Topic3\", \"Topic3\", \"Topic3\", \"Topic3\", \"Topic3\", \"Topic3\", \"Topic3\", \"Topic3\", \"Topic3\", \"Topic3\", \"Topic3\", \"Topic3\", \"Topic3\", \"Topic3\", \"Topic3\", \"Topic3\", \"Topic3\", \"Topic3\", \"Topic3\", \"Topic3\", \"Topic3\", \"Topic3\", \"Topic3\", \"Topic3\", \"Topic3\", \"Topic3\", \"Topic3\", \"Topic3\", \"Topic3\", \"Topic3\", \"Topic3\", \"Topic3\", \"Topic3\", \"Topic3\", \"Topic3\", \"Topic3\", \"Topic3\", \"Topic3\", \"Topic3\", \"Topic3\", \"Topic3\", \"Topic3\", \"Topic3\", \"Topic3\", \"Topic3\", \"Topic3\", \"Topic3\", \"Topic3\"], \"logprob\": [30.0, 29.0, 28.0, 27.0, 26.0, 25.0, 24.0, 23.0, 22.0, 21.0, 20.0, 19.0, 18.0, 17.0, 16.0, 15.0, 14.0, 13.0, 12.0, 11.0, 10.0, 9.0, 8.0, 7.0, 6.0, 5.0, 4.0, 3.0, 2.0, 1.0, -6.0166, -6.9353, -6.5055, -4.9173, -5.396, -6.9268, -6.6266, -6.4445, -7.1679, -7.1841, -6.4851, -6.3689, -6.7856, -4.1555, -6.1516, -6.4236, -4.6506, -6.6637, -5.7781, -6.7869, -7.3967, -5.8993, -6.6311, -7.4064, -6.3102, -6.8278, -7.2818, -7.2811, -7.4548, -7.1654, -4.7156, -6.9458, -4.7213, -5.6747, -5.4071, -5.1368, -5.7692, -5.5487, -5.6404, -5.495, -5.8412, -5.3698, -5.6755, -5.4111, -5.6508, -5.4082, -5.701, -5.4941, -5.7415, -5.4761, -5.818, -5.9472, -5.8458, -5.7117, -5.7466, -5.7676, -5.776, -5.7968, -5.7949, -6.5743, -6.1083, -7.1342, -7.1939, -7.1955, -7.2593, -7.3242, -7.2015, -7.2016, -7.3974, -7.3284, -7.3299, -7.4742, -7.4751, -7.4756, -7.2072, -7.4044, -7.5613, -7.5644, -7.6519, -7.6526, -7.6557, -7.6571, -7.7532, -7.7542, -7.5723, -6.8038, -7.6636, -7.7616, -7.8679, -6.4509, -6.7016, -6.0273, -6.637, -6.8518, -6.652, -6.9432, -7.0803, -6.8227, -6.8624, -5.9818, -5.1097, -5.3877, -5.5313, -6.0101, -6.1525, -6.7023, -6.9144, -5.6291, -5.6674, -6.3962, -6.3174, -6.4265, -5.5724, -5.9856, -5.7602, -6.2177, -6.6705, -6.3742, -5.7992, -5.7501, -5.8505, -5.9643, -5.848, -6.04, -5.8623, -5.8931, -5.9772, -6.0984, -6.0063, -6.1467, -6.1024, -5.9914, -6.0113, -6.0267, -5.9788, -6.102, -6.0347, -6.0022, -6.0382, -6.0087, -6.0415, -6.0302, -5.9308, -6.3058, -6.6815, -6.6822, -6.7499, -6.823, -6.3576, -6.8636, -6.9439, -6.8642, -6.9881, -6.8659, -6.9912, -7.1321, -7.1322, -6.8694, -7.1335, -7.2432, -7.2433, -7.3006, -7.3011, -7.2442, -7.1901, -4.8061, -7.3639, -7.3655, -7.3656, -7.431, -7.4311, -7.4314, -7.0506, -5.857, -6.7498, -6.7855, -5.7294, -5.4993, -6.1315, -5.2064, -6.0886, -5.2943, -6.8256, -5.7146, -6.5117, -5.4911, -5.9482, -6.35, -6.3313, -5.7499, -6.31, -6.3745, -6.3706, -5.3489, -5.7423, -5.7842, -5.7894, -5.6543, -6.2722, -6.0168, -5.5639, -5.6705, -5.8686, -5.8145, -5.9767, -6.0593, -5.777, -5.7051, -6.0651, -6.1666, -5.848, -5.8681, -6.0083], \"loglift\": [30.0, 29.0, 28.0, 27.0, 26.0, 25.0, 24.0, 23.0, 22.0, 21.0, 20.0, 19.0, 18.0, 17.0, 16.0, 15.0, 14.0, 13.0, 12.0, 11.0, 10.0, 9.0, 8.0, 7.0, 6.0, 5.0, 4.0, 3.0, 2.0, 1.0, 2.2217, 2.2186, 2.1291, 2.1061, 2.1053, 2.0562, 1.9963, 1.995, 1.9627, 1.943, 1.8647, 1.8363, 1.8229, 1.8226, 1.8158, 1.7746, 1.7696, 1.7593, 1.7254, 1.7205, 1.7145, 1.7087, 1.7062, 1.704, 1.7039, 1.677, 1.6745, 1.6728, 1.6544, 1.6532, 1.6288, 1.6501, 1.5907, 1.5824, 1.5552, 1.4758, 1.4853, 1.4274, 1.3716, 1.2935, 1.3557, 1.0832, 1.1721, 0.914, 1.0619, 0.8517, 0.9496, 0.4996, 0.7896, 0.2851, 0.8576, 1.0733, 0.8149, 0.5317, 0.5803, 0.5688, 0.5464, 0.5834, 0.475, 0.8322, 0.8221, 0.8168, 0.8143, 0.8129, 0.81, 0.8095, 0.8066, 0.8065, 0.8054, 0.8053, 0.8041, 0.8029, 0.802, 0.8015, 0.8009, 0.7984, 0.796, 0.7933, 0.7927, 0.792, 0.7895, 0.7877, 0.787, 0.786, 0.7849, 0.7832, 0.7822, 0.7786, 0.7781, 0.778, 0.7712, 0.7619, 0.7689, 0.7708, 0.763, 0.7688, 0.771, 0.7598, 0.7588, 0.7117, 0.6515, 0.6692, 0.6589, 0.6935, 0.7, 0.7403, 0.7568, 0.5962, 0.5919, 0.6882, 0.6709, 0.6804, 0.5352, 0.5977, 0.5514, 0.6175, 0.7101, 0.6455, 0.5085, 0.4933, 0.4881, 0.5152, 0.479, 0.5015, 0.4345, 0.432, 0.441, 0.4904, 0.4177, 0.5038, 0.4255, 0.3114, 0.3251, 0.3246, 0.2262, 0.4118, 0.2671, 0.1704, 0.2217, -0.0307, 0.1649, 0.0002, 0.7239, 0.7171, 0.7144, 0.7137, 0.7128, 0.7113, 0.7108, 0.7085, 0.7084, 0.7079, 0.7069, 0.7062, 0.7037, 0.7029, 0.7027, 0.7027, 0.7015, 0.6974, 0.6973, 0.6973, 0.6968, 0.6964, 0.6963, 0.6957, 0.6948, 0.6933, 0.6931, 0.6924, 0.6923, 0.692, 0.689, 0.6701, 0.6831, 0.6815, 0.648, 0.6322, 0.6554, 0.6137, 0.6491, 0.603, 0.677, 0.6178, 0.655, 0.5836, 0.6087, 0.6395, 0.6352, 0.5723, 0.6285, 0.6319, 0.6312, 0.4738, 0.5002, 0.4829, 0.4597, 0.4153, 0.5697, 0.4985, 0.363, 0.3878, 0.4511, 0.4059, 0.4652, 0.4954, 0.348, 0.3082, 0.4698, 0.5214, 0.1456, 0.1624, 0.0762]}, \"token.table\": {\"Topic\": [3, 3, 1, 2, 3, 1, 2, 3, 1, 2, 1, 2, 3, 2, 3, 1, 2, 3, 2, 3, 3, 1, 2, 3, 3, 2, 1, 2, 3, 1, 2, 3, 1, 2, 3, 1, 2, 3, 1, 2, 3, 1, 2, 3, 2, 1, 2, 3, 2, 3, 1, 2, 2, 3, 1, 2, 3, 2, 3, 2, 3, 2, 3, 1, 2, 3, 3, 3, 1, 1, 3, 1, 2, 3, 2, 2, 2, 1, 3, 1, 2, 3, 1, 2, 1, 2, 3, 1, 2, 3, 1, 2, 3, 1, 2, 3, 3, 1, 2, 3, 2, 3, 1, 2, 3, 2, 2, 2, 1, 2, 3, 2, 3, 1, 2, 3, 1, 2, 3, 1, 2, 2, 2, 1, 2, 3, 2, 3, 1, 2, 3, 1, 2, 1, 2, 3, 2, 1, 2, 3, 1, 2, 3, 2, 2, 1, 2, 3, 1, 2, 3, 2, 3, 1, 2, 3, 1, 2, 3, 1, 2, 3, 1, 3, 1, 2, 3, 1, 2, 3, 1, 2, 3, 2, 1, 2, 3, 1, 2, 3, 2, 3, 1, 2, 3, 1, 2, 3, 1, 2, 1, 2, 1, 2, 2, 1, 2, 3, 2, 1, 2, 3, 1, 2, 3, 1, 2, 3, 1, 2, 3, 1, 2, 3, 2, 1, 2, 3, 3, 2, 1, 2, 3, 2, 3, 2, 3, 1, 2, 3, 1, 2, 1, 2, 3, 1, 2, 3, 1, 2, 3, 1, 3, 1, 2, 3, 1, 2, 3, 1, 2, 1, 2, 3, 3, 1, 2, 3, 1, 2, 3, 1, 2, 3, 3, 1, 2, 3, 1, 2, 3, 1, 2, 3, 1, 2, 3, 1, 2, 3, 1, 2, 3, 2, 3, 1, 2, 3, 2, 3, 1, 2, 3, 1, 2, 3, 2, 3, 1, 2, 3, 1, 3, 3, 1, 2, 3, 3, 3, 1, 2, 2, 3, 1, 2, 3, 3, 1, 2, 1, 2, 3, 1, 2, 3, 1, 2, 3, 1, 2, 3, 1, 2, 3, 2, 3, 1, 2, 3, 1, 2, 3, 1, 2, 3, 3, 1, 2, 1, 2, 1, 2, 3, 1, 2, 2, 1, 2, 3, 1, 2, 3, 3, 2, 1, 2, 3, 3, 3, 1, 2, 3, 3, 1, 2, 2, 3, 1, 2, 3, 1, 2, 3, 1, 2, 3, 1, 2, 1, 2, 3, 1, 2, 2, 2, 3, 1, 2, 2, 3, 3, 3, 3, 1, 2, 1, 2, 3, 1, 2, 3, 1, 2, 3, 1, 2, 3, 1, 2, 3, 1, 2, 1, 2, 3, 1, 2, 1, 2, 3, 2, 1, 2, 3, 1, 2, 3, 1, 2, 3, 2, 1, 2, 1, 2, 3, 3, 1, 2, 3, 2], \"Freq\": [0.965217817340039, 0.9729885331268693, 0.41085840836696036, 0.3499904960162996, 0.24347164940264318, 0.3079848698611855, 0.19249054366324092, 0.5004754135244264, 0.49441883338809023, 0.43261647921457896, 0.5599496029617689, 0.22397984118470754, 0.11198992059235377, 0.9083238336821208, 0.06728324693941636, 0.019345040615204635, 0.8511817870690039, 0.11607024369122781, 0.02400547182467294, 0.9842243448115905, 0.9693456038861072, 0.006889396476319814, 0.1033409471447972, 0.888732145445256, 0.9534448321282004, 0.9830665608457845, 0.055106222477767135, 0.725565262623934, 0.22042488991106854, 0.03365834513026476, 0.7068252477355599, 0.2580473126653631, 0.02066381192886863, 0.7748929473325736, 0.19630621332425197, 0.07947898980289585, 0.1703121210062054, 0.7493733324273038, 0.06667092003127774, 0.8500542303987911, 0.08333865003909717, 0.10476473074360121, 0.8293874517201762, 0.06111275960043404, 0.9585710700677716, 0.1351532352776658, 0.7433427940271617, 0.12389046567119363, 0.9180039279247227, 0.08345490253861115, 0.40481117018011215, 0.5783016716858744, 0.8420066935318777, 0.15510649617692485, 0.15123187069474547, 0.46449788856243257, 0.3780796767368637, 0.039727962949417626, 0.9534711107860231, 0.10540815562889674, 0.906510138408512, 0.0794561928390583, 0.9269889164556803, 0.018813803439151053, 0.07525521375660421, 0.9030625650792505, 0.99453388379462, 0.972983961339496, 0.7728508674003252, 0.03456394016833898, 0.9332263845451525, 0.030844353754759798, 0.24675483003807838, 0.719701587611062, 0.9796593792701668, 0.9506112447033559, 0.9413978987299915, 0.0370570971642425, 0.9264274291060625, 0.8046597570005043, 0.1149513938572149, 0.9762385745884548, 0.7550588628873738, 0.18876471572184345, 0.1234126676203563, 0.8184208484297313, 0.05845863203069509, 0.17155031169386273, 0.6862012467754509, 0.1486769368013477, 0.17008379125058815, 0.7086824635441173, 0.1275628434379411, 0.06907054559637085, 0.15886225487165295, 0.7666830561197164, 0.9817137731991923, 0.22460869814428006, 0.5347826146292383, 0.24600000272944958, 0.9214960071070918, 0.06143306714047279, 0.011570541313094568, 0.6942324787856741, 0.28926353282736417, 0.9510906956951646, 0.9506042811530833, 0.9647880501886086, 0.018691506067720364, 0.2990640970835258, 0.6822399714717933, 0.9703201117855087, 0.9882091015186972, 0.04512654155483011, 0.04512654155483011, 0.9025308310966023, 0.6052160491390043, 0.3458377423651453, 0.08645943559128633, 0.3548715936259699, 0.6278497425690238, 0.9516823455580403, 0.9752438330329564, 0.3447477350732038, 0.6350616172401122, 0.03628923527086356, 0.089835608601749, 0.89835608601749, 0.27241999425039654, 0.41511618171488995, 0.3113371362861675, 0.6816831610999222, 0.22722772036664074, 0.008357631741074865, 0.3343052696429946, 0.6518952758038394, 0.9863708271036011, 0.20757730765967208, 0.6546668933881966, 0.1277398816367213, 0.03802312589718649, 0.7984856438409164, 0.17110406653733923, 0.9414077157590715, 0.9508169759909025, 0.46387150667050014, 0.28991969166906256, 0.26092772250215635, 0.06859183309858533, 0.823101997183024, 0.11431972183097555, 0.970312910337519, 0.9693999124523566, 0.05332268572838583, 0.08887114288064306, 0.8620500859422376, 0.21040182459994625, 0.39275007258656636, 0.39275007258656636, 0.0887358066551514, 0.02218395166378785, 0.9095420182153019, 0.814274197580133, 0.1628548395160266, 0.26913784017972286, 0.47099122031451496, 0.2523167251684902, 0.0990074718436245, 0.8745660012853497, 0.033002490614541496, 0.07806612199255865, 0.5576151570897047, 0.36802600367920507, 0.9301326831165053, 0.5549892723431257, 0.18499642411437522, 0.18499642411437522, 0.019602599290605115, 0.509667581555733, 0.48026368261982527, 0.04697151735015029, 0.9394303470030058, 0.0591144325379809, 0.7684876229937516, 0.16256468947944747, 0.04032009390909401, 0.9273621599091622, 0.04032009390909401, 0.5809259659017832, 0.41148922584709646, 0.7802316597621196, 0.20653190993703166, 0.7771706524145383, 0.22204875783272524, 0.9647747357312823, 0.10023226359481183, 0.6640387463156283, 0.23805162603767807, 0.976235322328926, 0.021159745633738104, 0.2221773291542501, 0.7617508428145717, 0.15939773642959493, 0.3415665780634177, 0.5009643144930127, 0.15780441148119193, 0.6943394105172445, 0.13676382328369965, 0.5123629261768413, 0.25618146308842066, 0.25618146308842066, 0.39400172275499046, 0.5034466457424878, 0.10944492298749735, 0.9833250009280909, 0.05344405730385567, 0.7695944251755217, 0.18170979483310928, 0.9652204373083073, 0.964760438573714, 0.049873222380146826, 0.8278954915104373, 0.12967037818838176, 0.9829858348607361, 0.9694242586683348, 0.215444021400567, 0.7755984770420412, 0.03489924396883653, 0.9073803431897497, 0.06979848793767306, 0.598593359481038, 0.37412084967564874, 0.06503886419366185, 0.021679621397887285, 0.910544098711266, 0.014860313529096848, 0.6984347358675519, 0.29720627058193694, 0.23710383806617438, 0.7113115141985232, 0.04742076761323488, 0.7523907059939741, 0.18809767649849352, 0.15570797895925398, 0.28683048755652046, 0.5572706615383827, 0.05068897933564796, 0.5068897933564797, 0.4460630181537021, 0.08772438203242164, 0.9211060113404272, 0.5192915486904183, 0.33383028130098313, 0.11127676043366105, 0.9931472808342692, 0.05632697179703085, 0.16898091539109253, 0.7604141192599164, 0.014884468988375843, 0.11163351741281882, 0.8781836703141748, 0.06560140965536944, 0.8528183255198026, 0.06560140965536944, 0.9791801564881764, 0.520085948393812, 0.14859598525537485, 0.2971919705107497, 0.07073392193012816, 0.20336002554911847, 0.7250226997838137, 0.5553574757062505, 0.1851191585687502, 0.1851191585687502, 0.6620350634505642, 0.18915287527158975, 0.09457643763579487, 0.22689769085682981, 0.5186232933870396, 0.2593116466935198, 0.052554773570221765, 0.1576643207106653, 0.7883216035533265, 0.9352424834000823, 0.07194172949231403, 0.06893821504257437, 0.6480192214001992, 0.28954050317881236, 0.9232501895007581, 0.08028262517397897, 0.5526567124377558, 0.13816417810943896, 0.2763283562188779, 0.013807304181443816, 0.19330225854021343, 0.7870163383422976, 0.30663283978032574, 0.6899238895057329, 0.022764863393355827, 0.12520674866345705, 0.8536823772508434, 0.03576273922182166, 0.9655939589891849, 0.9652168238942019, 0.47456213034407846, 0.15818737678135947, 0.31637475356271894, 0.9817157063835521, 0.9862549901590314, 0.5543038368333019, 0.3695358912222012, 0.15311676142964414, 0.8421421878630427, 0.038490941714110924, 0.19245470857055463, 0.7698188342822185, 0.9659429687076857, 0.0726316830546206, 0.9078960381827574, 0.47717460495029507, 0.34915214996363053, 0.17457607498181527, 0.5352984454688944, 0.37059123147846534, 0.12353041049282179, 0.16164149308288192, 0.5888368676590698, 0.24246223962432287, 0.022999370676594244, 0.09199748270637698, 0.8854757710488784, 0.017245891132168286, 0.06898356452867314, 0.9140322300049192, 0.07246399205912736, 0.9239158987538738, 0.10490159595945374, 0.18357779292904405, 0.7080857727263128, 0.3630336440199763, 0.2949648357662307, 0.31765443851747927, 0.0781534435102718, 0.5805684375048762, 0.33494332932973625, 0.9659351069864394, 0.02091026025711672, 0.9618719718273692, 0.5898831704507929, 0.412918219315555, 0.040497517598254686, 0.5365921081768746, 0.42522393478167425, 0.5061281365519945, 0.40490250924159554, 0.9751962548594122, 0.01202817884642543, 0.06014089423212715, 0.9141415923283327, 0.028787991121828952, 0.08636397336548685, 0.8780337292157829, 0.9841560103385013, 0.9582623905417197, 0.04989678896612241, 0.848245412424081, 0.09979357793224482, 0.961440144035328, 0.9899504134414764, 0.005011037405548992, 0.035077261838842945, 0.9621191818654066, 0.9534184305089075, 0.04569173153968493, 0.9138346307936985, 0.2154280194035438, 0.789902737812994, 0.23972700854709234, 0.6506875946278221, 0.10274014652018243, 0.11096973998466085, 0.654721465909499, 0.23303645396778777, 0.013971580728829789, 0.041914742186489364, 0.9360959088315959, 0.5581719343873196, 0.46514327865609967, 0.27459227933814595, 0.3432403491726824, 0.3890057290623734, 0.5047473236997579, 0.5047473236997579, 0.9413272871354178, 0.9300831212670491, 0.05636867401618479, 0.8507253303031319, 0.0773386663911938, 0.18051850845617132, 0.8041279013047631, 0.9762394152230967, 0.9817290721580332, 0.9762484835202958, 0.5524262649615469, 0.4394299834921395, 0.11718906589033155, 0.5859453294516578, 0.2929726647258289, 0.45338030472833585, 0.388611689767145, 0.17271630656317555, 0.46195819316253656, 0.45069092015857226, 0.09013818403171445, 0.04878625170879992, 0.8537594049039986, 0.09757250341759983, 0.09872454671532112, 0.38592322806898255, 0.5205476099535113, 0.47572769520725844, 0.47572769520725844, 0.008502476424124125, 0.4251238212062063, 0.5611634439921923, 0.06789722508696494, 0.9166125386740267, 0.04178403474967472, 0.9192487644928439, 0.04178403474967472, 0.958153908441555, 0.05041147086864763, 0.6427462535752573, 0.3024688252118858, 0.4423392470835921, 0.22116962354179606, 0.3317544353126941, 0.1688687072113449, 0.49454407111893867, 0.3377374144226898, 0.9830007843831399, 0.0525217213719565, 0.945390984695217, 0.0699125747761541, 0.6571782028958486, 0.2796502991046164, 0.9881640306305811, 0.18650334847611838, 0.7193700584078851, 0.10657334198635336, 0.9755815057518097], \"Term\": [\"accommodation\", \"addition\", \"afghanistan\", \"afghanistan\", \"afghanistan\", \"aid\", \"aid\", \"aid\", \"aids\", \"aids\", \"ambitions\", \"ambitions\", \"ambitions\", \"americans\", \"americans\", \"americas\", \"americas\", \"americas\", \"area\", \"area\", \"armaments\", \"arms\", \"arms\", \"arms\", \"arrangements\", \"bosnia\", \"century\", \"century\", \"century\", \"challenges\", \"challenges\", \"challenges\", \"change\", \"change\", \"change\", \"charter\", \"charter\", \"charter\", \"chemical\", \"chemical\", \"chemical\", \"children\", \"children\", \"children\", \"chosen\", \"citizens\", \"citizens\", \"citizens\", \"climate\", \"climate\", \"coalition\", \"coalition\", \"cold\", \"cold\", \"commitment\", \"commitment\", \"commitment\", \"committee\", \"committee\", \"concern\", \"concern\", \"concerned\", \"concerned\", \"conference\", \"conference\", \"conference\", \"confrontation\", \"consultations\", \"contempt\", \"contribution\", \"contribution\", \"control\", \"control\", \"control\", \"core\", \"corrupt\", \"criminals\", \"cyprus\", \"cyprus\", \"darfur\", \"darfur\", \"defense\", \"deliberately\", \"deliberately\", \"democracy\", \"democracy\", \"democracy\", \"democratic\", \"democratic\", \"democratic\", \"destruction\", \"destruction\", \"destruction\", \"developing\", \"developing\", \"developing\", \"dialog\", \"dignity\", \"dignity\", \"dignity\", \"direction\", \"direction\", \"economy\", \"economy\", \"economy\", \"elected\", \"embraced\", \"emerging\", \"energy\", \"energy\", \"energy\", \"engagement\", \"equitable\", \"essential\", \"essential\", \"essential\", \"evil\", \"evil\", \"evil\", \"extremists\", \"extremists\", \"eyes\", \"false\", \"fight\", \"fight\", \"fight\", \"geneva\", \"geneva\", \"good\", \"good\", \"good\", \"grateful\", \"grateful\", \"growth\", \"growth\", \"growth\", \"haiti\", \"hall\", \"hall\", \"hall\", \"hard\", \"hard\", \"hard\", \"harder\", \"hear\", \"helping\", \"helping\", \"helping\", \"home\", \"home\", \"home\", \"humankind\", \"imperative\", \"important\", \"important\", \"important\", \"including\", \"including\", \"including\", \"independence\", \"independence\", \"independence\", \"infrastructure\", \"infrastructure\", \"innocent\", \"innocent\", \"innocent\", \"institution\", \"institution\", \"institution\", \"institutions\", \"institutions\", \"institutions\", \"integration\", \"intentions\", \"intentions\", \"intentions\", \"interests\", \"interests\", \"interests\", \"involved\", \"involved\", \"iran\", \"iran\", \"iran\", \"iranian\", \"iranian\", \"iranian\", \"iraq\", \"iraq\", \"iraqi\", \"iraqi\", \"iraqs\", \"iraqs\", \"ireland\", \"israel\", \"israel\", \"israel\", \"israelis\", \"issues\", \"issues\", \"issues\", \"justice\", \"justice\", \"justice\", \"leaders\", \"leaders\", \"leaders\", \"learning\", \"learning\", \"learning\", \"liberty\", \"liberty\", \"liberty\", \"libya\", \"like\", \"like\", \"like\", \"limitation\", \"limited\", \"live\", \"live\", \"live\", \"love\", \"machinery\", \"major\", \"major\", \"makes\", \"makes\", \"makes\", \"malaria\", \"malaria\", \"mankind\", \"mankind\", \"mankind\", \"markets\", \"markets\", \"markets\", \"mass\", \"mass\", \"mass\", \"medicine\", \"medicine\", \"middle\", \"middle\", \"middle\", \"military\", \"military\", \"military\", \"millennium\", \"millennium\", \"murder\", \"murder\", \"murder\", \"namibia\", \"national\", \"national\", \"national\", \"negotiations\", \"negotiations\", \"negotiations\", \"neighbours\", \"neighbours\", \"neighbours\", \"note\", \"oppression\", \"oppression\", \"oppression\", \"organization\", \"organization\", \"organization\", \"outcomes\", \"outcomes\", \"outcomes\", \"outlaw\", \"outlaw\", \"outlaw\", \"palestinian\", \"palestinian\", \"palestinian\", \"parties\", \"parties\", \"parties\", \"partners\", \"partners\", \"place\", \"place\", \"place\", \"powerful\", \"powerful\", \"prepare\", \"prepare\", \"prepare\", \"problem\", \"problem\", \"problem\", \"problems\", \"problems\", \"process\", \"process\", \"process\", \"program\", \"program\", \"programs\", \"property\", \"property\", \"property\", \"proposal\", \"proposals\", \"rape\", \"rape\", \"reality\", \"reality\", \"recent\", \"recent\", \"recent\", \"reduction\", \"reform\", \"reform\", \"regime\", \"regime\", \"regime\", \"regimes\", \"regimes\", \"regimes\", \"region\", \"region\", \"region\", \"regional\", \"regional\", \"regional\", \"relations\", \"relations\", \"relations\", \"republic\", \"republic\", \"resolution\", \"resolution\", \"resolution\", \"resolutions\", \"resolutions\", \"resolutions\", \"responsibility\", \"responsibility\", \"responsibility\", \"restraint\", \"russia\", \"russia\", \"saddam\", \"saddam\", \"said\", \"said\", \"said\", \"saudi\", \"saudi\", \"sectarian\", \"session\", \"session\", \"session\", \"settlement\", \"settlement\", \"settlement\", \"shall\", \"sign\", \"society\", \"society\", \"society\", \"solutions\", \"southern\", \"soviet\", \"soviet\", \"soviet\", \"soviets\", \"speech\", \"speech\", \"spirit\", \"spirit\", \"stand\", \"stand\", \"stand\", \"state\", \"state\", \"state\", \"strategic\", \"strategic\", \"strategic\", \"sudan\", \"sudan\", \"suffering\", \"suffering\", \"suffering\", \"suicide\", \"suicide\", \"summer\", \"syria\", \"syria\", \"taliban\", \"taliban\", \"talks\", \"talks\", \"technical\", \"technological\", \"tension\", \"terror\", \"terror\", \"terrorism\", \"terrorism\", \"terrorism\", \"terrorist\", \"terrorist\", \"terrorist\", \"terrorists\", \"terrorists\", \"terrorists\", \"threats\", \"threats\", \"threats\", \"trade\", \"trade\", \"trade\", \"transformed\", \"transformed\", \"treaty\", \"treaty\", \"treaty\", \"twentyfirst\", \"twentyfirst\", \"ukraine\", \"ukraine\", \"ukraine\", \"understood\", \"universal\", \"universal\", \"universal\", \"violations\", \"violations\", \"violations\", \"violence\", \"violence\", \"violence\", \"walk\", \"walls\", \"walls\", \"want\", \"want\", \"want\", \"withdrawal\", \"women\", \"women\", \"women\", \"worth\"]}, \"R\": 30, \"lambda.step\": 0.01, \"plot.opts\": {\"xlab\": \"PC1\", \"ylab\": \"PC2\"}, \"topic.order\": [1, 2, 3]};\n",
       "\n",
       "function LDAvis_load_lib(url, callback){\n",
       "  var s = document.createElement('script');\n",
       "  s.src = url;\n",
       "  s.async = true;\n",
       "  s.onreadystatechange = s.onload = callback;\n",
       "  s.onerror = function(){console.warn(\"failed to load library \" + url);};\n",
       "  document.getElementsByTagName(\"head\")[0].appendChild(s);\n",
       "}\n",
       "\n",
       "if(typeof(LDAvis) !== \"undefined\"){\n",
       "   // already loaded: just create the visualization\n",
       "   !function(LDAvis){\n",
       "       new LDAvis(\"#\" + \"ldavis_el202122014577495112231548565\", ldavis_el202122014577495112231548565_data);\n",
       "   }(LDAvis);\n",
       "}else if(typeof define === \"function\" && define.amd){\n",
       "   // require.js is available: use it to load d3/LDAvis\n",
       "   require.config({paths: {d3: \"https://d3js.org/d3.v5\"}});\n",
       "   require([\"d3\"], function(d3){\n",
       "      window.d3 = d3;\n",
       "      LDAvis_load_lib(\"https://cdn.jsdelivr.net/gh/bmabey/pyLDAvis@3.3.1/pyLDAvis/js/ldavis.v3.0.0.js\", function(){\n",
       "        new LDAvis(\"#\" + \"ldavis_el202122014577495112231548565\", ldavis_el202122014577495112231548565_data);\n",
       "      });\n",
       "    });\n",
       "}else{\n",
       "    // require.js not available: dynamically load d3 & LDAvis\n",
       "    LDAvis_load_lib(\"https://d3js.org/d3.v5.js\", function(){\n",
       "         LDAvis_load_lib(\"https://cdn.jsdelivr.net/gh/bmabey/pyLDAvis@3.3.1/pyLDAvis/js/ldavis.v3.0.0.js\", function(){\n",
       "                 new LDAvis(\"#\" + \"ldavis_el202122014577495112231548565\", ldavis_el202122014577495112231548565_data);\n",
       "            })\n",
       "         });\n",
       "}\n",
       "</script>"
      ],
      "text/plain": [
       "<IPython.core.display.HTML object>"
      ]
     },
     "execution_count": 56,
     "metadata": {},
     "output_type": "execute_result"
    }
   ],
   "source": [
    "# visualize\n",
    "lda_viz = pyLDAvis.sklearn.prepare(lda_model=lda,\n",
    "                                  dtm=X,\n",
    "                                  vectorizer=vec,\n",
    "                                  sort_topics=False)\n",
    "\n",
    "pyLDAvis.display(lda_viz)"
   ]
  },
  {
   "cell_type": "markdown",
   "metadata": {},
   "source": [
    "- Big non-overlapping bubbles scattered throughout the chart (although one bubble is slightly smaller).\n",
    "- The bubbles are quite far away from each other.\n",
    "- The bubble representing Topic 3 (i.e. Topic_2 in our dataframe) is the biggest - this means that the percentage of speeches about that topic are the highest in the corpus we have. \n",
    "\n",
    "Using the visualization above, I will look at the highest frequency words in each topic and try to interpret them. \n",
    "\n",
    "- Topic 1: Terrorism in Iraq & Afghanistan\n",
    "- Topic 2: Nation Building\n",
    "- Topic 3: US-Russia Arms Talks"
   ]
  },
  {
   "cell_type": "code",
   "execution_count": 57,
   "metadata": {},
   "outputs": [
    {
     "data": {
      "text/html": [
       "<div>\n",
       "<style scoped>\n",
       "    .dataframe tbody tr th:only-of-type {\n",
       "        vertical-align: middle;\n",
       "    }\n",
       "\n",
       "    .dataframe tbody tr th {\n",
       "        vertical-align: top;\n",
       "    }\n",
       "\n",
       "    .dataframe thead th {\n",
       "        text-align: right;\n",
       "    }\n",
       "</style>\n",
       "<table border=\"1\" class=\"dataframe\">\n",
       "  <thead>\n",
       "    <tr style=\"text-align: right;\">\n",
       "      <th></th>\n",
       "      <th>top_words</th>\n",
       "      <th>topic_name</th>\n",
       "    </tr>\n",
       "  </thead>\n",
       "  <tbody>\n",
       "    <tr>\n",
       "      <th>Topic_0</th>\n",
       "      <td>iraq terror regime terrorists iraqi afghanista...</td>\n",
       "      <td>Terrorism in Iraq &amp; Afghanistan</td>\n",
       "    </tr>\n",
       "    <tr>\n",
       "      <th>Topic_1</th>\n",
       "      <td>democracy children live century change like le...</td>\n",
       "      <td></td>\n",
       "    </tr>\n",
       "    <tr>\n",
       "      <th>Topic_2</th>\n",
       "      <td>soviet arms negotiations developing important ...</td>\n",
       "      <td>US-Russia Arms Talks</td>\n",
       "    </tr>\n",
       "  </tbody>\n",
       "</table>\n",
       "</div>"
      ],
      "text/plain": [
       "                                                 top_words  \\\n",
       "Topic_0  iraq terror regime terrorists iraqi afghanista...   \n",
       "Topic_1  democracy children live century change like le...   \n",
       "Topic_2  soviet arms negotiations developing important ...   \n",
       "\n",
       "                              topic_name  \n",
       "Topic_0  Terrorism in Iraq & Afghanistan  \n",
       "Topic_1                                   \n",
       "Topic_2             US-Russia Arms Talks  "
      ]
     },
     "execution_count": 57,
     "metadata": {},
     "output_type": "execute_result"
    }
   ],
   "source": [
    "# add labels\n",
    "main_topics_df['topic_name'] = ['Terrorism in Iraq & Afghanistan',\n",
    "                                '',\n",
    "                                'US-Russia Arms Talks']\n",
    "\n",
    "# view \n",
    "main_topics_df"
   ]
  },
  {
   "cell_type": "markdown",
   "metadata": {},
   "source": [
    "## <center> <font color='royalblue'> Topic Modeling - USA (before 2001)"
   ]
  },
  {
   "cell_type": "code",
   "execution_count": 58,
   "metadata": {},
   "outputs": [
    {
     "data": {
      "text/html": [
       "<div>\n",
       "<style scoped>\n",
       "    .dataframe tbody tr th:only-of-type {\n",
       "        vertical-align: middle;\n",
       "    }\n",
       "\n",
       "    .dataframe tbody tr th {\n",
       "        vertical-align: top;\n",
       "    }\n",
       "\n",
       "    .dataframe thead th {\n",
       "        text-align: right;\n",
       "    }\n",
       "</style>\n",
       "<table border=\"1\" class=\"dataframe\">\n",
       "  <thead>\n",
       "    <tr style=\"text-align: right;\">\n",
       "      <th></th>\n",
       "      <th>id</th>\n",
       "      <th>session</th>\n",
       "      <th>year</th>\n",
       "      <th>country</th>\n",
       "      <th>country_name</th>\n",
       "      <th>speaker</th>\n",
       "      <th>position</th>\n",
       "      <th>text</th>\n",
       "    </tr>\n",
       "  </thead>\n",
       "  <tbody>\n",
       "    <tr>\n",
       "      <th>3910</th>\n",
       "      <td>3910</td>\n",
       "      <td>51</td>\n",
       "      <td>1996</td>\n",
       "      <td>USA</td>\n",
       "      <td>United States</td>\n",
       "      <td>William Jefferson Clinton</td>\n",
       "      <td>President</td>\n",
       "      <td>﻿Three years ago I had the honour\\nof being th...</td>\n",
       "    </tr>\n",
       "    <tr>\n",
       "      <th>4087</th>\n",
       "      <td>4087</td>\n",
       "      <td>52</td>\n",
       "      <td>1997</td>\n",
       "      <td>USA</td>\n",
       "      <td>United States</td>\n",
       "      <td>Bill Clinton</td>\n",
       "      <td>President</td>\n",
       "      <td>﻿Five years ago, when I first\\naddressed this ...</td>\n",
       "    </tr>\n",
       "    <tr>\n",
       "      <th>4267</th>\n",
       "      <td>4267</td>\n",
       "      <td>53</td>\n",
       "      <td>1998</td>\n",
       "      <td>USA</td>\n",
       "      <td>United States</td>\n",
       "      <td>Bill Clinton</td>\n",
       "      <td>President</td>\n",
       "      <td>Let me begin by thanking the\\nAssembly for its...</td>\n",
       "    </tr>\n",
       "    <tr>\n",
       "      <th>4448</th>\n",
       "      <td>4448</td>\n",
       "      <td>54</td>\n",
       "      <td>1999</td>\n",
       "      <td>USA</td>\n",
       "      <td>United States</td>\n",
       "      <td>William J. Clinton</td>\n",
       "      <td>President</td>\n",
       "      <td>Today, we look ahead to the\\nnew millennium. A...</td>\n",
       "    </tr>\n",
       "    <tr>\n",
       "      <th>4629</th>\n",
       "      <td>4629</td>\n",
       "      <td>55</td>\n",
       "      <td>2000</td>\n",
       "      <td>USA</td>\n",
       "      <td>United States</td>\n",
       "      <td>Madeleine Korbel Albright</td>\n",
       "      <td>Minister for Foreign Affairs</td>\n",
       "      <td>I am\\nhonoured to address the Assembly on beha...</td>\n",
       "    </tr>\n",
       "  </tbody>\n",
       "</table>\n",
       "</div>"
      ],
      "text/plain": [
       "        id  session  year country   country_name                    speaker  \\\n",
       "3910  3910       51  1996     USA  United States  William Jefferson Clinton   \n",
       "4087  4087       52  1997     USA  United States               Bill Clinton   \n",
       "4267  4267       53  1998     USA  United States               Bill Clinton   \n",
       "4448  4448       54  1999     USA  United States         William J. Clinton   \n",
       "4629  4629       55  2000     USA  United States  Madeleine Korbel Albright   \n",
       "\n",
       "                          position  \\\n",
       "3910                     President   \n",
       "4087                     President   \n",
       "4267                     President   \n",
       "4448                     President   \n",
       "4629  Minister for Foreign Affairs   \n",
       "\n",
       "                                                   text  \n",
       "3910  ﻿Three years ago I had the honour\\nof being th...  \n",
       "4087  ﻿Five years ago, when I first\\naddressed this ...  \n",
       "4267  Let me begin by thanking the\\nAssembly for its...  \n",
       "4448  Today, we look ahead to the\\nnew millennium. A...  \n",
       "4629  I am\\nhonoured to address the Assembly on beha...  "
      ]
     },
     "execution_count": 58,
     "metadata": {},
     "output_type": "execute_result"
    }
   ],
   "source": [
    "# filter dataset to only include USA\n",
    "usa_un_speeches_pre2001 = un_speeches[(un_speeches.country == 'USA') & (un_speeches.year<2001)]\n",
    "\n",
    "# view\n",
    "usa_un_speeches_pre2001.tail()"
   ]
  },
  {
   "cell_type": "code",
   "execution_count": 59,
   "metadata": {},
   "outputs": [
    {
     "name": "stdout",
     "output_type": "stream",
     "text": [
      "Dimensionality: This dataset has  31  observations and  8  features.\n"
     ]
    }
   ],
   "source": [
    "print('Dimensionality: This dataset has ',usa_un_speeches_pre2001.shape[0], ' observations and ',usa_un_speeches_pre2001.shape[1], ' features.')"
   ]
  },
  {
   "cell_type": "code",
   "execution_count": 60,
   "metadata": {},
   "outputs": [],
   "source": [
    "# Select only id, speaker, and speech text\n",
    "df = usa_un_speeches_pre2001[[\"id\", \"speaker\", \"text\"]]"
   ]
  },
  {
   "cell_type": "markdown",
   "metadata": {},
   "source": [
    "#### Steps:\n",
    "1. Instantiate vectorizer with parameters: vectorizer\n",
    "2. Vectorize column of text with fit_transform: X\n",
    "3. Instantiate LDA model with parameters: lda\n",
    "4. Fit LDA model to vectorized text: doc_topics"
   ]
  },
  {
   "cell_type": "markdown",
   "metadata": {},
   "source": [
    "#### 1. Instantiate vectorizer with parameters: vectorizer"
   ]
  },
  {
   "cell_type": "code",
   "execution_count": 61,
   "metadata": {},
   "outputs": [
    {
     "data": {
      "text/html": [
       "<div>\n",
       "<style scoped>\n",
       "    .dataframe tbody tr th:only-of-type {\n",
       "        vertical-align: middle;\n",
       "    }\n",
       "\n",
       "    .dataframe tbody tr th {\n",
       "        vertical-align: top;\n",
       "    }\n",
       "\n",
       "    .dataframe thead th {\n",
       "        text-align: right;\n",
       "    }\n",
       "</style>\n",
       "<table border=\"1\" class=\"dataframe\">\n",
       "  <thead>\n",
       "    <tr style=\"text-align: right;\">\n",
       "      <th></th>\n",
       "      <th>id</th>\n",
       "      <th>speaker</th>\n",
       "      <th>text</th>\n",
       "    </tr>\n",
       "  </thead>\n",
       "  <tbody>\n",
       "    <tr>\n",
       "      <th>65</th>\n",
       "      <td>65</td>\n",
       "      <td>Mr. YOST</td>\n",
       "      <td>\\t It is my privilege to extend to you once ag...</td>\n",
       "    </tr>\n",
       "    <tr>\n",
       "      <th>179</th>\n",
       "      <td>179</td>\n",
       "      <td>Mr. ROGERS</td>\n",
       "      <td>Mr President I should like first of all to as...</td>\n",
       "    </tr>\n",
       "    <tr>\n",
       "      <th>304</th>\n",
       "      <td>304</td>\n",
       "      <td>Mr. Rogers</td>\n",
       "      <td>During the past few years the world has made r...</td>\n",
       "    </tr>\n",
       "    <tr>\n",
       "      <th>424</th>\n",
       "      <td>424</td>\n",
       "      <td>Kissinger</td>\n",
       "      <td>\\tI should like to add my congratulations to t...</td>\n",
       "    </tr>\n",
       "    <tr>\n",
       "      <th>554</th>\n",
       "      <td>554</td>\n",
       "      <td>Mr. Kissinger</td>\n",
       "      <td>Last year at the previous session th meeting i...</td>\n",
       "    </tr>\n",
       "  </tbody>\n",
       "</table>\n",
       "</div>"
      ],
      "text/plain": [
       "      id        speaker                                               text\n",
       "65    65       Mr. YOST  \\t It is my privilege to extend to you once ag...\n",
       "179  179     Mr. ROGERS   Mr President I should like first of all to as...\n",
       "304  304    Mr. Rogers   During the past few years the world has made r...\n",
       "424  424      Kissinger  \\tI should like to add my congratulations to t...\n",
       "554  554  Mr. Kissinger  Last year at the previous session th meeting i..."
      ]
     },
     "execution_count": 61,
     "metadata": {},
     "output_type": "execute_result"
    }
   ],
   "source": [
    "warnings.filterwarnings(\"ignore\")\n",
    "\n",
    "# remove punctuation \n",
    "df[\"text\"] = df['text'].str.replace(\"[^\\w\\s]\", '')\n",
    "\n",
    "# remove numbers\n",
    "df[\"text\"] = df['text'].str.replace('\\d+', '')\n",
    "\n",
    "# view \n",
    "df.head()"
   ]
  },
  {
   "cell_type": "code",
   "execution_count": 62,
   "metadata": {},
   "outputs": [],
   "source": [
    "# instantiate vectorizer\n",
    "vec = CountVectorizer(stop_words=\"english\",\n",
    "                    lowercase=True,\n",
    "                    ngram_range=(1, 1), # lower bound,upper bound: 1,1 only unigrams, 1,2 unigrams and bigrams, 2,2 only bigrams, etc...,\n",
    "                    min_df=5, # ignore rare words (appear in less than 5 documents)\n",
    "                    max_df=0.8) # ignore common words (appear in more than 80% of documents)"
   ]
  },
  {
   "cell_type": "markdown",
   "metadata": {},
   "source": [
    "#### 2. Vectorize column of text with fit_transform: X"
   ]
  },
  {
   "cell_type": "code",
   "execution_count": 63,
   "metadata": {},
   "outputs": [],
   "source": [
    "# create document-term matrix\n",
    "X = vec.fit_transform(df[\"text\"])"
   ]
  },
  {
   "cell_type": "code",
   "execution_count": 64,
   "metadata": {},
   "outputs": [
    {
     "data": {
      "text/plain": [
       "(31, 1800)"
      ]
     },
     "execution_count": 64,
     "metadata": {},
     "output_type": "execute_result"
    }
   ],
   "source": [
    "# check: documents, terms\n",
    "X.shape"
   ]
  },
  {
   "cell_type": "code",
   "execution_count": 65,
   "metadata": {},
   "outputs": [
    {
     "name": "stdout",
     "output_type": "stream",
     "text": [
      "There are 31 documents, and 1800 terms.\n"
     ]
    }
   ],
   "source": [
    "print('There are',X.shape[0],'documents, and',X.shape[1],'terms.')"
   ]
  },
  {
   "cell_type": "markdown",
   "metadata": {},
   "source": [
    "#### 3. Instantiate LDA model with parameters: lda"
   ]
  },
  {
   "cell_type": "code",
   "execution_count": 66,
   "metadata": {},
   "outputs": [],
   "source": [
    "# instantiate LDA\n",
    "lda = LatentDirichletAllocation(n_components=3,\n",
    "                                       random_state=42)"
   ]
  },
  {
   "cell_type": "markdown",
   "metadata": {},
   "source": [
    "#### 4. Fit LDA model to vectorized text: doc_topics"
   ]
  },
  {
   "cell_type": "code",
   "execution_count": 67,
   "metadata": {},
   "outputs": [],
   "source": [
    "# fit LDA model to vectorized text\n",
    "doc_topics = lda.fit_transform(X)"
   ]
  },
  {
   "cell_type": "code",
   "execution_count": 68,
   "metadata": {
    "scrolled": true
   },
   "outputs": [
    {
     "name": "stdout",
     "output_type": "stream",
     "text": [
      "There are 3 topics and 1800 words\n"
     ]
    }
   ],
   "source": [
    "print(f\"There are {lda.components_.shape[0]} topics and {lda.components_.shape[1]} words\")"
   ]
  },
  {
   "cell_type": "markdown",
   "metadata": {},
   "source": [
    "### Analysis"
   ]
  },
  {
   "cell_type": "markdown",
   "metadata": {},
   "source": [
    "#### Extract top words from each topic"
   ]
  },
  {
   "cell_type": "code",
   "execution_count": 69,
   "metadata": {},
   "outputs": [],
   "source": [
    "# get feature names (vocabulary)\n",
    "voc = np.array(vec.get_feature_names())"
   ]
  },
  {
   "cell_type": "code",
   "execution_count": 70,
   "metadata": {},
   "outputs": [],
   "source": [
    "# set number of top words you want\n",
    "n_words=10\n",
    "\n",
    "# create lambda function to extra top words from voc\n",
    "imp_words = lambda x: [voc[each] for each in np.argsort(x)[:-n_words-1:-1]]"
   ]
  },
  {
   "cell_type": "code",
   "execution_count": 71,
   "metadata": {},
   "outputs": [],
   "source": [
    "# use imp_words to extract words with the highest weights from our lda model\n",
    "words_in_topic = ([imp_words(x) for x in lda.components_])"
   ]
  },
  {
   "cell_type": "code",
   "execution_count": 72,
   "metadata": {},
   "outputs": [],
   "source": [
    "# join words into single string\n",
    "main_topics = [' '.join(x) for x in words_in_topic]"
   ]
  },
  {
   "cell_type": "code",
   "execution_count": 73,
   "metadata": {},
   "outputs": [],
   "source": [
    "# create dataframe with top words and set index to topic number\n",
    "main_topics_df = pd.DataFrame({\"top_words\": main_topics},\n",
    "                             index=[\"Topic_\" + str(each) for each in range(lda.n_components)])"
   ]
  },
  {
   "cell_type": "code",
   "execution_count": 74,
   "metadata": {
    "scrolled": true
   },
   "outputs": [
    {
     "data": {
      "text/html": [
       "<div>\n",
       "<style scoped>\n",
       "    .dataframe tbody tr th:only-of-type {\n",
       "        vertical-align: middle;\n",
       "    }\n",
       "\n",
       "    .dataframe tbody tr th {\n",
       "        vertical-align: top;\n",
       "    }\n",
       "\n",
       "    .dataframe thead th {\n",
       "        text-align: right;\n",
       "    }\n",
       "</style>\n",
       "<table border=\"1\" class=\"dataframe\">\n",
       "  <thead>\n",
       "    <tr style=\"text-align: right;\">\n",
       "      <th></th>\n",
       "      <th>top_words</th>\n",
       "    </tr>\n",
       "  </thead>\n",
       "  <tbody>\n",
       "    <tr>\n",
       "      <th>Topic_0</th>\n",
       "      <td>democracy treaty peacekeeping century children...</td>\n",
       "    </tr>\n",
       "    <tr>\n",
       "      <th>Topic_1</th>\n",
       "      <td>negotiations conference parties session proble...</td>\n",
       "    </tr>\n",
       "    <tr>\n",
       "      <th>Topic_2</th>\n",
       "      <td>reality problems china republic strength forei...</td>\n",
       "    </tr>\n",
       "  </tbody>\n",
       "</table>\n",
       "</div>"
      ],
      "text/plain": [
       "                                                 top_words\n",
       "Topic_0  democracy treaty peacekeeping century children...\n",
       "Topic_1  negotiations conference parties session proble...\n",
       "Topic_2  reality problems china republic strength forei..."
      ]
     },
     "execution_count": 74,
     "metadata": {},
     "output_type": "execute_result"
    }
   ],
   "source": [
    "# examine top words\n",
    "main_topics_df"
   ]
  },
  {
   "cell_type": "code",
   "execution_count": 75,
   "metadata": {},
   "outputs": [
    {
     "data": {
      "text/plain": [
       "['democracy treaty peacekeeping century children said terrorism destruction democratic conflicts',\n",
       " 'negotiations conference parties session problems energy process peaceful shall settlement',\n",
       " 'reality problems china republic strength foreign resolution achieve need issues']"
      ]
     },
     "execution_count": 75,
     "metadata": {},
     "output_type": "execute_result"
    }
   ],
   "source": [
    "# examine top words\n",
    "list(main_topics_df.top_words.values)"
   ]
  },
  {
   "cell_type": "markdown",
   "metadata": {},
   "source": [
    "#### Create a document topic matrix from results"
   ]
  },
  {
   "cell_type": "code",
   "execution_count": 76,
   "metadata": {},
   "outputs": [],
   "source": [
    "cols = [\"Topic_\" + str(each) for each in range(lda.n_components)]\n",
    "docs = [\"Document_\" + str(each) for each in range(X.shape[0])]"
   ]
  },
  {
   "cell_type": "code",
   "execution_count": 77,
   "metadata": {},
   "outputs": [],
   "source": [
    "# create dataframe with term weights and document # and topic # as rows, columns\n",
    "df_topics = pd.DataFrame(np.round(doc_topics, 2),\n",
    "                        columns=cols,\n",
    "                        index=docs)"
   ]
  },
  {
   "cell_type": "code",
   "execution_count": 78,
   "metadata": {},
   "outputs": [],
   "source": [
    "# Extract most important topics from those values\n",
    "imp_topic = np.argmax(df_topics.values, axis=1)"
   ]
  },
  {
   "cell_type": "code",
   "execution_count": 79,
   "metadata": {
    "scrolled": true
   },
   "outputs": [
    {
     "data": {
      "text/html": [
       "<div>\n",
       "<style scoped>\n",
       "    .dataframe tbody tr th:only-of-type {\n",
       "        vertical-align: middle;\n",
       "    }\n",
       "\n",
       "    .dataframe tbody tr th {\n",
       "        vertical-align: top;\n",
       "    }\n",
       "\n",
       "    .dataframe thead th {\n",
       "        text-align: right;\n",
       "    }\n",
       "</style>\n",
       "<table border=\"1\" class=\"dataframe\">\n",
       "  <thead>\n",
       "    <tr style=\"text-align: right;\">\n",
       "      <th></th>\n",
       "      <th>Topic_0</th>\n",
       "      <th>Topic_1</th>\n",
       "      <th>Topic_2</th>\n",
       "    </tr>\n",
       "  </thead>\n",
       "  <tbody>\n",
       "    <tr>\n",
       "      <th>Document_0</th>\n",
       "      <td>0.34</td>\n",
       "      <td>0.65</td>\n",
       "      <td>0.00</td>\n",
       "    </tr>\n",
       "    <tr>\n",
       "      <th>Document_1</th>\n",
       "      <td>0.00</td>\n",
       "      <td>0.46</td>\n",
       "      <td>0.54</td>\n",
       "    </tr>\n",
       "    <tr>\n",
       "      <th>Document_2</th>\n",
       "      <td>0.26</td>\n",
       "      <td>0.67</td>\n",
       "      <td>0.07</td>\n",
       "    </tr>\n",
       "    <tr>\n",
       "      <th>Document_3</th>\n",
       "      <td>0.00</td>\n",
       "      <td>0.83</td>\n",
       "      <td>0.17</td>\n",
       "    </tr>\n",
       "    <tr>\n",
       "      <th>Document_4</th>\n",
       "      <td>0.00</td>\n",
       "      <td>0.53</td>\n",
       "      <td>0.47</td>\n",
       "    </tr>\n",
       "  </tbody>\n",
       "</table>\n",
       "</div>"
      ],
      "text/plain": [
       "            Topic_0  Topic_1  Topic_2\n",
       "Document_0     0.34     0.65     0.00\n",
       "Document_1     0.00     0.46     0.54\n",
       "Document_2     0.26     0.67     0.07\n",
       "Document_3     0.00     0.83     0.17\n",
       "Document_4     0.00     0.53     0.47"
      ]
     },
     "execution_count": 79,
     "metadata": {},
     "output_type": "execute_result"
    }
   ],
   "source": [
    "# view dataframe\n",
    "df_topics.head()"
   ]
  },
  {
   "cell_type": "code",
   "execution_count": 80,
   "metadata": {
    "scrolled": true
   },
   "outputs": [],
   "source": [
    "# store top topic\n",
    "df_topics[\"top_topic\"] = imp_topic"
   ]
  },
  {
   "cell_type": "code",
   "execution_count": 81,
   "metadata": {},
   "outputs": [
    {
     "data": {
      "text/html": [
       "<div>\n",
       "<style scoped>\n",
       "    .dataframe tbody tr th:only-of-type {\n",
       "        vertical-align: middle;\n",
       "    }\n",
       "\n",
       "    .dataframe tbody tr th {\n",
       "        vertical-align: top;\n",
       "    }\n",
       "\n",
       "    .dataframe thead th {\n",
       "        text-align: right;\n",
       "    }\n",
       "</style>\n",
       "<table border=\"1\" class=\"dataframe\">\n",
       "  <thead>\n",
       "    <tr style=\"text-align: right;\">\n",
       "      <th></th>\n",
       "      <th>Topic_0</th>\n",
       "      <th>Topic_1</th>\n",
       "      <th>Topic_2</th>\n",
       "      <th>top_topic</th>\n",
       "    </tr>\n",
       "  </thead>\n",
       "  <tbody>\n",
       "    <tr>\n",
       "      <th>Document_0</th>\n",
       "      <td>0.34</td>\n",
       "      <td>0.65</td>\n",
       "      <td>0.00</td>\n",
       "      <td>1</td>\n",
       "    </tr>\n",
       "    <tr>\n",
       "      <th>Document_1</th>\n",
       "      <td>0.00</td>\n",
       "      <td>0.46</td>\n",
       "      <td>0.54</td>\n",
       "      <td>2</td>\n",
       "    </tr>\n",
       "    <tr>\n",
       "      <th>Document_2</th>\n",
       "      <td>0.26</td>\n",
       "      <td>0.67</td>\n",
       "      <td>0.07</td>\n",
       "      <td>1</td>\n",
       "    </tr>\n",
       "    <tr>\n",
       "      <th>Document_3</th>\n",
       "      <td>0.00</td>\n",
       "      <td>0.83</td>\n",
       "      <td>0.17</td>\n",
       "      <td>1</td>\n",
       "    </tr>\n",
       "    <tr>\n",
       "      <th>Document_4</th>\n",
       "      <td>0.00</td>\n",
       "      <td>0.53</td>\n",
       "      <td>0.47</td>\n",
       "      <td>1</td>\n",
       "    </tr>\n",
       "  </tbody>\n",
       "</table>\n",
       "</div>"
      ],
      "text/plain": [
       "            Topic_0  Topic_1  Topic_2  top_topic\n",
       "Document_0     0.34     0.65     0.00          1\n",
       "Document_1     0.00     0.46     0.54          2\n",
       "Document_2     0.26     0.67     0.07          1\n",
       "Document_3     0.00     0.83     0.17          1\n",
       "Document_4     0.00     0.53     0.47          1"
      ]
     },
     "execution_count": 81,
     "metadata": {},
     "output_type": "execute_result"
    }
   ],
   "source": [
    "# view\n",
    "df_topics.head()"
   ]
  },
  {
   "cell_type": "code",
   "execution_count": 82,
   "metadata": {},
   "outputs": [
    {
     "data": {
      "text/html": [
       "\n",
       "<link rel=\"stylesheet\" type=\"text/css\" href=\"https://cdn.jsdelivr.net/gh/bmabey/pyLDAvis@3.3.1/pyLDAvis/js/ldavis.v1.0.0.css\">\n",
       "\n",
       "\n",
       "<div id=\"ldavis_el2021220152500183768843170455\"></div>\n",
       "<script type=\"text/javascript\">\n",
       "\n",
       "var ldavis_el2021220152500183768843170455_data = {\"mdsDat\": {\"x\": [0.08780362726134047, -0.07266453745903709, -0.015139089802303456], \"y\": [-0.025693924534480418, -0.045979692663861024, 0.07167361719834141], \"topics\": [1, 2, 3], \"cluster\": [1, 1, 1], \"Freq\": [42.92254568632824, 36.11633504614487, 20.961119267526897]}, \"tinfo\": {\"Term\": [\"reality\", \"negotiations\", \"conference\", \"strength\", \"china\", \"republic\", \"shall\", \"democracy\", \"settlement\", \"problems\", \"parties\", \"children\", \"reform\", \"basis\", \"mass\", \"food\", \"energy\", \"peacekeeping\", \"foreign\", \"solution\", \"chemical\", \"process\", \"issues\", \"session\", \"destruction\", \"capital\", \"achieve\", \"trading\", \"policy\", \"vision\", \"reform\", \"iraq\", \"drug\", \"fight\", \"russia\", \"ethnic\", \"twentyfirst\", \"young\", \"millennium\", \"bosnia\", \"religious\", \"haiti\", \"mass\", \"drugs\", \"walls\", \"gorbachev\", \"enforcement\", \"air\", \"direction\", \"yes\", \"police\", \"peacekeepers\", \"iraqi\", \"humankind\", \"money\", \"day\", \"criminals\", \"sign\", \"walk\", \"poison\", \"children\", \"stop\", \"chemical\", \"threats\", \"destruction\", \"mission\", \"crime\", \"democratic\", \"democracy\", \"missiles\", \"terror\", \"cold\", \"century\", \"terrorism\", \"peacekeeping\", \"terrorists\", \"operations\", \"live\", \"like\", \"prosperity\", \"hall\", \"treaty\", \"said\", \"citizens\", \"say\", \"working\", \"conflicts\", \"threat\", \"strengthen\", \"trade\", \"markets\", \"institutions\", \"military\", \"place\", \"universal\", \"need\", \"reduce\", \"ensure\", \"power\", \"forward\", \"armistice\", \"conciliation\", \"cycle\", \"urgently\", \"aircraft\", \"equality\", \"fuels\", \"procedural\", \"annex\", \"durable\", \"consideration\", \"stalemate\", \"implemented\", \"apply\", \"explosions\", \"david\", \"refrain\", \"decisions\", \"indochina\", \"hostilities\", \"framework\", \"contact\", \"fourth\", \"bloc\", \"dealt\", \"prove\", \"reciprocal\", \"aspects\", \"committee\", \"confrontation\", \"decide\", \"shall\", \"settlement\", \"conference\", \"assist\", \"addition\", \"negotiations\", \"basis\", \"obligation\", \"parties\", \"urge\", \"camp\", \"process\", \"energy\", \"session\", \"solution\", \"southern\", \"restraint\", \"prepared\", \"agreed\", \"substantial\", \"food\", \"peaceful\", \"area\", \"concern\", \"issues\", \"problems\", \"problem\", \"sides\", \"spirit\", \"resolution\", \"effective\", \"step\", \"steps\", \"relations\", \"need\", \"mankind\", \"treaty\", \"talks\", \"charter\", \"regional\", \"capital\", \"idealism\", \"coexistence\", \"deterrence\", \"strength\", \"wisdom\", \"price\", \"readiness\", \"unrealistic\", \"goodwill\", \"attempts\", \"confident\", \"manage\", \"represent\", \"required\", \"reality\", \"ignored\", \"nature\", \"fresh\", \"expectations\", \"inflation\", \"undertaken\", \"trading\", \"colleagues\", \"flight\", \"november\", \"meaning\", \"realization\", \"poorer\", \"expansion\", \"china\", \"programs\", \"balance\", \"objective\", \"domestic\", \"dialog\", \"vision\", \"program\", \"republic\", \"private\", \"foreign\", \"policy\", \"clearly\", \"policies\", \"revolution\", \"achieve\", \"bilateral\", \"problems\", \"oil\", \"continuing\", \"assistance\", \"best\", \"resources\", \"economies\", \"national\", \"resolution\", \"issues\", \"regional\", \"practical\", \"need\", \"economy\", \"greater\", \"charter\", \"strategic\", \"growing\", \"food\", \"military\", \"negotiations\", \"power\", \"energy\", \"trade\"], \"Freq\": [43.0, 120.0, 98.0, 31.0, 42.0, 49.0, 62.0, 79.0, 62.0, 101.0, 77.0, 58.0, 34.0, 45.0, 38.0, 52.0, 78.0, 86.0, 52.0, 40.0, 44.0, 77.0, 76.0, 80.0, 49.0, 16.0, 56.0, 22.0, 44.0, 34.0, 33.75878254092639, 26.070681486325075, 24.186882375275413, 24.122284495554606, 19.4362647474901, 16.57101611600624, 16.56986550971979, 17.486294013089317, 15.613613549732806, 15.613226856815887, 15.56267907896944, 13.698078326210995, 36.53969356078825, 13.675559644234138, 12.741736627990797, 13.612473230952029, 11.778220761397986, 14.489578274986544, 11.765808229745046, 11.746026971547582, 10.8026262178024, 9.87890450779556, 9.877125758910969, 9.854452858058774, 9.85337907345129, 31.25460525463735, 8.919627941063995, 8.916560177033823, 8.904238849177528, 8.903090801855841, 52.76741076202113, 18.472990492920314, 40.85850240533576, 26.93359102473561, 44.51820273114255, 25.98597296265139, 19.30906948145247, 44.270120941463865, 64.83602847808717, 24.206933509618796, 20.353865728996603, 31.56973723113594, 60.35496041204666, 47.09992077532136, 63.05498810095067, 27.99980740604409, 21.684939405968365, 37.2187335365526, 35.702601130200016, 41.016094861903674, 29.24535507527835, 63.98189981172433, 48.14720881067072, 30.83989335636669, 33.8339152581412, 39.488710528295805, 44.26869201268345, 38.24322730657341, 39.57351209869528, 42.98612276556463, 33.882616558991955, 36.741286645821056, 36.8170906671517, 31.426278873366186, 31.973595309874536, 37.572792164034425, 32.32416529523915, 31.850393892963414, 32.19449043204451, 31.79457583264604, 12.637362752897118, 8.997069888697462, 8.96346325462204, 8.017567260852555, 8.00711256738353, 8.003330906540151, 7.06742966033658, 7.054809964369579, 7.04010470411789, 10.5237624011893, 8.778586657203668, 7.014797901806075, 6.094597128407303, 6.931395069895238, 6.054644906099727, 13.773955142517554, 5.14282681246741, 17.084127319403407, 5.102109081041737, 5.058715330228139, 24.395184808304215, 4.963859232273949, 8.251232985355303, 5.749711822159834, 7.374135347912909, 4.912977836118529, 7.327047584277233, 10.568620818369833, 21.19254891353256, 21.87063019022672, 15.429695326841141, 51.89470180041596, 50.498407136060415, 78.4170494098376, 18.937590264012417, 13.554460641573629, 87.8041275530799, 35.225093150778314, 26.58451794624109, 56.46721210917208, 28.29658890143931, 13.471878293041783, 53.99907046083869, 54.106192245329574, 54.6917231357604, 29.56656802724066, 17.991422107922126, 22.098797077081226, 34.93249445860515, 35.0364609579619, 16.512485202520907, 34.42715520862662, 53.57239286660401, 28.107683572819823, 30.273726503506836, 44.66922673378366, 54.591955601477366, 38.793758051082555, 23.873950303586117, 34.14934751236195, 43.720463552058156, 30.66487815389613, 32.013124836099685, 32.674002170110334, 29.63627578061443, 38.35096541326007, 26.07620086519287, 36.03097943505914, 28.10062874134086, 29.233217780600665, 29.323852570338815, 13.998045636601278, 4.64793249521418, 5.27135874816781, 7.978810837706158, 25.120254578425612, 6.343822837232791, 6.174118655557967, 7.5549563466759695, 5.3828025285422685, 4.009490909324321, 7.326377682755109, 5.316167088405356, 4.634770826549803, 6.579021111350666, 5.921329229475661, 31.436707417255512, 4.57227492246713, 9.122155863159543, 7.121979872001598, 4.4794880556437615, 7.662038657953936, 8.164571203930471, 15.684088298164149, 4.988801953622109, 4.939868417255231, 5.43514628858407, 3.602623881052783, 5.37255331383336, 4.737549946887741, 7.096602803388215, 26.772235547163053, 8.811966892592936, 9.864797318698878, 11.475791479922393, 10.618493489640988, 11.119218648423946, 18.504273340640722, 14.523648830018647, 25.148081718943224, 15.373844516814748, 24.599494243461937, 20.380483831824648, 12.462473181750072, 16.627830032638993, 12.448609840941494, 21.874367173432727, 11.222497280914931, 29.477914150653373, 12.0302472556284, 13.562524110247159, 16.73951318299241, 15.791842100907422, 18.122645073213807, 12.816662825741876, 18.523208950466344, 22.376476747338447, 20.646934082593052, 20.33141439689553, 14.43498288911708, 21.324720828353065, 16.2921922576967, 17.76295039051977, 18.323348108920207, 17.228025590533356, 15.350650117107314, 15.767712821709376, 16.767421167188683, 17.846164120983055, 16.2022854902529, 15.348261784013213, 15.390201230137816], \"Total\": [43.0, 120.0, 98.0, 31.0, 42.0, 49.0, 62.0, 79.0, 62.0, 101.0, 77.0, 58.0, 34.0, 45.0, 38.0, 52.0, 78.0, 86.0, 52.0, 40.0, 44.0, 77.0, 76.0, 80.0, 49.0, 16.0, 56.0, 22.0, 44.0, 34.0, 34.39707862649907, 26.745934016334882, 24.837473359789065, 24.83118340720453, 20.057256024984035, 17.189316486968913, 17.18923387823554, 18.14535519639609, 16.23318282818165, 16.233301220631095, 16.22967587021785, 14.320974007338457, 38.23400826082958, 14.32142321276263, 13.364805414934924, 14.315858518779137, 12.408928080934999, 15.275419604465059, 12.408482693821217, 12.407197092515101, 11.453155751983195, 10.497077885478397, 10.49695026984737, 10.496141361001017, 10.496913424167046, 33.38360759761553, 9.54107555562784, 9.540957946011119, 9.540933787783615, 9.541100957231224, 58.06931238623076, 19.988669832699273, 44.94112793042767, 29.475358788048222, 49.558946939209, 28.520965736892173, 21.02355786798541, 52.16849764003099, 79.40358817244825, 27.573506866185443, 22.78599323725456, 37.317807384673586, 79.59681078767248, 60.84801705211162, 86.27528783360907, 33.26911333242862, 24.86512811617122, 48.803489399073285, 46.76545257808932, 56.6010514550215, 36.736609840753786, 104.2793288054662, 71.59962947672577, 39.73588719544067, 45.96927760051513, 59.31289744591116, 72.22032801529117, 60.92485847634713, 65.31694791823065, 86.11715277984476, 51.503998473820744, 64.54489995007444, 72.5279557887599, 46.49325187948815, 49.56893816413121, 97.24847840564756, 59.87149981670985, 55.95433611686487, 73.59750567521982, 59.75973125610136, 13.4844910432629, 9.636455881979327, 9.636691591725334, 8.668236094660971, 8.670448749062855, 8.668471554572394, 7.7027427465151455, 7.701706280628973, 7.700745750129543, 11.536172774926678, 9.630743169394965, 7.700787847598941, 6.736264761767303, 7.6985800468579955, 6.7345316722448265, 15.353989108901935, 5.770288048018483, 19.250795120850118, 5.766578022447481, 5.763737059003121, 27.870848425126553, 5.755814257639879, 9.576872073748055, 6.7074608295119775, 8.616098311851182, 5.751045846864111, 8.611952102359643, 12.4284687048794, 24.92978397573593, 25.79208741416056, 18.227146457867825, 62.50732097211534, 62.201567844192745, 98.7660737845989, 22.882753884611763, 16.290800623778793, 120.05795931900505, 45.52624375677156, 33.729381721957076, 77.97343777864472, 37.469256725112224, 16.305775865980337, 77.9502976781402, 78.76607967071375, 80.73224194423993, 40.612632887198224, 22.809481050080045, 29.348485860458812, 51.14814685076765, 52.34628626389871, 21.022861425939514, 52.70123708263988, 92.49007995750021, 40.96543586124836, 45.78436164210834, 76.33861238045134, 101.57858696458821, 64.45777852077582, 34.863052343421714, 59.89846040038825, 89.5786445598569, 54.14445147595793, 60.79755408856245, 63.21838686483116, 52.73892177299046, 97.24847840564756, 41.456424520769765, 104.2793288054662, 52.91052273285, 71.56620106936947, 80.01608381360613, 16.141891827468214, 5.380588882902178, 6.291998012959982, 9.915046812157831, 31.520475037258777, 8.117774346394304, 8.133670640385061, 9.954680387375525, 7.248741970643916, 5.4296980213789645, 9.975091544338799, 7.240622008541406, 6.338513165888577, 9.055861289389938, 8.153899382581077, 43.55468071807598, 6.354535626874691, 12.70039931647149, 9.988874323010174, 6.349766976203867, 10.911970200648412, 11.80127928581556, 22.728569847266296, 7.2666740928797156, 7.270233133390787, 8.210336630001445, 5.46102548390991, 8.216408004520435, 7.301912658583002, 10.943850390137206, 42.0037862867742, 13.708670693993636, 15.54831188485457, 18.3043059895681, 17.382185209448778, 18.33672377942636, 34.039585837303036, 25.651731324781906, 49.92668853866082, 27.544686263940378, 52.69279614138361, 44.49013620503536, 22.964276319981906, 36.137856965274295, 23.915856805958672, 56.9016840609836, 21.215525180914135, 101.57858696458821, 24.044128547096616, 29.67209312287882, 46.65854667596078, 41.857296227370895, 55.254227763774395, 28.649083399919192, 60.045502766002215, 89.5786445598569, 76.33861238045134, 80.01608381360613, 37.325230320693606, 97.24847840564756, 51.411968885335256, 64.79480704157143, 71.56620106936947, 66.83112582366279, 46.73334904666902, 52.70123708263988, 72.5279557887599, 120.05795931900505, 73.59750567521982, 78.76607967071375, 86.11715277984476], \"Category\": [\"Default\", \"Default\", \"Default\", \"Default\", \"Default\", \"Default\", \"Default\", \"Default\", \"Default\", \"Default\", \"Default\", \"Default\", \"Default\", \"Default\", \"Default\", \"Default\", \"Default\", \"Default\", \"Default\", \"Default\", \"Default\", \"Default\", \"Default\", \"Default\", \"Default\", \"Default\", \"Default\", \"Default\", \"Default\", \"Default\", \"Topic1\", \"Topic1\", \"Topic1\", \"Topic1\", \"Topic1\", \"Topic1\", \"Topic1\", \"Topic1\", \"Topic1\", \"Topic1\", \"Topic1\", \"Topic1\", \"Topic1\", \"Topic1\", \"Topic1\", \"Topic1\", \"Topic1\", \"Topic1\", \"Topic1\", \"Topic1\", \"Topic1\", \"Topic1\", \"Topic1\", \"Topic1\", \"Topic1\", \"Topic1\", \"Topic1\", \"Topic1\", \"Topic1\", \"Topic1\", \"Topic1\", \"Topic1\", \"Topic1\", \"Topic1\", \"Topic1\", \"Topic1\", \"Topic1\", \"Topic1\", \"Topic1\", \"Topic1\", \"Topic1\", \"Topic1\", \"Topic1\", \"Topic1\", \"Topic1\", \"Topic1\", \"Topic1\", \"Topic1\", \"Topic1\", \"Topic1\", \"Topic1\", \"Topic1\", \"Topic1\", \"Topic1\", \"Topic1\", \"Topic1\", \"Topic1\", \"Topic1\", \"Topic1\", \"Topic1\", \"Topic1\", \"Topic1\", \"Topic1\", \"Topic1\", \"Topic1\", \"Topic1\", \"Topic1\", \"Topic1\", \"Topic1\", \"Topic1\", \"Topic2\", \"Topic2\", \"Topic2\", \"Topic2\", \"Topic2\", \"Topic2\", \"Topic2\", \"Topic2\", \"Topic2\", \"Topic2\", \"Topic2\", \"Topic2\", \"Topic2\", \"Topic2\", \"Topic2\", \"Topic2\", \"Topic2\", \"Topic2\", \"Topic2\", \"Topic2\", \"Topic2\", \"Topic2\", \"Topic2\", \"Topic2\", \"Topic2\", \"Topic2\", \"Topic2\", \"Topic2\", \"Topic2\", \"Topic2\", \"Topic2\", \"Topic2\", \"Topic2\", \"Topic2\", \"Topic2\", \"Topic2\", \"Topic2\", \"Topic2\", \"Topic2\", \"Topic2\", \"Topic2\", \"Topic2\", \"Topic2\", \"Topic2\", \"Topic2\", \"Topic2\", \"Topic2\", \"Topic2\", \"Topic2\", \"Topic2\", \"Topic2\", \"Topic2\", \"Topic2\", \"Topic2\", \"Topic2\", \"Topic2\", \"Topic2\", \"Topic2\", \"Topic2\", \"Topic2\", \"Topic2\", \"Topic2\", \"Topic2\", \"Topic2\", \"Topic2\", \"Topic2\", \"Topic2\", \"Topic2\", \"Topic2\", \"Topic2\", \"Topic2\", \"Topic3\", \"Topic3\", \"Topic3\", \"Topic3\", \"Topic3\", \"Topic3\", \"Topic3\", \"Topic3\", \"Topic3\", \"Topic3\", \"Topic3\", \"Topic3\", \"Topic3\", \"Topic3\", \"Topic3\", \"Topic3\", \"Topic3\", \"Topic3\", \"Topic3\", \"Topic3\", \"Topic3\", \"Topic3\", \"Topic3\", \"Topic3\", \"Topic3\", \"Topic3\", \"Topic3\", \"Topic3\", \"Topic3\", \"Topic3\", \"Topic3\", \"Topic3\", \"Topic3\", \"Topic3\", \"Topic3\", \"Topic3\", \"Topic3\", \"Topic3\", \"Topic3\", \"Topic3\", \"Topic3\", \"Topic3\", \"Topic3\", \"Topic3\", \"Topic3\", \"Topic3\", \"Topic3\", \"Topic3\", \"Topic3\", \"Topic3\", \"Topic3\", \"Topic3\", \"Topic3\", \"Topic3\", \"Topic3\", \"Topic3\", \"Topic3\", \"Topic3\", \"Topic3\", \"Topic3\", \"Topic3\", \"Topic3\", \"Topic3\", \"Topic3\", \"Topic3\", \"Topic3\", \"Topic3\", \"Topic3\", \"Topic3\", \"Topic3\", \"Topic3\"], \"logprob\": [30.0, 29.0, 28.0, 27.0, 26.0, 25.0, 24.0, 23.0, 22.0, 21.0, 20.0, 19.0, 18.0, 17.0, 16.0, 15.0, 14.0, 13.0, 12.0, 11.0, 10.0, 9.0, 8.0, 7.0, 6.0, 5.0, 4.0, 3.0, 2.0, 1.0, -5.965, -6.2235, -6.2985, -6.3012, -6.5171, -6.6766, -6.6767, -6.6229, -6.7361, -6.7362, -6.7394, -6.867, -5.8859, -6.8687, -6.9394, -6.8733, -7.018, -6.8109, -7.0191, -7.0208, -7.1045, -7.1939, -7.1941, -7.1964, -7.1965, -6.0421, -7.296, -7.2964, -7.2978, -7.2979, -5.5184, -6.568, -5.7742, -6.1909, -5.6884, -6.2267, -6.5237, -5.694, -5.3124, -6.2976, -6.471, -6.0321, -5.384, -5.632, -5.3403, -6.1521, -6.4077, -5.8675, -5.9091, -5.7703, -6.1086, -5.3257, -5.61, -6.0555, -5.9628, -5.8083, -5.694, -5.8403, -5.8061, -5.7234, -5.9614, -5.8804, -5.8783, -6.0366, -6.0194, -5.858, -6.0085, -6.0232, -6.0125, -6.025, -6.775, -7.1147, -7.1185, -7.23, -7.2313, -7.2318, -7.3561, -7.3579, -7.36, -6.958, -7.1393, -7.3636, -7.5042, -7.3756, -7.5108, -6.6889, -7.674, -6.4735, -7.682, -7.6905, -6.1173, -7.7095, -7.2013, -7.5625, -7.3137, -7.7198, -7.3201, -6.9537, -6.258, -6.2265, -6.5753, -5.3624, -5.3897, -4.9496, -6.3705, -6.7049, -4.8365, -5.7499, -6.0313, -5.278, -5.9689, -6.711, -5.3227, -5.3207, -5.3099, -5.925, -6.4217, -6.2161, -5.7582, -5.7552, -6.5075, -5.7728, -5.3306, -5.9756, -5.9014, -5.5124, -5.3118, -5.6534, -6.1388, -5.7809, -5.5338, -5.8885, -5.8455, -5.8251, -5.9226, -5.6649, -6.0506, -5.7273, -5.9758, -5.9363, -5.9332, -6.1286, -7.2311, -7.1053, -6.6908, -5.5439, -6.9201, -6.9472, -6.7454, -7.0844, -7.3789, -6.7761, -7.0968, -7.234, -6.8837, -6.989, -5.3196, -7.2475, -6.5569, -6.8044, -7.2681, -6.7313, -6.6678, -6.0149, -7.1604, -7.1702, -7.0747, -7.4859, -7.0863, -7.212, -6.8079, -5.4802, -6.5915, -6.4786, -6.3273, -6.405, -6.3589, -5.8496, -6.0918, -5.5428, -6.0349, -5.5648, -5.753, -6.2448, -5.9565, -6.246, -5.6822, -6.3496, -5.3839, -6.2801, -6.1603, -5.9498, -6.0081, -5.8704, -6.2168, -5.8485, -5.6596, -5.74, -5.7554, -6.0979, -5.7077, -5.9769, -5.8904, -5.8594, -5.921, -6.0364, -6.0096, -5.9481, -5.8858, -5.9824, -6.0366, -6.0338], \"loglift\": [30.0, 29.0, 28.0, 27.0, 26.0, 25.0, 24.0, 23.0, 22.0, 21.0, 20.0, 19.0, 18.0, 17.0, 16.0, 15.0, 14.0, 13.0, 12.0, 11.0, 10.0, 9.0, 8.0, 7.0, 6.0, 5.0, 4.0, 3.0, 2.0, 1.0, 0.827, 0.8202, 0.8192, 0.8168, 0.8143, 0.8091, 0.8091, 0.8088, 0.8069, 0.8068, 0.8038, 0.8013, 0.8004, 0.7996, 0.798, 0.7954, 0.7936, 0.793, 0.7926, 0.791, 0.7873, 0.7851, 0.7849, 0.7827, 0.7825, 0.7799, 0.7784, 0.7781, 0.7767, 0.7766, 0.75, 0.7669, 0.7505, 0.7556, 0.7385, 0.7527, 0.7607, 0.6816, 0.6431, 0.7156, 0.7329, 0.6785, 0.569, 0.5897, 0.5322, 0.6733, 0.7089, 0.5748, 0.5759, 0.5237, 0.6177, 0.3573, 0.4489, 0.5923, 0.5393, 0.439, 0.3563, 0.3801, 0.3447, 0.1509, 0.427, 0.2823, 0.1678, 0.4541, 0.4073, -0.1052, 0.2294, 0.2823, 0.019, 0.2147, 0.9535, 0.9498, 0.946, 0.9404, 0.9388, 0.9386, 0.9323, 0.9307, 0.9287, 0.9266, 0.9258, 0.9251, 0.9183, 0.9135, 0.912, 0.9098, 0.9033, 0.899, 0.896, 0.888, 0.8852, 0.8704, 0.8694, 0.8644, 0.8628, 0.8609, 0.8568, 0.8563, 0.856, 0.8535, 0.8518, 0.8324, 0.81, 0.7877, 0.8292, 0.8345, 0.7056, 0.7619, 0.7804, 0.6957, 0.7376, 0.8275, 0.6513, 0.6429, 0.629, 0.701, 0.7811, 0.7347, 0.6371, 0.6169, 0.7769, 0.5926, 0.4724, 0.6417, 0.6048, 0.4825, 0.3975, 0.5107, 0.6398, 0.4565, 0.3011, 0.4499, 0.377, 0.3584, 0.4421, 0.0879, 0.5548, -0.0443, 0.3856, 0.1231, 0.0146, 1.42, 1.4161, 1.3855, 1.3452, 1.3355, 1.3159, 1.2869, 1.2867, 1.2649, 1.2593, 1.2539, 1.2535, 1.2494, 1.243, 1.2426, 1.2365, 1.2333, 1.2316, 1.2242, 1.2136, 1.2089, 1.1941, 1.1915, 1.1864, 1.1761, 1.15, 1.1465, 1.1377, 1.1299, 1.1293, 1.1121, 1.1206, 1.1075, 1.0956, 1.0697, 1.0623, 0.953, 0.9937, 0.8767, 0.9794, 0.8007, 0.7818, 0.9513, 0.7862, 0.9096, 0.6065, 0.9257, 0.3253, 0.87, 0.7796, 0.5374, 0.5877, 0.4477, 0.7581, 0.3864, 0.1754, 0.2549, 0.1924, 0.6125, 0.0451, 0.4133, 0.2684, 0.2001, 0.2069, 0.4492, 0.3558, 0.098, -0.3437, 0.049, -0.073, -0.1595]}, \"token.table\": {\"Topic\": [1, 2, 3, 1, 2, 3, 1, 2, 3, 1, 2, 2, 2, 1, 2, 3, 2, 3, 2, 3, 2, 3, 1, 2, 3, 2, 3, 2, 3, 1, 2, 3, 1, 2, 3, 1, 2, 3, 2, 3, 1, 1, 2, 3, 1, 2, 3, 1, 2, 3, 1, 2, 3, 1, 2, 1, 2, 3, 1, 2, 3, 1, 2, 3, 1, 2, 3, 2, 3, 1, 2, 1, 3, 1, 2, 3, 1, 2, 3, 2, 1, 2, 3, 1, 3, 1, 2, 3, 1, 2, 3, 2, 2, 1, 2, 3, 1, 2, 1, 2, 2, 3, 1, 2, 3, 2, 3, 1, 2, 3, 1, 2, 3, 1, 2, 3, 1, 2, 3, 1, 2, 3, 2, 3, 2, 3, 1, 1, 2, 3, 1, 1, 2, 3, 1, 3, 1, 2, 3, 1, 2, 3, 1, 2, 3, 1, 1, 2, 3, 2, 1, 1, 2, 3, 1, 3, 2, 1, 1, 3, 1, 2, 3, 1, 2, 3, 1, 2, 3, 2, 3, 1, 2, 3, 1, 2, 3, 2, 1, 3, 1, 1, 2, 3, 1, 2, 3, 1, 1, 3, 2, 1, 3, 2, 3, 2, 2, 2, 3, 1, 2, 3, 1, 1, 1, 2, 3, 1, 2, 3, 1, 2, 3, 1, 3, 1, 2, 3, 1, 2, 3, 1, 2, 1, 3, 1, 2, 3, 1, 1, 2, 3, 1, 3, 1, 1, 2, 3, 1, 2, 3, 1, 2, 3, 1, 2, 3, 2, 3, 2, 3, 1, 2, 1, 2, 3, 1, 2, 1, 2, 3, 1, 2, 3, 1, 1, 2, 1, 2, 3, 1, 1, 1, 2, 3, 1, 2, 3, 1, 2, 3, 1, 2, 3, 1, 2, 3, 1, 2, 3, 1, 2, 3, 1, 2, 3, 1, 2, 3, 1, 2, 3, 2, 1, 2, 3, 1, 2, 3, 2, 3, 1, 2, 3, 2, 3, 2, 3, 1, 2, 3, 2, 3, 2, 3, 1, 2, 3, 1, 2, 1, 2, 3, 1, 2, 3, 1, 1, 3, 1, 2, 3, 1, 2, 3, 1, 2, 3, 1, 2, 3, 2, 3, 1, 2, 3, 1, 1, 2, 3, 1, 2, 3, 1, 2, 3, 1, 2, 3, 1, 2, 3, 1, 2, 3, 1, 2, 3, 2, 3, 1, 2, 3, 2, 1, 2, 3, 1, 2, 3, 1, 3, 1, 2, 3, 1, 3, 1, 2, 3, 1, 2, 3, 1, 2, 3, 1, 3, 1, 2, 3, 1, 2, 3, 1, 2, 3, 1, 3, 1, 2, 3, 1, 2, 3, 1, 2, 3, 1, 1, 3, 1, 2, 3, 2, 3, 1, 2, 3, 2, 1, 2, 3, 1, 1, 1, 3, 1, 2, 3, 1, 1], \"Freq\": [0.17574172302673216, 0.4393543075668304, 0.38663179065881076, 0.06138433727685271, 0.859380721875938, 0.06138433727685271, 0.17193196771643696, 0.6686243188972548, 0.15282841574794395, 0.9165051018243552, 0.9226742734468825, 0.9090028715572444, 0.9092585850109975, 0.17087576032900742, 0.6835030413160297, 0.1464649374248635, 0.9640704983444696, 0.07415926910342074, 0.8850647864351475, 0.1609208702609359, 0.8303196414124419, 0.17480413503419828, 0.3429168103138423, 0.30005220902461205, 0.36434911095845746, 0.2004994130740652, 0.7017479457592283, 0.32157831905021417, 0.6431566381004283, 0.02196535267312187, 0.7687873435592655, 0.2196535267312187, 0.5017046463280133, 0.11945348722095554, 0.38225115910705776, 0.04713529320969239, 0.4242176388872315, 0.5184882253066163, 0.8945262823751069, 0.14908771372918447, 0.9856282331326058, 0.12265592367013417, 0.7972635038558721, 0.061327961835067085, 0.06195060719576422, 0.12390121439152844, 0.8673085007406991, 0.7537990455428205, 0.11306985683142308, 0.12563317425713677, 0.3353538352096779, 0.4052192175450274, 0.2515153764072584, 0.9123046502853948, 0.08900533173516047, 0.9127023865460342, 0.034441599492303174, 0.05166239923845477, 0.14284426549159046, 0.21426639823738566, 0.642799194712157, 0.7801511980222495, 0.07549850303441125, 0.1509970060688225, 0.34836717206015155, 0.13063768952255683, 0.5225507580902273, 0.15893202730519682, 0.7946601365259841, 0.8574994685551218, 0.13398429196173778, 0.2752290765261799, 0.6880726913154497, 0.08022532413223447, 0.842365903388462, 0.08022532413223447, 0.21841518897148715, 0.6552455669144615, 0.1310491133828923, 0.9339533237349706, 0.13162414482884058, 0.7897448689730434, 0.07087453952322184, 0.276219363148732, 0.69054840787183, 0.6092467482380294, 0.2630838231027854, 0.11077213604327807, 0.03877158075429648, 0.8529747765945226, 0.11631474226288945, 0.9345073211588312, 0.8686868227832991, 0.16850850323547698, 0.40442040776514476, 0.4718238090593356, 0.9037480772430591, 0.04756568827595047, 0.9432898783294212, 0.9339304795982017, 0.9118151576571772, 0.06512965411836981, 0.9285994603595275, 0.02995482130192024, 0.02995482130192024, 0.8124326982634021, 0.11606181403762887, 0.054863222957664104, 0.8229483443649616, 0.054863222957664104, 0.051945906323470334, 0.8830804074989957, 0.051945906323470334, 0.8186028049366406, 0.037781667920152646, 0.15112667168061059, 0.8434208763994964, 0.038337312563613474, 0.11501193769084042, 0.9080096083397173, 0.060533973889314495, 0.04035598259287633, 0.10085681075895678, 0.8068544860716542, 0.38174758393066577, 0.5998890604624748, 0.9670803672052006, 0.1725904979063985, 0.23012066387519797, 0.6328318256567944, 0.9662818617796727, 0.9775564754991535, 0.9535224735804908, 0.08668386123459007, 0.5235769602333005, 0.4537666988688604, 0.5251695390273504, 0.15560578934143718, 0.31121157868287436, 0.27703669704107237, 0.5725425072182162, 0.16622201822464341, 0.11426238347300045, 0.6855743008380027, 0.1904373057883341, 0.9670456562994129, 0.5718949096843107, 0.28594745484215534, 0.14297372742107767, 0.922884726521391, 0.9889863865667705, 0.18275103630824813, 0.18275103630824813, 0.6396286270788685, 0.15748609417440987, 0.6299443766976395, 0.8909305489983709, 0.9665266292961546, 0.27509434199769794, 0.6877358549942448, 0.05692465995239833, 0.645146146127181, 0.30359818641279107, 0.36058059908264906, 0.1708013364075706, 0.47444815668769613, 0.5354776423418547, 0.3179398501404762, 0.15060308690864663, 0.8353458142068592, 0.1044182267758574, 0.07175956646504271, 0.8611147975805126, 0.07175956646504271, 0.10011138068845453, 0.20022276137690906, 0.7007796648191816, 0.9087672054434015, 0.18417230499055137, 0.7366892199622055, 0.977936459880153, 0.4475667314109603, 0.2778000401861133, 0.2778000401861133, 0.44935790882500004, 0.2353779522416667, 0.32096993487500003, 0.9775871384743816, 0.7894032717147685, 0.19054561731046138, 0.8674927306390318, 0.9527310709777159, 0.9292663143040774, 0.15736791147582618, 0.7868395573791309, 0.8907013325921977, 0.8670653515024971, 0.27492743701057154, 0.7331398320281908, 0.5732443621203154, 0.294368726494216, 0.1394378178130497, 0.9721103770061158, 0.9526576522635469, 0.14409483820820487, 0.5894788835790199, 0.2750901456702093, 0.7697990293130793, 0.19244975732826983, 0.04276661273961552, 0.7581425110291925, 0.22539371949516535, 0.020490338135924123, 0.1577657052732197, 0.7888285263660985, 0.09648685448008162, 0.6271645541205305, 0.2894605634402449, 0.6601429210837301, 0.058247904801505594, 0.27182355574035943, 0.9677248523772012, 0.026154725739924358, 0.36623158157615254, 0.7324631631523051, 0.5101481159590895, 0.26196795143845136, 0.23439237760282491, 0.9856354215528927, 0.87040071168576, 0.03626669632024, 0.07253339264048, 0.9116100850108565, 0.07012385269314281, 0.9526609962293295, 0.24981054881753784, 0.4330049512837323, 0.3164266951688813, 0.15747536358216283, 0.15747536358216283, 0.7086391361197327, 0.39075161506890177, 0.39075161506890177, 0.2159416820117615, 0.1166103445320165, 0.7329793084869609, 0.14992758582687835, 0.24359537131422687, 0.6089884282855672, 0.32779172307431326, 0.6009514923029077, 0.20753419252399624, 0.8004890283068427, 0.041590195212991087, 0.45749214734290194, 0.49908234255589307, 0.8847732413529025, 0.12065089654812307, 0.10259904177510859, 0.7181932924257601, 0.17954832310644003, 0.3027351691431793, 0.5838463976332743, 0.11893167359196327, 0.9526460705634991, 0.7302206875449908, 0.2665885049767427, 0.666763427956231, 0.19357647908406708, 0.12905098605604473, 0.9432873669761221, 0.9604339832796976, 0.19370268709421432, 0.35973356174639803, 0.4704208115145205, 0.1798151384192563, 0.3596302768385126, 0.44953784604814073, 0.13695041926098012, 0.27390083852196023, 0.6847520963049005, 0.43479734410040416, 0.33968542507844074, 0.21739867205020208, 0.1339576462634159, 0.4822475265482973, 0.3750814095375645, 0.09775525229854848, 0.6842867660898394, 0.21506155505680666, 0.12294572084525153, 0.12294572084525153, 0.7376743250715092, 0.2541325006545426, 0.18152321475324476, 0.5445696442597343, 0.20168240821097927, 0.6050472246329378, 0.20168240821097927, 0.1772027012570579, 0.5414526982854547, 0.28549324091414885, 0.9088895038241231, 0.1282868737883515, 0.692749118457098, 0.1796016233036921, 0.3898372345081866, 0.03898372345081866, 0.5847558517622798, 0.36473266530435494, 0.6565187975478389, 0.7243681688949011, 0.08833758157254891, 0.19434267945960762, 0.8694070840569571, 0.1738814168113914, 0.20091051868791185, 0.8036420747516474, 0.06887893449199241, 0.2066368034759772, 0.7117489897505882, 0.36512305600567607, 0.6085384266761268, 0.8128238425852399, 0.11611769179789141, 0.5344780087013781, 0.33404875543836127, 0.13361950217534452, 0.9884560363160269, 0.8665078689991914, 0.3749246222782366, 0.36242713486896205, 0.24994974818549107, 0.1706519530061616, 0.5688398433538719, 0.28441992167693597, 0.985848400667119, 0.22085143931513698, 0.7729800376029794, 0.060088102932701906, 0.4406460881731473, 0.5007341911058493, 0.24528141765797823, 0.12264070882898911, 0.7358442529739347, 0.2567576246884522, 0.49118849940399556, 0.24559424970199778, 0.2714724394326664, 0.41625774046342184, 0.3257669273191997, 0.749612777456454, 0.2385131564634172, 0.37631936304944075, 0.08362652512209795, 0.5017591507325877, 0.9472881024369895, 0.6703945306812366, 0.12569897450273185, 0.20949829083788643, 0.7396244138415392, 0.2610439107676021, 0.021753659230633507, 0.2972789981055685, 0.6812643706585945, 0.02477324984213071, 0.08038382589526334, 0.8038382589526334, 0.11253735625336866, 0.12798500840515656, 0.8319025546335176, 0.047994378151933706, 0.028683661721567225, 0.6884078813176134, 0.2868366172156723, 0.9433015060885702, 0.7386864102931996, 0.2708516837741732, 0.7891455294611726, 0.17536567321359392, 0.2838136387206675, 0.567627277441335, 0.15025427932270632, 0.9089979023617119, 0.3125125720078002, 0.5263369633815582, 0.16448030105673694, 0.42709093570719203, 0.5220000325310126, 0.04745454841191023, 0.9005101465308099, 0.05002834147393388, 0.3591141059530432, 0.3890402814491301, 0.2543724917167389, 0.19035246115128976, 0.7931352547970407, 0.6123984857662887, 0.22964943216235828, 0.1684095835857294, 0.09513452804917681, 0.8086434884180029, 0.14270179207376524, 0.24569781828915532, 0.5291953009304884, 0.22679798611306645, 0.8777322011708699, 0.08777322011708699, 0.7724162968161827, 0.13147511435169068, 0.09860633576376801, 0.8416214679429818, 0.060115819138784415, 0.09017372870817662, 0.6237191345262254, 0.27903224439331137, 0.098481968609404, 0.9160193839929799, 0.0678532877031837, 0.49931980577583507, 0.32513847817961355, 0.17418132759622154, 0.13199246675702422, 0.17598995567603232, 0.7039598227041293, 0.6137362095932976, 0.3452266178962299, 0.0383585130995811, 0.9889911394785813, 0.25420972822885585, 0.6778926086102823, 0.6455655736268253, 0.28243493846173606, 0.08069569670335316, 0.27590994521527124, 0.689774863038178, 0.1868198254199299, 0.7472793016797196, 0.05337709297712283, 0.9229097953304989, 0.20564292507721685, 0.2643980465278502, 0.5581736537810171, 0.9433038945856393, 0.9727040234699369, 0.123186474189711, 0.739118845138266, 0.6575298405471597, 0.11801817650846455, 0.21917661351571988, 0.9671805735430163, 0.9368788770459797], \"Term\": [\"achieve\", \"achieve\", \"achieve\", \"addition\", \"addition\", \"addition\", \"agreed\", \"agreed\", \"agreed\", \"air\", \"aircraft\", \"annex\", \"apply\", \"area\", \"area\", \"area\", \"armistice\", \"armistice\", \"aspects\", \"aspects\", \"assist\", \"assist\", \"assistance\", \"assistance\", \"assistance\", \"attempts\", \"attempts\", \"balance\", \"balance\", \"basis\", \"basis\", \"basis\", \"best\", \"best\", \"best\", \"bilateral\", \"bilateral\", \"bilateral\", \"bloc\", \"bloc\", \"bosnia\", \"camp\", \"camp\", \"camp\", \"capital\", \"capital\", \"capital\", \"century\", \"century\", \"century\", \"charter\", \"charter\", \"charter\", \"chemical\", \"chemical\", \"children\", \"children\", \"children\", \"china\", \"china\", \"china\", \"citizens\", \"citizens\", \"citizens\", \"clearly\", \"clearly\", \"clearly\", \"coexistence\", \"coexistence\", \"cold\", \"cold\", \"colleagues\", \"colleagues\", \"committee\", \"committee\", \"committee\", \"concern\", \"concern\", \"concern\", \"conciliation\", \"conference\", \"conference\", \"conference\", \"confident\", \"confident\", \"conflicts\", \"conflicts\", \"conflicts\", \"confrontation\", \"confrontation\", \"confrontation\", \"consideration\", \"contact\", \"continuing\", \"continuing\", \"continuing\", \"crime\", \"crime\", \"criminals\", \"cycle\", \"david\", \"david\", \"day\", \"day\", \"day\", \"dealt\", \"dealt\", \"decide\", \"decide\", \"decide\", \"decisions\", \"decisions\", \"decisions\", \"democracy\", \"democracy\", \"democracy\", \"democratic\", \"democratic\", \"democratic\", \"destruction\", \"destruction\", \"destruction\", \"deterrence\", \"deterrence\", \"dialog\", \"dialog\", \"direction\", \"domestic\", \"domestic\", \"domestic\", \"drug\", \"drugs\", \"durable\", \"durable\", \"economies\", \"economies\", \"economy\", \"economy\", \"economy\", \"effective\", \"effective\", \"effective\", \"energy\", \"energy\", \"energy\", \"enforcement\", \"ensure\", \"ensure\", \"ensure\", \"equality\", \"ethnic\", \"expansion\", \"expansion\", \"expansion\", \"expectations\", \"expectations\", \"explosions\", \"fight\", \"flight\", \"flight\", \"food\", \"food\", \"food\", \"foreign\", \"foreign\", \"foreign\", \"forward\", \"forward\", \"forward\", \"fourth\", \"fourth\", \"framework\", \"framework\", \"framework\", \"fresh\", \"fresh\", \"fresh\", \"fuels\", \"goodwill\", \"goodwill\", \"gorbachev\", \"greater\", \"greater\", \"greater\", \"growing\", \"growing\", \"growing\", \"haiti\", \"hall\", \"hall\", \"hostilities\", \"humankind\", \"idealism\", \"ignored\", \"ignored\", \"implemented\", \"indochina\", \"inflation\", \"inflation\", \"institutions\", \"institutions\", \"institutions\", \"iraq\", \"iraqi\", \"issues\", \"issues\", \"issues\", \"like\", \"like\", \"like\", \"live\", \"live\", \"live\", \"manage\", \"manage\", \"mankind\", \"mankind\", \"mankind\", \"markets\", \"markets\", \"markets\", \"mass\", \"mass\", \"meaning\", \"meaning\", \"military\", \"military\", \"military\", \"millennium\", \"missiles\", \"missiles\", \"missiles\", \"mission\", \"mission\", \"money\", \"national\", \"national\", \"national\", \"nature\", \"nature\", \"nature\", \"need\", \"need\", \"need\", \"negotiations\", \"negotiations\", \"negotiations\", \"november\", \"november\", \"objective\", \"objective\", \"obligation\", \"obligation\", \"oil\", \"oil\", \"oil\", \"operations\", \"operations\", \"parties\", \"parties\", \"parties\", \"peaceful\", \"peaceful\", \"peaceful\", \"peacekeepers\", \"peacekeeping\", \"peacekeeping\", \"place\", \"place\", \"place\", \"poison\", \"police\", \"policies\", \"policies\", \"policies\", \"policy\", \"policy\", \"policy\", \"poorer\", \"poorer\", \"poorer\", \"power\", \"power\", \"power\", \"practical\", \"practical\", \"practical\", \"prepared\", \"prepared\", \"prepared\", \"price\", \"price\", \"price\", \"private\", \"private\", \"private\", \"problem\", \"problem\", \"problem\", \"problems\", \"problems\", \"problems\", \"procedural\", \"process\", \"process\", \"process\", \"program\", \"program\", \"program\", \"programs\", \"programs\", \"prosperity\", \"prosperity\", \"prosperity\", \"prove\", \"prove\", \"readiness\", \"readiness\", \"reality\", \"reality\", \"reality\", \"realization\", \"realization\", \"reciprocal\", \"reciprocal\", \"reduce\", \"reduce\", \"reduce\", \"reform\", \"refrain\", \"regional\", \"regional\", \"regional\", \"relations\", \"relations\", \"relations\", \"religious\", \"represent\", \"represent\", \"republic\", \"republic\", \"republic\", \"required\", \"required\", \"required\", \"resolution\", \"resolution\", \"resolution\", \"resources\", \"resources\", \"resources\", \"restraint\", \"restraint\", \"revolution\", \"revolution\", \"revolution\", \"russia\", \"said\", \"said\", \"said\", \"say\", \"say\", \"say\", \"session\", \"session\", \"session\", \"settlement\", \"settlement\", \"settlement\", \"shall\", \"shall\", \"shall\", \"sides\", \"sides\", \"sides\", \"sign\", \"solution\", \"solution\", \"southern\", \"southern\", \"spirit\", \"spirit\", \"spirit\", \"stalemate\", \"step\", \"step\", \"step\", \"steps\", \"steps\", \"steps\", \"stop\", \"stop\", \"strategic\", \"strategic\", \"strategic\", \"strength\", \"strength\", \"strengthen\", \"strengthen\", \"strengthen\", \"substantial\", \"substantial\", \"substantial\", \"talks\", \"talks\", \"talks\", \"terror\", \"terror\", \"terrorism\", \"terrorism\", \"terrorism\", \"terrorists\", \"terrorists\", \"terrorists\", \"threat\", \"threat\", \"threat\", \"threats\", \"threats\", \"trade\", \"trade\", \"trade\", \"trading\", \"trading\", \"trading\", \"treaty\", \"treaty\", \"treaty\", \"twentyfirst\", \"undertaken\", \"undertaken\", \"universal\", \"universal\", \"universal\", \"unrealistic\", \"unrealistic\", \"urge\", \"urge\", \"urge\", \"urgently\", \"vision\", \"vision\", \"vision\", \"walk\", \"walls\", \"wisdom\", \"wisdom\", \"working\", \"working\", \"working\", \"yes\", \"young\"]}, \"R\": 30, \"lambda.step\": 0.01, \"plot.opts\": {\"xlab\": \"PC1\", \"ylab\": \"PC2\"}, \"topic.order\": [1, 2, 3]};\n",
       "\n",
       "function LDAvis_load_lib(url, callback){\n",
       "  var s = document.createElement('script');\n",
       "  s.src = url;\n",
       "  s.async = true;\n",
       "  s.onreadystatechange = s.onload = callback;\n",
       "  s.onerror = function(){console.warn(\"failed to load library \" + url);};\n",
       "  document.getElementsByTagName(\"head\")[0].appendChild(s);\n",
       "}\n",
       "\n",
       "if(typeof(LDAvis) !== \"undefined\"){\n",
       "   // already loaded: just create the visualization\n",
       "   !function(LDAvis){\n",
       "       new LDAvis(\"#\" + \"ldavis_el2021220152500183768843170455\", ldavis_el2021220152500183768843170455_data);\n",
       "   }(LDAvis);\n",
       "}else if(typeof define === \"function\" && define.amd){\n",
       "   // require.js is available: use it to load d3/LDAvis\n",
       "   require.config({paths: {d3: \"https://d3js.org/d3.v5\"}});\n",
       "   require([\"d3\"], function(d3){\n",
       "      window.d3 = d3;\n",
       "      LDAvis_load_lib(\"https://cdn.jsdelivr.net/gh/bmabey/pyLDAvis@3.3.1/pyLDAvis/js/ldavis.v3.0.0.js\", function(){\n",
       "        new LDAvis(\"#\" + \"ldavis_el2021220152500183768843170455\", ldavis_el2021220152500183768843170455_data);\n",
       "      });\n",
       "    });\n",
       "}else{\n",
       "    // require.js not available: dynamically load d3 & LDAvis\n",
       "    LDAvis_load_lib(\"https://d3js.org/d3.v5.js\", function(){\n",
       "         LDAvis_load_lib(\"https://cdn.jsdelivr.net/gh/bmabey/pyLDAvis@3.3.1/pyLDAvis/js/ldavis.v3.0.0.js\", function(){\n",
       "                 new LDAvis(\"#\" + \"ldavis_el2021220152500183768843170455\", ldavis_el2021220152500183768843170455_data);\n",
       "            })\n",
       "         });\n",
       "}\n",
       "</script>"
      ],
      "text/plain": [
       "<IPython.core.display.HTML object>"
      ]
     },
     "execution_count": 82,
     "metadata": {},
     "output_type": "execute_result"
    }
   ],
   "source": [
    "# visualize\n",
    "lda_viz = pyLDAvis.sklearn.prepare(lda_model=lda,\n",
    "                                  dtm=X,\n",
    "                                  vectorizer=vec,\n",
    "                                  sort_topics=False)\n",
    "\n",
    "pyLDAvis.display(lda_viz)"
   ]
  },
  {
   "attachments": {},
   "cell_type": "markdown",
   "metadata": {},
   "source": [
    "- Big non-overlapping bubbles scattered throughout the chart (although one bubble is slightly smaller).\n",
    "- The bubbles are quite far away from each other.\n",
    "- The bubble representing Topic 1 (i.e. Topic_0 in our dataframe) is the biggest - this means that the percentage of speeches about that topic are the highest in the corpus we have. \n",
    "\n",
    "Using the visualization above, I will look at the highest frequency words in each topic and try to interpret them. \n",
    "\n",
    "- Topic 1: Peacekeeping & democracy\n",
    "- Topic 2: Negotiations\n",
    "- Topic 3: Regional Stability"
   ]
  },
  {
   "cell_type": "code",
   "execution_count": 83,
   "metadata": {},
   "outputs": [
    {
     "data": {
      "text/html": [
       "<div>\n",
       "<style scoped>\n",
       "    .dataframe tbody tr th:only-of-type {\n",
       "        vertical-align: middle;\n",
       "    }\n",
       "\n",
       "    .dataframe tbody tr th {\n",
       "        vertical-align: top;\n",
       "    }\n",
       "\n",
       "    .dataframe thead th {\n",
       "        text-align: right;\n",
       "    }\n",
       "</style>\n",
       "<table border=\"1\" class=\"dataframe\">\n",
       "  <thead>\n",
       "    <tr style=\"text-align: right;\">\n",
       "      <th></th>\n",
       "      <th>top_words</th>\n",
       "      <th>topic_name</th>\n",
       "    </tr>\n",
       "  </thead>\n",
       "  <tbody>\n",
       "    <tr>\n",
       "      <th>Topic_0</th>\n",
       "      <td>democracy treaty peacekeeping century children...</td>\n",
       "      <td>Peacekeeping &amp; Democracy</td>\n",
       "    </tr>\n",
       "    <tr>\n",
       "      <th>Topic_1</th>\n",
       "      <td>negotiations conference parties session proble...</td>\n",
       "      <td></td>\n",
       "    </tr>\n",
       "    <tr>\n",
       "      <th>Topic_2</th>\n",
       "      <td>reality problems china republic strength forei...</td>\n",
       "      <td></td>\n",
       "    </tr>\n",
       "  </tbody>\n",
       "</table>\n",
       "</div>"
      ],
      "text/plain": [
       "                                                 top_words  \\\n",
       "Topic_0  democracy treaty peacekeeping century children...   \n",
       "Topic_1  negotiations conference parties session proble...   \n",
       "Topic_2  reality problems china republic strength forei...   \n",
       "\n",
       "                       topic_name  \n",
       "Topic_0  Peacekeeping & Democracy  \n",
       "Topic_1                            \n",
       "Topic_2                            "
      ]
     },
     "execution_count": 83,
     "metadata": {},
     "output_type": "execute_result"
    }
   ],
   "source": [
    "# add labels\n",
    "main_topics_df['topic_name'] = ['Peacekeeping & Democracy',\n",
    "                                '',\n",
    "                                '']\n",
    "\n",
    "# view \n",
    "main_topics_df"
   ]
  },
  {
   "cell_type": "markdown",
   "metadata": {},
   "source": [
    "## <center> <font color='royalblue'> Topic Modeling - USA (2001 onwards)"
   ]
  },
  {
   "cell_type": "code",
   "execution_count": 84,
   "metadata": {},
   "outputs": [
    {
     "data": {
      "text/html": [
       "<div>\n",
       "<style scoped>\n",
       "    .dataframe tbody tr th:only-of-type {\n",
       "        vertical-align: middle;\n",
       "    }\n",
       "\n",
       "    .dataframe tbody tr th {\n",
       "        vertical-align: top;\n",
       "    }\n",
       "\n",
       "    .dataframe thead th {\n",
       "        text-align: right;\n",
       "    }\n",
       "</style>\n",
       "<table border=\"1\" class=\"dataframe\">\n",
       "  <thead>\n",
       "    <tr style=\"text-align: right;\">\n",
       "      <th></th>\n",
       "      <th>id</th>\n",
       "      <th>session</th>\n",
       "      <th>year</th>\n",
       "      <th>country</th>\n",
       "      <th>country_name</th>\n",
       "      <th>speaker</th>\n",
       "      <th>position</th>\n",
       "      <th>text</th>\n",
       "    </tr>\n",
       "  </thead>\n",
       "  <tbody>\n",
       "    <tr>\n",
       "      <th>4814</th>\n",
       "      <td>4814</td>\n",
       "      <td>56</td>\n",
       "      <td>2001</td>\n",
       "      <td>USA</td>\n",
       "      <td>United States</td>\n",
       "      <td>George W. Bush</td>\n",
       "      <td>President</td>\n",
       "      <td>﻿We meet in a Hall devoted to\\npeace; in a cit...</td>\n",
       "    </tr>\n",
       "    <tr>\n",
       "      <th>5002</th>\n",
       "      <td>5002</td>\n",
       "      <td>57</td>\n",
       "      <td>2002</td>\n",
       "      <td>USA</td>\n",
       "      <td>United States</td>\n",
       "      <td>Mr. George W. Bush</td>\n",
       "      <td>President</td>\n",
       "      <td>﻿We meet one year and one day\\nafter a terrori...</td>\n",
       "    </tr>\n",
       "    <tr>\n",
       "      <th>5191</th>\n",
       "      <td>5191</td>\n",
       "      <td>58</td>\n",
       "      <td>2003</td>\n",
       "      <td>USA</td>\n",
       "      <td>United States</td>\n",
       "      <td>George W. Bush</td>\n",
       "      <td>President</td>\n",
       "      <td>﻿Twenty-four months ago, and\\nyesterday in the...</td>\n",
       "    </tr>\n",
       "    <tr>\n",
       "      <th>5382</th>\n",
       "      <td>5382</td>\n",
       "      <td>59</td>\n",
       "      <td>2004</td>\n",
       "      <td>USA</td>\n",
       "      <td>United States</td>\n",
       "      <td>Mr. George W Bush</td>\n",
       "      <td>President</td>\n",
       "      <td>Thank you for the honour of\\naddressing the Ge...</td>\n",
       "    </tr>\n",
       "    <tr>\n",
       "      <th>5567</th>\n",
       "      <td>5567</td>\n",
       "      <td>60</td>\n",
       "      <td>2005</td>\n",
       "      <td>USA</td>\n",
       "      <td>United States</td>\n",
       "      <td>Condoleezza Rice</td>\n",
       "      <td>Minister for Foregn Affairs</td>\n",
       "      <td>On behalf\\nof President Bush and all of the A...</td>\n",
       "    </tr>\n",
       "  </tbody>\n",
       "</table>\n",
       "</div>"
      ],
      "text/plain": [
       "        id  session  year country   country_name             speaker  \\\n",
       "4814  4814       56  2001     USA  United States      George W. Bush   \n",
       "5002  5002       57  2002     USA  United States  Mr. George W. Bush   \n",
       "5191  5191       58  2003     USA  United States      George W. Bush   \n",
       "5382  5382       59  2004     USA  United States   Mr. George W Bush   \n",
       "5567  5567       60  2005     USA  United States    Condoleezza Rice   \n",
       "\n",
       "                         position  \\\n",
       "4814                    President   \n",
       "5002                    President   \n",
       "5191                    President   \n",
       "5382                    President   \n",
       "5567  Minister for Foregn Affairs   \n",
       "\n",
       "                                                   text  \n",
       "4814  ﻿We meet in a Hall devoted to\\npeace; in a cit...  \n",
       "5002  ﻿We meet one year and one day\\nafter a terrori...  \n",
       "5191  ﻿Twenty-four months ago, and\\nyesterday in the...  \n",
       "5382  Thank you for the honour of\\naddressing the Ge...  \n",
       "5567   On behalf\\nof President Bush and all of the A...  "
      ]
     },
     "execution_count": 84,
     "metadata": {},
     "output_type": "execute_result"
    }
   ],
   "source": [
    "# filter dataset to only include USA\n",
    "usa_un_speeches_post2001 = un_speeches[(un_speeches.country == 'USA') & (un_speeches.year >= 2001)]\n",
    "\n",
    "# view\n",
    "usa_un_speeches_post2001.head()"
   ]
  },
  {
   "cell_type": "code",
   "execution_count": 85,
   "metadata": {},
   "outputs": [
    {
     "name": "stdout",
     "output_type": "stream",
     "text": [
      "Dimensionality: This dataset has  15  observations and  8  features.\n"
     ]
    }
   ],
   "source": [
    "print('Dimensionality: This dataset has ',usa_un_speeches_post2001.shape[0], ' observations and ',usa_un_speeches_post2001.shape[1], ' features.')"
   ]
  },
  {
   "cell_type": "code",
   "execution_count": 86,
   "metadata": {},
   "outputs": [],
   "source": [
    "# Select only id, speaker, and speech text\n",
    "df = usa_un_speeches_post2001[[\"id\", \"speaker\", \"text\"]]"
   ]
  },
  {
   "cell_type": "markdown",
   "metadata": {},
   "source": [
    "#### Steps:\n",
    "1. Instantiate vectorizer with parameters: vectorizer\n",
    "2. Vectorize column of text with fit_transform: X\n",
    "3. Instantiate LDA model with parameters: lda\n",
    "4. Fit LDA model to vectorized text: doc_topics"
   ]
  },
  {
   "cell_type": "markdown",
   "metadata": {},
   "source": [
    "#### 1. Instantiate vectorizer with parameters: vectorizer"
   ]
  },
  {
   "cell_type": "code",
   "execution_count": 87,
   "metadata": {},
   "outputs": [
    {
     "data": {
      "text/html": [
       "<div>\n",
       "<style scoped>\n",
       "    .dataframe tbody tr th:only-of-type {\n",
       "        vertical-align: middle;\n",
       "    }\n",
       "\n",
       "    .dataframe tbody tr th {\n",
       "        vertical-align: top;\n",
       "    }\n",
       "\n",
       "    .dataframe thead th {\n",
       "        text-align: right;\n",
       "    }\n",
       "</style>\n",
       "<table border=\"1\" class=\"dataframe\">\n",
       "  <thead>\n",
       "    <tr style=\"text-align: right;\">\n",
       "      <th></th>\n",
       "      <th>id</th>\n",
       "      <th>speaker</th>\n",
       "      <th>text</th>\n",
       "    </tr>\n",
       "  </thead>\n",
       "  <tbody>\n",
       "    <tr>\n",
       "      <th>4814</th>\n",
       "      <td>4814</td>\n",
       "      <td>George W. Bush</td>\n",
       "      <td>We meet in a Hall devoted to\\npeace in a city ...</td>\n",
       "    </tr>\n",
       "    <tr>\n",
       "      <th>5002</th>\n",
       "      <td>5002</td>\n",
       "      <td>Mr. George W. Bush</td>\n",
       "      <td>We meet one year and one day\\nafter a terroris...</td>\n",
       "    </tr>\n",
       "    <tr>\n",
       "      <th>5191</th>\n",
       "      <td>5191</td>\n",
       "      <td>George W. Bush</td>\n",
       "      <td>Twentyfour months ago and\\nyesterday in the me...</td>\n",
       "    </tr>\n",
       "    <tr>\n",
       "      <th>5382</th>\n",
       "      <td>5382</td>\n",
       "      <td>Mr. George W Bush</td>\n",
       "      <td>Thank you for the honour of\\naddressing the Ge...</td>\n",
       "    </tr>\n",
       "    <tr>\n",
       "      <th>5567</th>\n",
       "      <td>5567</td>\n",
       "      <td>Condoleezza Rice</td>\n",
       "      <td>On behalf\\nof President Bush and all of the A...</td>\n",
       "    </tr>\n",
       "  </tbody>\n",
       "</table>\n",
       "</div>"
      ],
      "text/plain": [
       "        id             speaker  \\\n",
       "4814  4814      George W. Bush   \n",
       "5002  5002  Mr. George W. Bush   \n",
       "5191  5191      George W. Bush   \n",
       "5382  5382   Mr. George W Bush   \n",
       "5567  5567    Condoleezza Rice   \n",
       "\n",
       "                                                   text  \n",
       "4814  We meet in a Hall devoted to\\npeace in a city ...  \n",
       "5002  We meet one year and one day\\nafter a terroris...  \n",
       "5191  Twentyfour months ago and\\nyesterday in the me...  \n",
       "5382  Thank you for the honour of\\naddressing the Ge...  \n",
       "5567   On behalf\\nof President Bush and all of the A...  "
      ]
     },
     "execution_count": 87,
     "metadata": {},
     "output_type": "execute_result"
    }
   ],
   "source": [
    "warnings.filterwarnings(\"ignore\")\n",
    "\n",
    "# remove punctuation \n",
    "df[\"text\"] = df['text'].str.replace(\"[^\\w\\s]\", '')\n",
    "\n",
    "# remove numbers\n",
    "df[\"text\"] = df['text'].str.replace('\\d+', '')\n",
    "\n",
    "# view \n",
    "df.head()"
   ]
  },
  {
   "cell_type": "code",
   "execution_count": 88,
   "metadata": {},
   "outputs": [],
   "source": [
    "# instantiate vectorizer\n",
    "vec = CountVectorizer(stop_words=\"english\",\n",
    "                    lowercase=True,\n",
    "                    ngram_range=(1, 1), # lower bound,upper bound: 1,1 only unigrams, 1,2 unigrams and bigrams, 2,2 only bigrams, etc...,\n",
    "                    min_df=5, # ignore rare words (appear in less than 5 documents)\n",
    "                    max_df=0.8) # ignore common words (appear in more than 80% of documents)"
   ]
  },
  {
   "cell_type": "markdown",
   "metadata": {},
   "source": [
    "#### 2. Vectorize column of text with fit_transform: X"
   ]
  },
  {
   "cell_type": "code",
   "execution_count": 89,
   "metadata": {},
   "outputs": [],
   "source": [
    "# create document-term matrix\n",
    "X = vec.fit_transform(df[\"text\"])"
   ]
  },
  {
   "cell_type": "code",
   "execution_count": 90,
   "metadata": {},
   "outputs": [
    {
     "data": {
      "text/plain": [
       "(15, 772)"
      ]
     },
     "execution_count": 90,
     "metadata": {},
     "output_type": "execute_result"
    }
   ],
   "source": [
    "# check: documents, terms\n",
    "X.shape"
   ]
  },
  {
   "cell_type": "code",
   "execution_count": 91,
   "metadata": {},
   "outputs": [
    {
     "name": "stdout",
     "output_type": "stream",
     "text": [
      "There are 15 documents, and 772 terms.\n"
     ]
    }
   ],
   "source": [
    "print('There are',X.shape[0],'documents, and',X.shape[1],'terms.')"
   ]
  },
  {
   "cell_type": "markdown",
   "metadata": {},
   "source": [
    "#### 3. Instantiate LDA model with parameters: lda"
   ]
  },
  {
   "cell_type": "code",
   "execution_count": 92,
   "metadata": {},
   "outputs": [],
   "source": [
    "# instantiate LDA\n",
    "lda = LatentDirichletAllocation(n_components=3,\n",
    "                                       random_state=42)"
   ]
  },
  {
   "cell_type": "markdown",
   "metadata": {},
   "source": [
    "#### 4. Fit LDA model to vectorized text: doc_topics"
   ]
  },
  {
   "cell_type": "code",
   "execution_count": 93,
   "metadata": {},
   "outputs": [],
   "source": [
    "# fit LDA model to vectorized text\n",
    "doc_topics = lda.fit_transform(X)"
   ]
  },
  {
   "cell_type": "code",
   "execution_count": 94,
   "metadata": {
    "scrolled": false
   },
   "outputs": [
    {
     "name": "stdout",
     "output_type": "stream",
     "text": [
      "There are 3 topics and 772 words\n"
     ]
    }
   ],
   "source": [
    "print(f\"There are {lda.components_.shape[0]} topics and {lda.components_.shape[1]} words\")"
   ]
  },
  {
   "cell_type": "markdown",
   "metadata": {},
   "source": [
    "### Analysis"
   ]
  },
  {
   "cell_type": "markdown",
   "metadata": {},
   "source": [
    "#### Extract top words from each topic"
   ]
  },
  {
   "cell_type": "code",
   "execution_count": 95,
   "metadata": {},
   "outputs": [],
   "source": [
    "# get feature names (vocabulary)\n",
    "voc = np.array(vec.get_feature_names())"
   ]
  },
  {
   "cell_type": "code",
   "execution_count": 96,
   "metadata": {},
   "outputs": [],
   "source": [
    "# set number of top words you want\n",
    "n_words=10\n",
    "\n",
    "# create lambda function to extra top words from voc\n",
    "imp_words = lambda x: [voc[each] for each in np.argsort(x)[:-n_words-1:-1]]"
   ]
  },
  {
   "cell_type": "code",
   "execution_count": 97,
   "metadata": {},
   "outputs": [],
   "source": [
    "# use imp_words to extract words with the highest weights from our lda model\n",
    "words_in_topic = ([imp_words(x) for x in lda.components_])"
   ]
  },
  {
   "cell_type": "code",
   "execution_count": 98,
   "metadata": {},
   "outputs": [],
   "source": [
    "# join words into single string\n",
    "main_topics = [' '.join(x) for x in words_in_topic]"
   ]
  },
  {
   "cell_type": "code",
   "execution_count": 99,
   "metadata": {},
   "outputs": [],
   "source": [
    "# create dataframe with top words and set index to topic number\n",
    "main_topics_df = pd.DataFrame({\"top_words\": main_topics},\n",
    "                             index=[\"Topic_\" + str(each) for each in range(lda.n_components)])"
   ]
  },
  {
   "cell_type": "code",
   "execution_count": 100,
   "metadata": {
    "scrolled": true
   },
   "outputs": [
    {
     "data": {
      "text/html": [
       "<div>\n",
       "<style scoped>\n",
       "    .dataframe tbody tr th:only-of-type {\n",
       "        vertical-align: middle;\n",
       "    }\n",
       "\n",
       "    .dataframe tbody tr th {\n",
       "        vertical-align: top;\n",
       "    }\n",
       "\n",
       "    .dataframe thead th {\n",
       "        text-align: right;\n",
       "    }\n",
       "</style>\n",
       "<table border=\"1\" class=\"dataframe\">\n",
       "  <thead>\n",
       "    <tr style=\"text-align: right;\">\n",
       "      <th></th>\n",
       "      <th>top_words</th>\n",
       "    </tr>\n",
       "  </thead>\n",
       "  <tbody>\n",
       "    <tr>\n",
       "      <th>Topic_0</th>\n",
       "      <td>come israel change challenges palestinians reg...</td>\n",
       "    </tr>\n",
       "    <tr>\n",
       "      <th>Topic_1</th>\n",
       "      <td>russia conflict come like order young strong i...</td>\n",
       "    </tr>\n",
       "    <tr>\n",
       "      <th>Topic_2</th>\n",
       "      <td>terror terrorists regime iraqi east terrorist ...</td>\n",
       "    </tr>\n",
       "  </tbody>\n",
       "</table>\n",
       "</div>"
      ],
      "text/plain": [
       "                                                 top_words\n",
       "Topic_0  come israel change challenges palestinians reg...\n",
       "Topic_1  russia conflict come like order young strong i...\n",
       "Topic_2  terror terrorists regime iraqi east terrorist ..."
      ]
     },
     "execution_count": 100,
     "metadata": {},
     "output_type": "execute_result"
    }
   ],
   "source": [
    "# examine top words\n",
    "main_topics_df"
   ]
  },
  {
   "cell_type": "code",
   "execution_count": 101,
   "metadata": {},
   "outputs": [
    {
     "data": {
      "text/plain": [
       "['come israel change challenges palestinians region pursue palestinian responsibility conflict',\n",
       " 'russia conflict come like order young strong iran different look',\n",
       " 'terror terrorists regime iraqi east terrorist fight middle liberty iraqs']"
      ]
     },
     "execution_count": 101,
     "metadata": {},
     "output_type": "execute_result"
    }
   ],
   "source": [
    "# examine top words\n",
    "list(main_topics_df.top_words.values)"
   ]
  },
  {
   "cell_type": "markdown",
   "metadata": {},
   "source": [
    "#### Create a document topic matrix from results"
   ]
  },
  {
   "cell_type": "code",
   "execution_count": 102,
   "metadata": {},
   "outputs": [],
   "source": [
    "cols = [\"Topic_\" + str(each) for each in range(lda.n_components)]\n",
    "docs = [\"Document_\" + str(each) for each in range(X.shape[0])]"
   ]
  },
  {
   "cell_type": "code",
   "execution_count": 103,
   "metadata": {},
   "outputs": [],
   "source": [
    "# create dataframe with term weights and document # and topic # as rows, columns\n",
    "df_topics = pd.DataFrame(np.round(doc_topics, 2),\n",
    "                        columns=cols,\n",
    "                        index=docs)"
   ]
  },
  {
   "cell_type": "code",
   "execution_count": 104,
   "metadata": {},
   "outputs": [],
   "source": [
    "# Extract most important topics from those values\n",
    "imp_topic = np.argmax(df_topics.values, axis=1)"
   ]
  },
  {
   "cell_type": "code",
   "execution_count": 105,
   "metadata": {
    "scrolled": true
   },
   "outputs": [
    {
     "data": {
      "text/html": [
       "<div>\n",
       "<style scoped>\n",
       "    .dataframe tbody tr th:only-of-type {\n",
       "        vertical-align: middle;\n",
       "    }\n",
       "\n",
       "    .dataframe tbody tr th {\n",
       "        vertical-align: top;\n",
       "    }\n",
       "\n",
       "    .dataframe thead th {\n",
       "        text-align: right;\n",
       "    }\n",
       "</style>\n",
       "<table border=\"1\" class=\"dataframe\">\n",
       "  <thead>\n",
       "    <tr style=\"text-align: right;\">\n",
       "      <th></th>\n",
       "      <th>Topic_0</th>\n",
       "      <th>Topic_1</th>\n",
       "      <th>Topic_2</th>\n",
       "    </tr>\n",
       "  </thead>\n",
       "  <tbody>\n",
       "    <tr>\n",
       "      <th>Document_0</th>\n",
       "      <td>0.00</td>\n",
       "      <td>0.0</td>\n",
       "      <td>1.00</td>\n",
       "    </tr>\n",
       "    <tr>\n",
       "      <th>Document_1</th>\n",
       "      <td>0.00</td>\n",
       "      <td>0.0</td>\n",
       "      <td>1.00</td>\n",
       "    </tr>\n",
       "    <tr>\n",
       "      <th>Document_2</th>\n",
       "      <td>0.00</td>\n",
       "      <td>0.0</td>\n",
       "      <td>1.00</td>\n",
       "    </tr>\n",
       "    <tr>\n",
       "      <th>Document_3</th>\n",
       "      <td>0.00</td>\n",
       "      <td>0.0</td>\n",
       "      <td>1.00</td>\n",
       "    </tr>\n",
       "    <tr>\n",
       "      <th>Document_4</th>\n",
       "      <td>0.54</td>\n",
       "      <td>0.0</td>\n",
       "      <td>0.46</td>\n",
       "    </tr>\n",
       "  </tbody>\n",
       "</table>\n",
       "</div>"
      ],
      "text/plain": [
       "            Topic_0  Topic_1  Topic_2\n",
       "Document_0     0.00      0.0     1.00\n",
       "Document_1     0.00      0.0     1.00\n",
       "Document_2     0.00      0.0     1.00\n",
       "Document_3     0.00      0.0     1.00\n",
       "Document_4     0.54      0.0     0.46"
      ]
     },
     "execution_count": 105,
     "metadata": {},
     "output_type": "execute_result"
    }
   ],
   "source": [
    "# view dataframe\n",
    "df_topics.head()"
   ]
  },
  {
   "cell_type": "code",
   "execution_count": 106,
   "metadata": {
    "scrolled": true
   },
   "outputs": [],
   "source": [
    "# store top topic\n",
    "df_topics[\"top_topic\"] = imp_topic"
   ]
  },
  {
   "cell_type": "code",
   "execution_count": 107,
   "metadata": {},
   "outputs": [
    {
     "data": {
      "text/html": [
       "<div>\n",
       "<style scoped>\n",
       "    .dataframe tbody tr th:only-of-type {\n",
       "        vertical-align: middle;\n",
       "    }\n",
       "\n",
       "    .dataframe tbody tr th {\n",
       "        vertical-align: top;\n",
       "    }\n",
       "\n",
       "    .dataframe thead th {\n",
       "        text-align: right;\n",
       "    }\n",
       "</style>\n",
       "<table border=\"1\" class=\"dataframe\">\n",
       "  <thead>\n",
       "    <tr style=\"text-align: right;\">\n",
       "      <th></th>\n",
       "      <th>Topic_0</th>\n",
       "      <th>Topic_1</th>\n",
       "      <th>Topic_2</th>\n",
       "      <th>top_topic</th>\n",
       "    </tr>\n",
       "  </thead>\n",
       "  <tbody>\n",
       "    <tr>\n",
       "      <th>Document_0</th>\n",
       "      <td>0.00</td>\n",
       "      <td>0.0</td>\n",
       "      <td>1.00</td>\n",
       "      <td>2</td>\n",
       "    </tr>\n",
       "    <tr>\n",
       "      <th>Document_1</th>\n",
       "      <td>0.00</td>\n",
       "      <td>0.0</td>\n",
       "      <td>1.00</td>\n",
       "      <td>2</td>\n",
       "    </tr>\n",
       "    <tr>\n",
       "      <th>Document_2</th>\n",
       "      <td>0.00</td>\n",
       "      <td>0.0</td>\n",
       "      <td>1.00</td>\n",
       "      <td>2</td>\n",
       "    </tr>\n",
       "    <tr>\n",
       "      <th>Document_3</th>\n",
       "      <td>0.00</td>\n",
       "      <td>0.0</td>\n",
       "      <td>1.00</td>\n",
       "      <td>2</td>\n",
       "    </tr>\n",
       "    <tr>\n",
       "      <th>Document_4</th>\n",
       "      <td>0.54</td>\n",
       "      <td>0.0</td>\n",
       "      <td>0.46</td>\n",
       "      <td>0</td>\n",
       "    </tr>\n",
       "  </tbody>\n",
       "</table>\n",
       "</div>"
      ],
      "text/plain": [
       "            Topic_0  Topic_1  Topic_2  top_topic\n",
       "Document_0     0.00      0.0     1.00          2\n",
       "Document_1     0.00      0.0     1.00          2\n",
       "Document_2     0.00      0.0     1.00          2\n",
       "Document_3     0.00      0.0     1.00          2\n",
       "Document_4     0.54      0.0     0.46          0"
      ]
     },
     "execution_count": 107,
     "metadata": {},
     "output_type": "execute_result"
    }
   ],
   "source": [
    "# view\n",
    "df_topics.head()"
   ]
  },
  {
   "cell_type": "code",
   "execution_count": 108,
   "metadata": {},
   "outputs": [
    {
     "data": {
      "text/html": [
       "\n",
       "<link rel=\"stylesheet\" type=\"text/css\" href=\"https://cdn.jsdelivr.net/gh/bmabey/pyLDAvis@3.3.1/pyLDAvis/js/ldavis.v1.0.0.css\">\n",
       "\n",
       "\n",
       "<div id=\"ldavis_el2021220145772153048570243437\"></div>\n",
       "<script type=\"text/javascript\">\n",
       "\n",
       "var ldavis_el2021220145772153048570243437_data = {\"mdsDat\": {\"x\": [-0.03663241425687794, -0.0734814457526106, 0.1101138600094886], \"y\": [-0.05020042808529353, 0.04012480470300916, 0.010075623382284299], \"topics\": [1, 2, 3], \"cluster\": [1, 1, 1], \"Freq\": [48.973619408008304, 18.330391123794932, 32.695989468196764]}, \"tinfo\": {\"Term\": [\"terror\", \"terrorists\", \"iraqi\", \"russia\", \"regime\", \"iraqs\", \"syria\", \"come\", \"conflict\", \"order\", \"politics\", \"strength\", \"liberty\", \"strong\", \"look\", \"fight\", \"aid\", \"makes\", \"different\", \"resolutions\", \"murder\", \"speech\", \"matter\", \"reject\", \"pursue\", \"helping\", \"regimes\", \"faith\", \"terrorist\", \"like\", \"israels\", \"israelis\", \"israeli\", \"hand\", \"reach\", \"palestinians\", \"break\", \"talks\", \"earlier\", \"pace\", \"enormous\", \"increase\", \"faced\", \"happening\", \"point\", \"extremist\", \"living\", \"wars\", \"pursue\", \"pursuit\", \"challenges\", \"focus\", \"pursuing\", \"led\", \"irans\", \"changes\", \"partners\", \"child\", \"address\", \"problems\", \"community\", \"economies\", \"energy\", \"change\", \"israel\", \"effort\", \"responsibility\", \"markets\", \"come\", \"society\", \"agreement\", \"interests\", \"open\", \"palestinian\", \"economy\", \"body\", \"americas\", \"common\", \"civil\", \"development\", \"end\", \"region\", \"like\", \"conflict\", \"path\", \"syria\", \"meet\", \"africa\", \"iran\", \"let\", \"know\", \"extremists\", \"matter\", \"understood\", \"school\", \"willing\", \"russia\", \"broad\", \"speech\", \"welcomed\", \"politics\", \"extremism\", \"makes\", \"reject\", \"problem\", \"information\", \"protests\", \"strength\", \"diplomacy\", \"offers\", \"job\", \"modern\", \"think\", \"corrupt\", \"lift\", \"ideology\", \"strong\", \"powers\", \"order\", \"media\", \"impose\", \"unique\", \"worked\", \"west\", \"faith\", \"cooperation\", \"look\", \"ensure\", \"different\", \"peacefully\", \"ultimately\", \"young\", \"conflict\", \"syria\", \"like\", \"come\", \"iran\", \"let\", \"better\", \"differences\", \"path\", \"true\", \"way\", \"economy\", \"respect\", \"forces\", \"end\", \"change\", \"iraqs\", \"aids\", \"account\", \"important\", \"relief\", \"regimes\", \"high\", \"conditions\", \"iraqi\", \"ambitions\", \"taliban\", \"ethnic\", \"representatives\", \"misery\", \"fund\", \"terror\", \"takes\", \"victims\", \"aid\", \"murder\", \"terrorists\", \"helping\", \"train\", \"civilization\", \"resolutions\", \"proliferation\", \"evil\", \"general\", \"trafficking\", \"fighting\", \"needs\", \"democracies\", \"regime\", \"liberty\", \"fight\", \"terrorist\", \"terrorism\", \"food\", \"million\", \"members\", \"mass\", \"hall\", \"middle\", \"developing\", \"east\", \"suffering\", \"including\", \"democratic\", \"coalition\", \"resolution\", \"region\", \"know\", \"palestinian\", \"meet\", \"destruction\"], \"Freq\": [61.0, 60.0, 37.0, 26.0, 63.0, 20.0, 32.0, 55.0, 48.0, 24.0, 15.0, 18.0, 30.0, 22.0, 26.0, 33.0, 20.0, 16.0, 29.0, 21.0, 19.0, 14.0, 11.0, 13.0, 34.0, 21.0, 15.0, 20.0, 33.0, 46.0, 9.867815781261948, 25.867687353867133, 8.901790480764467, 7.952873021734462, 21.147708250107247, 30.7466620010336, 6.994629741179805, 6.985599206383325, 7.757083331091814, 6.0123112660331826, 5.968022405365721, 5.965648860649513, 5.911264127342404, 5.813421859213808, 10.759843744796418, 9.02699103057647, 14.815325451275907, 12.237574416510599, 30.031694297319344, 16.147687762832508, 32.42045182731778, 11.369054933580795, 8.019000755158224, 7.9263966143662214, 10.218133632825595, 9.421935103217793, 12.43882494642376, 7.002366725218016, 21.642432494039927, 21.569260926548957, 27.62656226260263, 18.983199457772397, 21.660304525828554, 34.3843225058497, 35.13146880723254, 26.088334204600184, 28.00839496851133, 12.325325733809603, 38.70304172288768, 20.603339661573205, 16.069005670048686, 22.458907804262967, 24.147959393981537, 29.331339164155306, 23.097720734895052, 19.056512581469978, 19.377879342096097, 23.288939576158683, 18.320149531646834, 21.722240976176792, 25.404117395073694, 30.678286918271294, 27.824193330461235, 27.86412761009342, 22.845100383034097, 21.32105619364833, 23.769912283418417, 20.29977570843229, 22.698027116677054, 22.124183177974164, 23.022449090577176, 21.797637643522823, 7.848640746394694, 5.423732174556554, 5.38180929214108, 5.323595087080529, 17.32237329089761, 4.561213777441843, 9.020286279695231, 4.49958938145081, 9.390358926979362, 8.149040469812546, 9.612582390010843, 7.89406016412346, 4.196216041725024, 3.607917193255958, 3.6072097892611987, 10.809142989222115, 6.101472163656263, 3.014539481123011, 3.521059080013784, 5.89914046560907, 4.412176247418141, 4.409492023472101, 6.317458323229359, 5.683848121817207, 11.431821066294388, 4.109404437325717, 12.197870724569851, 3.589299905302548, 5.356996707006496, 4.466801501533115, 7.443886240274049, 4.886056900393199, 9.26867601810073, 8.879983995665441, 10.829534931007764, 6.986099606447525, 10.98711135705086, 6.878531376529539, 6.584703462947419, 11.914794393228988, 14.63809533352594, 10.656215205809794, 12.462515699710707, 13.667050744935377, 11.098593198685617, 10.202166508178376, 9.535958590726763, 7.421590166837497, 9.076441310671559, 7.732106144421024, 8.870900614059002, 8.522430512931336, 8.522172787220942, 8.013038843590838, 8.167983860236996, 8.257339412255124, 20.017304939786047, 9.708159734668547, 7.829485729858001, 7.823066534739147, 6.879611569063313, 14.40833693393122, 5.926078939610177, 7.589270601891577, 33.77783899465207, 6.692717908479604, 12.430764648279343, 5.70983362628799, 6.5305175705081195, 5.689097524072544, 12.23085440718785, 53.66726472307537, 5.631962629203419, 8.771230634688715, 17.66380030529687, 16.611493974890198, 49.55489599124145, 17.733927785438876, 4.584391441871041, 7.65240347623248, 17.50516753287321, 12.86168884197648, 8.294792263829232, 12.076992910562867, 5.936591260924511, 10.315267554979526, 13.198476968810692, 11.553167688007067, 46.14319713316308, 23.027947249269577, 23.32034219695553, 23.381645535024187, 18.08290735233378, 13.346350194078743, 11.752873145825378, 18.18503178960881, 17.285432868867385, 17.192457339650435, 23.03756505961799, 14.826348976941985, 24.62915785614575, 14.668021656589477, 17.898655462753606, 19.262301788701706, 16.223025418861184, 14.462787999604616, 17.01304703433888, 16.176066526702694, 15.015181721224643, 14.355914481289917, 13.437104262412664], \"Total\": [61.0, 60.0, 37.0, 26.0, 63.0, 20.0, 32.0, 55.0, 48.0, 24.0, 15.0, 18.0, 30.0, 22.0, 26.0, 33.0, 20.0, 16.0, 29.0, 21.0, 19.0, 14.0, 11.0, 13.0, 34.0, 21.0, 15.0, 20.0, 33.0, 46.0, 10.47655092333088, 27.562929966177116, 9.520712283782583, 8.564331840295837, 22.798601433616028, 33.29850019379034, 7.609397571472382, 7.6092493295440855, 8.56191282480254, 6.652138963140976, 6.6510908420688075, 6.65139879737499, 6.649894045472753, 6.649975910960656, 12.369156402176234, 10.418233145395005, 17.13705092911412, 14.158988983667166, 34.87450699606822, 18.85512695801674, 37.941265585215675, 13.319143869544309, 9.463592529444853, 9.42726342960553, 12.238266574828573, 11.303974074268424, 15.046594716435372, 8.47383164393652, 26.345308747551, 26.287488857632578, 33.99922522049245, 23.683028053007668, 27.33170681524231, 45.89508886144597, 47.23719465546419, 34.11283972747308, 37.94019237532325, 15.13923897383899, 55.82802216308705, 27.200831062561363, 20.58025755899279, 30.8000606268888, 34.04988184740081, 44.636680834545416, 33.4662958161476, 26.300522543390237, 27.03549309134571, 34.60530060781783, 25.31430439106509, 31.888431887379674, 40.11571921662646, 52.701827299185624, 46.35597936386535, 48.044382644466474, 36.23332449908134, 32.30851720874814, 40.592990731872725, 30.043529575484293, 39.81232804345541, 38.002094124367204, 45.85101333985487, 37.674670119845814, 11.582686900693483, 8.018237110418173, 8.006843567807257, 8.028007633398119, 26.8042564328123, 7.123574605933113, 14.290852314020679, 7.145086308901641, 15.24088065799982, 13.425138464811678, 16.15742998293401, 13.488528233141386, 7.176749273926445, 6.284303184139553, 6.28437755750739, 18.85684125313984, 10.81291077810049, 5.39174919064136, 6.309529134103115, 10.77088128804706, 8.125989550578604, 8.12627547366371, 11.681959092879868, 10.816782675484934, 22.600745688655316, 8.158228837825073, 24.418133559053683, 7.225939568149398, 10.832922544583502, 9.037873423718864, 15.415000053581956, 9.986587492287223, 20.86404572519225, 20.038785158808935, 26.529032716851933, 15.471393593270525, 29.359483889049443, 15.489259945697414, 14.584154157026626, 34.87557020733829, 48.044382644466474, 32.30851720874814, 46.35597936386535, 55.82802216308705, 39.81232804345541, 38.002094124367204, 33.21900156560639, 20.208124752338694, 36.23332449908134, 23.914051775534862, 38.10401691229049, 33.4662958161476, 34.28280628079182, 32.460008160302706, 40.11571921662646, 45.89508886144597, 20.659346507054533, 10.320376217481279, 8.440254489282443, 8.440360887284278, 7.500357562341279, 15.884183741085554, 6.560542265450323, 8.435260389300637, 37.63415317399038, 7.4884342965554485, 14.097834410659123, 6.545865956796277, 7.4962797672168495, 6.545197904945435, 14.10115508484292, 61.991683496073136, 6.553875946464668, 10.243841849852984, 20.700588132563897, 19.761074790217787, 60.0888771263137, 21.56288980016156, 5.607923437257134, 9.398763206617641, 21.657765550350337, 16.00203933215537, 10.340595970899411, 15.059356834986188, 7.423841578556644, 12.964859117997635, 16.950744599181352, 14.789595307708211, 63.89607163262872, 30.66278595316688, 33.011394590729694, 33.59344632292153, 25.03290761026527, 17.789690120507466, 16.02041806030872, 29.20103316666844, 27.29258401625172, 27.398227486498072, 43.3056243460722, 22.657723987351737, 48.91019038096521, 22.3456914761451, 30.906765738635606, 36.13729638991075, 28.760988682747136, 24.575380486696638, 52.701827299185624, 45.85101333985487, 44.636680834545416, 40.592990731872725, 22.558823971455176], \"Category\": [\"Default\", \"Default\", \"Default\", \"Default\", \"Default\", \"Default\", \"Default\", \"Default\", \"Default\", \"Default\", \"Default\", \"Default\", \"Default\", \"Default\", \"Default\", \"Default\", \"Default\", \"Default\", \"Default\", \"Default\", \"Default\", \"Default\", \"Default\", \"Default\", \"Default\", \"Default\", \"Default\", \"Default\", \"Default\", \"Default\", \"Topic1\", \"Topic1\", \"Topic1\", \"Topic1\", \"Topic1\", \"Topic1\", \"Topic1\", \"Topic1\", \"Topic1\", \"Topic1\", \"Topic1\", \"Topic1\", \"Topic1\", \"Topic1\", \"Topic1\", \"Topic1\", \"Topic1\", \"Topic1\", \"Topic1\", \"Topic1\", \"Topic1\", \"Topic1\", \"Topic1\", \"Topic1\", \"Topic1\", \"Topic1\", \"Topic1\", \"Topic1\", \"Topic1\", \"Topic1\", \"Topic1\", \"Topic1\", \"Topic1\", \"Topic1\", \"Topic1\", \"Topic1\", \"Topic1\", \"Topic1\", \"Topic1\", \"Topic1\", \"Topic1\", \"Topic1\", \"Topic1\", \"Topic1\", \"Topic1\", \"Topic1\", \"Topic1\", \"Topic1\", \"Topic1\", \"Topic1\", \"Topic1\", \"Topic1\", \"Topic1\", \"Topic1\", \"Topic1\", \"Topic1\", \"Topic1\", \"Topic1\", \"Topic1\", \"Topic1\", \"Topic1\", \"Topic1\", \"Topic2\", \"Topic2\", \"Topic2\", \"Topic2\", \"Topic2\", \"Topic2\", \"Topic2\", \"Topic2\", \"Topic2\", \"Topic2\", \"Topic2\", \"Topic2\", \"Topic2\", \"Topic2\", \"Topic2\", \"Topic2\", \"Topic2\", \"Topic2\", \"Topic2\", \"Topic2\", \"Topic2\", \"Topic2\", \"Topic2\", \"Topic2\", \"Topic2\", \"Topic2\", \"Topic2\", \"Topic2\", \"Topic2\", \"Topic2\", \"Topic2\", \"Topic2\", \"Topic2\", \"Topic2\", \"Topic2\", \"Topic2\", \"Topic2\", \"Topic2\", \"Topic2\", \"Topic2\", \"Topic2\", \"Topic2\", \"Topic2\", \"Topic2\", \"Topic2\", \"Topic2\", \"Topic2\", \"Topic2\", \"Topic2\", \"Topic2\", \"Topic2\", \"Topic2\", \"Topic2\", \"Topic2\", \"Topic2\", \"Topic2\", \"Topic3\", \"Topic3\", \"Topic3\", \"Topic3\", \"Topic3\", \"Topic3\", \"Topic3\", \"Topic3\", \"Topic3\", \"Topic3\", \"Topic3\", \"Topic3\", \"Topic3\", \"Topic3\", \"Topic3\", \"Topic3\", \"Topic3\", \"Topic3\", \"Topic3\", \"Topic3\", \"Topic3\", \"Topic3\", \"Topic3\", \"Topic3\", \"Topic3\", \"Topic3\", \"Topic3\", \"Topic3\", \"Topic3\", \"Topic3\", \"Topic3\", \"Topic3\", \"Topic3\", \"Topic3\", \"Topic3\", \"Topic3\", \"Topic3\", \"Topic3\", \"Topic3\", \"Topic3\", \"Topic3\", \"Topic3\", \"Topic3\", \"Topic3\", \"Topic3\", \"Topic3\", \"Topic3\", \"Topic3\", \"Topic3\", \"Topic3\", \"Topic3\", \"Topic3\", \"Topic3\", \"Topic3\", \"Topic3\"], \"logprob\": [30.0, 29.0, 28.0, 27.0, 26.0, 25.0, 24.0, 23.0, 22.0, 21.0, 20.0, 19.0, 18.0, 17.0, 16.0, 15.0, 14.0, 13.0, 12.0, 11.0, 10.0, 9.0, 8.0, 7.0, 6.0, 5.0, 4.0, 3.0, 2.0, 1.0, -6.2701, -5.3064, -6.3732, -6.4859, -5.5079, -5.1336, -6.6143, -6.6156, -6.5108, -6.7656, -6.773, -6.7734, -6.7826, -6.7993, -6.1836, -6.3592, -5.8638, -6.0549, -5.1572, -5.7776, -5.0806, -6.1285, -6.4776, -6.4892, -6.2353, -6.3164, -6.0386, -6.6132, -5.4848, -5.4882, -5.2406, -5.6159, -5.4839, -5.0218, -5.0003, -5.2979, -5.2269, -6.0478, -4.9035, -5.534, -5.7825, -5.4477, -5.3752, -5.1808, -5.4197, -5.612, -5.5953, -5.4114, -5.6514, -5.4811, -5.3245, -5.1359, -5.2335, -5.2321, -5.4307, -5.4997, -5.391, -5.5488, -5.4371, -5.4628, -5.423, -5.4776, -5.5164, -5.8859, -5.8937, -5.9046, -4.7247, -6.0591, -5.3772, -6.0727, -5.337, -5.4788, -5.3136, -5.5106, -6.1425, -6.2936, -6.2938, -5.1963, -5.7682, -6.4733, -6.3179, -5.8019, -6.0923, -6.0929, -5.7334, -5.8391, -5.1403, -6.1634, -5.0754, -6.2987, -5.8983, -6.08, -5.5693, -5.9903, -5.3501, -5.3929, -5.1944, -5.6328, -5.18, -5.6483, -5.692, -5.0989, -4.8931, -5.2106, -5.054, -4.9617, -5.1699, -5.2541, -5.3216, -5.5723, -5.371, -5.5313, -5.3939, -5.434, -5.434, -5.4956, -5.4765, -5.4656, -5.1588, -5.8824, -6.0975, -6.0983, -6.2268, -5.4876, -6.376, -6.1287, -4.6356, -6.2544, -5.6352, -6.4132, -6.2789, -6.4168, -5.6514, -4.1726, -6.4269, -5.9839, -5.2839, -5.3453, -4.2523, -5.2799, -6.6327, -6.1204, -5.2929, -5.6011, -6.0398, -5.6641, -6.3743, -5.8218, -5.5753, -5.7084, -4.3236, -5.0187, -5.0061, -5.0034, -5.2604, -5.5642, -5.6913, -5.2548, -5.3055, -5.3109, -5.0183, -5.459, -4.9515, -5.4697, -5.2707, -5.1972, -5.369, -5.4838, -5.3214, -5.3719, -5.4463, -5.4912, -5.5574], \"loglift\": [30.0, 29.0, 28.0, 27.0, 26.0, 25.0, 24.0, 23.0, 22.0, 21.0, 20.0, 19.0, 18.0, 17.0, 16.0, 15.0, 14.0, 13.0, 12.0, 11.0, 10.0, 9.0, 8.0, 7.0, 6.0, 5.0, 4.0, 3.0, 2.0, 1.0, 0.654, 0.6504, 0.6467, 0.6398, 0.6387, 0.6342, 0.6296, 0.6284, 0.6152, 0.6128, 0.6055, 0.6051, 0.5961, 0.5794, 0.5745, 0.5706, 0.5683, 0.568, 0.5644, 0.5589, 0.5566, 0.5556, 0.5483, 0.5405, 0.5335, 0.5318, 0.5236, 0.5232, 0.5173, 0.5161, 0.5063, 0.4927, 0.4813, 0.4251, 0.4178, 0.4457, 0.4104, 0.5083, 0.3475, 0.4361, 0.4664, 0.3981, 0.3703, 0.294, 0.3431, 0.3917, 0.3809, 0.3179, 0.3905, 0.33, 0.257, 0.1728, 0.2034, 0.1691, 0.2526, 0.2983, 0.1787, 0.3219, 0.152, 0.1729, 0.025, 0.1667, 1.3074, 1.3057, 1.2993, 1.2858, 1.26, 1.2508, 1.2365, 1.2342, 1.2123, 1.1974, 1.1773, 1.1609, 1.1599, 1.1417, 1.1415, 1.1401, 1.1244, 1.1152, 1.1133, 1.0946, 1.0859, 1.0853, 1.0819, 1.0531, 1.015, 1.0109, 1.0025, 0.9969, 0.9924, 0.9919, 0.9687, 0.9818, 0.8852, 0.8827, 0.8006, 0.9015, 0.7137, 0.8849, 0.9014, 0.6226, 0.5081, 0.5874, 0.383, 0.2893, 0.4193, 0.3816, 0.4486, 0.6949, 0.3123, 0.5675, 0.2391, 0.3288, 0.3046, 0.2977, 0.1051, -0.0186, 1.0863, 1.0568, 1.0428, 1.042, 1.0315, 1.0204, 1.0162, 1.0122, 1.0098, 1.0056, 0.9921, 0.9813, 0.98, 0.9777, 0.9756, 0.9737, 0.9663, 0.9627, 0.9593, 0.9443, 0.9252, 0.9224, 0.9164, 0.9124, 0.905, 0.8995, 0.8975, 0.8972, 0.8944, 0.8893, 0.8677, 0.871, 0.7924, 0.8316, 0.7704, 0.7555, 0.7927, 0.8305, 0.8082, 0.6443, 0.6612, 0.6519, 0.4868, 0.6938, 0.4319, 0.697, 0.5717, 0.4887, 0.5453, 0.5878, -0.0128, 0.0761, 0.0284, 0.0785, 0.5998]}, \"token.table\": {\"Topic\": [3, 1, 2, 3, 1, 2, 3, 1, 2, 1, 3, 3, 3, 1, 2, 3, 1, 2, 3, 1, 2, 3, 1, 2, 3, 1, 2, 3, 1, 2, 3, 1, 2, 1, 2, 1, 2, 3, 1, 3, 1, 2, 3, 1, 2, 3, 1, 2, 3, 1, 2, 3, 3, 1, 2, 3, 1, 2, 3, 1, 2, 2, 3, 1, 2, 3, 1, 2, 3, 1, 3, 1, 2, 3, 1, 2, 3, 1, 2, 3, 1, 2, 1, 3, 1, 2, 3, 1, 2, 3, 1, 2, 3, 1, 2, 3, 1, 2, 3, 1, 2, 3, 1, 1, 2, 3, 3, 1, 3, 1, 2, 3, 1, 2, 3, 1, 2, 3, 1, 1, 2, 3, 1, 3, 2, 3, 1, 3, 1, 2, 3, 1, 2, 3, 1, 3, 1, 3, 1, 3, 1, 1, 3, 1, 2, 3, 3, 1, 2, 3, 3, 1, 2, 3, 1, 2, 3, 1, 1, 2, 3, 1, 2, 3, 1, 2, 3, 1, 2, 1, 3, 3, 1, 2, 3, 1, 1, 2, 1, 1, 2, 1, 2, 3, 1, 2, 1, 2, 3, 1, 2, 3, 1, 2, 3, 1, 2, 3, 1, 3, 1, 2, 3, 1, 2, 3, 1, 2, 3, 1, 2, 3, 1, 2, 1, 2, 3, 1, 2, 3, 1, 2, 3, 1, 2, 3, 1, 3, 3, 1, 2, 3, 1, 3, 1, 3, 1, 2, 3, 1, 2, 3, 1, 2, 3, 1, 1, 3, 1, 2, 3, 1, 2, 1, 2, 3, 1, 2, 3, 1, 3, 1, 2, 1, 2, 1, 2, 3, 1, 2, 1, 3, 1, 2, 3, 1, 2, 1, 2, 3, 1, 2, 1, 2, 1, 2, 3, 2, 3, 1, 2, 3, 1, 2, 3, 1, 3, 1, 3, 1, 3, 1, 2, 3, 1, 2, 3, 1, 2, 3, 1, 2, 3, 1, 2, 3, 1, 2, 3, 1, 2, 3, 1, 2, 3, 1, 2, 3, 1, 2, 1, 3, 1, 3, 1, 1, 2, 3, 1, 2, 3, 1, 2, 3, 1, 2, 3, 1, 2, 2, 3, 1, 3, 1, 2, 3, 1, 2, 1, 2, 1, 2, 3, 2, 3, 1, 2, 1, 2, 3, 1, 2, 3, 1, 2, 1, 2, 1, 2, 3, 1, 2, 3], \"Freq\": [0.9478387186261403, 0.835063282454227, 0.15182968771895036, 0.03795742192973759, 0.6657007443066917, 0.13314014886133835, 0.19971022329200752, 0.7774441089542442, 0.19436102723856105, 0.1449234186385617, 0.8695405118313703, 0.9689569245606952, 0.9347748438174693, 0.7027798581592011, 0.22193048152395825, 0.07397682717465275, 0.39134228565917145, 0.30103252743013187, 0.30103252743013187, 0.7224191066414769, 0.15208823297715304, 0.11406617473286478, 0.9199151357583139, 0.7018948037458018, 0.28075792149832074, 0.843408871750162, 0.052713054484385125, 0.07906958172657769, 0.7408200058756526, 0.1743105896178006, 0.06536647110667522, 0.796180169988798, 0.08846446333208867, 0.8260725837064363, 0.11801036910091947, 0.7110604234637101, 0.15801342743638003, 0.11851007057728502, 0.10639697777425683, 0.8511758221940546, 0.2433852353691545, 0.20861591603070384, 0.5563091094152103, 0.6985739148356652, 0.25077012327434134, 0.05373645498735886, 0.6646380639965882, 0.17338384278171867, 0.1444865356514322, 0.8235481784780049, 0.0882373048369291, 0.0882373048369291, 0.948399886996645, 0.5827944591816897, 0.31221131741876235, 0.12488452696750495, 0.4491290229759089, 0.4491290229759089, 0.09980644955020197, 0.36917281597487583, 0.49223042129983446, 0.20284530695957756, 0.8113812278383102, 0.2490501752785449, 0.22137793358092878, 0.5257725922547059, 0.35462841547603746, 0.04432855193450468, 0.5762711751485609, 0.35308047730062625, 0.6620258949386743, 0.6899053574568159, 0.15679667214927634, 0.15679667214927634, 0.5443355152846118, 0.3463953279083893, 0.09897009368811123, 0.5109081636681879, 0.3746659866900045, 0.10218163273363759, 0.36992814257759765, 0.5548922138663964, 0.9343706440020312, 0.1167963305002539, 0.42935837780285446, 0.08178254815292466, 0.5111409259557791, 0.8022622764907404, 0.04222433034161792, 0.12667299102485374, 0.687258611659747, 0.2689272828233793, 0.059761618405195394, 0.762176359626275, 0.05862895074048269, 0.17588685222144806, 0.6231971029859646, 0.19942307295550868, 0.1744951888360701, 0.8049259473151918, 0.10976262917934433, 0.07317508611956289, 0.9021076606034918, 0.45244792964511854, 0.45244792964511854, 0.12927083704146244, 0.9166090536532406, 0.1934124498847471, 0.7736497995389884, 0.2234613823807651, 0.5958970196820402, 0.2234613823807651, 0.8638700895245484, 0.09598556550272759, 0.09598556550272759, 0.583946718843627, 0.07962909802413096, 0.34505942477123414, 0.9022700149763738, 0.19171737124646962, 0.43136408530455667, 0.38343474249293924, 0.27263313506080694, 0.6967291229331732, 0.15426314947176156, 0.7713157473588078, 0.8258789084148804, 0.15015980152997827, 0.16863700152605146, 0.056212333842017154, 0.730760339946223, 0.4929142322141299, 0.24645711610706494, 0.24645711610706494, 0.14183235259569368, 0.8509941155741622, 0.19921169495302363, 0.7968467798120945, 0.36498711476602014, 0.6204780951022343, 0.934106728835446, 0.902258907451176, 0.150376484575196, 0.13912791967139407, 0.04637597322379802, 0.8347675180283644, 0.9145585467222279, 0.18489786288604868, 0.554693588658146, 0.277346794329073, 0.9478267703046088, 0.18462238530450925, 0.46155596326127313, 0.3692447706090185, 0.32355375145252757, 0.09706612543575828, 0.5823967526145497, 0.9020658936234482, 0.1591266319746984, 0.6365065278987936, 0.1591266319746984, 0.7142843082845672, 0.22727227990872592, 0.06493493711677883, 0.5777105015033372, 0.2762963268059439, 0.15070708734869667, 0.8171091828125238, 0.16342183656250475, 0.10628643566143718, 0.903434703122216, 0.9680848323624668, 0.740941545222592, 0.0846790337397248, 0.1693580674794496, 0.9453074236189707, 0.9432959424816226, 0.0362806131723701, 0.954512613280997, 0.3169808645767186, 0.6339617291534372, 0.5016246823057193, 0.15266838157130588, 0.34895630073441347, 0.8486025727123176, 0.1060753215890397, 0.5789154652373077, 0.26314339328968533, 0.1578860359738112, 0.09783846792597649, 0.1630641132099608, 0.7500949207658197, 0.0856020802717498, 0.5136124816304988, 0.3424083210869992, 0.6040213233381948, 0.25886628143065493, 0.12943314071532747, 0.8752964592359653, 0.11670619456479538, 0.5277237262822189, 0.4146400706503149, 0.0753891037546027, 0.30945515501420456, 0.6189103100284091, 0.06189103100284091, 0.7926422207045097, 0.06605351839204247, 0.13210703678408495, 0.32975990820952805, 0.036639989801058676, 0.6228798266179975, 0.2590072602083704, 0.690686027222321, 0.13839030766432295, 0.5535612306572918, 0.2767806153286459, 0.5912350769748957, 0.04926958974790798, 0.34488712823535583, 0.3424536365862052, 0.03424536365862052, 0.6164165458551694, 0.4156503981135326, 0.06927506635225543, 0.5311088420339584, 0.24968137441495195, 0.7490441232448558, 0.9167026096287336, 0.09284291352368221, 0.5570574811420933, 0.37137165409472883, 0.15181360486956272, 0.8602770942608554, 0.17698337571229095, 0.7669279614199275, 0.18546856773971115, 0.5564057032191335, 0.18546856773971115, 0.7048482607827913, 0.05873735506523261, 0.23494942026093044, 0.28667219724517234, 0.4914380524202955, 0.2047658551751231, 0.9019655231566222, 0.6496898841447053, 0.3360464917989855, 0.9309728612275764, 0.0300313826202444, 0.0300313826202444, 0.7975226439037677, 0.13292044065062794, 0.6347747637836307, 0.24839012495881205, 0.11039561109280535, 0.45192604582405826, 0.45192604582405826, 0.06456086368915118, 0.8893088293446314, 0.08084625721314831, 0.3936780383389884, 0.5905170575084826, 0.4903025006425748, 0.4903025006425748, 0.27867770262869823, 0.5573554052573965, 0.13933885131434912, 0.8369000218753224, 0.15216364034096772, 0.18747610462196757, 0.8123964533618594, 0.15912474876774207, 0.6364989950709683, 0.15912474876774207, 0.8602272142049843, 0.14337120236749737, 0.8453449337668484, 0.10566811672085605, 0.10566811672085605, 0.848575564387658, 0.10607194554845725, 0.9211091329942709, 0.04386233966639385, 0.23475621609795813, 0.046951243219591626, 0.719919062700405, 0.06295570589588623, 0.8813798825424072, 0.5882148985843424, 0.09487337073941007, 0.3225694605139942, 0.3706853641537387, 0.5930965826459819, 0.9332888388076942, 0.13339950362755348, 0.9337965253928745, 0.4069112991114538, 0.5696758187560352, 0.18469125961774463, 0.8311106682798508, 0.4667062512022121, 0.2625222663012443, 0.2916914070013826, 0.7380036380155924, 0.02635727278627116, 0.23721545507644043, 0.2984600606270443, 0.6342276288324691, 0.037307507578380535, 0.12489316064830508, 0.6244658032415255, 0.12489316064830508, 0.7720352349419186, 0.14705433046512736, 0.07352716523256368, 0.20992449813904493, 0.6297734944171348, 0.13994966542602996, 0.2121246048743165, 0.5833426634043704, 0.2121246048743165, 0.30972429389857364, 0.4867096046977586, 0.17698531079918495, 0.1790054250176217, 0.13425406876321627, 0.6712703438160814, 0.6499834042001115, 0.34046749743815363, 0.1525814660162169, 0.9154887960973013, 0.07093288024747388, 0.8511945629696864, 0.9199330573676195, 0.1129183723562438, 0.03226239210178394, 0.8710845867481665, 0.11984225111627812, 0.1597896681550375, 0.7190535066976688, 0.17860626570802507, 0.11907084380535003, 0.6846573518807627, 0.13313612073634, 0.033284030184085, 0.8321007546021251, 0.3691858057812033, 0.4922477410416044, 0.1347011502627487, 0.8082069015764922, 0.17831912492890692, 0.8915956246445346, 0.41816418622253065, 0.33453134897802456, 0.29271493035577145, 0.5485405539371381, 0.4799729846949958, 0.2494313865327555, 0.6235784663318887, 0.22129099471024113, 0.44258198942048227, 0.3319364920653617, 0.09761962500566637, 0.8785766250509973, 0.8475181394548984, 0.14125302324248307, 0.5511229970409348, 0.2361955701604006, 0.2099516179203561, 0.13995632197670713, 0.5598252879068285, 0.13995632197670713, 0.5006715260704988, 0.5006715260704988, 0.24912781493624891, 0.6228195373406222, 0.38923126689226256, 0.4541031447076397, 0.1297437556307542, 0.37275376209518213, 0.34408039578016814, 0.2867336631501401], \"Term\": [\"account\", \"address\", \"address\", \"address\", \"africa\", \"africa\", \"africa\", \"agreement\", \"agreement\", \"aid\", \"aid\", \"aids\", \"ambitions\", \"americas\", \"americas\", \"americas\", \"better\", \"better\", \"better\", \"body\", \"body\", \"body\", \"break\", \"broad\", \"broad\", \"challenges\", \"challenges\", \"challenges\", \"change\", \"change\", \"change\", \"changes\", \"changes\", \"child\", \"child\", \"civil\", \"civil\", \"civil\", \"civilization\", \"civilization\", \"coalition\", \"coalition\", \"coalition\", \"come\", \"come\", \"come\", \"common\", \"common\", \"common\", \"community\", \"community\", \"community\", \"conditions\", \"conflict\", \"conflict\", \"conflict\", \"cooperation\", \"cooperation\", \"cooperation\", \"corrupt\", \"corrupt\", \"democracies\", \"democracies\", \"democratic\", \"democratic\", \"democratic\", \"destruction\", \"destruction\", \"destruction\", \"developing\", \"developing\", \"development\", \"development\", \"development\", \"differences\", \"differences\", \"differences\", \"different\", \"different\", \"different\", \"diplomacy\", \"diplomacy\", \"earlier\", \"earlier\", \"east\", \"east\", \"east\", \"economies\", \"economies\", \"economies\", \"economy\", \"economy\", \"economy\", \"effort\", \"effort\", \"effort\", \"end\", \"end\", \"end\", \"energy\", \"energy\", \"energy\", \"enormous\", \"ensure\", \"ensure\", \"ensure\", \"ethnic\", \"evil\", \"evil\", \"extremism\", \"extremism\", \"extremism\", \"extremist\", \"extremist\", \"extremist\", \"extremists\", \"extremists\", \"extremists\", \"faced\", \"faith\", \"faith\", \"faith\", \"fight\", \"fight\", \"fighting\", \"fighting\", \"focus\", \"focus\", \"food\", \"food\", \"food\", \"forces\", \"forces\", \"forces\", \"fund\", \"fund\", \"general\", \"general\", \"hall\", \"hall\", \"hand\", \"happening\", \"happening\", \"helping\", \"helping\", \"helping\", \"high\", \"ideology\", \"ideology\", \"ideology\", \"important\", \"impose\", \"impose\", \"impose\", \"including\", \"including\", \"including\", \"increase\", \"information\", \"information\", \"information\", \"interests\", \"interests\", \"interests\", \"iran\", \"iran\", \"iran\", \"irans\", \"irans\", \"iraqi\", \"iraqi\", \"iraqs\", \"israel\", \"israel\", \"israel\", \"israeli\", \"israelis\", \"israelis\", \"israels\", \"job\", \"job\", \"know\", \"know\", \"know\", \"led\", \"led\", \"let\", \"let\", \"let\", \"liberty\", \"liberty\", \"liberty\", \"lift\", \"lift\", \"lift\", \"like\", \"like\", \"like\", \"living\", \"living\", \"look\", \"look\", \"look\", \"makes\", \"makes\", \"makes\", \"markets\", \"markets\", \"markets\", \"mass\", \"mass\", \"mass\", \"matter\", \"matter\", \"media\", \"media\", \"media\", \"meet\", \"meet\", \"meet\", \"members\", \"members\", \"members\", \"middle\", \"middle\", \"middle\", \"million\", \"million\", \"misery\", \"modern\", \"modern\", \"modern\", \"murder\", \"murder\", \"needs\", \"needs\", \"offers\", \"offers\", \"offers\", \"open\", \"open\", \"open\", \"order\", \"order\", \"order\", \"pace\", \"palestinian\", \"palestinian\", \"palestinians\", \"palestinians\", \"palestinians\", \"partners\", \"partners\", \"path\", \"path\", \"path\", \"peacefully\", \"peacefully\", \"peacefully\", \"point\", \"point\", \"politics\", \"politics\", \"powers\", \"powers\", \"problem\", \"problem\", \"problem\", \"problems\", \"problems\", \"proliferation\", \"proliferation\", \"protests\", \"protests\", \"protests\", \"pursue\", \"pursue\", \"pursuing\", \"pursuing\", \"pursuing\", \"pursuit\", \"pursuit\", \"reach\", \"reach\", \"regime\", \"regime\", \"regime\", \"regimes\", \"regimes\", \"region\", \"region\", \"region\", \"reject\", \"reject\", \"relief\", \"representatives\", \"representatives\", \"resolution\", \"resolution\", \"resolutions\", \"resolutions\", \"respect\", \"respect\", \"respect\", \"responsibility\", \"responsibility\", \"responsibility\", \"russia\", \"russia\", \"russia\", \"school\", \"school\", \"school\", \"society\", \"society\", \"society\", \"speech\", \"speech\", \"speech\", \"strength\", \"strength\", \"strength\", \"strong\", \"strong\", \"strong\", \"suffering\", \"suffering\", \"suffering\", \"syria\", \"syria\", \"takes\", \"takes\", \"taliban\", \"taliban\", \"talks\", \"terror\", \"terror\", \"terror\", \"terrorism\", \"terrorism\", \"terrorism\", \"terrorist\", \"terrorist\", \"terrorist\", \"terrorists\", \"terrorists\", \"terrorists\", \"think\", \"think\", \"trafficking\", \"trafficking\", \"train\", \"train\", \"true\", \"true\", \"true\", \"ultimately\", \"ultimately\", \"understood\", \"understood\", \"unique\", \"unique\", \"unique\", \"victims\", \"victims\", \"wars\", \"wars\", \"way\", \"way\", \"way\", \"welcomed\", \"welcomed\", \"welcomed\", \"west\", \"west\", \"willing\", \"willing\", \"worked\", \"worked\", \"worked\", \"young\", \"young\", \"young\"]}, \"R\": 30, \"lambda.step\": 0.01, \"plot.opts\": {\"xlab\": \"PC1\", \"ylab\": \"PC2\"}, \"topic.order\": [1, 2, 3]};\n",
       "\n",
       "function LDAvis_load_lib(url, callback){\n",
       "  var s = document.createElement('script');\n",
       "  s.src = url;\n",
       "  s.async = true;\n",
       "  s.onreadystatechange = s.onload = callback;\n",
       "  s.onerror = function(){console.warn(\"failed to load library \" + url);};\n",
       "  document.getElementsByTagName(\"head\")[0].appendChild(s);\n",
       "}\n",
       "\n",
       "if(typeof(LDAvis) !== \"undefined\"){\n",
       "   // already loaded: just create the visualization\n",
       "   !function(LDAvis){\n",
       "       new LDAvis(\"#\" + \"ldavis_el2021220145772153048570243437\", ldavis_el2021220145772153048570243437_data);\n",
       "   }(LDAvis);\n",
       "}else if(typeof define === \"function\" && define.amd){\n",
       "   // require.js is available: use it to load d3/LDAvis\n",
       "   require.config({paths: {d3: \"https://d3js.org/d3.v5\"}});\n",
       "   require([\"d3\"], function(d3){\n",
       "      window.d3 = d3;\n",
       "      LDAvis_load_lib(\"https://cdn.jsdelivr.net/gh/bmabey/pyLDAvis@3.3.1/pyLDAvis/js/ldavis.v3.0.0.js\", function(){\n",
       "        new LDAvis(\"#\" + \"ldavis_el2021220145772153048570243437\", ldavis_el2021220145772153048570243437_data);\n",
       "      });\n",
       "    });\n",
       "}else{\n",
       "    // require.js not available: dynamically load d3 & LDAvis\n",
       "    LDAvis_load_lib(\"https://d3js.org/d3.v5.js\", function(){\n",
       "         LDAvis_load_lib(\"https://cdn.jsdelivr.net/gh/bmabey/pyLDAvis@3.3.1/pyLDAvis/js/ldavis.v3.0.0.js\", function(){\n",
       "                 new LDAvis(\"#\" + \"ldavis_el2021220145772153048570243437\", ldavis_el2021220145772153048570243437_data);\n",
       "            })\n",
       "         });\n",
       "}\n",
       "</script>"
      ],
      "text/plain": [
       "<IPython.core.display.HTML object>"
      ]
     },
     "execution_count": 108,
     "metadata": {},
     "output_type": "execute_result"
    }
   ],
   "source": [
    "# visualize\n",
    "lda_viz = pyLDAvis.sklearn.prepare(lda_model=lda,\n",
    "                                  dtm=X,\n",
    "                                  vectorizer=vec,\n",
    "                                  sort_topics=False)\n",
    "\n",
    "pyLDAvis.display(lda_viz)"
   ]
  },
  {
   "cell_type": "markdown",
   "metadata": {},
   "source": [
    "- Big non-overlapping bubbles scattered throughout the chart (although one bubble is slightly smaller).\n",
    "- The bubbles are quite far away from each other.\n",
    "- The bubble representing Topic 1 (i.e. Topic_0 in our dataframe) is the biggest - this means that the percentage of speeches about that topic are the highest in the corpus we have. \n",
    "\n",
    "Using the visualization above, I will look at the highest frequency words in each topic and try to interpret them. \n",
    "\n",
    "- Topic 1: Israel-Palestine Conflict\n",
    "- Topic 2: Russia–Syria–Iran–Iraq coalition\n",
    "- Topic 3: Terrorism in the East"
   ]
  },
  {
   "cell_type": "code",
   "execution_count": 109,
   "metadata": {},
   "outputs": [
    {
     "data": {
      "text/html": [
       "<div>\n",
       "<style scoped>\n",
       "    .dataframe tbody tr th:only-of-type {\n",
       "        vertical-align: middle;\n",
       "    }\n",
       "\n",
       "    .dataframe tbody tr th {\n",
       "        vertical-align: top;\n",
       "    }\n",
       "\n",
       "    .dataframe thead th {\n",
       "        text-align: right;\n",
       "    }\n",
       "</style>\n",
       "<table border=\"1\" class=\"dataframe\">\n",
       "  <thead>\n",
       "    <tr style=\"text-align: right;\">\n",
       "      <th></th>\n",
       "      <th>top_words</th>\n",
       "      <th>topic_name</th>\n",
       "    </tr>\n",
       "  </thead>\n",
       "  <tbody>\n",
       "    <tr>\n",
       "      <th>Topic_0</th>\n",
       "      <td>come israel change challenges palestinians reg...</td>\n",
       "      <td>Israel-Palestine Conflict</td>\n",
       "    </tr>\n",
       "    <tr>\n",
       "      <th>Topic_1</th>\n",
       "      <td>russia conflict come like order young strong i...</td>\n",
       "      <td>Russia–Syria–Iran–Iraq coalition</td>\n",
       "    </tr>\n",
       "    <tr>\n",
       "      <th>Topic_2</th>\n",
       "      <td>terror terrorists regime iraqi east terrorist ...</td>\n",
       "      <td>Terrorism in the East</td>\n",
       "    </tr>\n",
       "  </tbody>\n",
       "</table>\n",
       "</div>"
      ],
      "text/plain": [
       "                                                 top_words  \\\n",
       "Topic_0  come israel change challenges palestinians reg...   \n",
       "Topic_1  russia conflict come like order young strong i...   \n",
       "Topic_2  terror terrorists regime iraqi east terrorist ...   \n",
       "\n",
       "                               topic_name  \n",
       "Topic_0         Israel-Palestine Conflict  \n",
       "Topic_1  Russia–Syria–Iran–Iraq coalition  \n",
       "Topic_2             Terrorism in the East  "
      ]
     },
     "execution_count": 109,
     "metadata": {},
     "output_type": "execute_result"
    }
   ],
   "source": [
    "# add labels\n",
    "main_topics_df['topic_name'] = ['Israel-Palestine Conflict',\n",
    "                                'Russia–Syria–Iran–Iraq coalition',\n",
    "                                'Terrorism in the East']\n",
    "\n",
    "# view \n",
    "main_topics_df"
   ]
  },
  {
   "cell_type": "markdown",
   "metadata": {},
   "source": [
    "## <center> <font color='royalblue'> Topic Modeling - UN Security Council Permanent Members"
   ]
  },
  {
   "cell_type": "code",
   "execution_count": 110,
   "metadata": {},
   "outputs": [
    {
     "data": {
      "text/html": [
       "<div>\n",
       "<style scoped>\n",
       "    .dataframe tbody tr th:only-of-type {\n",
       "        vertical-align: middle;\n",
       "    }\n",
       "\n",
       "    .dataframe tbody tr th {\n",
       "        vertical-align: top;\n",
       "    }\n",
       "\n",
       "    .dataframe thead th {\n",
       "        text-align: right;\n",
       "    }\n",
       "</style>\n",
       "<table border=\"1\" class=\"dataframe\">\n",
       "  <thead>\n",
       "    <tr style=\"text-align: right;\">\n",
       "      <th></th>\n",
       "      <th>id</th>\n",
       "      <th>session</th>\n",
       "      <th>year</th>\n",
       "      <th>country</th>\n",
       "      <th>country_name</th>\n",
       "      <th>speaker</th>\n",
       "      <th>position</th>\n",
       "      <th>text</th>\n",
       "    </tr>\n",
       "  </thead>\n",
       "  <tbody>\n",
       "    <tr>\n",
       "      <th>17</th>\n",
       "      <td>17</td>\n",
       "      <td>25</td>\n",
       "      <td>1970</td>\n",
       "      <td>FRA</td>\n",
       "      <td>France</td>\n",
       "      <td>Mr. SCHUMANN</td>\n",
       "      <td>NaN</td>\n",
       "      <td>84.\\t  Within one month, when we celebrate the...</td>\n",
       "    </tr>\n",
       "    <tr>\n",
       "      <th>18</th>\n",
       "      <td>18</td>\n",
       "      <td>25</td>\n",
       "      <td>1970</td>\n",
       "      <td>GBR</td>\n",
       "      <td>United Kingdom</td>\n",
       "      <td>Sir Alec DOUGLASHOME</td>\n",
       "      <td>NaN</td>\n",
       "      <td>110.\\t Mr. President, I should like first to s...</td>\n",
       "    </tr>\n",
       "    <tr>\n",
       "      <th>65</th>\n",
       "      <td>65</td>\n",
       "      <td>25</td>\n",
       "      <td>1970</td>\n",
       "      <td>USA</td>\n",
       "      <td>United States</td>\n",
       "      <td>Mr. YOST</td>\n",
       "      <td>NaN</td>\n",
       "      <td>1.\\t It is my privilege to extend to you once ...</td>\n",
       "    </tr>\n",
       "    <tr>\n",
       "      <th>86</th>\n",
       "      <td>86</td>\n",
       "      <td>26</td>\n",
       "      <td>1971</td>\n",
       "      <td>CHN</td>\n",
       "      <td>China</td>\n",
       "      <td>Mr. CHOW</td>\n",
       "      <td>NaN</td>\n",
       "      <td>1.\\t  Mr. President, it is my pleasant duty, o...</td>\n",
       "    </tr>\n",
       "    <tr>\n",
       "      <th>103</th>\n",
       "      <td>103</td>\n",
       "      <td>26</td>\n",
       "      <td>1971</td>\n",
       "      <td>FRA</td>\n",
       "      <td>France</td>\n",
       "      <td>Mr. SCHUMANN</td>\n",
       "      <td>NaN</td>\n",
       "      <td>34.\\tIt is toward Asia where all the problems ...</td>\n",
       "    </tr>\n",
       "  </tbody>\n",
       "</table>\n",
       "</div>"
      ],
      "text/plain": [
       "      id  session  year country    country_name               speaker  \\\n",
       "17    17       25  1970     FRA          France          Mr. SCHUMANN   \n",
       "18    18       25  1970     GBR  United Kingdom  Sir Alec DOUGLASHOME   \n",
       "65    65       25  1970     USA   United States              Mr. YOST   \n",
       "86    86       26  1971     CHN           China              Mr. CHOW   \n",
       "103  103       26  1971     FRA          France          Mr. SCHUMANN   \n",
       "\n",
       "    position                                               text  \n",
       "17       NaN  84.\\t  Within one month, when we celebrate the...  \n",
       "18       NaN  110.\\t Mr. President, I should like first to s...  \n",
       "65       NaN  1.\\t It is my privilege to extend to you once ...  \n",
       "86       NaN  1.\\t  Mr. President, it is my pleasant duty, o...  \n",
       "103      NaN  34.\\tIt is toward Asia where all the problems ...  "
      ]
     },
     "execution_count": 110,
     "metadata": {},
     "output_type": "execute_result"
    }
   ],
   "source": [
    "# filter dataset to only permanent UN security council members\n",
    "country_list = ['USA','RUS','CHN','FRA','GBR']\n",
    "un_scm_speeches = un_speeches[un_speeches['country'].isin(country_list)]\n",
    "\n",
    "# view \n",
    "un_scm_speeches.head()"
   ]
  },
  {
   "cell_type": "code",
   "execution_count": 111,
   "metadata": {},
   "outputs": [
    {
     "name": "stdout",
     "output_type": "stream",
     "text": [
      "Dimensionality: This dataset has  228  observations and  8  features.\n"
     ]
    }
   ],
   "source": [
    "print('Dimensionality: This dataset has ',un_scm_speeches.shape[0], ' observations and ',un_scm_speeches.shape[1], ' features.')"
   ]
  },
  {
   "cell_type": "code",
   "execution_count": 112,
   "metadata": {},
   "outputs": [],
   "source": [
    "# Select only id, speaker, and speech text\n",
    "df = un_scm_speeches[[\"id\", \"speaker\", \"text\"]]"
   ]
  },
  {
   "cell_type": "markdown",
   "metadata": {},
   "source": [
    "#### Steps:\n",
    "1. Instantiate vectorizer with parameters: vectorizer\n",
    "2. Vectorize column of text with fit_transform: X\n",
    "3. Instantiate LDA model with parameters: lda\n",
    "4. Fit LDA model to vectorized text: doc_topics"
   ]
  },
  {
   "cell_type": "markdown",
   "metadata": {},
   "source": [
    "#### 1. Instantiate vectorizer with parameters: vectorizer"
   ]
  },
  {
   "cell_type": "code",
   "execution_count": 113,
   "metadata": {},
   "outputs": [
    {
     "data": {
      "text/html": [
       "<div>\n",
       "<style scoped>\n",
       "    .dataframe tbody tr th:only-of-type {\n",
       "        vertical-align: middle;\n",
       "    }\n",
       "\n",
       "    .dataframe tbody tr th {\n",
       "        vertical-align: top;\n",
       "    }\n",
       "\n",
       "    .dataframe thead th {\n",
       "        text-align: right;\n",
       "    }\n",
       "</style>\n",
       "<table border=\"1\" class=\"dataframe\">\n",
       "  <thead>\n",
       "    <tr style=\"text-align: right;\">\n",
       "      <th></th>\n",
       "      <th>id</th>\n",
       "      <th>speaker</th>\n",
       "      <th>text</th>\n",
       "    </tr>\n",
       "  </thead>\n",
       "  <tbody>\n",
       "    <tr>\n",
       "      <th>17</th>\n",
       "      <td>17</td>\n",
       "      <td>Mr. SCHUMANN</td>\n",
       "      <td>\\t  Within one month when we celebrate the twe...</td>\n",
       "    </tr>\n",
       "    <tr>\n",
       "      <th>18</th>\n",
       "      <td>18</td>\n",
       "      <td>Sir Alec DOUGLASHOME</td>\n",
       "      <td>\\t Mr President I should like first to say how...</td>\n",
       "    </tr>\n",
       "    <tr>\n",
       "      <th>65</th>\n",
       "      <td>65</td>\n",
       "      <td>Mr. YOST</td>\n",
       "      <td>\\t It is my privilege to extend to you once ag...</td>\n",
       "    </tr>\n",
       "    <tr>\n",
       "      <th>86</th>\n",
       "      <td>86</td>\n",
       "      <td>Mr. CHOW</td>\n",
       "      <td>\\t  Mr President it is my pleasant duty on beh...</td>\n",
       "    </tr>\n",
       "    <tr>\n",
       "      <th>103</th>\n",
       "      <td>103</td>\n",
       "      <td>Mr. SCHUMANN</td>\n",
       "      <td>\\tIt is toward Asia where all the problems of ...</td>\n",
       "    </tr>\n",
       "  </tbody>\n",
       "</table>\n",
       "</div>"
      ],
      "text/plain": [
       "      id               speaker  \\\n",
       "17    17          Mr. SCHUMANN   \n",
       "18    18  Sir Alec DOUGLASHOME   \n",
       "65    65              Mr. YOST   \n",
       "86    86              Mr. CHOW   \n",
       "103  103          Mr. SCHUMANN   \n",
       "\n",
       "                                                  text  \n",
       "17   \\t  Within one month when we celebrate the twe...  \n",
       "18   \\t Mr President I should like first to say how...  \n",
       "65   \\t It is my privilege to extend to you once ag...  \n",
       "86   \\t  Mr President it is my pleasant duty on beh...  \n",
       "103  \\tIt is toward Asia where all the problems of ...  "
      ]
     },
     "execution_count": 113,
     "metadata": {},
     "output_type": "execute_result"
    }
   ],
   "source": [
    "warnings.filterwarnings(\"ignore\")\n",
    "\n",
    "# remove punctuation \n",
    "df[\"text\"] = df['text'].str.replace(\"[^\\w\\s]\", '')\n",
    "\n",
    "# remove numbers\n",
    "df[\"text\"] = df['text'].str.replace('\\d+', '')\n",
    "\n",
    "# view \n",
    "df.head()"
   ]
  },
  {
   "cell_type": "code",
   "execution_count": 114,
   "metadata": {},
   "outputs": [],
   "source": [
    "# instantiate vectorizer\n",
    "vec = CountVectorizer(stop_words=\"english\",\n",
    "                    lowercase=True,\n",
    "                    ngram_range=(1, 1), # lower bound,upper bound: 1,1 only unigrams, 1,2 unigrams and bigrams, 2,2 only bigrams, etc...,\n",
    "                    min_df=5, # ignore rare words (appear in less than 5 documents)\n",
    "                    max_df=0.8) # ignore common words (appear in more than 80% of documents)"
   ]
  },
  {
   "cell_type": "markdown",
   "metadata": {},
   "source": [
    "#### 2. Vectorize column of text with fit_transform: X"
   ]
  },
  {
   "cell_type": "code",
   "execution_count": 115,
   "metadata": {},
   "outputs": [],
   "source": [
    "# create document-term matrix\n",
    "X = vec.fit_transform(df[\"text\"])"
   ]
  },
  {
   "cell_type": "code",
   "execution_count": 116,
   "metadata": {},
   "outputs": [
    {
     "data": {
      "text/plain": [
       "(228, 6454)"
      ]
     },
     "execution_count": 116,
     "metadata": {},
     "output_type": "execute_result"
    }
   ],
   "source": [
    "# check: documents, terms\n",
    "X.shape"
   ]
  },
  {
   "cell_type": "code",
   "execution_count": 117,
   "metadata": {},
   "outputs": [
    {
     "name": "stdout",
     "output_type": "stream",
     "text": [
      "There are 228 documents, and 6454 terms.\n"
     ]
    }
   ],
   "source": [
    "print('There are',X.shape[0],'documents, and',X.shape[1],'terms.')"
   ]
  },
  {
   "cell_type": "markdown",
   "metadata": {},
   "source": [
    "#### 3. Instantiate LDA model with parameters: lda"
   ]
  },
  {
   "cell_type": "code",
   "execution_count": 118,
   "metadata": {},
   "outputs": [],
   "source": [
    "# instantiate LDA\n",
    "lda = LatentDirichletAllocation(n_components=5,\n",
    "                                       random_state=42)"
   ]
  },
  {
   "cell_type": "markdown",
   "metadata": {},
   "source": [
    "#### 4. Fit LDA model to vectorized text: doc_topics"
   ]
  },
  {
   "cell_type": "code",
   "execution_count": 119,
   "metadata": {},
   "outputs": [],
   "source": [
    "# fit LDA model to vectorized text\n",
    "doc_topics = lda.fit_transform(X)"
   ]
  },
  {
   "cell_type": "code",
   "execution_count": 120,
   "metadata": {
    "scrolled": false
   },
   "outputs": [
    {
     "name": "stdout",
     "output_type": "stream",
     "text": [
      "There are 5 topics and 6454 words\n"
     ]
    }
   ],
   "source": [
    "print(f\"There are {lda.components_.shape[0]} topics and {lda.components_.shape[1]} words\")"
   ]
  },
  {
   "cell_type": "markdown",
   "metadata": {},
   "source": [
    "### Analysis"
   ]
  },
  {
   "cell_type": "markdown",
   "metadata": {},
   "source": [
    "#### Extract top words from each topic"
   ]
  },
  {
   "cell_type": "code",
   "execution_count": 121,
   "metadata": {},
   "outputs": [],
   "source": [
    "# get feature names (vocabulary)\n",
    "voc = np.array(vec.get_feature_names())"
   ]
  },
  {
   "cell_type": "code",
   "execution_count": 122,
   "metadata": {},
   "outputs": [],
   "source": [
    "# set number of top words you want\n",
    "n_words=10\n",
    "\n",
    "# create lambda function to extra top words from voc\n",
    "imp_words = lambda x: [voc[each] for each in np.argsort(x)[:-n_words-1:-1]]"
   ]
  },
  {
   "cell_type": "code",
   "execution_count": 123,
   "metadata": {},
   "outputs": [],
   "source": [
    "# use imp_words to extract words with the highest weights from our lda model\n",
    "words_in_topic = ([imp_words(x) for x in lda.components_])"
   ]
  },
  {
   "cell_type": "code",
   "execution_count": 124,
   "metadata": {},
   "outputs": [],
   "source": [
    "# join words into single string\n",
    "main_topics = [' '.join(x) for x in words_in_topic]"
   ]
  },
  {
   "cell_type": "code",
   "execution_count": 125,
   "metadata": {},
   "outputs": [],
   "source": [
    "# create dataframe with top words and set index to topic number\n",
    "main_topics_df = pd.DataFrame({\"top_words\": main_topics},\n",
    "                             index=[\"Topic_\" + str(each) for each in range(lda.n_components)])"
   ]
  },
  {
   "cell_type": "code",
   "execution_count": 126,
   "metadata": {
    "scrolled": true
   },
   "outputs": [
    {
     "data": {
      "text/html": [
       "<div>\n",
       "<style scoped>\n",
       "    .dataframe tbody tr th:only-of-type {\n",
       "        vertical-align: middle;\n",
       "    }\n",
       "\n",
       "    .dataframe tbody tr th {\n",
       "        vertical-align: top;\n",
       "    }\n",
       "\n",
       "    .dataframe thead th {\n",
       "        text-align: right;\n",
       "    }\n",
       "</style>\n",
       "<table border=\"1\" class=\"dataframe\">\n",
       "  <thead>\n",
       "    <tr style=\"text-align: right;\">\n",
       "      <th></th>\n",
       "      <th>top_words</th>\n",
       "    </tr>\n",
       "  </thead>\n",
       "  <tbody>\n",
       "    <tr>\n",
       "      <th>Topic_0</th>\n",
       "      <td>france china stability regional developing rus...</td>\n",
       "    </tr>\n",
       "    <tr>\n",
       "      <th>Topic_1</th>\n",
       "      <td>iraq weapons democracy let freedom help change...</td>\n",
       "    </tr>\n",
       "    <tr>\n",
       "      <th>Topic_2</th>\n",
       "      <td>europe european union agreement problems settl...</td>\n",
       "    </tr>\n",
       "    <tr>\n",
       "      <th>Topic_3</th>\n",
       "      <td>nuclear south let developing conference proble...</td>\n",
       "    </tr>\n",
       "    <tr>\n",
       "      <th>Topic_4</th>\n",
       "      <td>soviet nuclear union weapons relations militar...</td>\n",
       "    </tr>\n",
       "  </tbody>\n",
       "</table>\n",
       "</div>"
      ],
      "text/plain": [
       "                                                 top_words\n",
       "Topic_0  france china stability regional developing rus...\n",
       "Topic_1  iraq weapons democracy let freedom help change...\n",
       "Topic_2  europe european union agreement problems settl...\n",
       "Topic_3  nuclear south let developing conference proble...\n",
       "Topic_4  soviet nuclear union weapons relations militar..."
      ]
     },
     "execution_count": 126,
     "metadata": {},
     "output_type": "execute_result"
    }
   ],
   "source": [
    "# examine top words\n",
    "main_topics_df"
   ]
  },
  {
   "cell_type": "code",
   "execution_count": 127,
   "metadata": {},
   "outputs": [
    {
     "data": {
      "text/plain": [
       "['france china stability regional developing russia nuclear principles respect relations',\n",
       " 'iraq weapons democracy let freedom help change america believe build',\n",
       " 'europe european union agreement problems settlement like republic shall conference',\n",
       " 'nuclear south let developing conference problems negotiations conflict weapons soviet',\n",
       " 'soviet nuclear union weapons relations military disarmament arms question policy']"
      ]
     },
     "execution_count": 127,
     "metadata": {},
     "output_type": "execute_result"
    }
   ],
   "source": [
    "# examine top words\n",
    "list(main_topics_df.top_words.values)"
   ]
  },
  {
   "cell_type": "markdown",
   "metadata": {},
   "source": [
    "#### Create a document topic matrix from results"
   ]
  },
  {
   "cell_type": "code",
   "execution_count": 128,
   "metadata": {},
   "outputs": [],
   "source": [
    "cols = [\"Topic_\" + str(each) for each in range(lda.n_components)]\n",
    "docs = [\"Document_\" + str(each) for each in range(X.shape[0])]"
   ]
  },
  {
   "cell_type": "code",
   "execution_count": 129,
   "metadata": {},
   "outputs": [],
   "source": [
    "# create dataframe with term weights and document # and topic # as rows, columns\n",
    "df_topics = pd.DataFrame(np.round(doc_topics, 2),\n",
    "                        columns=cols,\n",
    "                        index=docs)"
   ]
  },
  {
   "cell_type": "code",
   "execution_count": 130,
   "metadata": {},
   "outputs": [],
   "source": [
    "# Extract most important topics from those values\n",
    "imp_topic = np.argmax(df_topics.values, axis=1)"
   ]
  },
  {
   "cell_type": "code",
   "execution_count": 131,
   "metadata": {
    "scrolled": true
   },
   "outputs": [
    {
     "data": {
      "text/html": [
       "<div>\n",
       "<style scoped>\n",
       "    .dataframe tbody tr th:only-of-type {\n",
       "        vertical-align: middle;\n",
       "    }\n",
       "\n",
       "    .dataframe tbody tr th {\n",
       "        vertical-align: top;\n",
       "    }\n",
       "\n",
       "    .dataframe thead th {\n",
       "        text-align: right;\n",
       "    }\n",
       "</style>\n",
       "<table border=\"1\" class=\"dataframe\">\n",
       "  <thead>\n",
       "    <tr style=\"text-align: right;\">\n",
       "      <th></th>\n",
       "      <th>Topic_0</th>\n",
       "      <th>Topic_1</th>\n",
       "      <th>Topic_2</th>\n",
       "      <th>Topic_3</th>\n",
       "      <th>Topic_4</th>\n",
       "    </tr>\n",
       "  </thead>\n",
       "  <tbody>\n",
       "    <tr>\n",
       "      <th>Document_0</th>\n",
       "      <td>0.02</td>\n",
       "      <td>0.14</td>\n",
       "      <td>0.80</td>\n",
       "      <td>0.00</td>\n",
       "      <td>0.03</td>\n",
       "    </tr>\n",
       "    <tr>\n",
       "      <th>Document_1</th>\n",
       "      <td>0.00</td>\n",
       "      <td>0.11</td>\n",
       "      <td>0.89</td>\n",
       "      <td>0.00</td>\n",
       "      <td>0.00</td>\n",
       "    </tr>\n",
       "    <tr>\n",
       "      <th>Document_2</th>\n",
       "      <td>0.05</td>\n",
       "      <td>0.00</td>\n",
       "      <td>0.31</td>\n",
       "      <td>0.61</td>\n",
       "      <td>0.03</td>\n",
       "    </tr>\n",
       "    <tr>\n",
       "      <th>Document_3</th>\n",
       "      <td>0.00</td>\n",
       "      <td>0.17</td>\n",
       "      <td>0.18</td>\n",
       "      <td>0.18</td>\n",
       "      <td>0.46</td>\n",
       "    </tr>\n",
       "    <tr>\n",
       "      <th>Document_4</th>\n",
       "      <td>0.07</td>\n",
       "      <td>0.00</td>\n",
       "      <td>0.46</td>\n",
       "      <td>0.36</td>\n",
       "      <td>0.11</td>\n",
       "    </tr>\n",
       "  </tbody>\n",
       "</table>\n",
       "</div>"
      ],
      "text/plain": [
       "            Topic_0  Topic_1  Topic_2  Topic_3  Topic_4\n",
       "Document_0     0.02     0.14     0.80     0.00     0.03\n",
       "Document_1     0.00     0.11     0.89     0.00     0.00\n",
       "Document_2     0.05     0.00     0.31     0.61     0.03\n",
       "Document_3     0.00     0.17     0.18     0.18     0.46\n",
       "Document_4     0.07     0.00     0.46     0.36     0.11"
      ]
     },
     "execution_count": 131,
     "metadata": {},
     "output_type": "execute_result"
    }
   ],
   "source": [
    "# view dataframe\n",
    "df_topics.head()"
   ]
  },
  {
   "cell_type": "code",
   "execution_count": 132,
   "metadata": {
    "scrolled": true
   },
   "outputs": [],
   "source": [
    "# store top topic\n",
    "df_topics[\"top_topic\"] = imp_topic"
   ]
  },
  {
   "cell_type": "code",
   "execution_count": 133,
   "metadata": {},
   "outputs": [
    {
     "data": {
      "text/html": [
       "<div>\n",
       "<style scoped>\n",
       "    .dataframe tbody tr th:only-of-type {\n",
       "        vertical-align: middle;\n",
       "    }\n",
       "\n",
       "    .dataframe tbody tr th {\n",
       "        vertical-align: top;\n",
       "    }\n",
       "\n",
       "    .dataframe thead th {\n",
       "        text-align: right;\n",
       "    }\n",
       "</style>\n",
       "<table border=\"1\" class=\"dataframe\">\n",
       "  <thead>\n",
       "    <tr style=\"text-align: right;\">\n",
       "      <th></th>\n",
       "      <th>Topic_0</th>\n",
       "      <th>Topic_1</th>\n",
       "      <th>Topic_2</th>\n",
       "      <th>Topic_3</th>\n",
       "      <th>Topic_4</th>\n",
       "      <th>top_topic</th>\n",
       "    </tr>\n",
       "  </thead>\n",
       "  <tbody>\n",
       "    <tr>\n",
       "      <th>Document_0</th>\n",
       "      <td>0.02</td>\n",
       "      <td>0.14</td>\n",
       "      <td>0.80</td>\n",
       "      <td>0.00</td>\n",
       "      <td>0.03</td>\n",
       "      <td>2</td>\n",
       "    </tr>\n",
       "    <tr>\n",
       "      <th>Document_1</th>\n",
       "      <td>0.00</td>\n",
       "      <td>0.11</td>\n",
       "      <td>0.89</td>\n",
       "      <td>0.00</td>\n",
       "      <td>0.00</td>\n",
       "      <td>2</td>\n",
       "    </tr>\n",
       "    <tr>\n",
       "      <th>Document_2</th>\n",
       "      <td>0.05</td>\n",
       "      <td>0.00</td>\n",
       "      <td>0.31</td>\n",
       "      <td>0.61</td>\n",
       "      <td>0.03</td>\n",
       "      <td>3</td>\n",
       "    </tr>\n",
       "    <tr>\n",
       "      <th>Document_3</th>\n",
       "      <td>0.00</td>\n",
       "      <td>0.17</td>\n",
       "      <td>0.18</td>\n",
       "      <td>0.18</td>\n",
       "      <td>0.46</td>\n",
       "      <td>4</td>\n",
       "    </tr>\n",
       "    <tr>\n",
       "      <th>Document_4</th>\n",
       "      <td>0.07</td>\n",
       "      <td>0.00</td>\n",
       "      <td>0.46</td>\n",
       "      <td>0.36</td>\n",
       "      <td>0.11</td>\n",
       "      <td>2</td>\n",
       "    </tr>\n",
       "  </tbody>\n",
       "</table>\n",
       "</div>"
      ],
      "text/plain": [
       "            Topic_0  Topic_1  Topic_2  Topic_3  Topic_4  top_topic\n",
       "Document_0     0.02     0.14     0.80     0.00     0.03          2\n",
       "Document_1     0.00     0.11     0.89     0.00     0.00          2\n",
       "Document_2     0.05     0.00     0.31     0.61     0.03          3\n",
       "Document_3     0.00     0.17     0.18     0.18     0.46          4\n",
       "Document_4     0.07     0.00     0.46     0.36     0.11          2"
      ]
     },
     "execution_count": 133,
     "metadata": {},
     "output_type": "execute_result"
    }
   ],
   "source": [
    "# view\n",
    "df_topics.head()"
   ]
  },
  {
   "cell_type": "code",
   "execution_count": 134,
   "metadata": {},
   "outputs": [
    {
     "data": {
      "text/html": [
       "\n",
       "<link rel=\"stylesheet\" type=\"text/css\" href=\"https://cdn.jsdelivr.net/gh/bmabey/pyLDAvis@3.3.1/pyLDAvis/js/ldavis.v1.0.0.css\">\n",
       "\n",
       "\n",
       "<div id=\"ldavis_el2021220145777088721788211031\"></div>\n",
       "<script type=\"text/javascript\">\n",
       "\n",
       "var ldavis_el2021220145777088721788211031_data = {\"mdsDat\": {\"x\": [0.03888219504598776, -0.14795293915424026, 0.025029140134840422, -0.02023708446785669, 0.10427868844126875], \"y\": [-0.09137212832875558, -0.021394201906023744, 0.09329214357737568, 0.03195057800818173, -0.012476391350778271], \"topics\": [1, 2, 3, 4, 5], \"cluster\": [1, 1, 1, 1, 1], \"Freq\": [20.673278523121542, 16.598718681318957, 11.160271973291193, 23.927196724201956, 27.64053409806636]}, \"tinfo\": {\"Term\": [\"soviet\", \"france\", \"china\", \"union\", \"iraq\", \"russia\", \"european\", \"relations\", \"europe\", \"chinese\", \"democracy\", \"freedom\", \"republic\", \"shall\", \"regional\", \"struggle\", \"detente\", \"socialist\", \"children\", \"aggression\", \"terrorists\", \"superpowers\", \"let\", \"challenges\", \"reform\", \"dialogue\", \"disarmament\", \"settlement\", \"terrorism\", \"agreement\", \"interaction\", \"winwin\", \"cis\", \"irreplaceable\", \"harmonious\", \"multipolar\", \"multipolarity\", \"openingup\", \"mentality\", \"osce\", \"separatism\", \"ossetia\", \"sixparty\", \"eurasian\", \"compatriots\", \"abkhazia\", \"postconflict\", \"entity\", \"hotspot\", \"euroatlantic\", \"mdgs\", \"nontraditional\", \"herzegovina\", \"fairer\", \"frances\", \"humankinds\", \"karabakh\", \"coercive\", \"coherence\", \"statute\", \"globalization\", \"russia\", \"tajikistan\", \"mechanisms\", \"russian\", \"taiwan\", \"france\", \"dialogue\", \"chinas\", \"china\", \"mechanism\", \"stability\", \"civilizations\", \"regional\", \"reform\", \"relevant\", \"functioning\", \"consultation\", \"organizations\", \"financial\", \"enhance\", \"legal\", \"solidarity\", \"crisis\", \"respect\", \"issue\", \"social\", \"environment\", \"principles\", \"conflicts\", \"process\", \"chinese\", \"terrorism\", \"promote\", \"mutual\", \"century\", \"charter\", \"developing\", \"challenges\", \"comprehensive\", \"situation\", \"relations\", \"region\", \"settlement\", \"basis\", \"nuclear\", \"interests\", \"national\", \"peaceful\", \"weapons\", \"session\", \"isil\", \"islam\", \"saddam\", \"malaria\", \"sectarian\", \"iraqis\", \"muslims\", \"god\", \"networks\", \"libyan\", \"extremists\", \"alqaida\", \"warming\", \"alassad\", \"girls\", \"corruption\", \"brutality\", \"syrias\", \"tuberculosis\", \"emissions\", \"mothers\", \"iraqi\", \"hatreds\", \"accountable\", \"hivaids\", \"tunisia\", \"dictators\", \"accountability\", \"yemen\", \"muslim\", \"terrorists\", \"dictator\", \"terror\", \"children\", \"iraq\", \"institution\", \"ukraine\", \"israelis\", \"tax\", \"democracy\", \"promise\", \"darfur\", \"women\", \"citizens\", \"syrian\", \"coalition\", \"syria\", \"terrorist\", \"americas\", \"build\", \"lives\", \"nation\", \"america\", \"change\", \"freedom\", \"dignity\", \"iran\", \"know\", \"live\", \"climate\", \"free\", \"let\", \"help\", \"regime\", \"terrorism\", \"fight\", \"challenges\", \"believe\", \"act\", \"weapons\", \"responsibility\", \"opportunity\", \"come\", \"conflict\", \"history\", \"region\", \"power\", \"nuclear\", \"democratic\", \"century\", \"law\", \"nixon\", \"calendar\", \"salisbury\", \"register\", \"argentine\", \"jarring\", \"unprofor\", \"anachronistic\", \"grips\", \"economists\", \"congratulated\", \"suez\", \"centers\", \"favored\", \"canal\", \"perilous\", \"perestroika\", \"covenants\", \"affirming\", \"euphoria\", \"standpoint\", \"proximity\", \"surprising\", \"autumn\", \"impatience\", \"confrontations\", \"standstill\", \"nd\", \"idle\", \"grouping\", \"necessarily\", \"enlarged\", \"presiding\", \"mikhail\", \"organisation\", \"machinery\", \"bitterness\", \"berlin\", \"argentina\", \"european\", \"shall\", \"rhodesia\", \"dialog\", \"lusaka\", \"physical\", \"hijacking\", \"europe\", \"ideological\", \"mr\", \"rightly\", \"republic\", \"german\", \"agreement\", \"confrontation\", \"settlement\", \"detente\", \"step\", \"example\", \"like\", \"problems\", \"say\", \"resolution\", \"problem\", \"union\", \"law\", \"charter\", \"spirit\", \"british\", \"far\", \"action\", \"parties\", \"conference\", \"fact\", \"does\", \"concerned\", \"believe\", \"member\", \"meeting\", \"possible\", \"arms\", \"relations\", \"france\", \"conflict\", \"imf\", \"pressures\", \"gatt\", \"lebanons\", \"explosives\", \"soviets\", \"reagan\", \"consumer\", \"disappointed\", \"producers\", \"consumers\", \"deterrent\", \"declined\", \"rescheduling\", \"hungary\", \"forests\", \"reagans\", \"satellite\", \"urging\", \"banking\", \"admittedly\", \"shevardnadze\", \"ottawa\", \"detention\", \"antarctica\", \"ozone\", \"suppliers\", \"ate\", \"netherlands\", \"sale\", \"rates\", \"industrialized\", \"lome\", \"eastwest\", \"abuses\", \"drugs\", \"payments\", \"verifiable\", \"poorer\", \"unifil\", \"lower\", \"private\", \"bank\", \"trading\", \"hostages\", \"poorest\", \"flows\", \"commodity\", \"gorbachev\", \"monetary\", \"banks\", \"britain\", \"lebanon\", \"food\", \"oil\", \"aid\", \"geneva\", \"energy\", \"growth\", \"let\", \"freedom\", \"negotiations\", \"peacekeeping\", \"conflict\", \"trade\", \"south\", \"secretarygeneral\", \"control\", \"problems\", \"shall\", \"face\", \"action\", \"conference\", \"effort\", \"developing\", \"greater\", \"european\", \"help\", \"nuclear\", \"arms\", \"believe\", \"europe\", \"regional\", \"agreement\", \"weapons\", \"soviet\", \"treaty\", \"forces\", \"parties\", \"france\", \"ago\", \"union\", \"possible\", \"hegemonism\", \"kampuchean\", \"socialist\", \"thirdworld\", \"mao\", \"imperialist\", \"racist\", \"colonialism\", \"imperialism\", \"leonid\", \"ussr\", \"socialism\", \"clique\", \"mediumrange\", \"invariably\", \"tsetung\", \"brezhnev\", \"hegemonists\", \"lenin\", \"ilyich\", \"plunder\", \"aligned\", \"kampuchea\", \"regrettably\", \"indian\", \"ocean\", \"racists\", \"puppet\", \"bullying\", \"sovietamerican\", \"superpowers\", \"superpower\", \"peaceloving\", \"hegemony\", \"nonuse\", \"relaxation\", \"aggressors\", \"soviet\", \"struggle\", \"aggression\", \"communist\", \"prohibition\", \"aggressor\", \"liberation\", \"nonaligned\", \"union\", \"question\", \"race\", \"korea\", \"nam\", \"policy\", \"nuclear\", \"disarmament\", \"relations\", \"armaments\", \"military\", \"viet\", \"detente\", \"weapons\", \"arms\", \"independence\", \"situation\", \"armed\", \"national\", \"foreign\", \"affairs\", \"peaceful\", \"chinese\", \"use\", \"session\", \"republic\", \"forces\", \"conference\", \"south\", \"interests\", \"developing\", \"china\", \"europe\", \"agreement\"], \"Freq\": [1385.0, 777.0, 821.0, 1233.0, 297.0, 307.0, 567.0, 910.0, 812.0, 404.0, 329.0, 476.0, 453.0, 287.0, 450.0, 440.0, 249.0, 194.0, 188.0, 372.0, 162.0, 222.0, 585.0, 319.0, 324.0, 286.0, 685.0, 649.0, 373.0, 665.0, 37.001135097030925, 28.305221258260776, 28.30370873681704, 27.30627838290315, 23.45439557567868, 22.486619658861745, 16.672075816569457, 15.702640644600494, 14.733860896085174, 15.605463842588833, 12.795770234447149, 12.794337633800723, 11.82595705869927, 11.82301914729083, 13.596623889206342, 10.856004796162383, 10.851635057749906, 10.813386360139598, 9.887382962569617, 9.885540071690953, 11.644092835043644, 8.917534710657609, 8.910355691570555, 8.902524380781717, 54.21474840282884, 7.946948710380628, 7.9457191664519815, 6.977678623326084, 6.973904173547001, 6.97253676942239, 77.8116805359267, 248.5574525341358, 17.03189576937009, 70.47504870214442, 58.78937713019099, 46.39252040106673, 529.5949208887333, 203.15256126692617, 123.16333344913782, 508.44235225075914, 55.320167287159265, 273.52068492804165, 34.12988910647633, 265.9472205808632, 197.03941698459494, 97.6150561054807, 19.19709151191091, 42.20606544308018, 134.0900469886208, 146.57839229232823, 59.63676790971415, 69.21334951591214, 85.67707734263617, 151.69736236182985, 219.1664731447102, 131.961568369507, 173.89183023543976, 116.98656831019638, 240.42996986101306, 179.74904479779883, 193.28765291515776, 170.5624164369269, 157.44500927144793, 132.734284568113, 159.2940380722632, 149.81586579042207, 205.11796550946445, 249.2305147287316, 138.55899921223656, 126.38506642613528, 197.41646188483173, 218.61901127262598, 160.9612854190434, 178.13643461242629, 155.8640323762286, 245.70370353422842, 168.2626452422154, 172.68487814077963, 169.36355706024378, 170.28572506768143, 151.416560065146, 35.25816213236435, 28.43514509745134, 26.47535268656537, 22.59013865892539, 20.644997336465895, 18.696512081150704, 17.726704249381452, 17.69795594045746, 16.747491292914344, 16.746099212345968, 55.74450237998495, 28.736416418274167, 14.796941545768837, 27.66315437962365, 13.829920856799129, 34.100740785149995, 13.820625000337984, 12.828180172724466, 11.878560911935228, 22.83261993640393, 11.876025692576095, 85.36169857391572, 10.90326427251236, 26.356202897064, 18.16642811528922, 12.710244497320495, 9.93461958021571, 9.93382188242973, 9.932142289864021, 36.092095209232255, 143.8962432118595, 19.669103150274157, 110.07866394639672, 158.37809250153526, 244.50681090923965, 71.32750708403067, 44.24753983744669, 45.576911241114715, 21.86804694332801, 218.70534463758744, 59.83412719206718, 29.32448875423272, 108.78064491308041, 108.66321150319978, 48.095054062072755, 67.94714755704194, 82.71671236779092, 95.55301716528649, 42.94899104652242, 165.4586705654751, 106.049663012002, 139.44685430904627, 173.2166015616617, 176.5987542845014, 199.7488280226747, 93.52753231267722, 90.46305511449651, 136.22800835206687, 128.3512751921574, 103.54438236054376, 161.98942138710927, 204.03414449161278, 187.11763434469367, 121.99263832750358, 148.23812391348721, 104.11689254877373, 128.25153620286838, 165.92788170174276, 130.02194159255134, 222.2466760546429, 134.7069184008276, 114.37544306323528, 130.32489176580594, 149.4645264384805, 129.42285600204994, 130.98422437339994, 123.08126633628473, 161.84822624758093, 120.7688565763313, 117.53517214348355, 118.68693085881455, 20.782576910672, 14.569827113895771, 8.035469430736363, 8.034903382442812, 15.856866617214012, 7.8848453263094775, 9.556386123282385, 6.0423240731645835, 5.087526906298366, 5.086630925241202, 5.086513367819715, 10.952646948474229, 5.693152687677054, 6.438340242673831, 14.765717375064538, 6.981300947338239, 13.957171750638038, 6.90382587088665, 6.878010469521866, 4.550001493017849, 4.5279071670355275, 4.469426672308969, 8.195890355543407, 8.910344490210056, 7.416763586645097, 16.074399636408305, 5.067015532558276, 5.06373519254478, 5.760090442655097, 7.182792285214412, 14.935927065071446, 16.249464083599058, 8.527801092124196, 12.564928839724752, 20.583311788240376, 26.361858221988285, 10.858466682459238, 27.74750388675852, 24.43608455764853, 186.76171994387448, 106.177139478723, 31.603771482830368, 47.759167518570074, 13.920457979456392, 16.696131640883237, 11.846459722846403, 212.72301057926174, 22.90443062951153, 101.11620679262549, 24.126832952731654, 116.9152753284142, 23.696548293049734, 145.84415034788793, 60.446436999788105, 129.30139594054364, 69.58983477613843, 80.69411757524165, 66.25595455690579, 119.90272230386316, 129.45457666296997, 83.7601328607625, 92.42769439629362, 91.85009887023156, 159.96318000154463, 89.05859095455651, 99.6947199449356, 52.74151224406078, 40.57611123303244, 72.52757313362983, 87.07468650909138, 81.80298137791904, 104.49981064111392, 69.28325557040883, 67.66946682369678, 66.29945113439535, 82.23691563407013, 70.54924699038601, 67.15538330274885, 76.38078579165764, 78.28079736599591, 76.0322673845126, 71.65459614254739, 69.79667547244672, 29.781625717126293, 28.78965396385261, 24.408163656472677, 13.013789516721994, 12.98011615676593, 29.65796414261779, 24.044300549716034, 12.015243073472952, 14.71959859327478, 27.54921620080084, 16.509743609321774, 10.0562354940461, 10.056017200119557, 9.07069548676476, 9.068831955955266, 9.067132905050585, 9.066586418411733, 9.065024151459179, 8.081375241163887, 8.079850218746287, 8.007464171047479, 7.098222143488572, 7.097124916590543, 7.094209140422467, 7.091965907620416, 7.090986251005542, 7.0906149228617394, 7.089733240706619, 7.080078642612837, 8.790144037050737, 49.1626125938381, 79.21489448951014, 14.808151831509832, 41.51169561335472, 12.976279866734757, 40.03360697036191, 15.346145381235761, 31.911591794977493, 19.858278982027855, 14.393472725521596, 23.433777335559242, 56.91387373573965, 59.59976438004447, 42.49295492255039, 31.978475275440168, 44.83236426939522, 23.26628446305055, 18.877114681516844, 30.725435579369815, 59.6043329090612, 28.691736270714056, 91.79592480304318, 102.13814794101918, 86.98309564889264, 62.32750474426428, 121.08351713415075, 86.91576461106315, 137.05480933653513, 163.3408992277531, 236.1869878565694, 198.5213599204059, 230.87205640474676, 141.10988600566762, 227.19638635365888, 174.75976795846577, 242.51001111636896, 133.5432479027856, 140.00897676435017, 231.994180332747, 124.35387548362169, 130.18775835519673, 182.02474657147235, 232.85394139212622, 129.48413799801676, 233.7759314561219, 136.2620604966628, 177.5805590308342, 162.2229596352235, 314.05566706625837, 196.78416235948214, 164.55652593840463, 201.14702359860738, 145.38835387176186, 170.78996052263, 225.15121459608994, 216.9931825619785, 157.57592081870092, 159.40485519331588, 143.88655592460955, 157.45226146326448, 137.65986989070365, 147.31317584447086, 139.52672330205417, 113.85057347507399, 79.55906390605492, 192.34087456393195, 57.01760185523671, 42.32526418553465, 41.34739059277164, 40.36580093646441, 90.2747941462628, 84.25039011110532, 30.56435540435117, 108.82893812431192, 36.121629862882, 23.711527297081865, 23.705878771566233, 20.770009559534323, 20.766012110924727, 41.43084256149008, 17.832657337197023, 23.413958204834223, 14.89260953870122, 14.892128923101431, 14.867947916449086, 141.87754568295077, 13.896855817187895, 54.60157963533207, 57.37922008016791, 12.932902483320003, 12.929218333624572, 12.923038256644686, 33.13882133380158, 207.39378511159424, 109.68479580515455, 26.642765490358595, 67.53891246569273, 43.46306577516951, 43.41152822749277, 36.332373078522565, 1112.7537483334038, 370.15561873854983, 311.9433688630368, 77.30392453830552, 122.36351713765488, 39.71894961676959, 109.56615417344027, 86.8181697928105, 835.7168243448424, 407.1527207161526, 251.800963021354, 206.09657629641217, 89.63807586784658, 401.63142203746725, 969.7362146857126, 434.3052566576231, 546.7913726859053, 119.48914675348432, 446.47794920387406, 98.67513267697248, 176.84443887866445, 648.5985735804898, 413.0030703888982, 284.3792187424729, 362.46556748731047, 172.41238638515878, 342.27556295100965, 266.1363825903132, 232.28761230143047, 349.2742585949273, 232.3202861183212, 285.69085809184213, 297.2830219602314, 239.07212576163752, 275.48396514356807, 316.8951975145703, 287.10450650140183, 265.18230624462274, 278.9420953651951, 266.88455608361375, 257.0765364209065, 244.7533485340613], \"Total\": [1385.0, 777.0, 821.0, 1233.0, 297.0, 307.0, 567.0, 910.0, 812.0, 404.0, 329.0, 476.0, 453.0, 287.0, 450.0, 440.0, 249.0, 194.0, 188.0, 372.0, 162.0, 222.0, 585.0, 319.0, 324.0, 286.0, 685.0, 649.0, 373.0, 665.0, 37.81531686767889, 29.090437367223874, 29.090459090433605, 28.121391764335087, 24.243521607157277, 23.274099384468105, 17.457721617523436, 16.488326556317325, 15.51892658992905, 16.488813905046232, 13.580132467134739, 13.580144720264151, 12.610740597747316, 12.610765448217544, 14.551301575082672, 11.64135306896437, 11.6413703888169, 11.641868268363588, 10.671950598896256, 10.671964806235703, 12.611610288337749, 9.702560906058082, 9.702650789349757, 9.702754939622963, 59.195567464247084, 8.733175195972835, 8.733197583874936, 7.763778599052512, 7.7638462740091025, 7.76386617076345, 90.2173160851703, 307.58221519067916, 19.424168224196293, 85.52179247541847, 70.82785644618387, 56.33099404734816, 777.219454990895, 286.1881649478939, 168.18503283584533, 821.498602609194, 71.9308172764942, 446.03344818058974, 42.69881658949911, 450.7250396549566, 324.88635699580277, 147.92781753903535, 22.345228192011792, 57.37380865434007, 237.69192536356636, 284.79031508321367, 92.54821056382056, 112.00179025465744, 148.23709787199616, 313.07403022712845, 515.8320377134634, 267.2308915880413, 395.2304287441368, 230.14872303226127, 624.8599828093489, 422.88490501875174, 483.6970676034562, 404.7948855543372, 373.01228294344924, 289.63689736529807, 387.4570710826472, 354.65746784171716, 588.0704087076297, 822.6855275374452, 319.4701098121027, 274.09454476357195, 669.3648814825899, 910.3163940767768, 486.8293418349712, 649.4581998333059, 473.0673517778577, 1753.3871889375134, 608.5797149992343, 701.1604961702337, 752.9662847221425, 1296.6266222056352, 655.7834779107866, 36.0421623847695, 29.224120591037554, 27.276334394843182, 23.380087808458224, 21.432082786762592, 19.484099204208444, 18.510086803053408, 18.5102411139772, 17.536083093983486, 17.536052941913837, 58.45624115333462, 30.194932336481568, 15.588125122803502, 29.220459062121243, 14.614074653865925, 36.03671448359111, 14.614140590012022, 13.639932774526065, 12.666047675022423, 24.35066855008186, 12.666112959223215, 91.53480897851486, 11.692121255384997, 28.26420167782095, 19.48157770786223, 13.641024116026339, 10.7180546212166, 10.71806113873786, 10.718041927983498, 38.9543392224104, 162.7312937693144, 21.43796210535186, 124.78220718679674, 188.18515049941524, 297.2408882829093, 85.84995566123705, 51.61998315993626, 53.64968967689384, 24.375621741164334, 329.51760987279846, 77.09629700336335, 34.075304886952985, 159.0594108103, 160.1254579706152, 61.32517825241124, 94.51782033366456, 122.63094477469045, 148.99726089685146, 55.66965232102435, 307.71836280694396, 181.61445261472235, 262.1851888137535, 374.57515028014114, 397.91175008490256, 476.2373769348625, 167.19690659081107, 159.40822857817668, 291.65689444826836, 277.3581244712139, 201.91979011776357, 408.1902351509183, 585.814626641145, 517.6620791564991, 267.4203821477629, 373.01228294344924, 213.3355497906472, 319.4701098121027, 546.2637207020811, 344.362343354788, 1296.6266222056352, 395.6946401139935, 280.57560221396477, 397.46292296859684, 575.9777061300192, 394.0472396544534, 486.8293418349712, 381.37294207612797, 1753.3871889375134, 371.99989113734716, 354.65746784171716, 447.1056079641914, 21.567297677105486, 15.686572838123837, 8.821548345776492, 8.82153904497399, 17.639001284938736, 8.821454543662497, 10.777496468321937, 6.86033635973366, 5.880223340380301, 5.880236324014539, 5.8802648650371765, 12.742688989325728, 6.860416932677805, 7.840712183120079, 18.624088959954403, 8.8209180077776, 17.662422643213016, 8.820946975648276, 8.820808212517587, 5.874217002020656, 5.874083932333846, 5.873250803032784, 10.781242392181307, 11.774857486009532, 9.811583932513768, 21.51753931657151, 6.850034762407519, 6.8600315730773485, 7.848367010755597, 9.813081145199705, 20.564247075315063, 22.499568284284592, 11.777664212787299, 17.64375050395831, 30.399883999785274, 42.176070188674515, 15.70589592602023, 47.076783577341644, 42.237706368950676, 567.6327561439596, 287.94588250545354, 60.896907696967574, 104.14547353061721, 21.595334606612305, 27.464684959812566, 17.654636053715514, 812.4745911105288, 43.055870396943796, 330.15584352912595, 48.07792552396418, 453.9502712414467, 47.08668011588888, 665.7038521430399, 186.78689866154627, 649.4581998333059, 249.91776455965967, 319.0639001273359, 242.32709547831539, 624.7452110420913, 707.3378172877176, 351.6597463421838, 464.7186611814873, 464.7686375781291, 1233.9513010087699, 447.1056079641914, 588.0704087076297, 190.01426972202214, 118.93085316983884, 358.6303533904284, 535.5543060411487, 484.27640671110186, 799.6584744208493, 355.3009882392997, 341.6556146477346, 332.5653345618675, 546.2637207020811, 392.0334422289146, 355.6435243483778, 514.8983118626973, 767.7843423746382, 910.3163940767768, 777.219454990895, 575.9777061300192, 30.569180575413288, 29.58278610422391, 25.631758138063283, 13.800817811549713, 13.800383439057969, 31.54821077199531, 25.632482968935392, 12.81423994798661, 15.771950729559602, 29.57329763697234, 17.740665160714872, 10.841708637591362, 10.841700470966877, 9.855348762909252, 9.855308154187567, 9.85528986467124, 9.85531584588962, 9.855287427061775, 8.868916257375222, 8.868898942033798, 8.86764594937079, 7.882591462670151, 7.882576719144843, 7.882529123985427, 7.882509843685856, 7.882508776148759, 7.882487302099507, 7.882524162834115, 7.882459727604556, 9.853554502699321, 55.19030209538139, 89.67453889722582, 16.752926562876155, 49.255956641134844, 14.780387425330327, 48.196455400790406, 17.735665823441142, 38.39653558477833, 23.644503787855733, 16.73335950477622, 28.52695223161119, 75.736737027797, 79.67777134445177, 55.03550767331305, 40.34699019684308, 59.00658237997032, 28.539532675772904, 22.633708131067245, 39.398805719264914, 87.3672434875715, 37.3878852335936, 154.31732965178446, 176.70127755867162, 146.1470019646408, 97.37701919519688, 228.69150455499465, 155.2009022082082, 284.12088094261935, 358.2371337288752, 585.814626641145, 476.2373769348625, 582.6438094475711, 304.39968725226487, 575.9777061300192, 408.0814039466283, 671.8803231456795, 300.8014122996467, 323.49672711195126, 707.3378172877176, 287.94588250545354, 316.42956009913706, 535.5543060411487, 799.6584744208493, 316.5185306092572, 822.6855275374452, 358.52894251886704, 567.6327561439596, 517.6620791564991, 1753.3871889375134, 767.7843423746382, 546.2637207020811, 812.4745911105288, 450.7250396549566, 665.7038521430399, 1296.6266222056352, 1385.9631670459119, 574.5016250862276, 601.731496588398, 484.27640671110186, 777.219454990895, 411.466993194724, 1233.9513010087699, 514.8983118626973, 114.63849283577834, 80.34441817457646, 194.9969134108879, 57.80829819687367, 43.1107992808042, 42.13095971771988, 41.1511344104485, 92.09621797014208, 86.23123967969946, 31.352811365218066, 111.67689959044137, 37.22843712655787, 24.49398443178714, 24.493990325080183, 21.554468119033952, 21.55449018325871, 43.11137283766327, 18.6149881958186, 24.494178628702404, 15.675494445211825, 15.675479836537498, 15.675583648082188, 149.96090084414564, 14.695597615403509, 57.796586165824685, 60.75166965304449, 13.71582981481684, 13.715856008108611, 13.715714826651652, 35.28112114760226, 222.50729290961658, 118.56504283328698, 28.404001348885103, 73.48834792878735, 47.00052069613233, 47.03185527737472, 39.17441403387899, 1385.9631670459119, 440.6992106635154, 372.10100262795606, 86.21049463745004, 141.9221592624378, 43.10270873340441, 129.34015269944112, 101.94547089513036, 1233.9513010087699, 565.804210376078, 332.03500781196533, 267.4001815597755, 105.89689488631853, 607.8336211921562, 1753.3871889375134, 685.9303153124727, 910.3163940767768, 150.0183404294876, 755.530921008235, 119.63775726960411, 249.91776455965967, 1296.6266222056352, 767.7843423746382, 479.46107686822097, 669.3648814825899, 251.7437561302337, 701.1604961702337, 490.0448101804561, 399.60578086265696, 752.9662847221425, 404.7948855543372, 604.1531933870474, 655.7834779107866, 453.9502712414467, 601.731496588398, 799.6584744208493, 671.8803231456795, 608.5797149992343, 822.6855275374452, 821.498602609194, 812.4745911105288, 665.7038521430399], \"Category\": [\"Default\", \"Default\", \"Default\", \"Default\", \"Default\", \"Default\", \"Default\", \"Default\", \"Default\", \"Default\", \"Default\", \"Default\", \"Default\", \"Default\", \"Default\", \"Default\", \"Default\", \"Default\", \"Default\", \"Default\", \"Default\", \"Default\", \"Default\", \"Default\", \"Default\", \"Default\", \"Default\", \"Default\", \"Default\", \"Default\", \"Topic1\", \"Topic1\", \"Topic1\", \"Topic1\", \"Topic1\", \"Topic1\", \"Topic1\", \"Topic1\", \"Topic1\", \"Topic1\", \"Topic1\", \"Topic1\", \"Topic1\", \"Topic1\", \"Topic1\", \"Topic1\", \"Topic1\", \"Topic1\", \"Topic1\", \"Topic1\", \"Topic1\", \"Topic1\", \"Topic1\", \"Topic1\", \"Topic1\", \"Topic1\", \"Topic1\", \"Topic1\", \"Topic1\", \"Topic1\", \"Topic1\", \"Topic1\", \"Topic1\", \"Topic1\", \"Topic1\", \"Topic1\", \"Topic1\", \"Topic1\", \"Topic1\", \"Topic1\", \"Topic1\", \"Topic1\", \"Topic1\", \"Topic1\", \"Topic1\", \"Topic1\", \"Topic1\", \"Topic1\", \"Topic1\", \"Topic1\", \"Topic1\", \"Topic1\", \"Topic1\", \"Topic1\", \"Topic1\", \"Topic1\", \"Topic1\", \"Topic1\", \"Topic1\", \"Topic1\", \"Topic1\", \"Topic1\", \"Topic1\", \"Topic1\", \"Topic1\", \"Topic1\", \"Topic1\", \"Topic1\", \"Topic1\", \"Topic1\", \"Topic1\", \"Topic1\", \"Topic1\", \"Topic1\", \"Topic1\", \"Topic1\", \"Topic1\", \"Topic1\", \"Topic1\", \"Topic1\", \"Topic1\", \"Topic2\", \"Topic2\", \"Topic2\", \"Topic2\", \"Topic2\", \"Topic2\", \"Topic2\", \"Topic2\", \"Topic2\", \"Topic2\", \"Topic2\", \"Topic2\", \"Topic2\", \"Topic2\", \"Topic2\", \"Topic2\", \"Topic2\", \"Topic2\", \"Topic2\", \"Topic2\", \"Topic2\", \"Topic2\", \"Topic2\", \"Topic2\", \"Topic2\", \"Topic2\", \"Topic2\", \"Topic2\", \"Topic2\", \"Topic2\", \"Topic2\", \"Topic2\", \"Topic2\", \"Topic2\", \"Topic2\", \"Topic2\", \"Topic2\", \"Topic2\", \"Topic2\", \"Topic2\", \"Topic2\", \"Topic2\", \"Topic2\", \"Topic2\", \"Topic2\", \"Topic2\", \"Topic2\", \"Topic2\", \"Topic2\", \"Topic2\", \"Topic2\", \"Topic2\", \"Topic2\", \"Topic2\", \"Topic2\", \"Topic2\", \"Topic2\", \"Topic2\", \"Topic2\", \"Topic2\", \"Topic2\", \"Topic2\", \"Topic2\", \"Topic2\", \"Topic2\", \"Topic2\", \"Topic2\", \"Topic2\", \"Topic2\", \"Topic2\", \"Topic2\", \"Topic2\", \"Topic2\", \"Topic2\", \"Topic2\", \"Topic2\", \"Topic2\", \"Topic2\", \"Topic2\", \"Topic2\", \"Topic2\", \"Topic3\", \"Topic3\", \"Topic3\", \"Topic3\", \"Topic3\", \"Topic3\", \"Topic3\", \"Topic3\", \"Topic3\", \"Topic3\", \"Topic3\", \"Topic3\", \"Topic3\", \"Topic3\", \"Topic3\", \"Topic3\", \"Topic3\", \"Topic3\", \"Topic3\", \"Topic3\", \"Topic3\", \"Topic3\", \"Topic3\", \"Topic3\", \"Topic3\", \"Topic3\", \"Topic3\", \"Topic3\", \"Topic3\", \"Topic3\", \"Topic3\", \"Topic3\", \"Topic3\", \"Topic3\", \"Topic3\", \"Topic3\", \"Topic3\", \"Topic3\", \"Topic3\", \"Topic3\", \"Topic3\", \"Topic3\", \"Topic3\", \"Topic3\", \"Topic3\", \"Topic3\", \"Topic3\", \"Topic3\", \"Topic3\", \"Topic3\", \"Topic3\", \"Topic3\", \"Topic3\", \"Topic3\", \"Topic3\", \"Topic3\", \"Topic3\", \"Topic3\", \"Topic3\", \"Topic3\", \"Topic3\", \"Topic3\", \"Topic3\", \"Topic3\", \"Topic3\", \"Topic3\", \"Topic3\", \"Topic3\", \"Topic3\", \"Topic3\", \"Topic3\", \"Topic3\", \"Topic3\", \"Topic3\", \"Topic3\", \"Topic3\", \"Topic3\", \"Topic3\", \"Topic3\", \"Topic3\", \"Topic3\", \"Topic3\", \"Topic3\", \"Topic4\", \"Topic4\", \"Topic4\", \"Topic4\", \"Topic4\", \"Topic4\", \"Topic4\", \"Topic4\", \"Topic4\", \"Topic4\", \"Topic4\", \"Topic4\", \"Topic4\", \"Topic4\", \"Topic4\", \"Topic4\", \"Topic4\", \"Topic4\", \"Topic4\", \"Topic4\", \"Topic4\", \"Topic4\", \"Topic4\", \"Topic4\", \"Topic4\", \"Topic4\", \"Topic4\", \"Topic4\", \"Topic4\", \"Topic4\", \"Topic4\", \"Topic4\", \"Topic4\", \"Topic4\", \"Topic4\", \"Topic4\", \"Topic4\", \"Topic4\", \"Topic4\", \"Topic4\", \"Topic4\", \"Topic4\", \"Topic4\", \"Topic4\", \"Topic4\", \"Topic4\", \"Topic4\", \"Topic4\", \"Topic4\", \"Topic4\", \"Topic4\", \"Topic4\", \"Topic4\", \"Topic4\", \"Topic4\", \"Topic4\", \"Topic4\", \"Topic4\", \"Topic4\", \"Topic4\", \"Topic4\", \"Topic4\", \"Topic4\", \"Topic4\", \"Topic4\", \"Topic4\", \"Topic4\", \"Topic4\", \"Topic4\", \"Topic4\", \"Topic4\", \"Topic4\", \"Topic4\", \"Topic4\", \"Topic4\", \"Topic4\", \"Topic4\", \"Topic4\", \"Topic4\", \"Topic4\", \"Topic4\", \"Topic4\", \"Topic4\", \"Topic4\", \"Topic4\", \"Topic4\", \"Topic4\", \"Topic4\", \"Topic4\", \"Topic4\", \"Topic4\", \"Topic4\", \"Topic4\", \"Topic5\", \"Topic5\", \"Topic5\", \"Topic5\", \"Topic5\", \"Topic5\", \"Topic5\", \"Topic5\", \"Topic5\", \"Topic5\", \"Topic5\", \"Topic5\", \"Topic5\", \"Topic5\", \"Topic5\", \"Topic5\", \"Topic5\", \"Topic5\", \"Topic5\", \"Topic5\", \"Topic5\", \"Topic5\", \"Topic5\", \"Topic5\", \"Topic5\", \"Topic5\", \"Topic5\", \"Topic5\", \"Topic5\", \"Topic5\", \"Topic5\", \"Topic5\", \"Topic5\", \"Topic5\", \"Topic5\", \"Topic5\", \"Topic5\", \"Topic5\", \"Topic5\", \"Topic5\", \"Topic5\", \"Topic5\", \"Topic5\", \"Topic5\", \"Topic5\", \"Topic5\", \"Topic5\", \"Topic5\", \"Topic5\", \"Topic5\", \"Topic5\", \"Topic5\", \"Topic5\", \"Topic5\", \"Topic5\", \"Topic5\", \"Topic5\", \"Topic5\", \"Topic5\", \"Topic5\", \"Topic5\", \"Topic5\", \"Topic5\", \"Topic5\", \"Topic5\", \"Topic5\", \"Topic5\", \"Topic5\", \"Topic5\", \"Topic5\", \"Topic5\", \"Topic5\", \"Topic5\", \"Topic5\", \"Topic5\", \"Topic5\", \"Topic5\", \"Topic5\", \"Topic5\"], \"logprob\": [30.0, 29.0, 28.0, 27.0, 26.0, 25.0, 24.0, 23.0, 22.0, 21.0, 20.0, 19.0, 18.0, 17.0, 16.0, 15.0, 14.0, 13.0, 12.0, 11.0, 10.0, 9.0, 8.0, 7.0, 6.0, 5.0, 4.0, 3.0, 2.0, 1.0, -7.3938, -7.6617, -7.6618, -7.6977, -7.8497, -7.8919, -8.1911, -8.251, -8.3146, -8.2572, -8.4557, -8.4558, -8.5345, -8.5347, -8.395, -8.6201, -8.6205, -8.624, -8.7135, -8.7137, -8.55, -8.8168, -8.8176, -8.8185, -7.0118, -8.932, -8.9322, -9.0621, -9.0626, -9.0628, -6.6505, -5.4891, -8.1697, -6.7495, -6.9308, -7.1677, -4.7327, -5.6908, -6.1913, -4.7734, -6.9917, -5.3934, -7.4746, -5.4215, -5.7214, -6.4238, -8.05, -7.2622, -6.1063, -6.0172, -6.9165, -6.7676, -6.5542, -5.9829, -5.615, -6.1223, -5.8464, -6.2427, -5.5224, -5.8132, -5.7406, -5.8657, -5.9457, -6.1164, -5.934, -5.9954, -5.6812, -5.4864, -6.0735, -6.1655, -5.7195, -5.6175, -5.9236, -5.8222, -5.9558, -5.5007, -5.8793, -5.8533, -5.8727, -5.8673, -5.9848, -7.2226, -7.4376, -7.5091, -7.6678, -7.7578, -7.8569, -7.9102, -7.9118, -7.967, -7.9671, -6.7645, -7.4271, -8.0909, -7.4652, -8.1584, -7.256, -8.1591, -8.2336, -8.3105, -7.6571, -8.3108, -6.3384, -8.3962, -7.5136, -7.8857, -8.2429, -8.4892, -8.4893, -8.4895, -7.1992, -5.8162, -7.8062, -6.0841, -5.7203, -5.286, -6.518, -6.9955, -6.9659, -7.7002, -5.3975, -6.6937, -7.4069, -6.0959, -6.097, -6.9121, -6.5665, -6.3699, -6.2256, -7.0253, -5.6766, -6.1214, -5.8476, -5.6307, -5.6114, -5.4882, -6.247, -6.2803, -5.8709, -5.9305, -6.1453, -5.6977, -5.467, -5.5535, -5.9813, -5.7865, -6.1398, -5.9313, -5.6737, -5.9176, -5.3815, -5.8822, -6.0458, -5.9152, -5.7782, -5.9222, -5.9102, -5.9724, -5.6986, -5.9914, -6.0185, -6.0088, -7.3542, -7.7094, -8.3044, -8.3045, -7.6247, -8.3234, -8.1311, -8.5895, -8.7615, -8.7617, -8.7617, -7.9947, -8.649, -8.526, -7.696, -8.4451, -7.7523, -8.4562, -8.46, -8.8732, -8.8781, -8.891, -8.2847, -8.2011, -8.3846, -7.6111, -8.7656, -8.7662, -8.6374, -8.4166, -7.6845, -7.6002, -8.245, -7.8574, -7.3638, -7.1164, -8.0034, -7.0652, -7.1922, -5.1585, -5.7232, -6.935, -6.5221, -7.755, -7.5731, -7.9163, -5.0283, -7.257, -5.772, -7.205, -5.6269, -7.223, -5.4058, -6.2866, -5.5262, -6.1457, -5.9976, -6.1948, -5.6016, -5.525, -5.9604, -5.8619, -5.8682, -5.3134, -5.899, -5.7862, -6.4229, -6.6851, -6.1043, -5.9215, -5.984, -5.7391, -6.1501, -6.1737, -6.1941, -5.9787, -6.132, -6.1813, -6.0526, -6.028, -6.0572, -6.1165, -6.1427, -7.7571, -7.7909, -7.956, -8.585, -8.5875, -7.7612, -7.9711, -8.6648, -8.4618, -7.835, -8.347, -8.8428, -8.8428, -8.9459, -8.9461, -8.9463, -8.9464, -8.9465, -9.0614, -9.0616, -9.0706, -9.1911, -9.1913, -9.1917, -9.192, -9.1921, -9.1922, -9.1923, -9.1937, -8.9773, -7.2558, -6.7788, -8.4558, -7.425, -8.5878, -7.4612, -8.4201, -7.688, -8.1623, -8.4842, -7.9968, -7.1094, -7.0633, -7.4016, -7.6859, -7.348, -8.004, -8.213, -7.7259, -7.0632, -7.7944, -6.6314, -6.5246, -6.6853, -7.0186, -6.3545, -6.686, -6.2306, -6.0551, -5.6863, -5.8601, -5.7091, -6.2014, -5.7252, -5.9876, -5.6599, -6.2565, -6.2093, -5.7043, -6.3278, -6.282, -5.9468, -5.7006, -6.2874, -5.6966, -6.2364, -5.9715, -6.062, -5.4014, -5.8689, -6.0477, -5.8469, -6.1716, -6.0105, -5.7342, -5.7711, -6.0911, -6.0795, -6.1819, -6.0918, -6.2262, -6.1584, -6.2127, -6.5603, -6.9187, -6.036, -7.2519, -7.5498, -7.5732, -7.5973, -6.7924, -6.8614, -7.8754, -6.6055, -7.7083, -8.1293, -8.1295, -8.2617, -8.2619, -7.5712, -8.4142, -8.1419, -8.5944, -8.5944, -8.596, -6.3403, -8.6636, -7.2952, -7.2456, -8.7355, -8.7357, -8.7362, -7.7945, -5.9606, -6.5976, -8.0127, -7.0825, -7.5233, -7.5245, -7.7025, -4.2806, -5.3813, -5.5524, -6.9475, -6.4882, -7.6134, -6.5987, -6.8314, -4.5669, -5.286, -5.7666, -5.9669, -6.7995, -5.2997, -4.4182, -5.2215, -4.9912, -6.512, -5.1938, -6.7034, -6.12, -4.8204, -5.2718, -5.6449, -5.4023, -6.1453, -5.4596, -5.7112, -5.8473, -5.4394, -5.8471, -5.6403, -5.6005, -5.8185, -5.6767, -5.5367, -5.6354, -5.7148, -5.6642, -5.7084, -5.7459, -5.795], \"loglift\": [30.0, 29.0, 28.0, 27.0, 26.0, 25.0, 24.0, 23.0, 22.0, 21.0, 20.0, 19.0, 18.0, 17.0, 16.0, 15.0, 14.0, 13.0, 12.0, 11.0, 10.0, 9.0, 8.0, 7.0, 6.0, 5.0, 4.0, 3.0, 2.0, 1.0, 1.5546, 1.549, 1.5489, 1.5469, 1.5432, 1.5419, 1.5303, 1.5275, 1.5244, 1.5213, 1.5168, 1.5167, 1.5121, 1.5118, 1.5085, 1.5065, 1.5061, 1.5025, 1.5, 1.4998, 1.4965, 1.492, 1.4911, 1.4903, 1.4884, 1.482, 1.4818, 1.4696, 1.469, 1.4688, 1.4284, 1.3633, 1.4449, 1.3828, 1.39, 1.3822, 1.1927, 1.2336, 1.2648, 1.0965, 1.3138, 1.0873, 1.3523, 1.0488, 1.0763, 1.1606, 1.4245, 1.2693, 1.0039, 0.9121, 1.1369, 1.095, 1.0281, 0.8518, 0.7204, 0.8707, 0.7553, 0.8997, 0.6212, 0.7208, 0.659, 0.712, 0.7138, 0.796, 0.6875, 0.7146, 0.5231, 0.3821, 0.741, 0.8022, 0.3553, 0.1499, 0.4696, 0.2827, 0.4661, -0.3889, 0.2907, 0.1751, 0.0844, -0.4537, 0.1105, 1.7739, 1.7685, 1.766, 1.7615, 1.7584, 1.7546, 1.7526, 1.751, 1.7498, 1.7498, 1.7483, 1.7463, 1.7438, 1.7411, 1.7407, 1.7406, 1.74, 1.7345, 1.7317, 1.7315, 1.7314, 1.726, 1.726, 1.726, 1.726, 1.7252, 1.7199, 1.7199, 1.7197, 1.7195, 1.6728, 1.7097, 1.6705, 1.6234, 1.6005, 1.6105, 1.6417, 1.6328, 1.6873, 1.3859, 1.5424, 1.6457, 1.4159, 1.4081, 1.5528, 1.4658, 1.4021, 1.3516, 1.5364, 1.1754, 1.2579, 1.1645, 1.0246, 0.9835, 0.927, 1.2149, 1.2293, 1.0346, 1.0253, 1.128, 0.8716, 0.7411, 0.7783, 1.011, 0.8731, 1.0785, 0.8832, 0.6043, 0.8219, 0.0321, 0.7183, 0.8985, 0.6808, 0.4468, 0.6825, 0.483, 0.6649, -0.5868, 0.6708, 0.6914, 0.4695, 2.1557, 2.119, 2.0995, 2.0994, 2.0863, 2.0806, 2.0726, 2.0658, 2.048, 2.0478, 2.0478, 2.0414, 2.0063, 1.9958, 1.9607, 1.9589, 1.9574, 1.9478, 1.944, 1.9374, 1.9325, 1.9197, 1.9186, 1.9141, 1.913, 1.9012, 1.8913, 1.8892, 1.8835, 1.8808, 1.873, 1.8674, 1.8699, 1.8533, 1.8029, 1.7229, 1.8237, 1.6642, 1.6456, 1.0812, 1.1951, 1.5369, 1.4132, 1.7537, 1.6951, 1.7938, 0.8527, 1.5616, 1.0095, 1.5033, 0.8363, 1.5061, 0.6745, 1.0646, 0.5788, 0.9143, 0.8181, 0.896, 0.5421, 0.4946, 0.7581, 0.5778, 0.5714, 0.1498, 0.5793, 0.4181, 0.9111, 1.1174, 0.5945, 0.3763, 0.4145, 0.1578, 0.558, 0.5736, 0.5802, 0.2993, 0.4778, 0.5259, 0.2846, -0.0904, -0.2898, -0.1911, 0.0823, 1.4041, 1.403, 1.3812, 1.3714, 1.3689, 1.3684, 1.3662, 1.3658, 1.3611, 1.3593, 1.3582, 1.3549, 1.3549, 1.3472, 1.347, 1.3468, 1.3467, 1.3466, 1.3372, 1.337, 1.3281, 1.3253, 1.3252, 1.3248, 1.3245, 1.3243, 1.3243, 1.3242, 1.3228, 1.316, 1.3145, 1.3061, 1.3068, 1.2591, 1.3, 1.2446, 1.2854, 1.2452, 1.2556, 1.2795, 1.2335, 1.1444, 1.1398, 1.1715, 1.1977, 1.1554, 1.2259, 1.2487, 1.1815, 1.0478, 1.1654, 0.9107, 0.882, 0.9113, 0.984, 0.7943, 0.8504, 0.7011, 0.6448, 0.5218, 0.5551, 0.5044, 0.6614, 0.4999, 0.5821, 0.4111, 0.6181, 0.5927, 0.3154, 0.5905, 0.542, 0.351, 0.1964, 0.5363, 0.1719, 0.4627, 0.2681, 0.2698, -0.2896, 0.0688, 0.2303, 0.0341, 0.2987, 0.0697, -0.3206, -0.4241, 0.1366, 0.1018, 0.2165, -0.1664, 0.3352, -0.6953, 0.1244, 1.279, 1.2761, 1.2722, 1.2721, 1.2675, 1.2671, 1.2666, 1.2659, 1.2626, 1.2604, 1.2601, 1.2557, 1.2534, 1.2532, 1.2488, 1.2486, 1.2461, 1.243, 1.2408, 1.2347, 1.2346, 1.233, 1.2305, 1.23, 1.229, 1.2288, 1.2271, 1.2268, 1.2264, 1.2232, 1.2155, 1.208, 1.2219, 1.2015, 1.2076, 1.2058, 1.2106, 1.0663, 1.1114, 1.1095, 1.1768, 1.1376, 1.2041, 1.12, 1.1253, 0.8962, 0.9568, 1.0093, 1.0255, 1.1192, 0.8715, 0.6936, 0.8289, 0.7762, 1.0584, 0.7599, 1.0933, 0.94, 0.5932, 0.6658, 0.7635, 0.6725, 0.9074, 0.5688, 0.6754, 0.7434, 0.5177, 0.7306, 0.537, 0.4947, 0.6447, 0.5046, 0.3603, 0.4357, 0.4552, 0.2043, 0.1616, 0.1352, 0.2853]}, \"token.table\": {\"Topic\": [1, 4, 5, 2, 2, 4, 1, 2, 3, 4, 5, 1, 2, 3, 4, 5, 4, 1, 2, 3, 4, 5, 3, 5, 1, 2, 3, 4, 5, 2, 3, 5, 1, 2, 5, 1, 2, 3, 4, 5, 1, 2, 3, 4, 5, 1, 2, 3, 4, 5, 1, 2, 5, 1, 2, 1, 2, 3, 4, 5, 2, 3, 4, 3, 4, 3, 4, 5, 2, 3, 1, 3, 4, 5, 1, 2, 3, 4, 5, 1, 2, 3, 4, 5, 4, 3, 4, 1, 2, 3, 4, 5, 4, 1, 2, 4, 5, 1, 2, 3, 4, 5, 1, 2, 3, 4, 5, 2, 3, 4, 5, 3, 4, 5, 3, 5, 1, 2, 3, 4, 5, 2, 3, 4, 5, 2, 1, 2, 3, 4, 5, 5, 3, 4, 3, 5, 3, 5, 1, 2, 3, 4, 5, 1, 2, 3, 4, 1, 2, 3, 4, 5, 1, 2, 3, 4, 5, 1, 2, 3, 4, 5, 1, 2, 3, 4, 5, 1, 5, 1, 3, 5, 1, 1, 2, 3, 4, 5, 1, 2, 1, 2, 3, 4, 5, 5, 1, 2, 5, 1, 1, 2, 5, 1, 2, 3, 4, 5, 1, 4, 5, 1, 2, 3, 4, 5, 1, 1, 2, 3, 4, 5, 1, 2, 3, 4, 5, 1, 2, 3, 4, 5, 1, 2, 3, 4, 5, 1, 2, 3, 4, 5, 1, 3, 4, 5, 1, 3, 3, 1, 3, 4, 5, 4, 2, 4, 1, 2, 3, 4, 5, 1, 2, 3, 5, 1, 2, 3, 4, 5, 1, 2, 4, 1, 2, 3, 4, 5, 1, 2, 3, 4, 5, 3, 4, 5, 4, 4, 1, 2, 3, 4, 5, 3, 4, 5, 1, 2, 3, 4, 5, 2, 5, 2, 1, 2, 3, 4, 5, 4, 1, 2, 3, 4, 5, 1, 2, 3, 4, 5, 1, 2, 4, 1, 3, 4, 3, 1, 2, 3, 4, 5, 1, 2, 1, 2, 3, 4, 5, 1, 2, 3, 4, 5, 1, 3, 5, 1, 1, 2, 3, 4, 5, 1, 3, 1, 1, 1, 2, 3, 4, 5, 1, 2, 3, 4, 5, 1, 2, 3, 4, 5, 4, 2, 3, 1, 2, 3, 4, 5, 1, 2, 3, 4, 5, 1, 1, 2, 3, 4, 5, 3, 5, 1, 2, 3, 4, 5, 1, 2, 3, 4, 5, 2, 4, 1, 2, 3, 4, 5, 1, 2, 3, 4, 5, 1, 2, 3, 4, 5, 4, 1, 2, 3, 4, 5, 1, 2, 4, 1, 2, 3, 4, 5, 1, 2, 3, 4, 5, 1, 4, 2, 4, 1, 2, 3, 4, 5, 2, 3, 4, 5, 2, 1, 2, 2, 3, 4, 1, 2, 3, 4, 5, 3, 3, 4, 1, 2, 3, 4, 5, 1, 2, 5, 5, 3, 5, 1, 2, 3, 4, 5, 1, 2, 3, 4, 5, 1, 2, 3, 4, 5, 1, 2, 1, 2, 3, 4, 1, 1, 4, 1, 2, 3, 4, 5, 3, 4, 5, 4, 3, 4, 4, 5, 5, 1, 2, 3, 4, 5, 2, 3, 5, 1, 3, 4, 5, 1, 2, 4, 1, 1, 2, 3, 4, 5, 5, 1, 2, 4, 5, 1, 2, 4, 5, 1, 2, 2, 1, 2, 2, 2, 3, 4, 1, 2, 3, 4, 5, 3, 4, 5, 5, 1, 1, 2, 3, 4, 5, 1, 2, 3, 4, 5, 1, 2, 3, 4, 5, 1, 2, 3, 4, 5, 4, 1, 2, 3, 4, 5, 5, 5, 1, 2, 3, 4, 5, 1, 2, 4, 5, 2, 1, 2, 3, 4, 5, 1, 2, 3, 4, 5, 1, 2, 3, 4, 5, 3, 4, 1, 4, 5, 3, 4, 5, 3, 4, 5, 2, 5, 1, 1, 2, 3, 4, 5, 1, 2, 3, 4, 5, 1, 2, 3, 4, 5, 1, 2, 3, 4, 5, 1, 2, 3, 4, 5, 1, 2, 3, 4, 5, 1, 2, 3, 4, 5, 2, 1, 2, 3, 4, 5, 1, 1, 1, 2, 2, 1, 2, 3, 4, 5, 3, 4, 5, 1, 2, 3, 4, 5, 1, 2, 3, 4, 5, 3, 5, 2, 3, 5, 1, 2, 3, 4, 5, 4, 2, 3, 1, 4, 5, 1, 1, 5, 1, 2, 3, 4, 5, 2, 4, 5, 2, 4, 5, 1, 1, 2, 3, 4, 5, 1, 3, 4, 1, 2, 3, 4, 5, 1, 1, 4, 4, 1, 2, 3, 4, 5, 4, 5, 1, 2, 3, 4, 5, 1, 2, 3, 4, 1, 5, 3, 4, 3, 5, 2, 3, 4, 5, 5, 1, 2, 3, 4, 5, 4, 5, 1, 2, 3, 4, 1, 2, 3, 4, 5, 1, 1, 2, 3, 4, 5, 3, 4, 4, 1, 2, 3, 4, 5, 1, 2, 3, 4, 5, 1, 2, 3, 4, 5, 1, 2, 3, 4, 5, 1, 2, 3, 4, 5, 4, 5, 1, 2, 3, 4, 5, 1, 2, 3, 4, 5, 1, 2, 3, 4, 5, 1, 3, 5, 1, 2, 3, 4, 5, 1, 2, 3, 4, 5, 5, 5, 1, 3, 4, 5, 3, 4, 4, 1, 2, 3, 4, 5, 1, 2, 3, 4, 5, 1, 2, 3, 4, 5, 1, 2, 3, 4, 5, 3, 5, 1, 2, 3, 4, 5, 3, 5, 1, 2, 4, 5, 1, 2, 3, 4, 5, 4, 1, 2, 3, 4, 5, 1, 2, 3, 4, 5, 1, 2, 3, 4, 5, 3, 4, 5, 2, 3, 4, 5, 1, 2, 1, 2, 2, 4, 3, 4, 1, 2, 3, 4, 5, 1, 2, 3, 4, 5, 2, 1, 1, 2, 3, 4, 5, 1, 2, 3, 4, 5, 1, 3, 4, 5, 4, 1, 2, 3, 4, 5, 1, 1, 2, 3, 4, 5, 1, 5, 4, 5, 1, 2, 3, 4, 5, 1, 2, 3, 4, 5, 2, 3, 4, 5, 4, 5, 4, 5, 1, 2, 3, 4, 5, 1, 2, 3, 4, 5, 1, 3, 1, 3, 1, 1, 2, 3, 4, 5, 1, 2, 3, 4, 5, 3, 5, 2, 4, 5, 3, 4, 5, 4, 2, 3, 4, 1, 2, 3, 4, 5, 1, 2, 4, 2, 1, 5, 1, 4, 2, 4, 1, 2, 3, 4, 5, 1, 2, 3, 4, 5, 1, 2, 3, 4, 5, 1, 2, 3, 4, 5, 1, 2, 3, 4, 5, 1, 4, 5, 1, 2, 3, 4, 5, 5, 2, 2, 1, 2, 3, 1, 4, 1, 2, 3, 4, 5, 1, 3, 4, 1, 2, 3, 4, 5, 1, 5, 1, 2, 3, 4, 3, 4, 5, 2, 1, 2, 3, 4, 5, 1, 1, 2, 3, 4, 2], \"Freq\": [0.9449073432302121, 0.8795439270909006, 0.0676572251608385, 0.9330045677624845, 0.919891539707004, 0.03538044383488477, 0.12196455509866375, 0.3775093372101497, 0.046462687656633805, 0.29619963381104053, 0.1568115708411391, 0.17925353025286656, 0.20166022153447485, 0.1624485117916603, 0.3398348177710595, 0.11763512922844367, 0.90215600010143, 0.28528115823024436, 0.027527129302918316, 0.05755672490610193, 0.05004932600530603, 0.58057218166155, 0.7935780748601151, 0.11336829640858788, 0.026874423689737987, 0.08868559817613536, 0.016124654213842793, 0.026874423689737987, 0.8384820191198252, 0.04640079611632409, 0.023200398058162045, 0.9280159223264819, 0.025526865548905864, 0.025526865548905864, 0.9189671597606112, 0.0947828152562009, 0.23817220243865866, 0.13609840139351925, 0.33538534629117245, 0.19442628770502748, 0.06309111756645724, 0.09313450688381784, 0.21931674201673235, 0.25687097866343306, 0.3680315191376673, 0.06996324603808095, 0.18802622372734254, 0.06996324603808095, 0.5290970481629872, 0.14429919495354196, 0.03422259718350248, 0.9582327211380695, 0.9569021694343839, 0.03311814011889003, 0.9604260634478108, 0.016018147481253516, 0.46185658570947635, 0.029366603715631445, 0.16018147481253517, 0.33104171461257265, 0.7724136617925401, 0.017963108413780002, 0.21555730096536005, 0.8745926854573264, 0.8880420245345111, 0.5682126721171257, 0.3314573920683233, 0.07102658401464071, 0.056692552137510274, 0.9070808342001644, 0.01999755490836186, 0.053326813088964954, 0.13331703272241238, 0.7932363446983537, 0.09533503578767676, 0.03575063842037879, 0.03972293157819865, 0.14300255368151515, 0.6832344231450168, 0.08205429118956861, 0.022141634130518513, 0.10159102718708495, 0.2565824661007145, 0.5379114644649498, 0.8880404113449861, 0.7643404610793363, 0.16985343579540807, 0.050202207372339276, 0.08785386290159374, 0.0627527592154241, 0.7530331105850891, 0.050202207372339276, 0.9020285440489477, 0.026746631796694516, 0.13373315898347257, 0.775652322104141, 0.08023989539008355, 0.3297627693260351, 0.04227727811872245, 0.044391142024658575, 0.1965893432520594, 0.3868370947863104, 0.10800644041337895, 0.3038825272647611, 0.1501106459982555, 0.30205190963063605, 0.13729632255938, 0.10620946504948847, 0.5947730042771354, 0.19117703708907924, 0.08496757203959078, 0.7003739265695826, 0.25468142784348463, 0.06367035696087116, 0.023195735467889642, 0.9510251541834753, 0.0064801536046307315, 0.1425633793018761, 0.23328552976670636, 0.5961741316260273, 0.019440460813892196, 0.10930721216163639, 0.34473813066362247, 0.5381278137188253, 0.008408247089356646, 0.9579762774123198, 0.11049064374923535, 0.5362045946654069, 0.06174477150692564, 0.2047326634177008, 0.08449284522000351, 0.9478178982504861, 0.9562318139718049, 0.06374878759812032, 0.8054085239956201, 0.16108170479912404, 0.8745824137044159, 0.14576373561740266, 0.42294330051142376, 0.33271539640232006, 0.047933574057961365, 0.12970261215683662, 0.0676709280818278, 0.43509547757614403, 0.4006634613650823, 0.0031301832919147054, 0.16276953117956466, 0.11811664267258153, 0.44482225006482834, 0.06785424153531279, 0.25382512574320715, 0.11811664267258153, 0.348597713750837, 0.06631858944528118, 0.17004766524431073, 0.15304289871987964, 0.2618734044762385, 0.03719740894232646, 0.8395986589839401, 0.026569577815947473, 0.07970873344784242, 0.01062783112637899, 0.6183820622293468, 0.010955587716661655, 0.03895320077035255, 0.006086437620367586, 0.3250157689276291, 0.7313373724524729, 0.261616621039909, 0.4224361673093471, 0.00494077388665903, 0.5731297708524475, 0.9625148889179201, 0.07494123765255449, 0.6807162420107034, 0.04371572196399012, 0.1935981972690991, 0.012490206275425748, 0.7962749957890307, 0.18735882253859548, 0.21295584734374753, 0.515056002877901, 0.024762307830668316, 0.12876400071947525, 0.11885907758720793, 0.9798324183163083, 0.11638017001627907, 0.7194410510097251, 0.15870023184038054, 0.9016228258820101, 0.9016149667251633, 0.010858209186442418, 0.9772388267798177, 0.07296278048629774, 0.32707453321443813, 0.14844151892039886, 0.26669154246715726, 0.18366493018964603, 0.08836377974030604, 0.8394559075329074, 0.04418188987015302, 0.03479854758537475, 0.011599515861791584, 0.011599515861791584, 0.03479854758537475, 0.8931627213579519, 0.9621132465547475, 0.45969539491814726, 0.1276931652550409, 0.10215453220403273, 0.17147367905676922, 0.13863829370547298, 0.29467893918982396, 0.0030069279509165707, 0.19845724476049367, 0.19845724476049367, 0.3067066509934902, 0.1625694020114677, 0.01875800792440012, 0.13005552160917416, 0.29137438975901514, 0.39641923413565583, 0.1319495515037244, 0.25869056807967017, 0.1215324816481672, 0.39411247620191364, 0.09201745039075516, 0.4256477303015069, 0.11114135180094903, 0.026011805740647643, 0.29558870159826867, 0.14424728637995513, 0.2944531998449141, 0.3212216725580881, 0.16061083627904404, 0.21950147624802685, 0.23236857739348019, 0.7435794476591366, 0.850301834145083, 0.7320413440397057, 0.191725113915161, 0.03485911162093837, 0.03485911162093837, 0.9364581940644443, 0.05636767229080064, 0.9582504289436109, 0.17619961879946386, 0.09582786285584877, 0.07418931317872163, 0.43277099354254284, 0.22256793953616488, 0.0277494775628155, 0.9434822371357271, 0.7935655910102045, 0.11336651300145778, 0.48550817162869525, 0.18845382977692776, 0.03513545978891874, 0.2555306166466817, 0.038329592497002254, 0.1173870641295876, 0.8510562149395101, 0.9223645337536416, 0.17904961140855383, 0.6646078796351405, 0.015173695882080831, 0.12442430623306282, 0.018208435058496997, 0.20430113505581596, 0.32526891239149647, 0.018817209807772524, 0.08870970337949904, 0.3629033320070415, 0.28009213399990135, 0.012003948599995774, 0.7082329673997506, 0.8880398524250275, 0.9223638389734149, 0.3026672910429515, 0.04740572028383577, 0.026741688365240695, 0.28443432170301464, 0.33913322972282517, 0.46089377073011933, 0.37447618871822197, 0.16323321046691727, 0.7093235320788338, 0.006988409183042698, 0.027953636732170793, 0.1642276158015034, 0.09084931937955508, 0.9329244963543954, 0.046646224817719774, 0.9330051351114411, 0.07775263469326928, 0.5622113585513318, 0.041866803296375765, 0.3050295668735949, 0.017942915698446756, 0.9510554691175378, 0.19827086945128788, 0.004373622120248997, 0.048109843322738974, 0.11662992320663994, 0.6327173333960217, 0.09951541418412174, 0.21366544810120258, 0.19903082836824348, 0.20195775231483531, 0.28683854676599796, 0.14523889654933425, 0.020748413792762037, 0.8299365517104814, 0.020302113047681137, 0.12181267828608681, 0.8526887480026077, 0.8503059612723888, 0.14849051620937037, 0.18324361574773365, 0.1611280069505934, 0.4075590764044421, 0.09794055324447834, 0.04106663428740392, 0.9445325886102901, 0.2217366065844467, 0.1619029190934055, 0.08095145954670276, 0.48218912860427293, 0.05279443013915397, 0.6483107521417115, 0.04322071680944743, 0.06483107521417115, 0.20529840484487533, 0.04322071680944743, 0.1777811889303629, 0.7111247557214516, 0.044445297232590726, 0.944865527287588, 0.5083669309935708, 0.10428039610124529, 0.03476013203374843, 0.19987075919405348, 0.15207557764764937, 0.17023545430072, 0.8511772715036001, 0.9515679321191505, 0.9370345743791182, 0.1095418871848664, 0.06400200150127025, 0.2621620446109724, 0.2473923519568331, 0.3163175843428165, 0.14798300325483055, 0.022902131456104726, 0.32943835248396797, 0.3135830307066647, 0.18674045648823853, 0.0784064198949647, 0.1155463030031059, 0.2723591427930353, 0.3961587531535059, 0.1403062250752, 0.9420028115456042, 0.9579815413226497, 0.03421362647580892, 0.10744887421183986, 0.3002247955919055, 0.08848730817445635, 0.41083393080997593, 0.08848730817445635, 0.14072575550036007, 0.09006448352023044, 0.19420154259049688, 0.13228221017033845, 0.4390643571611234, 0.927571607858183, 0.10038191039788551, 0.1087470695977093, 0.2035522071957123, 0.2481663895947725, 0.33739475439289296, 0.7652366085975115, 0.12753943476625193, 0.2953094318402341, 0.48749493510133884, 0.04687451299051335, 0.02812470779430801, 0.14531099027059138, 0.516169238258849, 0.16854505739064457, 0.01755677681152548, 0.2879311397090178, 0.014045421449220382, 0.17519558069864544, 0.805899671213769, 0.14369093938088992, 0.23264247328334559, 0.027369702739217128, 0.5952910345779725, 0.006842425684804282, 0.07644605652322259, 0.1312877927246649, 0.0697985733472902, 0.26423745624331285, 0.4570144683453525, 0.10203148561370906, 0.05101574280685453, 0.05917826165595126, 0.24487556547290176, 0.5428075034649322, 0.9132151487763702, 0.6819180819479215, 0.015439654685613317, 0.09263792811367991, 0.2020021488034409, 0.007719827342806658, 0.9122304644281838, 0.03378631349734014, 0.05067947024601021, 0.07104530560187938, 0.3968737761208435, 0.004899676248405475, 0.32337863239476133, 0.2033365643088272, 0.01679834550469188, 0.419958637617297, 0.00419958637617297, 0.41785884442921056, 0.142785936789881, 0.8502933976208988, 0.1342568522559314, 0.03901410096855569, 0.9363384232453367, 0.09664892269683395, 0.03865956907873358, 0.09664892269683395, 0.560563751641637, 0.20618436841991244, 0.02123742845192777, 0.5096982828462664, 0.14866199916349437, 0.3397988552308443, 0.9579805996335539, 0.8645790340998789, 0.13301215909228906, 0.9724346586932401, 0.20305184012438793, 0.7868258804820032, 0.19524225717514104, 0.12272370451008865, 0.0920427783825665, 0.37932781394027404, 0.20918813268765113, 0.8503078387625711, 0.7133335490071038, 0.20380958543060107, 0.3126420726801734, 0.12561511848756968, 0.022331576620012384, 0.45500587363275236, 0.08653485940254799, 0.9487070555463296, 0.9408044750591148, 0.9944303800583545, 0.9669627404890462, 0.06803799705560351, 0.9253167599562078, 0.11976925198195988, 0.3612395180746209, 0.1178374898532186, 0.3129454648560887, 0.08886105792209927, 0.9275815646048984, 0.056642345781438216, 0.6797081493772587, 0.16992703734431466, 0.056642345781438216, 0.16749260839354313, 0.32737191640556157, 0.10404843854750406, 0.24108784541494843, 0.16241707480586, 0.051330544938176514, 0.9239498088871773, 0.07435498869590358, 0.02478499623196786, 0.09913998492787145, 0.7931198794229716, 0.937035821833194, 0.916047121519911, 0.9132134540284119, 0.139353819692515, 0.11612818307709584, 0.5341896421546408, 0.0696769098462575, 0.139353819692515, 0.7644902425915417, 0.12741504043192364, 0.9569076147758669, 0.9813805746605102, 0.7134424011604589, 0.20384068604584538, 0.011596725313406574, 0.9741249263261521, 0.9731560893628489, 0.06882727627350237, 0.014599725270136865, 0.108455102006731, 0.216910204013462, 0.5923317109598386, 0.034604119943378364, 0.017302059971689182, 0.951613298442905, 0.022302874646416188, 0.044605749292832376, 0.8809635485334395, 0.055757186616040476, 0.023296459323659726, 0.8270243059899203, 0.13977875594195838, 0.9784395071835099, 0.2760525792421645, 0.123237758590252, 0.07065631492507782, 0.09366069652859152, 0.43544008035222376, 0.9742759544809031, 0.043912413194950435, 0.5645881696493626, 0.29484048859466716, 0.09409802827489379, 0.09419969157591143, 0.824247301289225, 0.07737831808021296, 0.003364274699139694, 0.0655488340114232, 0.9286084818284952, 0.9751541398380952, 0.9601231769134098, 0.9710849095666388, 0.9581126628866646, 0.8574140927382017, 0.05591831039596968, 0.09319718399328279, 0.4939548688236576, 0.11974663486634124, 0.10477830550804858, 0.19833036399737766, 0.0823258114706096, 0.9068799210383456, 0.046678834020043, 0.9469134901208722, 0.9957132283436531, 0.9160447731963925, 0.0274294904467584, 0.4663013375948928, 0.1337187659279472, 0.2811522770792736, 0.0925745302578096, 0.026177992696819457, 0.059835411878444475, 0.10845168402968061, 0.033657419181625015, 0.7703809279349726, 0.3019420861543122, 0.2661563574249122, 0.1990581160572873, 0.14985273905436233, 0.08275449768673741, 0.11884464159025218, 0.11884464159025218, 0.02829634323577433, 0.5772454020097963, 0.15845952212033623, 0.9419731625701544, 0.6160615811864734, 0.05357057227708464, 0.12499800197986416, 0.12499800197986416, 0.08035585841562695, 0.9389986228421019, 0.9887470580832995, 0.08193718254393052, 0.34823302581170473, 0.11095660136157258, 0.4028578141743251, 0.056331812998952235, 0.023194653302840602, 0.03865775550473434, 0.08504706211041554, 0.8504706211041555, 0.9694313798156603, 0.23529592128413462, 0.16166590509998366, 0.1920783030890895, 0.1792730828831502, 0.2320946162326498, 0.15142877130451263, 0.4614972077851814, 0.12979608968958226, 0.15142877130451263, 0.10455796113883016, 0.11562956415450859, 0.5836539904941862, 0.07158020638136246, 0.18720977053587107, 0.038543188051502864, 0.059691063304483274, 0.8953659495672491, 0.14021827384586613, 0.8062550746137302, 0.03505456846146653, 0.648288172192216, 0.2315314900686486, 0.09261259602745943, 0.6164633139998364, 0.11855063730766086, 0.2608114020768539, 0.9837430974779864, 0.974233850929811, 0.9515041874626178, 0.7646235936481302, 0.02780449431447746, 0.12512022441514858, 0.05560898862895492, 0.01390224715723873, 0.8185048275282596, 0.011692926107546566, 0.05846463053773283, 0.10523633496791909, 0.9798321825670695, 0.17433186816377022, 0.1012249557079956, 0.1883908897898807, 0.34304012767709624, 0.1940144984403249, 0.3316043632933001, 0.0867272950151708, 0.18110699841403316, 0.26273268784007625, 0.1402941537010116, 0.966561695686749, 0.056677292040354675, 0.7368047965246107, 0.056677292040354675, 0.17003187612106402, 0.11515081326373898, 0.11118009556498935, 0.08470864423999189, 0.0992679424687405, 0.5903133645474435, 0.24036468545545187, 0.011445937402640565, 0.034337812207921696, 0.686756244158434, 0.034337812207921696, 0.9474098358851155, 0.22110770241011962, 0.012115490543020253, 0.3059161362112614, 0.31803162675428165, 0.142357013880488, 0.9452567696209817, 0.9737811366482101, 0.05134216212938357, 0.9241589183289042, 0.9724427654780493, 0.4103680429827134, 0.0387139663191239, 0.07226607046236462, 0.09807538134178057, 0.3819778010153559, 0.037772590067858394, 0.10387462268661059, 0.849883276526814, 0.04958327378757735, 0.5301596197287116, 0.038140979836597956, 0.32038423062742283, 0.06102556773855673, 0.24673380908498527, 0.06132690052401368, 0.04991724461256927, 0.15403035480449948, 0.48776279021424834, 0.7288596191922547, 0.14577192383845095, 0.14588426160280596, 0.7294213080140298, 0.09725617440187065, 0.13215621405641795, 0.03432628936530336, 0.10984412596897077, 0.39646864216925387, 0.3278160634386471, 0.8880476706383718, 0.9694297129461361, 0.9736963950885839, 0.029427496618128834, 0.10790082093313906, 0.8533974019257362, 0.9275901576026782, 0.0638290800945716, 0.9148834813555261, 0.14029987304120017, 0.09239259931981475, 0.03536013060387972, 0.17908195176803599, 0.5532149465445698, 0.01646045295069329, 0.03292090590138658, 0.9382458181895174, 0.061616180589515825, 0.6367005327583302, 0.2875421760844072, 0.9703834980069443, 0.14969227426970336, 0.4063076015891948, 0.08553844243983048, 0.2601794290878177, 0.09266664597648303, 0.09868458708662145, 0.6907921096063502, 0.23026403653545005, 0.5637549521088597, 0.1514565542979026, 0.029449885557925506, 0.16828506033100288, 0.08834965667377652, 0.9703548170377109, 0.9572799309422333, 0.8880344904222397, 0.8880421448030489, 0.2911560382583627, 0.07640264833730086, 0.1693247882069911, 0.2973508475830087, 0.16519491532389374, 0.8457534185254311, 0.11276712247005748, 0.22444564043443713, 0.10093413415986521, 0.062419793493600856, 0.1487450398145382, 0.4635001687078021, 0.3449412216806368, 0.08541401679711005, 0.1051249437502893, 0.4632067833997122, 0.03520630729864584, 0.9505702970634378, 0.7926432450861806, 0.1698521239470387, 0.7935681970774408, 0.11336688529677724, 0.10923118194837192, 0.6189766977074409, 0.21846236389674384, 0.07282078796558128, 0.9569085065604791, 0.1447764600901869, 0.02467780569719095, 0.07896897823101105, 0.09048528755636683, 0.6613651926847175, 0.8458625386874213, 0.1268793808031132, 0.033894523616383794, 0.169472618081919, 0.033894523616383794, 0.7626267813686355, 0.21946080885604569, 0.08156950417658335, 0.14760195993857939, 0.27189834725527784, 0.27966687146257146, 0.9449059374115419, 0.141593684402552, 0.32251894780581286, 0.09701789486841525, 0.21239052660382796, 0.22812315820411153, 0.7641583116479479, 0.25471943721598267, 0.9802998236146291, 0.38408604583857053, 0.08001792621636887, 0.10082258703262477, 0.14883334276244609, 0.28646417585460054, 0.026407263878637354, 0.15844358327182412, 0.03961089581795603, 0.7526070205411646, 0.026407263878637354, 0.06885146159334105, 0.06669985341854914, 0.19794795208085553, 0.26034458914982084, 0.40880555321046247, 0.18520146498361797, 0.07492883697810498, 0.18237396170142534, 0.32799038073434633, 0.23044151749870023, 0.3990100683393536, 0.05995488073492878, 0.12197717115037233, 0.2811677165500108, 0.13644903891397583, 0.9468000607749129, 0.033814287884818314, 0.09864562428275672, 0.014092232040393818, 0.014092232040393818, 0.007046116020196909, 0.8596261544640229, 0.025941583159470673, 0.7782474947841203, 0.03891237473920601, 0.12970791579735338, 0.03891237473920601, 0.4591956384350324, 0.15881954412038715, 0.05524158056361292, 0.16917734047606456, 0.15881954412038715, 0.17026345945990043, 0.6810538378396017, 0.9478081420740049, 0.11134593706562425, 0.044184895660962, 0.0530218747931544, 0.07246322888397769, 0.7193301013604614, 0.048187689922928115, 0.048187689922928115, 0.09035191860549022, 0.05421115116329413, 0.7589561162861178, 0.9720266664105323, 0.9478099521150701, 0.018119125317918584, 0.03623825063583717, 0.8878371405780106, 0.07247650127167433, 0.03901299773462928, 0.9363119456311026, 0.9132127412997779, 0.606365874583478, 0.2585519465229043, 0.0030779993633679088, 0.11388597644461261, 0.01846799618020745, 0.16827438371969453, 0.4562105514178385, 0.06357032273855126, 0.08226747648518398, 0.22810527570891925, 0.3307113728871685, 0.2690881357032241, 0.03902805021649815, 0.1232464743678889, 0.23827651711125186, 0.590160245376274, 0.024405122929094036, 0.022186475390085485, 0.32170389315623954, 0.03993565570215388, 0.9068712340572752, 0.9526662587253748, 0.2405756959063723, 0.005492595796949139, 0.08348745611362691, 0.07030522620094898, 0.6008899801862357, 0.06378655450241591, 0.9142739478679615, 0.6624852690342684, 0.0135201075313116, 0.0540804301252464, 0.270402150626232, 0.16741921927297887, 0.017623075712945142, 0.2577374823018227, 0.03304326696177214, 0.5264893869242362, 0.9132096911548814, 0.20657659788383015, 0.14202141104513322, 0.19796923963867055, 0.21518395612898972, 0.2367023517418887, 0.42455680141691987, 0.15896647358989693, 0.11243970083187833, 0.09305354551603724, 0.2113090929426679, 0.21733930986587216, 0.3411721724638691, 0.055598428105223106, 0.22239371242089243, 0.16679528431566934, 0.5254782420026473, 0.32842390125165455, 0.14779075556324456, 0.08319826524141982, 0.49918959144851893, 0.24959479572425947, 0.16639653048283964, 0.809539653798376, 0.18856746955946108, 0.8330055850953098, 0.15530612603471877, 0.9532072610502794, 0.9133759799607852, 0.9068702779178412, 0.9132153746512528, 0.031280236405836485, 0.25592920695684396, 0.23886725982638768, 0.21611799698577933, 0.25877286481191997, 0.23271167334237353, 0.09640912181326904, 0.19281824362653807, 0.44547663182682934, 0.03324452476319622, 0.9798394401952635, 0.957280794680117, 0.23025892704869608, 0.006099574226455525, 0.10216786829313004, 0.20891041725610174, 0.45289338631432274, 0.2740746056415742, 0.016937194730659078, 0.19862710184136556, 0.17399118223313417, 0.33566440466215264, 0.010418624409200161, 0.3681247291250724, 0.43063647558027335, 0.1875352393656029, 0.8880328294508388, 0.2943088373021015, 0.014939534888431548, 0.07320372095331458, 0.07469767444215773, 0.540811162961222, 0.9515698072596613, 0.4402495034425693, 0.035422373840206724, 0.06578440856038392, 0.12903864756075306, 0.33145221236193434, 0.026861186694475125, 0.9670027210011044, 0.010256572604232449, 0.984630970006315, 0.5801516707663937, 0.026983798640297384, 0.05396759728059477, 0.2496001374227508, 0.09444329524104084, 0.10567358137173118, 0.04316244872929865, 0.06251113264243252, 0.3616715531455025, 0.4271594063899556, 0.0014430397917881662, 0.03896207437828049, 0.15656981740901602, 0.8030516441301144, 0.05668754095519784, 0.9353444257607644, 0.9509255601471502, 0.031697518671571674, 0.2052477430092715, 0.0947297275427407, 0.2789264199869587, 0.33155404639959246, 0.08946696490147732, 0.6143037055128275, 0.09192135739425521, 0.04259770220709388, 0.15021294988817313, 0.10088929470101181, 0.17023931076222937, 0.8511965538111469, 0.14598466061631185, 0.7299233030815592, 0.9016126561222866, 0.16611092630300112, 0.10342755788677428, 0.25386764208571866, 0.16924509472381244, 0.3071485052395115, 0.040844184796472074, 0.058997155817126334, 0.015883849643072476, 0.04311330617405386, 0.8395749097052594, 0.8632400907857407, 0.07847637188961279, 0.03373675667308076, 0.04217094584135094, 0.9277608085097208, 0.004494234714392954, 0.0584250512871084, 0.9303065858793415, 0.8880445640725033, 0.0927536886403011, 0.7420295091224088, 0.0927536886403011, 0.2609455554533444, 0.676827534457112, 0.016309097215834026, 0.008154548607917013, 0.04892729164750207, 0.19567819192646493, 0.7827127677058597, 0.01630651599387208, 0.9530838762107976, 0.8166019573759944, 0.15976994818225979, 0.8751983510327842, 0.1029645118862099, 0.9025410811510706, 0.08204918919555187, 0.008013963068492752, 0.8815359375342028, 0.03205585227397101, 0.04006981534246376, 0.03205585227397101, 0.42089766792961636, 0.3967697761374728, 0.034851399255318556, 0.12600121269230555, 0.02144701492634988, 0.2550382454769207, 0.6443071464680102, 0.0335576638785422, 0.060403794981375956, 0.006711532775708439, 0.04916079639445802, 0.8848943351002444, 0.030725497746536264, 0.036870597295843514, 0.9860176095459356, 0.2671035703804228, 0.2082917750673022, 0.03920786354208042, 0.4288360074915046, 0.05881179531312063, 0.19987096449250974, 0.7631436826077644, 0.01817008768113725, 0.2436894760375782, 0.06440364723850281, 0.06614428635305694, 0.27502098009955256, 0.35160910113993427, 0.9742749571646384, 0.9474147190890592, 0.9530076253385387, 0.09686171311812132, 0.8523830754394677, 0.03874468524724853, 0.11952172541497945, 0.8366520779048562, 0.03241619014243068, 0.04133064243159912, 0.12966476056972273, 0.11912949877343275, 0.6774983739768012, 0.0927859269487379, 0.9278592694873791, 0.9020267829620504, 0.2317293056337613, 0.10427818753519258, 0.07282921034203926, 0.11917507146879153, 0.4733898672232552, 0.01790880663176276, 0.9760299614310703, 0.052088032671178466, 0.026044016335589233, 0.07813204900676769, 0.8334085227388555, 0.05015139147484166, 0.12537847868710417, 0.8274979593348875, 0.9622709518835496, 0.13110944746053446, 0.17121351374258031, 0.023136961316564907, 0.1735272098742368, 0.5005295964816875, 0.9625156076734526, 0.10687830360615892, 0.6852785348865484, 0.037721754213938447, 0.169747893962723, 0.9330062400568916], \"Term\": [\"abkhazia\", \"abuses\", \"abuses\", \"accountability\", \"accountable\", \"accountable\", \"act\", \"act\", \"act\", \"act\", \"act\", \"action\", \"action\", \"action\", \"action\", \"action\", \"admittedly\", \"affairs\", \"affairs\", \"affairs\", \"affairs\", \"affairs\", \"affirming\", \"affirming\", \"aggression\", \"aggression\", \"aggression\", \"aggression\", \"aggression\", \"aggressor\", \"aggressor\", \"aggressor\", \"aggressors\", \"aggressors\", \"aggressors\", \"ago\", \"ago\", \"ago\", \"ago\", \"ago\", \"agreement\", \"agreement\", \"agreement\", \"agreement\", \"agreement\", \"aid\", \"aid\", \"aid\", \"aid\", \"aid\", \"alassad\", \"alassad\", \"aligned\", \"alqaida\", \"alqaida\", \"america\", \"america\", \"america\", \"america\", \"america\", \"americas\", \"americas\", \"americas\", \"anachronistic\", \"antarctica\", \"argentina\", \"argentina\", \"argentina\", \"argentine\", \"argentine\", \"armaments\", \"armaments\", \"armaments\", \"armaments\", \"armed\", \"armed\", \"armed\", \"armed\", \"armed\", \"arms\", \"arms\", \"arms\", \"arms\", \"arms\", \"ate\", \"autumn\", \"autumn\", \"bank\", \"bank\", \"bank\", \"bank\", \"bank\", \"banking\", \"banks\", \"banks\", \"banks\", \"banks\", \"basis\", \"basis\", \"basis\", \"basis\", \"basis\", \"believe\", \"believe\", \"believe\", \"believe\", \"believe\", \"berlin\", \"berlin\", \"berlin\", \"berlin\", \"bitterness\", \"bitterness\", \"bitterness\", \"brezhnev\", \"brezhnev\", \"britain\", \"britain\", \"britain\", \"britain\", \"britain\", \"british\", \"british\", \"british\", \"british\", \"brutality\", \"build\", \"build\", \"build\", \"build\", \"build\", \"bullying\", \"calendar\", \"calendar\", \"canal\", \"canal\", \"centers\", \"centers\", \"century\", \"century\", \"century\", \"century\", \"century\", \"challenges\", \"challenges\", \"challenges\", \"challenges\", \"change\", \"change\", \"change\", \"change\", \"change\", \"charter\", \"charter\", \"charter\", \"charter\", \"charter\", \"children\", \"children\", \"children\", \"children\", \"children\", \"china\", \"china\", \"china\", \"china\", \"china\", \"chinas\", \"chinas\", \"chinese\", \"chinese\", \"chinese\", \"cis\", \"citizens\", \"citizens\", \"citizens\", \"citizens\", \"citizens\", \"civilizations\", \"civilizations\", \"climate\", \"climate\", \"climate\", \"climate\", \"climate\", \"clique\", \"coalition\", \"coalition\", \"coalition\", \"coercive\", \"coherence\", \"colonialism\", \"colonialism\", \"come\", \"come\", \"come\", \"come\", \"come\", \"commodity\", \"commodity\", \"commodity\", \"communist\", \"communist\", \"communist\", \"communist\", \"communist\", \"compatriots\", \"comprehensive\", \"comprehensive\", \"comprehensive\", \"comprehensive\", \"comprehensive\", \"concerned\", \"concerned\", \"concerned\", \"concerned\", \"concerned\", \"conference\", \"conference\", \"conference\", \"conference\", \"conference\", \"conflict\", \"conflict\", \"conflict\", \"conflict\", \"conflict\", \"conflicts\", \"conflicts\", \"conflicts\", \"conflicts\", \"conflicts\", \"confrontation\", \"confrontation\", \"confrontation\", \"confrontation\", \"confrontations\", \"confrontations\", \"congratulated\", \"consultation\", \"consultation\", \"consultation\", \"consultation\", \"consumer\", \"consumers\", \"consumers\", \"control\", \"control\", \"control\", \"control\", \"control\", \"corruption\", \"corruption\", \"covenants\", \"covenants\", \"crisis\", \"crisis\", \"crisis\", \"crisis\", \"crisis\", \"darfur\", \"darfur\", \"declined\", \"democracy\", \"democracy\", \"democracy\", \"democracy\", \"democracy\", \"democratic\", \"democratic\", \"democratic\", \"democratic\", \"democratic\", \"detente\", \"detente\", \"detente\", \"detention\", \"deterrent\", \"developing\", \"developing\", \"developing\", \"developing\", \"developing\", \"dialog\", \"dialog\", \"dialog\", \"dialogue\", \"dialogue\", \"dialogue\", \"dialogue\", \"dialogue\", \"dictator\", \"dictator\", \"dictators\", \"dignity\", \"dignity\", \"dignity\", \"dignity\", \"dignity\", \"disappointed\", \"disarmament\", \"disarmament\", \"disarmament\", \"disarmament\", \"disarmament\", \"does\", \"does\", \"does\", \"does\", \"does\", \"drugs\", \"drugs\", \"drugs\", \"eastwest\", \"eastwest\", \"eastwest\", \"economists\", \"effort\", \"effort\", \"effort\", \"effort\", \"effort\", \"emissions\", \"emissions\", \"energy\", \"energy\", \"energy\", \"energy\", \"energy\", \"enhance\", \"enhance\", \"enhance\", \"enhance\", \"enhance\", \"enlarged\", \"enlarged\", \"enlarged\", \"entity\", \"environment\", \"environment\", \"environment\", \"environment\", \"environment\", \"euphoria\", \"euphoria\", \"eurasian\", \"euroatlantic\", \"europe\", \"europe\", \"europe\", \"europe\", \"europe\", \"european\", \"european\", \"european\", \"european\", \"european\", \"example\", \"example\", \"example\", \"example\", \"example\", \"explosives\", \"extremists\", \"extremists\", \"face\", \"face\", \"face\", \"face\", \"face\", \"fact\", \"fact\", \"fact\", \"fact\", \"fact\", \"fairer\", \"far\", \"far\", \"far\", \"far\", \"far\", \"favored\", \"favored\", \"fight\", \"fight\", \"fight\", \"fight\", \"fight\", \"financial\", \"financial\", \"financial\", \"financial\", \"financial\", \"flows\", \"flows\", \"food\", \"food\", \"food\", \"food\", \"food\", \"forces\", \"forces\", \"forces\", \"forces\", \"forces\", \"foreign\", \"foreign\", \"foreign\", \"foreign\", \"foreign\", \"forests\", \"france\", \"france\", \"france\", \"france\", \"france\", \"frances\", \"frances\", \"frances\", \"free\", \"free\", \"free\", \"free\", \"free\", \"freedom\", \"freedom\", \"freedom\", \"freedom\", \"freedom\", \"functioning\", \"functioning\", \"gatt\", \"gatt\", \"geneva\", \"geneva\", \"geneva\", \"geneva\", \"geneva\", \"german\", \"german\", \"german\", \"german\", \"girls\", \"globalization\", \"globalization\", \"god\", \"gorbachev\", \"gorbachev\", \"greater\", \"greater\", \"greater\", \"greater\", \"greater\", \"grips\", \"grouping\", \"grouping\", \"growth\", \"growth\", \"growth\", \"growth\", \"growth\", \"harmonious\", \"hatreds\", \"hegemonism\", \"hegemonists\", \"hegemony\", \"hegemony\", \"help\", \"help\", \"help\", \"help\", \"help\", \"herzegovina\", \"hijacking\", \"hijacking\", \"hijacking\", \"hijacking\", \"history\", \"history\", \"history\", \"history\", \"history\", \"hivaids\", \"hivaids\", \"hostages\", \"hostages\", \"hostages\", \"hostages\", \"hotspot\", \"humankinds\", \"hungary\", \"ideological\", \"ideological\", \"ideological\", \"ideological\", \"ideological\", \"idle\", \"idle\", \"ilyich\", \"imf\", \"impatience\", \"impatience\", \"imperialism\", \"imperialism\", \"imperialist\", \"independence\", \"independence\", \"independence\", \"independence\", \"independence\", \"indian\", \"indian\", \"indian\", \"industrialized\", \"industrialized\", \"industrialized\", \"industrialized\", \"institution\", \"institution\", \"institution\", \"interaction\", \"interests\", \"interests\", \"interests\", \"interests\", \"interests\", \"invariably\", \"iran\", \"iran\", \"iran\", \"iran\", \"iraq\", \"iraq\", \"iraq\", \"iraq\", \"iraqi\", \"iraqi\", \"iraqis\", \"irreplaceable\", \"isil\", \"islam\", \"israelis\", \"israelis\", \"israelis\", \"issue\", \"issue\", \"issue\", \"issue\", \"issue\", \"jarring\", \"kampuchea\", \"kampuchea\", \"kampuchean\", \"karabakh\", \"know\", \"know\", \"know\", \"know\", \"know\", \"korea\", \"korea\", \"korea\", \"korea\", \"korea\", \"law\", \"law\", \"law\", \"law\", \"law\", \"lebanon\", \"lebanon\", \"lebanon\", \"lebanon\", \"lebanon\", \"lebanons\", \"legal\", \"legal\", \"legal\", \"legal\", \"legal\", \"lenin\", \"leonid\", \"let\", \"let\", \"let\", \"let\", \"let\", \"liberation\", \"liberation\", \"liberation\", \"liberation\", \"libyan\", \"like\", \"like\", \"like\", \"like\", \"like\", \"live\", \"live\", \"live\", \"live\", \"live\", \"lives\", \"lives\", \"lives\", \"lives\", \"lives\", \"lome\", \"lome\", \"lower\", \"lower\", \"lower\", \"lusaka\", \"lusaka\", \"lusaka\", \"machinery\", \"machinery\", \"machinery\", \"malaria\", \"mao\", \"mdgs\", \"mechanism\", \"mechanism\", \"mechanism\", \"mechanism\", \"mechanism\", \"mechanisms\", \"mechanisms\", \"mechanisms\", \"mechanisms\", \"mediumrange\", \"meeting\", \"meeting\", \"meeting\", \"meeting\", \"meeting\", \"member\", \"member\", \"member\", \"member\", \"member\", \"mentality\", \"mikhail\", \"mikhail\", \"mikhail\", \"mikhail\", \"military\", \"military\", \"military\", \"military\", \"military\", \"monetary\", \"monetary\", \"monetary\", \"monetary\", \"monetary\", \"mothers\", \"mr\", \"mr\", \"mr\", \"mr\", \"mr\", \"multipolar\", \"multipolarity\", \"muslim\", \"muslim\", \"muslims\", \"mutual\", \"mutual\", \"mutual\", \"mutual\", \"mutual\", \"nam\", \"nam\", \"nam\", \"nation\", \"nation\", \"nation\", \"nation\", \"nation\", \"national\", \"national\", \"national\", \"national\", \"national\", \"nd\", \"nd\", \"necessarily\", \"necessarily\", \"necessarily\", \"negotiations\", \"negotiations\", \"negotiations\", \"negotiations\", \"negotiations\", \"netherlands\", \"networks\", \"nixon\", \"nonaligned\", \"nonaligned\", \"nonaligned\", \"nontraditional\", \"nonuse\", \"nonuse\", \"nuclear\", \"nuclear\", \"nuclear\", \"nuclear\", \"nuclear\", \"ocean\", \"ocean\", \"ocean\", \"oil\", \"oil\", \"oil\", \"openingup\", \"opportunity\", \"opportunity\", \"opportunity\", \"opportunity\", \"opportunity\", \"organisation\", \"organisation\", \"organisation\", \"organizations\", \"organizations\", \"organizations\", \"organizations\", \"organizations\", \"osce\", \"ossetia\", \"ottawa\", \"ozone\", \"parties\", \"parties\", \"parties\", \"parties\", \"parties\", \"payments\", \"payments\", \"peaceful\", \"peaceful\", \"peaceful\", \"peaceful\", \"peaceful\", \"peacekeeping\", \"peacekeeping\", \"peacekeeping\", \"peacekeeping\", \"peaceloving\", \"peaceloving\", \"perestroika\", \"perestroika\", \"perilous\", \"perilous\", \"physical\", \"physical\", \"physical\", \"physical\", \"plunder\", \"policy\", \"policy\", \"policy\", \"policy\", \"policy\", \"poorer\", \"poorer\", \"poorest\", \"poorest\", \"poorest\", \"poorest\", \"possible\", \"possible\", \"possible\", \"possible\", \"possible\", \"postconflict\", \"power\", \"power\", \"power\", \"power\", \"power\", \"presiding\", \"presiding\", \"pressures\", \"principles\", \"principles\", \"principles\", \"principles\", \"principles\", \"private\", \"private\", \"private\", \"private\", \"private\", \"problem\", \"problem\", \"problem\", \"problem\", \"problem\", \"problems\", \"problems\", \"problems\", \"problems\", \"problems\", \"process\", \"process\", \"process\", \"process\", \"process\", \"producers\", \"producers\", \"prohibition\", \"prohibition\", \"prohibition\", \"prohibition\", \"prohibition\", \"promise\", \"promise\", \"promise\", \"promise\", \"promise\", \"promote\", \"promote\", \"promote\", \"promote\", \"promote\", \"proximity\", \"proximity\", \"puppet\", \"question\", \"question\", \"question\", \"question\", \"question\", \"race\", \"race\", \"race\", \"race\", \"race\", \"racist\", \"racists\", \"rates\", \"rates\", \"rates\", \"rates\", \"reagan\", \"reagan\", \"reagans\", \"reform\", \"reform\", \"reform\", \"reform\", \"reform\", \"regime\", \"regime\", \"regime\", \"regime\", \"regime\", \"region\", \"region\", \"region\", \"region\", \"region\", \"regional\", \"regional\", \"regional\", \"regional\", \"regional\", \"register\", \"regrettably\", \"relations\", \"relations\", \"relations\", \"relations\", \"relations\", \"relaxation\", \"relaxation\", \"relevant\", \"relevant\", \"relevant\", \"relevant\", \"republic\", \"republic\", \"republic\", \"republic\", \"republic\", \"rescheduling\", \"resolution\", \"resolution\", \"resolution\", \"resolution\", \"resolution\", \"respect\", \"respect\", \"respect\", \"respect\", \"respect\", \"responsibility\", \"responsibility\", \"responsibility\", \"responsibility\", \"responsibility\", \"rhodesia\", \"rhodesia\", \"rhodesia\", \"rightly\", \"rightly\", \"rightly\", \"rightly\", \"russia\", \"russia\", \"russian\", \"russian\", \"saddam\", \"sale\", \"salisbury\", \"satellite\", \"say\", \"say\", \"say\", \"say\", \"say\", \"secretarygeneral\", \"secretarygeneral\", \"secretarygeneral\", \"secretarygeneral\", \"secretarygeneral\", \"sectarian\", \"separatism\", \"session\", \"session\", \"session\", \"session\", \"session\", \"settlement\", \"settlement\", \"settlement\", \"settlement\", \"settlement\", \"shall\", \"shall\", \"shall\", \"shall\", \"shevardnadze\", \"situation\", \"situation\", \"situation\", \"situation\", \"situation\", \"sixparty\", \"social\", \"social\", \"social\", \"social\", \"social\", \"socialism\", \"socialism\", \"socialist\", \"socialist\", \"solidarity\", \"solidarity\", \"solidarity\", \"solidarity\", \"solidarity\", \"south\", \"south\", \"south\", \"south\", \"south\", \"soviet\", \"soviet\", \"soviet\", \"soviet\", \"sovietamerican\", \"sovietamerican\", \"soviets\", \"soviets\", \"spirit\", \"spirit\", \"spirit\", \"spirit\", \"spirit\", \"stability\", \"stability\", \"stability\", \"stability\", \"stability\", \"standpoint\", \"standpoint\", \"standstill\", \"standstill\", \"statute\", \"step\", \"step\", \"step\", \"step\", \"step\", \"struggle\", \"struggle\", \"struggle\", \"struggle\", \"struggle\", \"suez\", \"suez\", \"superpower\", \"superpower\", \"superpower\", \"superpowers\", \"superpowers\", \"superpowers\", \"suppliers\", \"surprising\", \"surprising\", \"surprising\", \"syria\", \"syria\", \"syria\", \"syria\", \"syria\", \"syrian\", \"syrian\", \"syrian\", \"syrias\", \"taiwan\", \"taiwan\", \"tajikistan\", \"tajikistan\", \"tax\", \"tax\", \"terror\", \"terror\", \"terror\", \"terror\", \"terror\", \"terrorism\", \"terrorism\", \"terrorism\", \"terrorism\", \"terrorism\", \"terrorist\", \"terrorist\", \"terrorist\", \"terrorist\", \"terrorist\", \"terrorists\", \"terrorists\", \"terrorists\", \"terrorists\", \"thirdworld\", \"trade\", \"trade\", \"trade\", \"trade\", \"trade\", \"trading\", \"trading\", \"trading\", \"treaty\", \"treaty\", \"treaty\", \"treaty\", \"treaty\", \"tsetung\", \"tuberculosis\", \"tunisia\", \"ukraine\", \"ukraine\", \"ukraine\", \"unifil\", \"unifil\", \"union\", \"union\", \"union\", \"union\", \"union\", \"unprofor\", \"unprofor\", \"urging\", \"use\", \"use\", \"use\", \"use\", \"use\", \"ussr\", \"ussr\", \"verifiable\", \"verifiable\", \"verifiable\", \"verifiable\", \"viet\", \"viet\", \"viet\", \"warming\", \"weapons\", \"weapons\", \"weapons\", \"weapons\", \"weapons\", \"winwin\", \"women\", \"women\", \"women\", \"women\", \"yemen\"]}, \"R\": 30, \"lambda.step\": 0.01, \"plot.opts\": {\"xlab\": \"PC1\", \"ylab\": \"PC2\"}, \"topic.order\": [1, 2, 3, 4, 5]};\n",
       "\n",
       "function LDAvis_load_lib(url, callback){\n",
       "  var s = document.createElement('script');\n",
       "  s.src = url;\n",
       "  s.async = true;\n",
       "  s.onreadystatechange = s.onload = callback;\n",
       "  s.onerror = function(){console.warn(\"failed to load library \" + url);};\n",
       "  document.getElementsByTagName(\"head\")[0].appendChild(s);\n",
       "}\n",
       "\n",
       "if(typeof(LDAvis) !== \"undefined\"){\n",
       "   // already loaded: just create the visualization\n",
       "   !function(LDAvis){\n",
       "       new LDAvis(\"#\" + \"ldavis_el2021220145777088721788211031\", ldavis_el2021220145777088721788211031_data);\n",
       "   }(LDAvis);\n",
       "}else if(typeof define === \"function\" && define.amd){\n",
       "   // require.js is available: use it to load d3/LDAvis\n",
       "   require.config({paths: {d3: \"https://d3js.org/d3.v5\"}});\n",
       "   require([\"d3\"], function(d3){\n",
       "      window.d3 = d3;\n",
       "      LDAvis_load_lib(\"https://cdn.jsdelivr.net/gh/bmabey/pyLDAvis@3.3.1/pyLDAvis/js/ldavis.v3.0.0.js\", function(){\n",
       "        new LDAvis(\"#\" + \"ldavis_el2021220145777088721788211031\", ldavis_el2021220145777088721788211031_data);\n",
       "      });\n",
       "    });\n",
       "}else{\n",
       "    // require.js not available: dynamically load d3 & LDAvis\n",
       "    LDAvis_load_lib(\"https://d3js.org/d3.v5.js\", function(){\n",
       "         LDAvis_load_lib(\"https://cdn.jsdelivr.net/gh/bmabey/pyLDAvis@3.3.1/pyLDAvis/js/ldavis.v3.0.0.js\", function(){\n",
       "                 new LDAvis(\"#\" + \"ldavis_el2021220145777088721788211031\", ldavis_el2021220145777088721788211031_data);\n",
       "            })\n",
       "         });\n",
       "}\n",
       "</script>"
      ],
      "text/plain": [
       "<IPython.core.display.HTML object>"
      ]
     },
     "execution_count": 134,
     "metadata": {},
     "output_type": "execute_result"
    }
   ],
   "source": [
    "# visualize\n",
    "lda_viz = pyLDAvis.sklearn.prepare(lda_model=lda,\n",
    "                                  dtm=X,\n",
    "                                  vectorizer=vec,\n",
    "                                  sort_topics=False)\n",
    "\n",
    "pyLDAvis.display(lda_viz)"
   ]
  },
  {
   "cell_type": "markdown",
   "metadata": {},
   "source": [
    "- Big non-overlapping bubbles scattered throughout the chart.\n",
    "- The bubble representing Topic 5 (i.e. Topic_4 in our dataframe) is the biggest - this means that the percentage of speeches about that topic are the highest in the corpus we have. \n",
    "\n",
    "Using the visualization above, I will look at the highest frequency words in each topic and try to interpret them. \n",
    "\n",
    "- Topic 1: Stable Relations\n",
    "- Topic 2: Iraq Threat\n",
    "- Topic 3: European Union\n",
    "- Topic 4: Nuclear Arms\n",
    "- Topic 5: Disarmament of Soviet Union"
   ]
  },
  {
   "cell_type": "code",
   "execution_count": 135,
   "metadata": {},
   "outputs": [
    {
     "data": {
      "text/html": [
       "<div>\n",
       "<style scoped>\n",
       "    .dataframe tbody tr th:only-of-type {\n",
       "        vertical-align: middle;\n",
       "    }\n",
       "\n",
       "    .dataframe tbody tr th {\n",
       "        vertical-align: top;\n",
       "    }\n",
       "\n",
       "    .dataframe thead th {\n",
       "        text-align: right;\n",
       "    }\n",
       "</style>\n",
       "<table border=\"1\" class=\"dataframe\">\n",
       "  <thead>\n",
       "    <tr style=\"text-align: right;\">\n",
       "      <th></th>\n",
       "      <th>top_words</th>\n",
       "      <th>topic_name</th>\n",
       "    </tr>\n",
       "  </thead>\n",
       "  <tbody>\n",
       "    <tr>\n",
       "      <th>Topic_0</th>\n",
       "      <td>france china stability regional developing rus...</td>\n",
       "      <td></td>\n",
       "    </tr>\n",
       "    <tr>\n",
       "      <th>Topic_1</th>\n",
       "      <td>iraq weapons democracy let freedom help change...</td>\n",
       "      <td></td>\n",
       "    </tr>\n",
       "    <tr>\n",
       "      <th>Topic_2</th>\n",
       "      <td>europe european union agreement problems settl...</td>\n",
       "      <td></td>\n",
       "    </tr>\n",
       "    <tr>\n",
       "      <th>Topic_3</th>\n",
       "      <td>nuclear south let developing conference proble...</td>\n",
       "      <td></td>\n",
       "    </tr>\n",
       "    <tr>\n",
       "      <th>Topic_4</th>\n",
       "      <td>soviet nuclear union weapons relations militar...</td>\n",
       "      <td></td>\n",
       "    </tr>\n",
       "  </tbody>\n",
       "</table>\n",
       "</div>"
      ],
      "text/plain": [
       "                                                 top_words topic_name\n",
       "Topic_0  france china stability regional developing rus...           \n",
       "Topic_1  iraq weapons democracy let freedom help change...           \n",
       "Topic_2  europe european union agreement problems settl...           \n",
       "Topic_3  nuclear south let developing conference proble...           \n",
       "Topic_4  soviet nuclear union weapons relations militar...           "
      ]
     },
     "execution_count": 135,
     "metadata": {},
     "output_type": "execute_result"
    }
   ],
   "source": [
    "# add labels\n",
    "main_topics_df['topic_name'] = ['',\n",
    "                                '',\n",
    "                                '',\n",
    "                                '',\n",
    "                                '']\n",
    "\n",
    "# view \n",
    "main_topics_df"
   ]
  },
  {
   "cell_type": "markdown",
   "metadata": {},
   "source": [
    "## <center> <font color='royalblue'> Topic Modeling - PAK"
   ]
  },
  {
   "cell_type": "code",
   "execution_count": 136,
   "metadata": {},
   "outputs": [],
   "source": [
    "# filter dataset to only include USA\n",
    "pak_un_speeches = un_speeches[un_speeches.country == 'PAK']"
   ]
  },
  {
   "cell_type": "code",
   "execution_count": 137,
   "metadata": {},
   "outputs": [
    {
     "name": "stdout",
     "output_type": "stream",
     "text": [
      "Dimensionality: This dataset has  46  observations and  8  features.\n"
     ]
    }
   ],
   "source": [
    "print('Dimensionality: This dataset has ',pak_un_speeches.shape[0], ' observations and ',pak_un_speeches.shape[1], ' features.')"
   ]
  },
  {
   "cell_type": "code",
   "execution_count": 138,
   "metadata": {},
   "outputs": [],
   "source": [
    "# Select only id, speaker, and speech text\n",
    "df = pak_un_speeches[[\"id\", \"speaker\", \"text\"]]"
   ]
  },
  {
   "cell_type": "markdown",
   "metadata": {},
   "source": [
    "#### Steps:\n",
    "1. Instantiate vectorizer with parameters: vectorizer\n",
    "2. Vectorize column of text with fit_transform: X\n",
    "3. Instantiate LDA model with parameters: lda\n",
    "4. Fit LDA model to vectorized text: doc_topics"
   ]
  },
  {
   "cell_type": "markdown",
   "metadata": {},
   "source": [
    "#### 1. Instantiate vectorizer with parameters: vectorizer"
   ]
  },
  {
   "cell_type": "code",
   "execution_count": 139,
   "metadata": {},
   "outputs": [
    {
     "data": {
      "text/html": [
       "<div>\n",
       "<style scoped>\n",
       "    .dataframe tbody tr th:only-of-type {\n",
       "        vertical-align: middle;\n",
       "    }\n",
       "\n",
       "    .dataframe tbody tr th {\n",
       "        vertical-align: top;\n",
       "    }\n",
       "\n",
       "    .dataframe thead th {\n",
       "        text-align: right;\n",
       "    }\n",
       "</style>\n",
       "<table border=\"1\" class=\"dataframe\">\n",
       "  <thead>\n",
       "    <tr style=\"text-align: right;\">\n",
       "      <th></th>\n",
       "      <th>id</th>\n",
       "      <th>speaker</th>\n",
       "      <th>text</th>\n",
       "    </tr>\n",
       "  </thead>\n",
       "  <tbody>\n",
       "    <tr>\n",
       "      <th>47</th>\n",
       "      <td>47</td>\n",
       "      <td>Mr. RASHID</td>\n",
       "      <td>\\n\\t  Recognizing Ambassador Hambros long and ...</td>\n",
       "    </tr>\n",
       "    <tr>\n",
       "      <th>150</th>\n",
       "      <td>150</td>\n",
       "      <td>Mr. MAHMUD ALI</td>\n",
       "      <td>\\tMr President the Pakistan delegation is exce...</td>\n",
       "    </tr>\n",
       "    <tr>\n",
       "      <th>275</th>\n",
       "      <td>275</td>\n",
       "      <td>Mr. Roy</td>\n",
       "      <td>Mr President I should like to join those who h...</td>\n",
       "    </tr>\n",
       "    <tr>\n",
       "      <th>398</th>\n",
       "      <td>398</td>\n",
       "      <td>Ahmed</td>\n",
       "      <td>\\tMr President when my Prime Minister spoke be...</td>\n",
       "    </tr>\n",
       "    <tr>\n",
       "      <th>525</th>\n",
       "      <td>525</td>\n",
       "      <td>Mr. Ahmed</td>\n",
       "      <td>Mr President it gives my delegation great plea...</td>\n",
       "    </tr>\n",
       "  </tbody>\n",
       "</table>\n",
       "</div>"
      ],
      "text/plain": [
       "      id         speaker                                               text\n",
       "47    47      Mr. RASHID  \\n\\t  Recognizing Ambassador Hambros long and ...\n",
       "150  150  Mr. MAHMUD ALI  \\tMr President the Pakistan delegation is exce...\n",
       "275  275         Mr. Roy  Mr President I should like to join those who h...\n",
       "398  398           Ahmed  \\tMr President when my Prime Minister spoke be...\n",
       "525  525       Mr. Ahmed  Mr President it gives my delegation great plea..."
      ]
     },
     "execution_count": 139,
     "metadata": {},
     "output_type": "execute_result"
    }
   ],
   "source": [
    "warnings.filterwarnings(\"ignore\")\n",
    "\n",
    "# remove punctuation \n",
    "df[\"text\"] = df['text'].str.replace(\"[^\\w\\s]\", '')\n",
    "\n",
    "# remove numbers\n",
    "df[\"text\"] = df['text'].str.replace('\\d+', '')\n",
    "\n",
    "# view \n",
    "df.head()"
   ]
  },
  {
   "cell_type": "code",
   "execution_count": 140,
   "metadata": {},
   "outputs": [],
   "source": [
    "# instantiate vectorizer\n",
    "vec = CountVectorizer(stop_words=\"english\",\n",
    "                    lowercase=True,\n",
    "                    ngram_range=(1, 1), # lower bound,upper bound: 1,1 only unigrams, 1,2 unigrams and bigrams, 2,2 only bigrams, etc...,\n",
    "                    min_df=5, # ignore rare words (appear in less than 5 documents)\n",
    "                    max_df=0.8) # ignore common words (appear in more than 80% of documents)"
   ]
  },
  {
   "cell_type": "markdown",
   "metadata": {},
   "source": [
    "#### 2. Vectorize column of text with fit_transform: X"
   ]
  },
  {
   "cell_type": "code",
   "execution_count": 141,
   "metadata": {},
   "outputs": [],
   "source": [
    "# create document-term matrix\n",
    "X = vec.fit_transform(df[\"text\"])"
   ]
  },
  {
   "cell_type": "code",
   "execution_count": 142,
   "metadata": {},
   "outputs": [
    {
     "data": {
      "text/plain": [
       "(46, 2310)"
      ]
     },
     "execution_count": 142,
     "metadata": {},
     "output_type": "execute_result"
    }
   ],
   "source": [
    "# check: documents, terms\n",
    "X.shape"
   ]
  },
  {
   "cell_type": "code",
   "execution_count": 143,
   "metadata": {},
   "outputs": [
    {
     "name": "stdout",
     "output_type": "stream",
     "text": [
      "There are 46 documents, and 2310 terms.\n"
     ]
    }
   ],
   "source": [
    "print('There are',X.shape[0],'documents, and',X.shape[1],'terms.')"
   ]
  },
  {
   "cell_type": "markdown",
   "metadata": {},
   "source": [
    "#### 3. Instantiate LDA model with parameters: lda"
   ]
  },
  {
   "cell_type": "code",
   "execution_count": 144,
   "metadata": {},
   "outputs": [],
   "source": [
    "# instantiate LDA\n",
    "lda = LatentDirichletAllocation(n_components=3,\n",
    "                                       random_state=42)"
   ]
  },
  {
   "cell_type": "markdown",
   "metadata": {},
   "source": [
    "#### 4. Fit LDA model to vectorized text: doc_topics"
   ]
  },
  {
   "cell_type": "code",
   "execution_count": 145,
   "metadata": {},
   "outputs": [],
   "source": [
    "# fit LDA model to vectorized text\n",
    "doc_topics = lda.fit_transform(X)"
   ]
  },
  {
   "cell_type": "code",
   "execution_count": 146,
   "metadata": {
    "scrolled": true
   },
   "outputs": [
    {
     "name": "stdout",
     "output_type": "stream",
     "text": [
      "There are 3 topics and 2310 words\n"
     ]
    }
   ],
   "source": [
    "print(f\"There are {lda.components_.shape[0]} topics and {lda.components_.shape[1]} words\")"
   ]
  },
  {
   "cell_type": "markdown",
   "metadata": {},
   "source": [
    "### Analysis"
   ]
  },
  {
   "cell_type": "markdown",
   "metadata": {},
   "source": [
    "#### Extract top words from each topic"
   ]
  },
  {
   "cell_type": "code",
   "execution_count": 147,
   "metadata": {},
   "outputs": [],
   "source": [
    "# get feature names (vocabulary)\n",
    "voc = np.array(vec.get_feature_names())"
   ]
  },
  {
   "cell_type": "code",
   "execution_count": 148,
   "metadata": {},
   "outputs": [],
   "source": [
    "# set number of top words you want\n",
    "n_words=10\n",
    "\n",
    "# create lambda function to extra top words from voc\n",
    "imp_words = lambda x: [voc[each] for each in np.argsort(x)[:-n_words-1:-1]]"
   ]
  },
  {
   "cell_type": "code",
   "execution_count": 149,
   "metadata": {},
   "outputs": [],
   "source": [
    "# use imp_words to extract words with the highest weights from our lda model\n",
    "words_in_topic = ([imp_words(x) for x in lda.components_])"
   ]
  },
  {
   "cell_type": "code",
   "execution_count": 150,
   "metadata": {},
   "outputs": [],
   "source": [
    "# join words into single string\n",
    "main_topics = [' '.join(x) for x in words_in_topic]"
   ]
  },
  {
   "cell_type": "code",
   "execution_count": 151,
   "metadata": {},
   "outputs": [],
   "source": [
    "# create dataframe with top words and set index to topic number\n",
    "main_topics_df = pd.DataFrame({\"top_words\": main_topics},\n",
    "                             index=[\"Topic_\" + str(each) for each in range(lda.n_components)])"
   ]
  },
  {
   "cell_type": "code",
   "execution_count": 152,
   "metadata": {
    "scrolled": true
   },
   "outputs": [
    {
     "data": {
      "text/html": [
       "<div>\n",
       "<style scoped>\n",
       "    .dataframe tbody tr th:only-of-type {\n",
       "        vertical-align: middle;\n",
       "    }\n",
       "\n",
       "    .dataframe tbody tr th {\n",
       "        vertical-align: top;\n",
       "    }\n",
       "\n",
       "    .dataframe thead th {\n",
       "        text-align: right;\n",
       "    }\n",
       "</style>\n",
       "<table border=\"1\" class=\"dataframe\">\n",
       "  <thead>\n",
       "    <tr style=\"text-align: right;\">\n",
       "      <th></th>\n",
       "      <th>top_words</th>\n",
       "    </tr>\n",
       "  </thead>\n",
       "  <tbody>\n",
       "    <tr>\n",
       "      <th>Topic_0</th>\n",
       "      <td>disarmament settlement conference agreement af...</td>\n",
       "    </tr>\n",
       "    <tr>\n",
       "      <th>Topic_1</th>\n",
       "      <td>islamic situation foreign africa islam problem...</td>\n",
       "    </tr>\n",
       "    <tr>\n",
       "      <th>Topic_2</th>\n",
       "      <td>terrorism kashmiri afghan dialogue democracy i...</td>\n",
       "    </tr>\n",
       "  </tbody>\n",
       "</table>\n",
       "</div>"
      ],
      "text/plain": [
       "                                                 top_words\n",
       "Topic_0  disarmament settlement conference agreement af...\n",
       "Topic_1  islamic situation foreign africa islam problem...\n",
       "Topic_2  terrorism kashmiri afghan dialogue democracy i..."
      ]
     },
     "execution_count": 152,
     "metadata": {},
     "output_type": "execute_result"
    }
   ],
   "source": [
    "# examine top words\n",
    "main_topics_df"
   ]
  },
  {
   "cell_type": "code",
   "execution_count": 153,
   "metadata": {},
   "outputs": [
    {
     "data": {
      "text/plain": [
       "['disarmament settlement conference agreement africa negotiations powers independence order special',\n",
       " 'islamic situation foreign africa islam problem problems indian race independence',\n",
       " 'terrorism kashmiri afghan dialogue democracy indian pakistans prosperity social democratic']"
      ]
     },
     "execution_count": 153,
     "metadata": {},
     "output_type": "execute_result"
    }
   ],
   "source": [
    "# examine top words\n",
    "list(main_topics_df.top_words.values)"
   ]
  },
  {
   "cell_type": "markdown",
   "metadata": {},
   "source": [
    "#### Create a document topic matrix from results"
   ]
  },
  {
   "cell_type": "code",
   "execution_count": 154,
   "metadata": {},
   "outputs": [],
   "source": [
    "cols = [\"Topic_\" + str(each) for each in range(lda.n_components)]\n",
    "docs = [\"Document_\" + str(each) for each in range(X.shape[0])]"
   ]
  },
  {
   "cell_type": "code",
   "execution_count": 155,
   "metadata": {},
   "outputs": [],
   "source": [
    "# create dataframe with term weights and document # and topic # as rows, columns\n",
    "df_topics = pd.DataFrame(np.round(doc_topics, 2),\n",
    "                        columns=cols,\n",
    "                        index=docs)"
   ]
  },
  {
   "cell_type": "code",
   "execution_count": 156,
   "metadata": {},
   "outputs": [],
   "source": [
    "# Extract most important topics from those values\n",
    "imp_topic = np.argmax(df_topics.values, axis=1)"
   ]
  },
  {
   "cell_type": "code",
   "execution_count": 157,
   "metadata": {
    "scrolled": true
   },
   "outputs": [
    {
     "data": {
      "text/html": [
       "<div>\n",
       "<style scoped>\n",
       "    .dataframe tbody tr th:only-of-type {\n",
       "        vertical-align: middle;\n",
       "    }\n",
       "\n",
       "    .dataframe tbody tr th {\n",
       "        vertical-align: top;\n",
       "    }\n",
       "\n",
       "    .dataframe thead th {\n",
       "        text-align: right;\n",
       "    }\n",
       "</style>\n",
       "<table border=\"1\" class=\"dataframe\">\n",
       "  <thead>\n",
       "    <tr style=\"text-align: right;\">\n",
       "      <th></th>\n",
       "      <th>Topic_0</th>\n",
       "      <th>Topic_1</th>\n",
       "      <th>Topic_2</th>\n",
       "    </tr>\n",
       "  </thead>\n",
       "  <tbody>\n",
       "    <tr>\n",
       "      <th>Document_0</th>\n",
       "      <td>0.19</td>\n",
       "      <td>0.81</td>\n",
       "      <td>0.00</td>\n",
       "    </tr>\n",
       "    <tr>\n",
       "      <th>Document_1</th>\n",
       "      <td>0.00</td>\n",
       "      <td>1.00</td>\n",
       "      <td>0.00</td>\n",
       "    </tr>\n",
       "    <tr>\n",
       "      <th>Document_2</th>\n",
       "      <td>0.96</td>\n",
       "      <td>0.00</td>\n",
       "      <td>0.03</td>\n",
       "    </tr>\n",
       "    <tr>\n",
       "      <th>Document_3</th>\n",
       "      <td>1.00</td>\n",
       "      <td>0.00</td>\n",
       "      <td>0.00</td>\n",
       "    </tr>\n",
       "    <tr>\n",
       "      <th>Document_4</th>\n",
       "      <td>1.00</td>\n",
       "      <td>0.00</td>\n",
       "      <td>0.00</td>\n",
       "    </tr>\n",
       "  </tbody>\n",
       "</table>\n",
       "</div>"
      ],
      "text/plain": [
       "            Topic_0  Topic_1  Topic_2\n",
       "Document_0     0.19     0.81     0.00\n",
       "Document_1     0.00     1.00     0.00\n",
       "Document_2     0.96     0.00     0.03\n",
       "Document_3     1.00     0.00     0.00\n",
       "Document_4     1.00     0.00     0.00"
      ]
     },
     "execution_count": 157,
     "metadata": {},
     "output_type": "execute_result"
    }
   ],
   "source": [
    "# view dataframe\n",
    "df_topics.head()"
   ]
  },
  {
   "cell_type": "code",
   "execution_count": 158,
   "metadata": {
    "scrolled": true
   },
   "outputs": [],
   "source": [
    "# store top topic\n",
    "df_topics[\"top_topic\"] = imp_topic"
   ]
  },
  {
   "cell_type": "code",
   "execution_count": 159,
   "metadata": {},
   "outputs": [
    {
     "data": {
      "text/html": [
       "<div>\n",
       "<style scoped>\n",
       "    .dataframe tbody tr th:only-of-type {\n",
       "        vertical-align: middle;\n",
       "    }\n",
       "\n",
       "    .dataframe tbody tr th {\n",
       "        vertical-align: top;\n",
       "    }\n",
       "\n",
       "    .dataframe thead th {\n",
       "        text-align: right;\n",
       "    }\n",
       "</style>\n",
       "<table border=\"1\" class=\"dataframe\">\n",
       "  <thead>\n",
       "    <tr style=\"text-align: right;\">\n",
       "      <th></th>\n",
       "      <th>Topic_0</th>\n",
       "      <th>Topic_1</th>\n",
       "      <th>Topic_2</th>\n",
       "      <th>top_topic</th>\n",
       "    </tr>\n",
       "  </thead>\n",
       "  <tbody>\n",
       "    <tr>\n",
       "      <th>Document_0</th>\n",
       "      <td>0.19</td>\n",
       "      <td>0.81</td>\n",
       "      <td>0.00</td>\n",
       "      <td>1</td>\n",
       "    </tr>\n",
       "    <tr>\n",
       "      <th>Document_1</th>\n",
       "      <td>0.00</td>\n",
       "      <td>1.00</td>\n",
       "      <td>0.00</td>\n",
       "      <td>1</td>\n",
       "    </tr>\n",
       "    <tr>\n",
       "      <th>Document_2</th>\n",
       "      <td>0.96</td>\n",
       "      <td>0.00</td>\n",
       "      <td>0.03</td>\n",
       "      <td>0</td>\n",
       "    </tr>\n",
       "    <tr>\n",
       "      <th>Document_3</th>\n",
       "      <td>1.00</td>\n",
       "      <td>0.00</td>\n",
       "      <td>0.00</td>\n",
       "      <td>0</td>\n",
       "    </tr>\n",
       "    <tr>\n",
       "      <th>Document_4</th>\n",
       "      <td>1.00</td>\n",
       "      <td>0.00</td>\n",
       "      <td>0.00</td>\n",
       "      <td>0</td>\n",
       "    </tr>\n",
       "  </tbody>\n",
       "</table>\n",
       "</div>"
      ],
      "text/plain": [
       "            Topic_0  Topic_1  Topic_2  top_topic\n",
       "Document_0     0.19     0.81     0.00          1\n",
       "Document_1     0.00     1.00     0.00          1\n",
       "Document_2     0.96     0.00     0.03          0\n",
       "Document_3     1.00     0.00     0.00          0\n",
       "Document_4     1.00     0.00     0.00          0"
      ]
     },
     "execution_count": 159,
     "metadata": {},
     "output_type": "execute_result"
    }
   ],
   "source": [
    "# view\n",
    "df_topics.head()"
   ]
  },
  {
   "cell_type": "markdown",
   "metadata": {},
   "source": [
    "### Visualizations"
   ]
  },
  {
   "cell_type": "code",
   "execution_count": 160,
   "metadata": {},
   "outputs": [
    {
     "data": {
      "text/html": [
       "\n",
       "<link rel=\"stylesheet\" type=\"text/css\" href=\"https://cdn.jsdelivr.net/gh/bmabey/pyLDAvis@3.3.1/pyLDAvis/js/ldavis.v1.0.0.css\">\n",
       "\n",
       "\n",
       "<div id=\"ldavis_el2021220145778051285459275189\"></div>\n",
       "<script type=\"text/javascript\">\n",
       "\n",
       "var ldavis_el2021220145778051285459275189_data = {\"mdsDat\": {\"x\": [-0.0338135816701792, -0.05907669450707533, 0.09289027617725452], \"y\": [0.0625048786933604, -0.05211401680951754, -0.010390861883842873], \"topics\": [1, 2, 3], \"cluster\": [1, 1, 1], \"Freq\": [49.50231887849793, 13.662982014166076, 36.834699107336]}, \"tinfo\": {\"Term\": [\"terrorism\", \"islamic\", \"kashmiri\", \"independence\", \"africa\", \"democracy\", \"situation\", \"islam\", \"problem\", \"settlement\", \"muslim\", \"soviet\", \"foreign\", \"arab\", \"muslims\", \"terrorists\", \"life\", \"prosperity\", \"problems\", \"race\", \"challenges\", \"mankind\", \"democratic\", \"reform\", \"does\", \"shall\", \"conference\", \"return\", \"indian\", \"namibia\", \"nonnuclear\", \"nonnuclearweapon\", \"simla\", \"guarantees\", \"nuclearweaponfree\", \"bangladesh\", \"arsenals\", \"zimbabwe\", \"deliberations\", \"prisoners\", \"reductions\", \"exports\", \"arabisraeli\", \"trend\", \"reflected\", \"interim\", \"monetary\", \"noted\", \"littoral\", \"pending\", \"rivalry\", \"settle\", \"cambodia\", \"accordingly\", \"program\", \"sixth\", \"interdependence\", \"tenth\", \"fourth\", \"zones\", \"ocean\", \"transfer\", \"establishment\", \"special\", \"settlement\", \"kampuchea\", \"israeli\", \"devoted\", \"burden\", \"disarmament\", \"proposals\", \"order\", \"delegation\", \"developed\", \"territories\", \"agreement\", \"negotiations\", \"zone\", \"independence\", \"conference\", \"namibia\", \"africa\", \"powers\", \"industrialized\", \"comprehensive\", \"regime\", \"adopted\", \"palestinian\", \"withdrawal\", \"continues\", \"spirit\", \"situation\", \"secretarygeneral\", \"crisis\", \"power\", \"struggle\", \"problems\", \"welcome\", \"foreign\", \"measures\", \"including\", \"arab\", \"resources\", \"remains\", \"major\", \"afghan\", \"explosive\", \"try\", \"surely\", \"affect\", \"unjustly\", \"forget\", \"man\", \"appear\", \"submit\", \"consequently\", \"enabled\", \"property\", \"validity\", \"fresh\", \"precedent\", \"founded\", \"explosions\", \"afflicted\", \"knowledge\", \"leave\", \"displaced\", \"annihilation\", \"difference\", \"makes\", \"pride\", \"joined\", \"message\", \"conscious\", \"impose\", \"affecting\", \"neighbor\", \"anniversary\", \"conscience\", \"islamic\", \"colonialism\", \"occasion\", \"islam\", \"shall\", \"life\", \"said\", \"muslim\", \"china\", \"problem\", \"holy\", \"situation\", \"return\", \"soviet\", \"does\", \"race\", \"foreign\", \"mankind\", \"grave\", \"cause\", \"problems\", \"arab\", \"africa\", \"muslims\", \"independence\", \"justice\", \"indian\", \"member\", \"fact\", \"question\", \"solution\", \"treaty\", \"resources\", \"settlement\", \"conference\", \"concern\", \"strategic\", \"disarmament\", \"terrorism\", \"terrorists\", \"extremism\", \"kashmiris\", \"millennium\", \"bosnia\", \"terrorist\", \"kashmiri\", \"sustainable\", \"benazir\", \"governance\", \"democracy\", \"globalization\", \"shaheed\", \"herzegovina\", \"transparent\", \"accountable\", \"battle\", \"civilians\", \"extremists\", \"militancy\", \"moderation\", \"safe\", \"alqaida\", \"empowered\", \"engagement\", \"kofi\", \"rape\", \"fight\", \"annan\", \"challenges\", \"reform\", \"prosperity\", \"addressing\", \"violence\", \"want\", \"vision\", \"address\", \"society\", \"democratic\", \"women\", \"values\", \"peacekeeping\", \"children\", \"line\", \"dialogue\", \"reconciliation\", \"social\", \"goals\", \"restraint\", \"afghan\", \"pakistans\", \"dispute\", \"indias\", \"indian\", \"disputes\", \"occupation\", \"control\", \"work\", \"like\", \"including\", \"struggle\", \"justice\", \"environment\", \"nonproliferation\", \"islamic\"], \"Freq\": [138.0, 123.0, 82.0, 102.0, 133.0, 67.0, 114.0, 57.0, 82.0, 181.0, 45.0, 56.0, 126.0, 77.0, 45.0, 42.0, 51.0, 67.0, 108.0, 79.0, 48.0, 54.0, 69.0, 52.0, 59.0, 36.0, 148.0, 53.0, 137.0, 57.0, 28.8244045237038, 27.83150452173865, 35.32282162992042, 19.987166904489246, 23.787734188092447, 42.29296398108853, 15.052766591179848, 16.87129888891336, 14.063667369348037, 25.321253062036696, 12.126780027761829, 11.144443623932702, 12.059493688834984, 11.119482424958592, 12.042936651076943, 12.94812900053943, 13.77237778580108, 9.182390628353373, 9.169635525894837, 9.162638719811145, 9.15919348732717, 9.15483301112245, 10.069571430578259, 9.128798996988525, 10.028265040625989, 10.022485006260078, 19.892986197466254, 9.955175777015498, 13.597026389027384, 18.11872656782833, 37.030680328232215, 29.81161203031127, 67.87317804934636, 80.32333378956942, 147.70369352195243, 27.525586304933732, 42.32616474163057, 13.480147706386326, 20.256833421022, 149.06943744870648, 47.23597515759936, 80.54245761801162, 47.81746951895568, 70.64835900461975, 45.33759457383605, 103.21590496400837, 91.0170395123077, 39.80610914206387, 81.28558354185294, 112.97499184953776, 47.59043764257894, 100.36640361812411, 85.64182553830206, 27.137431666835855, 75.93755880762008, 61.45467644332466, 42.72842288624828, 62.727216020772424, 52.785831291021275, 47.71761014110095, 55.659094934386545, 71.7616887813484, 62.858212216325754, 49.39376109566984, 55.15252869768866, 64.08721458790585, 63.17590089322376, 52.97044794852371, 67.54585046673016, 62.90319305113126, 60.29972847261275, 52.51814678539217, 54.63449885539714, 51.331689762309615, 52.97002630657633, 54.63144605289485, 7.603882701773916, 6.087149571206483, 5.9869547855087255, 7.053414655613685, 4.477700495595627, 4.416827693997385, 9.509423930302559, 4.385523114279475, 3.553196369682079, 5.24979257580052, 6.111036255883164, 6.167314267420862, 4.41514297783318, 6.0371268265704074, 3.2884412599132484, 4.333849492699258, 4.376564665024884, 4.855853686549984, 8.570483490497676, 6.441389967966874, 5.33888174345408, 4.788506281271059, 5.246978738161113, 3.6318426184046784, 4.622845874665326, 6.598021026502572, 8.472504700388356, 8.011291639438216, 3.5054693025825197, 3.4984380707877696, 6.007460239315151, 9.325565797398875, 7.878892228357167, 49.24244652738015, 11.817589604402954, 8.777269854696806, 23.615650846020824, 16.01198737185331, 19.46439692020249, 11.988516030092994, 17.492749011341136, 13.471703612060162, 23.446435981493767, 14.816053632814059, 27.956824180079693, 17.09582889145628, 17.457463620299322, 17.625149002807802, 20.981338377075353, 27.049480382199665, 16.312368848791806, 14.46547460295061, 16.690351207646, 22.928358430395278, 18.92353893808966, 24.4194444462277, 14.226498014541892, 20.626378471122276, 20.539644578626923, 22.43207748303926, 17.121878715464714, 13.245792719079258, 14.262656019256395, 16.428950344262383, 16.389815422584945, 16.219900712294255, 19.255463252498217, 17.97884457238409, 14.590511714442492, 14.448878280312483, 14.76073582258371, 137.67976692881766, 42.01117125252469, 33.48241230004659, 31.583493801507284, 30.63553556355171, 26.82828367546597, 22.102050877343288, 79.82845914207239, 19.261347526186547, 16.404967962261615, 15.462505971599587, 64.7033709067013, 14.525188892867252, 13.582725293955185, 14.489034775184097, 12.627257037963025, 11.686043034891435, 11.670138137384058, 11.667598844691023, 10.73928582912117, 10.738264087856424, 10.733818617050737, 11.5797537937518, 9.79174186305133, 9.791706866026868, 9.790006646287983, 9.78871706560957, 9.774151811285646, 32.8732372136902, 8.840677940826309, 45.13359558658954, 45.71395998460597, 57.83675389211503, 19.7801061145579, 30.85907449961388, 34.1605694984955, 39.68708548009614, 51.49837885525732, 23.489962563265106, 55.53516561899626, 46.45674459055877, 22.475414384959684, 23.085619609573495, 36.55922095883712, 29.00844557119938, 66.10866367643372, 34.22303434083442, 56.76914746874671, 36.533642481301534, 27.44599144372939, 67.9629028861924, 58.89378455764201, 51.58234941265341, 35.39285521353364, 63.95559331070571, 40.708628897702425, 36.054210614803154, 39.305468537447396, 39.06792208246502, 40.54321429902573, 39.64357677642959, 39.23652067346022, 37.000683812849694, 35.11237050373419, 35.12950742518038, 35.29690196695213], \"Total\": [138.0, 123.0, 82.0, 102.0, 133.0, 67.0, 114.0, 57.0, 82.0, 181.0, 45.0, 56.0, 126.0, 77.0, 45.0, 42.0, 51.0, 67.0, 108.0, 79.0, 48.0, 54.0, 69.0, 52.0, 59.0, 36.0, 148.0, 53.0, 137.0, 57.0, 29.455818670710133, 28.47122272571036, 36.319912415056265, 20.601218210165058, 24.530680054710857, 44.032624943986, 15.68137256937131, 17.62708273102116, 14.697580556983725, 26.484475962017843, 12.732160267266663, 11.748403910068234, 12.722170679051645, 11.746770168349798, 12.728647991560873, 13.693424447646, 14.669837520605906, 9.780951947027685, 9.780093524867107, 9.780225042824718, 9.778909224280548, 9.779747025361981, 10.761224766778072, 9.77582244213411, 10.745799954515556, 10.759294299997668, 21.436080695812112, 10.745398280909816, 14.68081252384081, 19.586057915990978, 40.08569734512364, 32.235893508649426, 75.23038880648915, 90.09276771809505, 181.32717271910556, 30.969916470940294, 48.74422882833492, 14.6328374821567, 22.491709074432517, 188.5388619232251, 55.57861078712199, 99.19773186566607, 56.85180002716465, 87.31778189541451, 53.920403351296514, 132.28569234097694, 115.23095422830761, 46.9126562575772, 102.91189746755052, 148.92754980029318, 57.48411436932724, 133.4925740912786, 112.49195452138126, 31.02987341714295, 111.71638519130607, 86.42123666866686, 55.237997290556365, 91.83964590779834, 73.470100333901, 64.3486025583906, 79.72669283208606, 114.96723932022638, 97.84749265253643, 68.2463396514654, 82.19566914844889, 109.64537836323099, 108.60863919975411, 78.10182889183251, 126.29032209443494, 109.64096853046516, 107.46928954534812, 77.41509601720404, 91.0774279460763, 79.70199699092757, 92.53238412787881, 129.16816628676764, 9.592244165215726, 7.867482666610738, 7.883243448325312, 9.608221941683686, 6.120143136259177, 6.127064831045693, 13.220460057635162, 6.171968118777498, 5.283882743577587, 8.001465514296747, 9.719796994933086, 9.821549228003022, 7.077263640589555, 9.78829025221765, 5.364012016097015, 7.084448896222138, 7.157539989795869, 7.980613795190807, 14.209631567773954, 10.723644212181135, 8.971118713469066, 8.069834489510816, 8.956806581141432, 6.28861557024348, 8.016146028643448, 11.651365174156544, 15.126583735160501, 14.328434792732702, 6.2795166308515125, 6.275281351740514, 10.831750311092776, 16.923788679802833, 14.393885491778219, 123.58222919613041, 23.673664523940936, 17.16045293945821, 57.97308668089219, 36.40129484670436, 51.50321611683161, 27.199579967190232, 45.339349926392664, 33.08315146841694, 82.49595768386695, 41.67261666646256, 114.96723932022638, 53.632856178987296, 56.149591079665605, 59.28064619562076, 79.55028127251195, 126.29032209443494, 54.24548747279331, 44.63675259454602, 57.85512346473704, 108.60863919975411, 77.41509601720404, 133.4925740912786, 45.724898582339904, 102.91189746755052, 103.51835999553421, 137.60354890557193, 73.98259799643954, 40.92721415041294, 49.52122254117946, 92.80616340309527, 92.67266731874612, 91.0774279460763, 181.32717271910556, 148.92754980029318, 70.18115267013206, 68.327981680652, 188.5388619232251, 138.33114780148583, 42.62230122992227, 34.093647257297214, 32.19847602784678, 31.250803476435006, 27.460973332508164, 22.72144845182003, 82.22568478951546, 19.879428605170425, 17.03704381681284, 16.08787345156061, 67.33514837477172, 15.141186284914227, 14.193355545601591, 15.142519672701372, 13.246021657418407, 12.29814332701186, 12.296890057505546, 12.298847376437704, 11.350411768827572, 11.350318292243053, 11.350620335321825, 12.287623698467089, 10.402840286331347, 10.402841248126519, 10.402906455080618, 10.402926765402025, 10.403411200012739, 35.09362996995205, 9.455305835256244, 48.400830580824184, 52.318570195329414, 67.53492417011216, 21.819931736944316, 35.152518514669104, 39.254967380512795, 46.213433579792515, 61.72259919544483, 26.5923506347668, 69.61866967028874, 57.86754714367284, 25.65530479093585, 26.606816094929925, 45.567080976807596, 34.97675217151205, 95.78990074400573, 42.91843524037243, 84.13186067036906, 48.06626248047307, 34.1637071824682, 129.16816628676764, 105.59918109717658, 87.91025235823821, 50.239705066199186, 137.60354890557193, 69.10034826692869, 58.22353833886896, 72.1841089378704, 80.88937181747758, 95.84630776720107, 107.46928954534812, 109.64537836323099, 103.51835999553421, 68.48983905403892, 76.02883715637532, 123.58222919613041], \"Category\": [\"Default\", \"Default\", \"Default\", \"Default\", \"Default\", \"Default\", \"Default\", \"Default\", \"Default\", \"Default\", \"Default\", \"Default\", \"Default\", \"Default\", \"Default\", \"Default\", \"Default\", \"Default\", \"Default\", \"Default\", \"Default\", \"Default\", \"Default\", \"Default\", \"Default\", \"Default\", \"Default\", \"Default\", \"Default\", \"Default\", \"Topic1\", \"Topic1\", \"Topic1\", \"Topic1\", \"Topic1\", \"Topic1\", \"Topic1\", \"Topic1\", \"Topic1\", \"Topic1\", \"Topic1\", \"Topic1\", \"Topic1\", \"Topic1\", \"Topic1\", \"Topic1\", \"Topic1\", \"Topic1\", \"Topic1\", \"Topic1\", \"Topic1\", \"Topic1\", \"Topic1\", \"Topic1\", \"Topic1\", \"Topic1\", \"Topic1\", \"Topic1\", \"Topic1\", \"Topic1\", \"Topic1\", \"Topic1\", \"Topic1\", \"Topic1\", \"Topic1\", \"Topic1\", \"Topic1\", \"Topic1\", \"Topic1\", \"Topic1\", \"Topic1\", \"Topic1\", \"Topic1\", \"Topic1\", \"Topic1\", \"Topic1\", \"Topic1\", \"Topic1\", \"Topic1\", \"Topic1\", \"Topic1\", \"Topic1\", \"Topic1\", \"Topic1\", \"Topic1\", \"Topic1\", \"Topic1\", \"Topic1\", \"Topic1\", \"Topic1\", \"Topic1\", \"Topic1\", \"Topic1\", \"Topic1\", \"Topic1\", \"Topic1\", \"Topic1\", \"Topic1\", \"Topic1\", \"Topic1\", \"Topic1\", \"Topic1\", \"Topic1\", \"Topic1\", \"Topic1\", \"Topic1\", \"Topic2\", \"Topic2\", \"Topic2\", \"Topic2\", \"Topic2\", \"Topic2\", \"Topic2\", \"Topic2\", \"Topic2\", \"Topic2\", \"Topic2\", \"Topic2\", \"Topic2\", \"Topic2\", \"Topic2\", \"Topic2\", \"Topic2\", \"Topic2\", \"Topic2\", \"Topic2\", \"Topic2\", \"Topic2\", \"Topic2\", \"Topic2\", \"Topic2\", \"Topic2\", \"Topic2\", \"Topic2\", \"Topic2\", \"Topic2\", \"Topic2\", \"Topic2\", \"Topic2\", \"Topic2\", \"Topic2\", \"Topic2\", \"Topic2\", \"Topic2\", \"Topic2\", \"Topic2\", \"Topic2\", \"Topic2\", \"Topic2\", \"Topic2\", \"Topic2\", \"Topic2\", \"Topic2\", \"Topic2\", \"Topic2\", \"Topic2\", \"Topic2\", \"Topic2\", \"Topic2\", \"Topic2\", \"Topic2\", \"Topic2\", \"Topic2\", \"Topic2\", \"Topic2\", \"Topic2\", \"Topic2\", \"Topic2\", \"Topic2\", \"Topic2\", \"Topic2\", \"Topic2\", \"Topic2\", \"Topic2\", \"Topic2\", \"Topic2\", \"Topic2\", \"Topic3\", \"Topic3\", \"Topic3\", \"Topic3\", \"Topic3\", \"Topic3\", \"Topic3\", \"Topic3\", \"Topic3\", \"Topic3\", \"Topic3\", \"Topic3\", \"Topic3\", \"Topic3\", \"Topic3\", \"Topic3\", \"Topic3\", \"Topic3\", \"Topic3\", \"Topic3\", \"Topic3\", \"Topic3\", \"Topic3\", \"Topic3\", \"Topic3\", \"Topic3\", \"Topic3\", \"Topic3\", \"Topic3\", \"Topic3\", \"Topic3\", \"Topic3\", \"Topic3\", \"Topic3\", \"Topic3\", \"Topic3\", \"Topic3\", \"Topic3\", \"Topic3\", \"Topic3\", \"Topic3\", \"Topic3\", \"Topic3\", \"Topic3\", \"Topic3\", \"Topic3\", \"Topic3\", \"Topic3\", \"Topic3\", \"Topic3\", \"Topic3\", \"Topic3\", \"Topic3\", \"Topic3\", \"Topic3\", \"Topic3\", \"Topic3\", \"Topic3\", \"Topic3\", \"Topic3\", \"Topic3\", \"Topic3\", \"Topic3\", \"Topic3\", \"Topic3\", \"Topic3\"], \"logprob\": [30.0, 29.0, 28.0, 27.0, 26.0, 25.0, 24.0, 23.0, 22.0, 21.0, 20.0, 19.0, 18.0, 17.0, 16.0, 15.0, 14.0, 13.0, 12.0, 11.0, 10.0, 9.0, 8.0, 7.0, 6.0, 5.0, 4.0, 3.0, 2.0, 1.0, -6.6185, -6.6535, -6.4152, -6.9846, -6.8105, -6.2351, -7.2681, -7.1541, -7.3361, -6.7481, -7.4843, -7.5688, -7.4899, -7.571, -7.4912, -7.4188, -7.357, -7.7624, -7.7638, -7.7646, -7.7649, -7.7654, -7.6702, -7.7683, -7.6743, -7.6749, -6.9893, -7.6816, -7.3699, -7.0828, -6.368, -6.5848, -5.7621, -5.5936, -4.9845, -6.6646, -6.2343, -7.3785, -6.9712, -4.9753, -6.1246, -5.5909, -6.1123, -5.722, -6.1656, -5.3429, -5.4687, -6.2957, -5.5817, -5.2525, -6.1171, -5.3709, -5.5295, -6.6788, -5.6498, -5.8614, -6.2248, -5.8409, -6.0135, -6.1144, -5.9605, -5.7064, -5.8388, -6.0799, -5.9696, -5.8195, -5.8338, -6.01, -5.7669, -5.8381, -5.8804, -6.0185, -5.979, -6.0414, -6.01, -5.9791, -6.6637, -6.8862, -6.9028, -6.7389, -7.1933, -7.207, -6.4401, -7.2141, -7.4245, -7.0342, -6.8823, -6.8731, -7.2073, -6.8945, -7.502, -7.2259, -7.2161, -7.1122, -6.5441, -6.8296, -7.0174, -7.1262, -7.0347, -7.4026, -7.1614, -6.8056, -6.5556, -6.6115, -7.4381, -7.4401, -6.8994, -6.4596, -6.6282, -4.7956, -6.2228, -6.5202, -5.5305, -5.919, -5.7238, -6.2084, -5.8306, -6.0918, -5.5377, -5.9967, -5.3617, -5.8535, -5.8326, -5.8231, -5.6487, -5.3947, -5.9005, -6.0206, -5.8775, -5.56, -5.752, -5.497, -6.0373, -5.6658, -5.67, -5.5819, -5.852, -6.1087, -6.0347, -5.8933, -5.8957, -5.9061, -5.7346, -5.8032, -6.012, -6.0218, -6.0004, -4.7592, -5.9462, -6.1731, -6.2315, -6.262, -6.3947, -6.5885, -5.3042, -6.726, -6.8865, -6.9457, -5.5143, -7.0082, -7.0753, -7.0107, -7.1483, -7.2257, -7.2271, -7.2273, -7.3102, -7.3103, -7.3107, -7.2349, -7.4026, -7.4026, -7.4028, -7.4029, -7.4044, -6.1915, -7.5048, -5.8745, -5.8617, -5.6265, -6.6995, -6.2547, -6.1531, -6.0031, -5.7426, -6.5276, -5.6671, -5.8456, -6.5717, -6.5449, -6.0852, -6.3165, -5.4928, -6.1512, -5.6451, -6.0859, -6.3719, -5.4652, -5.6084, -5.7409, -6.1176, -5.5259, -5.9777, -6.0991, -6.0128, -6.0188, -5.9818, -6.0042, -6.0145, -6.0732, -6.1256, -6.1251, -6.1203], \"loglift\": [30.0, 29.0, 28.0, 27.0, 26.0, 25.0, 24.0, 23.0, 22.0, 21.0, 20.0, 19.0, 18.0, 17.0, 16.0, 15.0, 14.0, 13.0, 12.0, 11.0, 10.0, 9.0, 8.0, 7.0, 6.0, 5.0, 4.0, 3.0, 2.0, 1.0, 0.6815, 0.6804, 0.6753, 0.6729, 0.6724, 0.6628, 0.6622, 0.6593, 0.6591, 0.6582, 0.6544, 0.6504, 0.6497, 0.6483, 0.6478, 0.6472, 0.64, 0.64, 0.6387, 0.6379, 0.6377, 0.6371, 0.6367, 0.6347, 0.634, 0.6322, 0.6284, 0.6268, 0.6265, 0.6253, 0.6239, 0.625, 0.6002, 0.5884, 0.4981, 0.5853, 0.562, 0.6211, 0.5985, 0.4683, 0.5405, 0.4948, 0.5301, 0.4913, 0.5298, 0.455, 0.4673, 0.5389, 0.4672, 0.4269, 0.5143, 0.4179, 0.4304, 0.5691, 0.3171, 0.3622, 0.4464, 0.3219, 0.3725, 0.4041, 0.3438, 0.2319, 0.2606, 0.3799, 0.3042, 0.1661, 0.1613, 0.3149, 0.0774, 0.1475, 0.1253, 0.3151, 0.1921, 0.2632, 0.1453, -0.1574, 1.7582, 1.7339, 1.7153, 1.6814, 1.678, 1.6632, 1.661, 1.6488, 1.5937, 1.569, 1.5264, 1.5252, 1.5186, 1.5072, 1.5012, 1.499, 1.4986, 1.4936, 1.4849, 1.4808, 1.4715, 1.4686, 1.4557, 1.4415, 1.44, 1.4218, 1.4109, 1.4091, 1.4075, 1.4062, 1.401, 1.3945, 1.3879, 1.0703, 1.2957, 1.32, 1.0924, 1.1692, 1.0174, 1.1712, 1.0381, 1.092, 0.7324, 0.9563, 0.5765, 0.8472, 0.8222, 0.7775, 0.6577, 0.4496, 0.7889, 0.8637, 0.7474, 0.4351, 0.5817, 0.2918, 0.8229, 0.3832, 0.3731, 0.1766, 0.527, 0.8624, 0.7457, 0.259, 0.2581, 0.265, -0.252, -0.1238, 0.4198, 0.4368, -0.5569, 0.994, 0.9843, 0.9806, 0.9794, 0.9788, 0.9754, 0.9711, 0.9691, 0.9671, 0.9609, 0.9591, 0.9589, 0.9572, 0.9548, 0.9546, 0.9509, 0.9477, 0.9464, 0.946, 0.9434, 0.9433, 0.9429, 0.9394, 0.9382, 0.9382, 0.938, 0.9379, 0.9363, 0.9334, 0.9315, 0.9288, 0.8638, 0.8437, 0.9006, 0.8685, 0.8597, 0.8465, 0.8176, 0.8747, 0.7727, 0.7791, 0.8664, 0.8568, 0.7785, 0.8116, 0.6279, 0.7723, 0.6053, 0.7244, 0.7798, 0.3566, 0.4148, 0.4656, 0.6484, 0.2325, 0.4696, 0.5195, 0.3909, 0.2709, 0.1384, 0.0015, -0.0289, -0.0301, 0.3306, 0.2267, -0.2544]}, \"token.table\": {\"Topic\": [1, 3, 1, 2, 3, 1, 3, 1, 2, 3, 2, 3, 1, 2, 3, 1, 2, 3, 1, 2, 3, 1, 2, 3, 1, 2, 3, 3, 3, 1, 2, 2, 3, 1, 2, 1, 2, 3, 1, 1, 1, 2, 3, 3, 3, 1, 3, 1, 1, 2, 3, 1, 3, 1, 2, 3, 1, 2, 3, 3, 1, 2, 1, 2, 3, 1, 2, 3, 1, 2, 3, 1, 2, 3, 1, 2, 3, 1, 2, 1, 2, 3, 1, 2, 3, 1, 2, 3, 1, 2, 3, 1, 1, 3, 1, 3, 1, 2, 3, 1, 2, 1, 3, 1, 2, 3, 1, 2, 3, 1, 2, 1, 2, 3, 1, 2, 3, 1, 2, 3, 3, 2, 3, 3, 1, 2, 3, 1, 2, 3, 1, 2, 1, 2, 1, 3, 3, 1, 2, 3, 1, 3, 1, 2, 3, 2, 3, 2, 3, 1, 3, 1, 2, 3, 3, 1, 2, 3, 3, 1, 2, 3, 1, 3, 1, 2, 3, 1, 2, 3, 1, 2, 3, 1, 2, 3, 1, 2, 3, 1, 2, 3, 1, 2, 3, 1, 2, 1, 1, 2, 3, 1, 2, 3, 1, 2, 3, 1, 2, 3, 1, 2, 3, 1, 2, 2, 3, 3, 1, 2, 3, 3, 1, 2, 3, 1, 2, 3, 1, 2, 3, 1, 2, 3, 1, 1, 2, 3, 1, 2, 1, 2, 1, 2, 3, 1, 2, 3, 1, 2, 3, 2, 3, 3, 3, 3, 1, 2, 3, 2, 3, 1, 2, 1, 2, 3, 1, 2, 1, 1, 1, 2, 3, 1, 1, 1, 2, 3, 1, 2, 3, 1, 2, 3, 1, 2, 3, 1, 2, 3, 1, 2, 3, 1, 3, 1, 1, 2, 3, 1, 2, 3, 1, 2, 1, 2, 3, 1, 3, 1, 2, 3, 1, 2, 3, 1, 1, 2, 1, 2, 3, 1, 2, 3, 1, 2, 3, 1, 2, 3, 3, 1, 3, 1, 1, 1, 3, 1, 2, 3, 1, 2, 3, 1, 2, 3, 1, 2, 3, 1, 2, 3, 1, 3, 1, 2, 3, 1, 2, 3, 1, 1, 2, 3, 3, 1, 2, 3, 1, 3, 1, 2, 3, 1, 1, 2, 3, 1, 3, 1, 2, 3, 1, 2, 3, 1, 3, 1, 2, 3, 1, 2, 3, 1, 2, 3, 2, 3, 1, 2, 3, 1, 1, 2, 3, 3, 3, 3, 1, 2, 3, 3, 1, 2, 3, 1, 1, 2, 2, 3, 2, 3, 1, 3, 1, 3, 1, 2, 3, 2, 3, 1, 2, 3, 1, 2, 3, 1, 2, 3, 1, 2, 3, 1, 1, 3, 1, 3], \"Freq\": [0.9206386524789678, 0.975757045670706, 0.1458136908898063, 0.03240304241995696, 0.8262775817089024, 0.0916593151670456, 0.9165931516704561, 0.7784496561998165, 0.05431044113021976, 0.1810348037673992, 0.7285427046217214, 0.20815505846334897, 0.15935540479354598, 0.47806621438063795, 0.15935540479354598, 0.12530364526630888, 0.6265182263315444, 0.37591093579892665, 0.4258015080735443, 0.05419291920936018, 0.5264455008909275, 0.7491053392349952, 0.17978528141639885, 0.06741948053114957, 0.778617839747244, 0.08315336152640469, 0.1360691370432077, 0.9612759327987902, 0.9518465247778096, 0.3717548363475614, 0.6195913939126023, 0.5317958153625948, 0.41361896750424043, 0.16202287191951234, 0.6480914876780494, 0.6846209941820877, 0.24543016772565407, 0.0775042634923118, 0.9432352624980285, 0.9565489202965459, 0.9538382064078236, 0.02271043348590056, 0.9758564924857293, 0.9391300610620344, 0.9832135107912411, 0.8892165523666242, 0.08892165523666243, 0.9292622556190707, 0.5012520631414024, 0.29383741632427035, 0.207414646817132, 0.061982407409110936, 0.929736111136664, 0.15361967126142687, 0.04389133464612196, 0.8119896909532562, 0.45340299621454905, 0.3929492633859425, 0.15113433207151636, 0.9757011883072685, 0.506892373500711, 0.506892373500711, 0.6802941204180175, 0.08056114583897575, 0.24168343751692725, 0.6839443094588556, 0.2137325967058924, 0.09974187846274979, 0.7587582025725206, 0.12086413846287938, 0.12086413846287938, 0.277895777501134, 0.555791555002268, 0.138947888750567, 0.20937388091556117, 0.558330349108163, 0.20937388091556117, 0.24995421106626878, 0.624885527665672, 0.7459369448846118, 0.12432282414743531, 0.13986317716586472, 0.36019008037320877, 0.09697425240817159, 0.5402851205598131, 0.7179872246664566, 0.10256960352377952, 0.1758336060407649, 0.8443004439096893, 0.12312714807016302, 0.03517918516290372, 0.9525377286228064, 0.029702169643533966, 0.9653205134148539, 0.20109548295455004, 0.8043819318182002, 0.8131218917704615, 0.05726210505425785, 0.13742905213021883, 0.8884127918356378, 0.06833944552581829, 0.3027459030101849, 0.6890079171955933, 0.33494080427241824, 0.5582346737873637, 0.11164693475747274, 0.7902879994081765, 0.07955919457129294, 0.13259865761882156, 0.3344064542915765, 0.5573440904859609, 0.2957561752188907, 0.11375237508418873, 0.5915123504377814, 0.3039058489094557, 0.10130194963648523, 0.5933399907279849, 0.32050932672531474, 0.30364041479240345, 0.38798497445695995, 0.9612758439239791, 0.6172968430439226, 0.3086484215219613, 0.9612698185050155, 0.3942190604170763, 0.08760423564823917, 0.5110247079480619, 0.9038900513316838, 0.026585001509755405, 0.06646250377438852, 0.27942561310887476, 0.5588512262177495, 0.20850178180957726, 0.834007127238309, 0.9362973970083833, 0.9679222569224202, 0.9691278364200027, 0.513106020918556, 0.3176370605686299, 0.14660172026244456, 0.056990399731017986, 0.9403415955617969, 0.5384418922389973, 0.21379310427136658, 0.2533844198771752, 0.652841141770215, 0.16321028544255375, 0.5646169601326427, 0.28230848006632137, 0.9536256918521908, 0.06811612084658505, 0.20432577584700015, 0.6129773275410004, 0.20432577584700015, 0.9906753485323078, 0.1456322925637031, 0.08321845289354463, 0.7697706892652878, 0.9323792883605084, 0.515270459052397, 0.3136428881188504, 0.1568214440594252, 0.9708163758069217, 0.9245489061664497, 0.5039280390784882, 0.35994859934177725, 0.1439794397367109, 0.3184958520810218, 0.6369917041620436, 0.1592479260405109, 0.5582990289954619, 0.07443987053272826, 0.3721993526636413, 0.7870810080587657, 0.20405803912634668, 0.009717049482206985, 0.3706299757937048, 0.159879597401206, 0.4651042833489629, 0.09952287724244532, 0.19904575448489065, 0.6966601406971172, 0.8701292344004026, 0.06445401736299278, 0.03222700868149639, 0.9330063776027548, 0.046650318880137744, 0.9493607716391786, 0.05174815024967083, 0.41398520199736666, 0.5519802693298222, 0.3155793535501394, 0.3964971365117136, 0.28321224036550974, 0.8616404651289813, 0.0410304983394753, 0.10257624584868826, 0.25748055744181697, 0.6007879673642397, 0.17165370496121132, 0.44436561786705703, 0.20286256467843908, 0.3574245187191546, 0.9041031811071552, 0.09686819797576662, 0.024323300014097524, 0.9729320005639011, 0.9938358564649107, 0.07037480143172055, 0.633373212885485, 0.2814992057268822, 0.9612679417544228, 0.27975564468954117, 0.5595112893790823, 0.09325188156318039, 0.38832526408897133, 0.3689090008845228, 0.2329951584533828, 0.5112351340545637, 0.06260022049647718, 0.42776817339259404, 0.11436167601799031, 0.057180838008995157, 0.8291221511304298, 0.9202365986701843, 0.5727724460957857, 0.11887730013308759, 0.302596763975132, 0.318035023394277, 0.636070046788554, 0.22692099873388458, 0.7564033291129486, 0.6083455331939098, 0.2949554100334108, 0.09217356563544088, 0.574602731482572, 0.127689495885016, 0.3009823831575377, 0.419017455990014, 0.22978376618807217, 0.35143399534646336, 0.528870241957188, 0.39665268146789107, 0.9691358177609465, 0.99197449509981, 0.9691100287945731, 0.9543391315912653, 0.3749502369927908, 0.61756509622342, 0.3061789185773536, 0.677967605421283, 0.8350132993544416, 0.17396110403217532, 0.7897183583128305, 0.0694257897417873, 0.147529803201298, 0.4616059137625716, 0.5539270965150859, 0.9845253436746817, 0.9834491574088656, 0.5129632578726044, 0.026305808096030996, 0.46035164168054243, 0.920155834395546, 0.9783666798667107, 0.291367600706107, 0.5244616812709926, 0.1748205604236642, 0.22327739554985856, 0.15457665845759438, 0.6183066338303775, 0.9230224855873934, 0.024946553664524147, 0.049893107329048295, 0.8165509278951105, 0.04032350261210422, 0.15121313479539084, 0.35985127540933187, 0.07575816324406986, 0.5587164539250152, 0.6859782545682758, 0.04355417489322386, 0.27221359308264914, 0.11275306257225066, 0.8644401463872551, 0.9202242239408253, 0.6691350112457586, 0.13382700224915173, 0.19465745781694796, 0.7644991178782838, 0.11556382014439175, 0.12445334477088342, 0.37285524230709094, 0.5592828634606364, 0.12474822644532431, 0.6237411322266215, 0.37424467933597294, 0.943949203897907, 0.03775796815591628, 0.6182121091973656, 0.2788015394419492, 0.10909625456424098, 0.5800643527457311, 0.21176952560558435, 0.21176952560558435, 0.9305961438262064, 0.3054507929814631, 0.6109015859629262, 0.8456490605715226, 0.017992533203649415, 0.1259477324255459, 0.13326438299286614, 0.014807153665874016, 0.858814912620693, 0.5250274259360147, 0.2827070755040079, 0.18174026282400507, 0.5028266319131385, 0.2639839817543977, 0.23884265015874076, 0.9612231803341346, 0.18640008553887294, 0.79220036354021, 0.9424952049065086, 0.9427552720411494, 0.1146820331213033, 0.8792289205966587, 0.7058450254984182, 0.11571229926203577, 0.17356844889305367, 0.6398835904425996, 0.08782715947251367, 0.263481478417541, 0.6038817876210069, 0.1756747018533838, 0.21959337731672976, 0.14635414047120307, 0.02927082809424061, 0.7903123585444966, 0.3356151673132818, 0.3169698802403217, 0.3356151673132818, 0.9203480463499389, 0.9765924066747771, 0.1838263681288939, 0.44118328350934544, 0.3676527362577878, 0.6438591147523584, 0.10219985948450133, 0.25549964871125336, 0.9202692029415638, 0.8162042002897559, 0.10478297165882001, 0.07720850543281475, 0.986377037834333, 0.2747155023499216, 0.43954480375987454, 0.2747155023499216, 0.9636587115086461, 0.027533106043104175, 0.6262653641656412, 0.24354764161997158, 0.1304719508678419, 0.9294289868065201, 0.22583596569250405, 0.0950888276600017, 0.6775078970775122, 0.1128143969370577, 0.8649103765174424, 0.5495324677789563, 0.17240234283261371, 0.2801538071029973, 0.6411444733216817, 0.3027626679574608, 0.03561913740676009, 0.8879736079406968, 0.0998970308933284, 0.7023996356896767, 0.10034280509852524, 0.20068561019705047, 0.33661172823011637, 0.20489409544441864, 0.45369406848406985, 0.5836999329600752, 0.05472186871500704, 0.3556921466475458, 0.7570190698992874, 0.18925476747482184, 0.2537026812770666, 0.7611080438311998, 0.9557618771325401, 0.9306309304296254, 0.8345634899431437, 0.12982098732448902, 0.03709171066413972, 0.9976061226502577, 0.968248131128179, 0.9853996332444529, 0.9306396297639618, 0.03102132099213206, 0.03102132099213206, 0.9814267510818524, 0.5071614032468093, 0.17265069046699888, 0.3129293764714355, 0.9364276173239623, 0.12710545957018216, 0.7626327574210929, 0.6535794851433696, 0.1633948712858424, 0.5651901925850524, 0.2825950962925262, 0.11693488050315096, 0.857522457023107, 0.1137898554361277, 0.8818713796299897, 0.0865549189954381, 0.06491618924657858, 0.865549189954381, 0.12737241510184344, 0.8661324226925354, 0.6786012664748555, 0.06401898740328825, 0.256075949613153, 0.7213818922137014, 0.1633317491804607, 0.1088878327869738, 0.15552758746892986, 0.03456168610420664, 0.7949187803967527, 0.49450254219130046, 0.024725127109565023, 0.482139978636518, 0.964425041818316, 0.8526483723363951, 0.14921346515886916, 0.9190210749506645, 0.05105672638614803], \"Term\": [\"accordingly\", \"accountable\", \"address\", \"address\", \"address\", \"addressing\", \"addressing\", \"adopted\", \"adopted\", \"adopted\", \"affect\", \"affect\", \"affecting\", \"affecting\", \"affecting\", \"afflicted\", \"afflicted\", \"afflicted\", \"afghan\", \"afghan\", \"afghan\", \"africa\", \"africa\", \"africa\", \"agreement\", \"agreement\", \"agreement\", \"alqaida\", \"annan\", \"annihilation\", \"annihilation\", \"anniversary\", \"anniversary\", \"appear\", \"appear\", \"arab\", \"arab\", \"arab\", \"arabisraeli\", \"arsenals\", \"bangladesh\", \"bangladesh\", \"battle\", \"benazir\", \"bosnia\", \"burden\", \"burden\", \"cambodia\", \"cause\", \"cause\", \"cause\", \"challenges\", \"challenges\", \"children\", \"children\", \"children\", \"china\", \"china\", \"china\", \"civilians\", \"colonialism\", \"colonialism\", \"comprehensive\", \"comprehensive\", \"comprehensive\", \"concern\", \"concern\", \"concern\", \"conference\", \"conference\", \"conference\", \"conscience\", \"conscience\", \"conscience\", \"conscious\", \"conscious\", \"conscious\", \"consequently\", \"consequently\", \"continues\", \"continues\", \"continues\", \"control\", \"control\", \"control\", \"crisis\", \"crisis\", \"crisis\", \"delegation\", \"delegation\", \"delegation\", \"deliberations\", \"democracy\", \"democracy\", \"democratic\", \"democratic\", \"developed\", \"developed\", \"developed\", \"devoted\", \"devoted\", \"dialogue\", \"dialogue\", \"difference\", \"difference\", \"difference\", \"disarmament\", \"disarmament\", \"disarmament\", \"displaced\", \"displaced\", \"dispute\", \"dispute\", \"dispute\", \"disputes\", \"disputes\", \"disputes\", \"does\", \"does\", \"does\", \"empowered\", \"enabled\", \"enabled\", \"engagement\", \"environment\", \"environment\", \"environment\", \"establishment\", \"establishment\", \"establishment\", \"explosions\", \"explosions\", \"explosive\", \"explosive\", \"exports\", \"extremism\", \"extremists\", \"fact\", \"fact\", \"fact\", \"fight\", \"fight\", \"foreign\", \"foreign\", \"foreign\", \"forget\", \"forget\", \"founded\", \"founded\", \"fourth\", \"fourth\", \"fresh\", \"fresh\", \"fresh\", \"globalization\", \"goals\", \"goals\", \"goals\", \"governance\", \"grave\", \"grave\", \"grave\", \"guarantees\", \"herzegovina\", \"holy\", \"holy\", \"holy\", \"impose\", \"impose\", \"impose\", \"including\", \"including\", \"including\", \"independence\", \"independence\", \"independence\", \"indian\", \"indian\", \"indian\", \"indias\", \"indias\", \"indias\", \"industrialized\", \"industrialized\", \"industrialized\", \"interdependence\", \"interdependence\", \"interim\", \"islam\", \"islam\", \"islam\", \"islamic\", \"islamic\", \"islamic\", \"israeli\", \"israeli\", \"israeli\", \"joined\", \"joined\", \"joined\", \"justice\", \"justice\", \"justice\", \"kampuchea\", \"kampuchea\", \"kashmiri\", \"kashmiri\", \"kashmiris\", \"knowledge\", \"knowledge\", \"knowledge\", \"kofi\", \"leave\", \"leave\", \"leave\", \"life\", \"life\", \"life\", \"like\", \"like\", \"like\", \"line\", \"line\", \"line\", \"littoral\", \"major\", \"major\", \"major\", \"makes\", \"makes\", \"man\", \"man\", \"mankind\", \"mankind\", \"mankind\", \"measures\", \"measures\", \"measures\", \"member\", \"member\", \"member\", \"message\", \"message\", \"militancy\", \"millennium\", \"moderation\", \"monetary\", \"muslim\", \"muslim\", \"muslims\", \"muslims\", \"namibia\", \"namibia\", \"negotiations\", \"negotiations\", \"negotiations\", \"neighbor\", \"neighbor\", \"nonnuclear\", \"nonnuclearweapon\", \"nonproliferation\", \"nonproliferation\", \"nonproliferation\", \"noted\", \"nuclearweaponfree\", \"occasion\", \"occasion\", \"occasion\", \"occupation\", \"occupation\", \"occupation\", \"ocean\", \"ocean\", \"ocean\", \"order\", \"order\", \"order\", \"pakistans\", \"pakistans\", \"pakistans\", \"palestinian\", \"palestinian\", \"palestinian\", \"peacekeeping\", \"peacekeeping\", \"pending\", \"power\", \"power\", \"power\", \"powers\", \"powers\", \"powers\", \"precedent\", \"precedent\", \"pride\", \"pride\", \"pride\", \"prisoners\", \"prisoners\", \"problem\", \"problem\", \"problem\", \"problems\", \"problems\", \"problems\", \"program\", \"property\", \"property\", \"proposals\", \"proposals\", \"proposals\", \"prosperity\", \"prosperity\", \"prosperity\", \"question\", \"question\", \"question\", \"race\", \"race\", \"race\", \"rape\", \"reconciliation\", \"reconciliation\", \"reductions\", \"reflected\", \"reform\", \"reform\", \"regime\", \"regime\", \"regime\", \"remains\", \"remains\", \"remains\", \"resources\", \"resources\", \"resources\", \"restraint\", \"restraint\", \"restraint\", \"return\", \"return\", \"return\", \"rivalry\", \"safe\", \"said\", \"said\", \"said\", \"secretarygeneral\", \"secretarygeneral\", \"secretarygeneral\", \"settle\", \"settlement\", \"settlement\", \"settlement\", \"shaheed\", \"shall\", \"shall\", \"shall\", \"simla\", \"simla\", \"situation\", \"situation\", \"situation\", \"sixth\", \"social\", \"social\", \"social\", \"society\", \"society\", \"solution\", \"solution\", \"solution\", \"soviet\", \"soviet\", \"soviet\", \"special\", \"special\", \"spirit\", \"spirit\", \"spirit\", \"strategic\", \"strategic\", \"strategic\", \"struggle\", \"struggle\", \"struggle\", \"submit\", \"submit\", \"surely\", \"surely\", \"sustainable\", \"tenth\", \"territories\", \"territories\", \"territories\", \"terrorism\", \"terrorist\", \"terrorists\", \"transfer\", \"transfer\", \"transfer\", \"transparent\", \"treaty\", \"treaty\", \"treaty\", \"trend\", \"try\", \"try\", \"unjustly\", \"unjustly\", \"validity\", \"validity\", \"values\", \"values\", \"violence\", \"violence\", \"vision\", \"vision\", \"vision\", \"want\", \"want\", \"welcome\", \"welcome\", \"welcome\", \"withdrawal\", \"withdrawal\", \"withdrawal\", \"women\", \"women\", \"women\", \"work\", \"work\", \"work\", \"zimbabwe\", \"zone\", \"zone\", \"zones\", \"zones\"]}, \"R\": 30, \"lambda.step\": 0.01, \"plot.opts\": {\"xlab\": \"PC1\", \"ylab\": \"PC2\"}, \"topic.order\": [1, 2, 3]};\n",
       "\n",
       "function LDAvis_load_lib(url, callback){\n",
       "  var s = document.createElement('script');\n",
       "  s.src = url;\n",
       "  s.async = true;\n",
       "  s.onreadystatechange = s.onload = callback;\n",
       "  s.onerror = function(){console.warn(\"failed to load library \" + url);};\n",
       "  document.getElementsByTagName(\"head\")[0].appendChild(s);\n",
       "}\n",
       "\n",
       "if(typeof(LDAvis) !== \"undefined\"){\n",
       "   // already loaded: just create the visualization\n",
       "   !function(LDAvis){\n",
       "       new LDAvis(\"#\" + \"ldavis_el2021220145778051285459275189\", ldavis_el2021220145778051285459275189_data);\n",
       "   }(LDAvis);\n",
       "}else if(typeof define === \"function\" && define.amd){\n",
       "   // require.js is available: use it to load d3/LDAvis\n",
       "   require.config({paths: {d3: \"https://d3js.org/d3.v5\"}});\n",
       "   require([\"d3\"], function(d3){\n",
       "      window.d3 = d3;\n",
       "      LDAvis_load_lib(\"https://cdn.jsdelivr.net/gh/bmabey/pyLDAvis@3.3.1/pyLDAvis/js/ldavis.v3.0.0.js\", function(){\n",
       "        new LDAvis(\"#\" + \"ldavis_el2021220145778051285459275189\", ldavis_el2021220145778051285459275189_data);\n",
       "      });\n",
       "    });\n",
       "}else{\n",
       "    // require.js not available: dynamically load d3 & LDAvis\n",
       "    LDAvis_load_lib(\"https://d3js.org/d3.v5.js\", function(){\n",
       "         LDAvis_load_lib(\"https://cdn.jsdelivr.net/gh/bmabey/pyLDAvis@3.3.1/pyLDAvis/js/ldavis.v3.0.0.js\", function(){\n",
       "                 new LDAvis(\"#\" + \"ldavis_el2021220145778051285459275189\", ldavis_el2021220145778051285459275189_data);\n",
       "            })\n",
       "         });\n",
       "}\n",
       "</script>"
      ],
      "text/plain": [
       "<IPython.core.display.HTML object>"
      ]
     },
     "execution_count": 160,
     "metadata": {},
     "output_type": "execute_result"
    }
   ],
   "source": [
    "# visualize\n",
    "lda_viz = pyLDAvis.sklearn.prepare(lda_model=lda,\n",
    "                                  dtm=X,\n",
    "                                  vectorizer=vec,\n",
    "                                  sort_topics=False)\n",
    "\n",
    "pyLDAvis.display(lda_viz)"
   ]
  },
  {
   "cell_type": "markdown",
   "metadata": {},
   "source": [
    "- Big non-overlapping bubbles scattered throughout the chart (although one bubble is slightly smaller).\n",
    "- The bubbles are quite far away from each other.\n",
    "- The bubble representing Topic 1 (i.e. Topic_0 in our dataframe) is the biggest - this means that the percentage of speeches about that topic are the highest in the corpus we have. \n",
    "\n",
    "Using the visualization above, I will look at the highest frequency words in each topic and try to interpret them. \n",
    "\n",
    "- Topic 1: Disarmament Negotiations \n",
    "- Topic 2: Islam\n",
    "- Topic 3: Terrorism"
   ]
  },
  {
   "cell_type": "code",
   "execution_count": 161,
   "metadata": {
    "scrolled": false
   },
   "outputs": [
    {
     "data": {
      "text/html": [
       "<div>\n",
       "<style scoped>\n",
       "    .dataframe tbody tr th:only-of-type {\n",
       "        vertical-align: middle;\n",
       "    }\n",
       "\n",
       "    .dataframe tbody tr th {\n",
       "        vertical-align: top;\n",
       "    }\n",
       "\n",
       "    .dataframe thead th {\n",
       "        text-align: right;\n",
       "    }\n",
       "</style>\n",
       "<table border=\"1\" class=\"dataframe\">\n",
       "  <thead>\n",
       "    <tr style=\"text-align: right;\">\n",
       "      <th></th>\n",
       "      <th>top_words</th>\n",
       "      <th>topic_name</th>\n",
       "    </tr>\n",
       "  </thead>\n",
       "  <tbody>\n",
       "    <tr>\n",
       "      <th>Topic_0</th>\n",
       "      <td>disarmament settlement conference agreement af...</td>\n",
       "      <td>Disarmament Negotiations</td>\n",
       "    </tr>\n",
       "    <tr>\n",
       "      <th>Topic_1</th>\n",
       "      <td>islamic situation foreign africa islam problem...</td>\n",
       "      <td>Islam</td>\n",
       "    </tr>\n",
       "    <tr>\n",
       "      <th>Topic_2</th>\n",
       "      <td>terrorism kashmiri afghan dialogue democracy i...</td>\n",
       "      <td>Terrorism</td>\n",
       "    </tr>\n",
       "  </tbody>\n",
       "</table>\n",
       "</div>"
      ],
      "text/plain": [
       "                                                 top_words  \\\n",
       "Topic_0  disarmament settlement conference agreement af...   \n",
       "Topic_1  islamic situation foreign africa islam problem...   \n",
       "Topic_2  terrorism kashmiri afghan dialogue democracy i...   \n",
       "\n",
       "                       topic_name  \n",
       "Topic_0  Disarmament Negotiations  \n",
       "Topic_1                     Islam  \n",
       "Topic_2                 Terrorism  "
      ]
     },
     "execution_count": 161,
     "metadata": {},
     "output_type": "execute_result"
    }
   ],
   "source": [
    "# add labels\n",
    "main_topics_df['topic_name'] = ['Disarmament Negotiations',\n",
    "                                'Islam',\n",
    "                                'Terrorism']\n",
    "\n",
    "# view \n",
    "main_topics_df"
   ]
  },
  {
   "cell_type": "markdown",
   "metadata": {},
   "source": [
    "# <center> Supplemental - Using Gensim Corpus"
   ]
  },
  {
   "cell_type": "markdown",
   "metadata": {},
   "source": [
    "## <center> <font color='royalblue'> Topic Modeling - Full Dataset"
   ]
  },
  {
   "cell_type": "code",
   "execution_count": 162,
   "metadata": {
    "scrolled": true
   },
   "outputs": [
    {
     "data": {
      "text/html": [
       "<div>\n",
       "<style scoped>\n",
       "    .dataframe tbody tr th:only-of-type {\n",
       "        vertical-align: middle;\n",
       "    }\n",
       "\n",
       "    .dataframe tbody tr th {\n",
       "        vertical-align: top;\n",
       "    }\n",
       "\n",
       "    .dataframe thead th {\n",
       "        text-align: right;\n",
       "    }\n",
       "</style>\n",
       "<table border=\"1\" class=\"dataframe\">\n",
       "  <thead>\n",
       "    <tr style=\"text-align: right;\">\n",
       "      <th></th>\n",
       "      <th>id</th>\n",
       "      <th>session</th>\n",
       "      <th>year</th>\n",
       "      <th>country</th>\n",
       "      <th>country_name</th>\n",
       "      <th>speaker</th>\n",
       "      <th>position</th>\n",
       "      <th>text</th>\n",
       "    </tr>\n",
       "  </thead>\n",
       "  <tbody>\n",
       "    <tr>\n",
       "      <th>0</th>\n",
       "      <td>0</td>\n",
       "      <td>25</td>\n",
       "      <td>1970</td>\n",
       "      <td>ALB</td>\n",
       "      <td>Albania</td>\n",
       "      <td>Mr. NAS</td>\n",
       "      <td>NaN</td>\n",
       "      <td>33: May I first convey to our President the co...</td>\n",
       "    </tr>\n",
       "    <tr>\n",
       "      <th>1</th>\n",
       "      <td>1</td>\n",
       "      <td>25</td>\n",
       "      <td>1970</td>\n",
       "      <td>ARG</td>\n",
       "      <td>Argentina</td>\n",
       "      <td>Mr. DE PABLO PARDO</td>\n",
       "      <td>NaN</td>\n",
       "      <td>177.\\t : It is a fortunate coincidence that pr...</td>\n",
       "    </tr>\n",
       "    <tr>\n",
       "      <th>2</th>\n",
       "      <td>2</td>\n",
       "      <td>25</td>\n",
       "      <td>1970</td>\n",
       "      <td>AUS</td>\n",
       "      <td>Australia</td>\n",
       "      <td>Mr. McMAHON</td>\n",
       "      <td>NaN</td>\n",
       "      <td>100.\\t  It is a pleasure for me to extend to y...</td>\n",
       "    </tr>\n",
       "    <tr>\n",
       "      <th>3</th>\n",
       "      <td>3</td>\n",
       "      <td>25</td>\n",
       "      <td>1970</td>\n",
       "      <td>AUT</td>\n",
       "      <td>Austria</td>\n",
       "      <td>Mr. KIRCHSCHLAEGER</td>\n",
       "      <td>NaN</td>\n",
       "      <td>155.\\t  May I begin by expressing to Ambassado...</td>\n",
       "    </tr>\n",
       "    <tr>\n",
       "      <th>4</th>\n",
       "      <td>4</td>\n",
       "      <td>25</td>\n",
       "      <td>1970</td>\n",
       "      <td>BEL</td>\n",
       "      <td>Belgium</td>\n",
       "      <td>Mr. HARMEL</td>\n",
       "      <td>NaN</td>\n",
       "      <td>176. No doubt each of us, before coming up to ...</td>\n",
       "    </tr>\n",
       "  </tbody>\n",
       "</table>\n",
       "</div>"
      ],
      "text/plain": [
       "   id  session  year country country_name             speaker position  \\\n",
       "0   0       25  1970     ALB      Albania             Mr. NAS      NaN   \n",
       "1   1       25  1970     ARG    Argentina  Mr. DE PABLO PARDO      NaN   \n",
       "2   2       25  1970     AUS    Australia         Mr. McMAHON      NaN   \n",
       "3   3       25  1970     AUT      Austria  Mr. KIRCHSCHLAEGER      NaN   \n",
       "4   4       25  1970     BEL      Belgium          Mr. HARMEL      NaN   \n",
       "\n",
       "                                                text  \n",
       "0  33: May I first convey to our President the co...  \n",
       "1  177.\\t : It is a fortunate coincidence that pr...  \n",
       "2  100.\\t  It is a pleasure for me to extend to y...  \n",
       "3  155.\\t  May I begin by expressing to Ambassado...  \n",
       "4  176. No doubt each of us, before coming up to ...  "
      ]
     },
     "execution_count": 162,
     "metadata": {},
     "output_type": "execute_result"
    }
   ],
   "source": [
    "# view full dataset\n",
    "un_speeches.head()"
   ]
  },
  {
   "cell_type": "code",
   "execution_count": 163,
   "metadata": {},
   "outputs": [],
   "source": [
    "warnings.filterwarnings(\"ignore\")\n",
    "\n",
    "# remove punctuation\n",
    "un_speeches[\"text\"] = un_speeches['text'].str.replace(\"[^\\w\\s]\", '')"
   ]
  },
  {
   "cell_type": "code",
   "execution_count": 164,
   "metadata": {},
   "outputs": [],
   "source": [
    "# enforce uniform lower casing\n",
    "un_speeches[\"text\"] = un_speeches['text'].str.lower()"
   ]
  },
  {
   "cell_type": "code",
   "execution_count": 165,
   "metadata": {},
   "outputs": [],
   "source": [
    "# tokenize text column\n",
    "un_speeches[\"tokenized\"] = un_speeches[\"text\"].apply(word_tokenize)"
   ]
  },
  {
   "cell_type": "code",
   "execution_count": 166,
   "metadata": {},
   "outputs": [],
   "source": [
    "# remove stopwords\n",
    "sw = stopwords.words(\"english\")\n",
    "un_speeches[\"tokenized\"] = un_speeches['tokenized'].apply(lambda x: [each for each in x if each not in sw])"
   ]
  },
  {
   "cell_type": "code",
   "execution_count": 167,
   "metadata": {},
   "outputs": [
    {
     "data": {
      "text/html": [
       "<div>\n",
       "<style scoped>\n",
       "    .dataframe tbody tr th:only-of-type {\n",
       "        vertical-align: middle;\n",
       "    }\n",
       "\n",
       "    .dataframe tbody tr th {\n",
       "        vertical-align: top;\n",
       "    }\n",
       "\n",
       "    .dataframe thead th {\n",
       "        text-align: right;\n",
       "    }\n",
       "</style>\n",
       "<table border=\"1\" class=\"dataframe\">\n",
       "  <thead>\n",
       "    <tr style=\"text-align: right;\">\n",
       "      <th></th>\n",
       "      <th>id</th>\n",
       "      <th>session</th>\n",
       "      <th>year</th>\n",
       "      <th>country</th>\n",
       "      <th>country_name</th>\n",
       "      <th>speaker</th>\n",
       "      <th>position</th>\n",
       "      <th>text</th>\n",
       "      <th>tokenized</th>\n",
       "    </tr>\n",
       "  </thead>\n",
       "  <tbody>\n",
       "    <tr>\n",
       "      <th>0</th>\n",
       "      <td>0</td>\n",
       "      <td>25</td>\n",
       "      <td>1970</td>\n",
       "      <td>ALB</td>\n",
       "      <td>Albania</td>\n",
       "      <td>Mr. NAS</td>\n",
       "      <td>NaN</td>\n",
       "      <td>33 may i first convey to our president the con...</td>\n",
       "      <td>[33, may, first, convey, president, congratula...</td>\n",
       "    </tr>\n",
       "    <tr>\n",
       "      <th>1</th>\n",
       "      <td>1</td>\n",
       "      <td>25</td>\n",
       "      <td>1970</td>\n",
       "      <td>ARG</td>\n",
       "      <td>Argentina</td>\n",
       "      <td>Mr. DE PABLO PARDO</td>\n",
       "      <td>NaN</td>\n",
       "      <td>177\\t  it is a fortunate coincidence that prec...</td>\n",
       "      <td>[177, fortunate, coincidence, precisely, time,...</td>\n",
       "    </tr>\n",
       "    <tr>\n",
       "      <th>2</th>\n",
       "      <td>2</td>\n",
       "      <td>25</td>\n",
       "      <td>1970</td>\n",
       "      <td>AUS</td>\n",
       "      <td>Australia</td>\n",
       "      <td>Mr. McMAHON</td>\n",
       "      <td>NaN</td>\n",
       "      <td>100\\t  it is a pleasure for me to extend to yo...</td>\n",
       "      <td>[100, pleasure, extend, mr, president, warmest...</td>\n",
       "    </tr>\n",
       "    <tr>\n",
       "      <th>3</th>\n",
       "      <td>3</td>\n",
       "      <td>25</td>\n",
       "      <td>1970</td>\n",
       "      <td>AUT</td>\n",
       "      <td>Austria</td>\n",
       "      <td>Mr. KIRCHSCHLAEGER</td>\n",
       "      <td>NaN</td>\n",
       "      <td>155\\t  may i begin by expressing to ambassador...</td>\n",
       "      <td>[155, may, begin, expressing, ambassador, hamb...</td>\n",
       "    </tr>\n",
       "    <tr>\n",
       "      <th>4</th>\n",
       "      <td>4</td>\n",
       "      <td>25</td>\n",
       "      <td>1970</td>\n",
       "      <td>BEL</td>\n",
       "      <td>Belgium</td>\n",
       "      <td>Mr. HARMEL</td>\n",
       "      <td>NaN</td>\n",
       "      <td>176 no doubt each of us before coming up to th...</td>\n",
       "      <td>[176, doubt, us, coming, rostrum, wonders, use...</td>\n",
       "    </tr>\n",
       "  </tbody>\n",
       "</table>\n",
       "</div>"
      ],
      "text/plain": [
       "   id  session  year country country_name             speaker position  \\\n",
       "0   0       25  1970     ALB      Albania             Mr. NAS      NaN   \n",
       "1   1       25  1970     ARG    Argentina  Mr. DE PABLO PARDO      NaN   \n",
       "2   2       25  1970     AUS    Australia         Mr. McMAHON      NaN   \n",
       "3   3       25  1970     AUT      Austria  Mr. KIRCHSCHLAEGER      NaN   \n",
       "4   4       25  1970     BEL      Belgium          Mr. HARMEL      NaN   \n",
       "\n",
       "                                                text  \\\n",
       "0  33 may i first convey to our president the con...   \n",
       "1  177\\t  it is a fortunate coincidence that prec...   \n",
       "2  100\\t  it is a pleasure for me to extend to yo...   \n",
       "3  155\\t  may i begin by expressing to ambassador...   \n",
       "4  176 no doubt each of us before coming up to th...   \n",
       "\n",
       "                                           tokenized  \n",
       "0  [33, may, first, convey, president, congratula...  \n",
       "1  [177, fortunate, coincidence, precisely, time,...  \n",
       "2  [100, pleasure, extend, mr, president, warmest...  \n",
       "3  [155, may, begin, expressing, ambassador, hamb...  \n",
       "4  [176, doubt, us, coming, rostrum, wonders, use...  "
      ]
     },
     "execution_count": 167,
     "metadata": {},
     "output_type": "execute_result"
    }
   ],
   "source": [
    "# view dataframe\n",
    "un_speeches.head()"
   ]
  },
  {
   "cell_type": "code",
   "execution_count": 168,
   "metadata": {},
   "outputs": [],
   "source": [
    "# create gensim dictionary with tokens and ids\n",
    "dictionary = Dictionary(un_speeches[\"tokenized\"])"
   ]
  },
  {
   "cell_type": "code",
   "execution_count": 169,
   "metadata": {},
   "outputs": [],
   "source": [
    "# create gensim corpus, uses bag of words with token ids and tf\n",
    "# gensim_corpus: Returned in gensim_corpus: series of tuples with (token_id, token_freq_in_doc)\n",
    "gensim_corpus = [dictionary.doc2bow(doc) for doc in un_speeches[\"tokenized\"]]"
   ]
  },
  {
   "cell_type": "code",
   "execution_count": 170,
   "metadata": {},
   "outputs": [],
   "source": [
    "# fit model - LDA\n",
    "ldamodel = LdaModel(corpus=gensim_corpus,\n",
    "                   num_topics = 3,\n",
    "                   id2word=dictionary)"
   ]
  },
  {
   "cell_type": "code",
   "execution_count": 171,
   "metadata": {},
   "outputs": [
    {
     "name": "stdout",
     "output_type": "stream",
     "text": [
      "Top 5 words in topic 1:\n"
     ]
    },
    {
     "data": {
      "text/plain": [
       "[(0.012498764, 'nations'),\n",
       " (0.012316881, 'united'),\n",
       " (0.0118736485, 'international'),\n",
       " (0.008249565, 'world'),\n",
       " (0.008233478, 'countries')]"
      ]
     },
     "execution_count": 171,
     "metadata": {},
     "output_type": "execute_result"
    }
   ],
   "source": [
    "# view the top 5 words in topic 1 \n",
    "print(f\"Top 5 words in topic 1:\")\n",
    "ldamodel.top_topics(gensim_corpus, topn=5)[0][0]"
   ]
  },
  {
   "cell_type": "code",
   "execution_count": 172,
   "metadata": {},
   "outputs": [
    {
     "name": "stdout",
     "output_type": "stream",
     "text": [
      "Top 5 words in topic 1:\n"
     ]
    },
    {
     "data": {
      "text/plain": [
       "[(0.01291267, 'nations'),\n",
       " (0.011574322, 'united'),\n",
       " (0.008377253, 'international'),\n",
       " (0.008142526, 'world'),\n",
       " (0.0077024223, 'development')]"
      ]
     },
     "execution_count": 172,
     "metadata": {},
     "output_type": "execute_result"
    }
   ],
   "source": [
    "# view the top 5 words in topic 2 \n",
    "print(f\"Top 5 words in topic 1:\")\n",
    "ldamodel.top_topics(gensim_corpus, topn=5)[1][0]"
   ]
  },
  {
   "cell_type": "code",
   "execution_count": 173,
   "metadata": {},
   "outputs": [
    {
     "name": "stdout",
     "output_type": "stream",
     "text": [
      "Top 5 words in topic 1:\n"
     ]
    },
    {
     "data": {
      "text/plain": [
       "[(0.011646468, 'international'),\n",
       " (0.009744441, 'united'),\n",
       " (0.009006834, 'nations'),\n",
       " (0.008618362, 'development'),\n",
       " (0.005991032, 'peace')]"
      ]
     },
     "execution_count": 173,
     "metadata": {},
     "output_type": "execute_result"
    }
   ],
   "source": [
    "# view the top 5 words in topic 3 \n",
    "print(f\"Top 5 words in topic 1:\")\n",
    "ldamodel.top_topics(gensim_corpus, topn=5)[2][0]"
   ]
  },
  {
   "cell_type": "markdown",
   "metadata": {},
   "source": [
    "#### Model evaluation"
   ]
  },
  {
   "cell_type": "code",
   "execution_count": 174,
   "metadata": {
    "scrolled": true
   },
   "outputs": [
    {
     "name": "stdout",
     "output_type": "stream",
     "text": [
      "Perplexity: -8.077123617472337\n",
      "Coherence: 0.2690113712635039\n"
     ]
    }
   ],
   "source": [
    "# perlexity and coherence\n",
    "perp = ldamodel.log_perplexity(gensim_corpus)\n",
    "\n",
    "# Calculate coherence\n",
    "coh = CoherenceModel(model=ldamodel,\n",
    "                     texts=un_speeches[\"tokenized\"],\n",
    "                    corpus=gensim_corpus,\n",
    "                    coherence=\"c_v\").get_coherence()\n",
    "\n",
    "# view\n",
    "print(f\"Perplexity: {perp}\\nCoherence: {coh}\")"
   ]
  },
  {
   "cell_type": "markdown",
   "metadata": {},
   "source": [
    "#### Analysis"
   ]
  },
  {
   "cell_type": "code",
   "execution_count": 175,
   "metadata": {
    "scrolled": true
   },
   "outputs": [
    {
     "data": {
      "text/html": [
       "\n",
       "<link rel=\"stylesheet\" type=\"text/css\" href=\"https://cdn.jsdelivr.net/gh/bmabey/pyLDAvis@3.3.1/pyLDAvis/js/ldavis.v1.0.0.css\">\n",
       "\n",
       "\n",
       "<div id=\"ldavis_el2021220145774798801744251514\"></div>\n",
       "<script type=\"text/javascript\">\n",
       "\n",
       "var ldavis_el2021220145774798801744251514_data = {\"mdsDat\": {\"x\": [-0.015038646069453196, 0.000843819125429951, 0.014194826944023239], \"y\": [0.004284409558960291, -0.009381177280573479, 0.005096767721613179], \"topics\": [1, 2, 3], \"cluster\": [1, 1, 1], \"Freq\": [52.74892313933239, 24.069942820953816, 23.181134039713783]}, \"tinfo\": {\"Term\": [\"development\", \"global\", \"nations\", \"united\", \"international\", \"climate\", \"security\", \"country\", \"human\", \"world\", \"must\", \"sustainable\", \"new\", \"economic\", \"change\", \"small\", \"community\", \"challenges\", \"political\", \"people\", \"also\", \"general\", \"republic\", \"efforts\", \"years\", \"developing\", \"year\", \"rights\", \"agenda\", \"countries\", \"obeisance\", \"hamad\", \"judea\", \"songun\", \"heavenly\", \"alsaud\", \"497\", \"shabaa\", \"lied\", \"alnakba\", \"samaria\", \"divinely\", \"gunpowder\", \"sedition\", \"ayatollah\", \"kippur\", \"taiz\", \"dismantles\", \"paragon\", \"loftiness\", \"materialistic\", \"judaizing\", \"teeters\", \"bulldozers\", \"highhandedness\", \"sidewalks\", \"bluster\", \"465\", \"arabislamic\", \"nitrate\", \"jewish\", \"arabian\", \"khalifa\", \"domineering\", \"beirut\", \"emirates\", \"monotheistic\", \"arab\", \"bahrain\", \"morocco\", \"yemen\", \"jong\", \"bullying\", \"lebanon\", \"yitzhak\", \"abu\", \"lebanese\", \"israeli\", \"jerusalem\", \"iran\", \"syrian\", \"il\", \"israel\", \"occupation\", \"israels\", \"egypt\", \"palestinian\", \"powers\", \"peoples\", \"aggression\", \"namibia\", \"racist\", \"missiles\", \"jews\", \"great\", \"nonaligned\", \"soviet\", \"south\", \"peace\", \"countries\", \"organization\", \"international\", \"united\", \"nations\", \"world\", \"state\", \"states\", \"nuclear\", \"forces\", \"security\", \"military\", \"resolutions\", \"also\", \"people\", \"us\", \"war\", \"would\", \"must\", \"assembly\", \"order\", \"time\", \"economic\", \"government\", \"efforts\", \"council\", \"africa\", \"rights\", \"community\", \"new\", \"human\", \"country\", \"support\", \"one\", \"development\", \"general\", \"sassou\", \"nguesso\", \"moldovan\", \"cplp\", \"transdniestrian\", \"kabila\", \"compaor\\u00e9\", \"ivorian\", \"sahelosaharan\", \"transnistrian\", \"eccas\", \"burundians\", \"idriss\", \"deby\", \"gabons\", \"f\\u00e9lix\", \"postelectoral\", \"nkurunziza\", \"blaise\", \"fran\\u00e7ois\", \"moldova\", \"salvadorans\", \"paraguayans\", \"boziz\\u00e9\", \"moldovas\", \"ondimba\", \"malabo\", \"ramoshorta\", \"fdlr\", \"malawians\", \"divoire\", \"c\\u00f4te\", \"cote\", \"marino\", \"malawi\", \"coca\", \"lakes\", \"congo\", \"paraguay\", \"burundis\", \"paraguays\", \"macedonia\", \"azerbaijan\", \"electoral\", \"benin\", \"kosovo\", \"equatorial\", \"serbia\", \"burundi\", \"mali\", \"development\", \"ireland\", \"elections\", \"democracy\", \"country\", \"republic\", \"human\", \"european\", \"political\", \"international\", \"union\", \"new\", \"democratic\", \"efforts\", \"process\", \"african\", \"conflict\", \"government\", \"community\", \"years\", \"also\", \"people\", \"must\", \"general\", \"rights\", \"united\", \"situation\", \"nations\", \"commitment\", \"peace\", \"africa\", \"assembly\", \"support\", \"made\", \"security\", \"countries\", \"world\", \"economic\", \"states\", \"council\", \"would\", \"us\", \"sids\", \"palaus\", \"ldc\", \"unreported\", \"climatechange\", \"tongas\", \"ramsi\", \"marshallese\", \"noncommunicable\", \"filipino\", \"majuro\", \"sealevel\", \"celsius\", \"unfccc\", \"aosis\", \"emitters\", \"tuvalus\", \"apia\", \"oecs\", \"preindustrial\", \"tongan\", \"naurus\", \"taiwans\", \"crossstrait\", \"palau\", \"bleaching\", \"gaming\", \"bangabandhu\", \"seafarers\", \"trawling\", \"lowlying\", \"impacts\", \"g20\", \"coral\", \"pathway\", \"vulnerabilities\", \"tuvalu\", \"mitigation\", \"samoa\", \"emissions\", \"caricom\", \"greenhouse\", \"graduation\", \"solomon\", \"mdgs\", \"kazakhstan\", \"barbuda\", \"dominica\", \"livelihoods\", \"global\", \"island\", \"climate\", \"2015\", \"small\", \"pacific\", \"sustainable\", \"saint\", \"islands\", \"partnerships\", \"warming\", \"change\", \"caribbean\", \"inclusive\", \"development\", \"address\", \"nations\", \"challenges\", \"security\", \"united\", \"goals\", \"world\", \"economic\", \"agenda\", \"energy\", \"countries\", \"year\", \"must\", \"developing\", \"states\", \"us\", \"international\", \"would\", \"new\", \"peace\", \"people\", \"need\", \"council\", \"also\", \"community\", \"support\", \"one\", \"assembly\", \"general\", \"human\", \"rights\", \"cooperation\", \"country\", \"efforts\"], \"Freq\": [64751.0, 26551.0, 132756.0, 130173.0, 124333.0, 12517.0, 67377.0, 39659.0, 40579.0, 85222.0, 55591.0, 11079.0, 41876.0, 46130.0, 15904.0, 9968.0, 38773.0, 14477.0, 31022.0, 54104.0, 53665.0, 33484.0, 21439.0, 37940.0, 23750.0, 20718.0, 20327.0, 35425.0, 9882.0, 81430.0, 39.883305026071476, 108.85753255726671, 49.934253906496984, 23.57366681062215, 31.276305407740175, 50.752613285276894, 28.31575088409429, 26.012443539372384, 8.62685823851264, 13.391025205995437, 49.55455600493968, 8.677704975697281, 12.738051829709395, 39.96630755628917, 30.900362492208977, 18.120130736496403, 11.875788103132926, 15.732982356379965, 8.421410246758665, 12.674809032955896, 59.92434817211849, 15.601687888272439, 7.285493108548232, 11.738277317971361, 45.68288365261363, 8.212252648499465, 7.341269958157839, 10.783517936331977, 25.215676684855126, 8.48436383372985, 930.2370254660212, 215.57848348413071, 100.75021971214503, 57.05261830348836, 287.9413881304502, 1155.8576528489145, 77.99015488097967, 10421.165100904533, 904.8687083282825, 1680.176982673161, 1770.5499706859284, 130.21906828559298, 64.29945957445513, 4591.573591709608, 57.601528988031504, 276.72339717894204, 1591.6639535684233, 4135.0033561403, 1729.8729277190316, 4132.262400568553, 3013.395944085674, 183.13338855510094, 8840.835678315683, 4088.1910669720687, 1598.527092703095, 1903.2640294124328, 9288.995091967336, 4734.4160777367215, 21017.944168534716, 4349.364877371157, 3656.5828081190425, 1536.4649437492665, 771.1755139670578, 530.5576566232154, 14619.39839039743, 2612.917852327809, 3066.541491301326, 12580.801586924477, 47209.77488832551, 49052.17420294267, 22036.15506563139, 70739.03082358446, 73379.65299532356, 74463.25149601161, 49148.013323571795, 17210.15209363457, 34272.75588556533, 12555.048256385482, 6914.552858490902, 36240.12113513122, 7353.714003522147, 6834.945854309443, 29062.33805600079, 29032.820072920436, 21694.15705038576, 11981.490818888036, 20018.169526753878, 28201.037155523776, 20837.301879973245, 13659.535446321994, 15008.03426406071, 23448.76672068091, 18454.300402389792, 20006.261073523387, 18127.999074011517, 14436.048437222571, 18252.02870075633, 19184.914871572993, 20122.210707249265, 19635.625898470713, 19106.228917239532, 17378.13549527916, 16411.993044182822, 21155.482988757896, 16424.829482877634, 31.763847554584142, 27.860319167371024, 34.35763506777915, 51.75817787598923, 28.36424957344576, 25.452330246494956, 23.09704763856253, 42.22992879238683, 45.318167141181085, 36.689461054662814, 22.94223690664246, 12.545599580201197, 23.9418000039991, 17.334716166438024, 21.54513513966391, 8.8676721132972, 7.8982494264749326, 8.435281063544238, 25.86476326471998, 37.02752370243084, 455.3852734746313, 23.17003340821977, 18.978990192435496, 8.738147035357349, 8.136344514625797, 7.645444809202711, 16.779184655558026, 9.210630932018299, 6.454058251672116, 13.86784142143998, 490.90902675347076, 465.39091313397876, 18.903960900347904, 294.5683608653356, 462.37355151112354, 118.89198170307836, 439.83379333195643, 1420.7736934516686, 522.2177782776873, 47.203063769914344, 37.88004713985605, 316.32184381034307, 528.2934461470478, 553.464420566029, 337.2379993117027, 725.0176464567159, 334.5826910179727, 432.7207825434174, 914.0308466724409, 842.353386310895, 23429.397581670848, 545.1418225188215, 2096.577722042156, 4655.213979133479, 13520.967658792573, 7767.3243885564525, 13192.229565550493, 3568.2504485735644, 9989.51720939502, 31661.437039930905, 4160.759583132171, 12175.181254574238, 5205.3688873079045, 11101.795673297069, 6822.689275246712, 6223.664446684582, 5718.691831807856, 9923.714649786869, 10904.890565002906, 7365.028072346481, 13892.492606828726, 13965.531169336458, 14134.102439824741, 9486.342201956608, 9828.767430144502, 26490.692667022435, 5885.399034019436, 24485.474228790223, 4288.435600878988, 16286.88419401085, 7199.924158740975, 9833.144984033015, 8789.147119570456, 6056.741404988331, 12901.308322311766, 14395.885985593271, 14756.253108304563, 9885.95476621642, 11265.299463098328, 7550.610785620726, 7475.461300293707, 7429.535595046606, 902.4790743480172, 45.05884023513721, 87.24702761064563, 24.793992870554824, 56.25955073777921, 25.76608509815872, 33.144959845059105, 26.58088705225813, 186.28551803569962, 25.70665983034284, 14.951768611808625, 160.54406170597412, 29.023516538142253, 74.21863532362289, 48.56085918149098, 64.2672984533006, 39.69295952687446, 16.21015747349004, 27.262691751856813, 32.54398979710915, 12.480103943879586, 15.76352024662321, 130.7810891956298, 19.53693426726962, 310.8280399386044, 13.32266594655239, 9.527079962251927, 20.429717002867196, 10.78553966468176, 23.37077008861301, 160.59107615090747, 440.2829617494276, 247.66691441414892, 91.77930201555661, 74.5572660070696, 283.0716107916888, 447.042526433443, 353.7415222802361, 346.27075934373215, 838.1019739252694, 396.6457465099402, 451.1687869112523, 202.28616429339328, 794.5383282912651, 1452.9267863750554, 356.93770445195713, 327.276390201494, 316.80704672912543, 221.23214741856066, 13575.30774360516, 2920.3937613760136, 6697.342856809766, 1228.0832895186159, 5292.167202002771, 2058.881108422854, 5386.942836699855, 865.0476515420538, 2114.8247927647453, 686.8227486604094, 491.3281143016791, 6685.238885093765, 1810.752888579813, 960.2419967333182, 20166.16539718981, 3395.721534213807, 33807.42198668877, 5540.754593718046, 18236.22685218599, 30303.414832224098, 4307.433879794165, 21318.427416966235, 12795.97679758621, 3884.812881053904, 2847.2597062448776, 17982.90540303989, 6433.580390965858, 13256.150831861954, 6345.871095920863, 13643.666898935156, 9838.02360000474, 21932.979515156025, 8748.121783822955, 9578.916554789112, 14361.183222276357, 11105.825637463857, 6194.5726686460785, 8104.923334764406, 10710.210589315977, 8683.635338621472, 7789.739105518841, 7398.994052840297, 8226.398297482701, 7573.664678924671, 7751.330208969596, 7345.06688433425, 6926.5904717995245, 7032.339293183744, 6832.10500080796], \"Total\": [64751.0, 26551.0, 132756.0, 130173.0, 124333.0, 12517.0, 67377.0, 39659.0, 40579.0, 85222.0, 55591.0, 11079.0, 41876.0, 46130.0, 15904.0, 9968.0, 38773.0, 14477.0, 31022.0, 54104.0, 53665.0, 33484.0, 21439.0, 37940.0, 23750.0, 20718.0, 20327.0, 35425.0, 9882.0, 81430.0, 41.49286865460489, 114.51715277509487, 53.2853620877991, 25.28469287145682, 33.56634213198914, 54.99583172337363, 30.691767598677654, 28.242400470719126, 9.387769999932251, 14.595142178861325, 54.06478628510478, 9.468960515293931, 13.905914127645003, 43.6569990114245, 33.87803072734501, 19.918120732845765, 13.082129840429927, 17.351993626059244, 9.301761965302692, 14.005980144234833, 66.2845166027402, 17.265857250229217, 8.065994258715003, 12.997273143686083, 50.63706985296347, 9.110828644736564, 8.147091688033806, 11.972543066246272, 28.00768609578098, 9.426504569720185, 1059.8269347249648, 242.07613554295727, 112.51916366255375, 63.44163845787192, 325.7415850486698, 1333.6781615074162, 87.66707455686645, 12642.395554969375, 1059.5479497986873, 2010.6817971496114, 2122.394505842055, 148.22909912634825, 72.23990388310918, 5633.256833478469, 64.63250511221494, 320.7847151050603, 1912.7732001658715, 5127.110039595884, 2090.996267257078, 5168.461939917574, 3766.462907365694, 210.5838131324952, 11471.590900460678, 5226.475828278638, 1975.817727043087, 2378.2373717466076, 12425.254262425016, 6219.427742590218, 30056.413095515007, 5754.081735224106, 4828.474366288929, 1947.0020672068053, 948.8382055377871, 641.1945008047551, 21116.202676314642, 3442.2411517043597, 4104.054702977777, 18466.347969339316, 77857.84230461273, 81430.96559157583, 34917.67551873355, 124333.4473786714, 130173.76049457009, 132756.1477114906, 85222.6938488426, 26976.658908901038, 59181.722247598824, 19448.372811325906, 10151.08770355526, 67377.65630962898, 10925.054849040958, 10122.190116529431, 53665.04125214549, 54104.176879720755, 38961.71624543711, 19565.464771408217, 36241.75261087054, 55591.29042721047, 38896.845161488964, 23327.109915205903, 26270.55718791915, 46130.698284483544, 34181.8134079386, 37940.161747628415, 33783.53319439665, 25163.252891250107, 35425.86301523508, 38773.44077519738, 41876.30851661261, 40579.1856729908, 39659.53586921585, 33957.02172036846, 30936.680828887933, 64751.04596761856, 33484.836363758914, 35.10515393717039, 31.12359523793148, 38.69065661437104, 58.587579410841656, 32.20675560806496, 28.963969884667957, 26.569138893109418, 48.587503359990336, 52.48632616990781, 42.75537252476742, 26.760976706558363, 14.739229814197433, 28.220971000610042, 20.651505756520862, 25.8301581351063, 10.694585092621903, 9.52663100191507, 10.198749617563678, 31.393896232329602, 45.05318673145709, 556.3732704722363, 28.377304078415534, 23.35178375658019, 10.84259935203511, 10.148051566582101, 9.64302864890888, 21.240724882030936, 11.726002961564518, 8.221888146428453, 17.709014138057228, 636.0825192818772, 605.102318333865, 24.17501646029898, 397.7047594142618, 652.8064021466698, 162.84294422905364, 641.6783627254085, 2221.8953929226896, 811.4446957771286, 63.5323556821071, 50.54355105071414, 498.65203632050566, 872.5642653409259, 921.9035376401863, 538.2500899923574, 1253.9810465691883, 534.6221601205273, 718.5752027008064, 1667.6861629035493, 1532.8516860203542, 64751.04596761856, 943.011679393953, 4527.934371551029, 11482.021077815474, 39659.53586921585, 21439.010343051414, 40579.1856729908, 8974.868493497546, 31022.210989818293, 124333.4473786714, 11336.807750978374, 41876.30851661261, 15118.004619997078, 37940.161747628415, 21031.729172733063, 18896.322095009004, 17117.647263738014, 34181.8134079386, 38773.44077519738, 23750.48923912796, 53665.04125214549, 54104.176879720755, 55591.29042721047, 33484.836363758914, 35425.86301523508, 130173.76049457009, 18622.717693428796, 132756.1477114906, 12349.914633790067, 77857.84230461273, 25163.252891250107, 38896.845161488964, 33957.02172036846, 19863.112971326296, 67377.65630962898, 81430.96559157583, 85222.6938488426, 46130.698284483544, 59181.722247598824, 33783.53319439665, 36241.75261087054, 38961.71624543711, 918.1036926762503, 47.34407429321834, 92.23144900637465, 26.2496991604636, 59.75756391443436, 27.47995939677627, 35.35322336387584, 28.542893720267088, 201.63455270377509, 27.91325540591764, 16.329766587236346, 175.83881379619237, 31.8548643159964, 81.68005802969665, 53.54532626973352, 70.91335608439331, 43.813615714087504, 17.92943513050706, 30.219843195726597, 36.0834804217139, 13.838314548446911, 17.513359730606915, 146.25924939241455, 21.870231119652566, 348.67045995911553, 14.973986803393283, 10.774341943108638, 23.11271714211622, 12.374214327808597, 26.93517319463411, 185.90008293764586, 519.2345568539976, 290.5558771747426, 107.36338914549899, 86.91882178163416, 346.3455083182185, 558.8043488695331, 438.40627286105416, 432.42894882862396, 1111.0769268276017, 505.9735357416275, 583.4601585057936, 251.25466744097264, 1088.217456486307, 2172.5476574549575, 477.1798789638748, 439.13948687746995, 423.9139440385826, 286.0075206875262, 26551.03154974549, 4942.777328388476, 12517.899238331669, 1904.8940883843743, 9968.171069876684, 3539.4632935671634, 11079.631176034174, 1358.1570325065318, 3941.596274965283, 1052.5577918970546, 710.6835008411757, 15904.27649787008, 3410.1502236819815, 1600.303144701486, 64751.04596761856, 7564.0060433428425, 132756.1477114906, 14477.291578924192, 67377.65630962898, 130173.76049457009, 10883.652551978848, 85222.6938488426, 46130.698284483544, 9882.052453662442, 6764.667927576034, 81430.96559157583, 20327.639700441756, 55591.29042721047, 20718.46895858017, 59181.722247598824, 38961.71624543711, 124333.4473786714, 36241.75261087054, 41876.30851661261, 77857.84230461273, 54104.176879720755, 21847.993956843027, 33783.53319439665, 53665.04125214549, 38773.44077519738, 33957.02172036846, 30936.680828887933, 38896.845161488964, 33484.836363758914, 40579.1856729908, 35425.86301523508, 28813.340980473684, 39659.53586921585, 37940.161747628415], \"Category\": [\"Default\", \"Default\", \"Default\", \"Default\", \"Default\", \"Default\", \"Default\", \"Default\", \"Default\", \"Default\", \"Default\", \"Default\", \"Default\", \"Default\", \"Default\", \"Default\", \"Default\", \"Default\", \"Default\", \"Default\", \"Default\", \"Default\", \"Default\", \"Default\", \"Default\", \"Default\", \"Default\", \"Default\", \"Default\", \"Default\", \"Topic1\", \"Topic1\", \"Topic1\", \"Topic1\", \"Topic1\", \"Topic1\", \"Topic1\", \"Topic1\", \"Topic1\", \"Topic1\", \"Topic1\", \"Topic1\", \"Topic1\", \"Topic1\", \"Topic1\", \"Topic1\", \"Topic1\", \"Topic1\", \"Topic1\", \"Topic1\", \"Topic1\", \"Topic1\", \"Topic1\", \"Topic1\", \"Topic1\", \"Topic1\", \"Topic1\", \"Topic1\", \"Topic1\", \"Topic1\", \"Topic1\", \"Topic1\", \"Topic1\", \"Topic1\", \"Topic1\", \"Topic1\", \"Topic1\", \"Topic1\", \"Topic1\", \"Topic1\", \"Topic1\", \"Topic1\", \"Topic1\", \"Topic1\", \"Topic1\", \"Topic1\", \"Topic1\", \"Topic1\", \"Topic1\", \"Topic1\", \"Topic1\", \"Topic1\", \"Topic1\", \"Topic1\", \"Topic1\", \"Topic1\", \"Topic1\", \"Topic1\", \"Topic1\", \"Topic1\", \"Topic1\", \"Topic1\", \"Topic1\", \"Topic1\", \"Topic1\", \"Topic1\", \"Topic1\", \"Topic1\", \"Topic1\", \"Topic1\", \"Topic1\", \"Topic1\", \"Topic1\", \"Topic1\", \"Topic1\", \"Topic1\", \"Topic1\", \"Topic1\", \"Topic1\", \"Topic1\", \"Topic1\", \"Topic1\", \"Topic1\", \"Topic1\", \"Topic1\", \"Topic1\", \"Topic1\", \"Topic1\", \"Topic1\", \"Topic1\", \"Topic1\", \"Topic1\", \"Topic1\", \"Topic1\", \"Topic1\", \"Topic1\", \"Topic1\", \"Topic1\", \"Topic1\", \"Topic1\", \"Topic1\", \"Topic1\", \"Topic1\", \"Topic1\", \"Topic1\", \"Topic2\", \"Topic2\", \"Topic2\", \"Topic2\", \"Topic2\", \"Topic2\", \"Topic2\", \"Topic2\", \"Topic2\", \"Topic2\", \"Topic2\", \"Topic2\", \"Topic2\", \"Topic2\", \"Topic2\", \"Topic2\", \"Topic2\", \"Topic2\", \"Topic2\", \"Topic2\", \"Topic2\", \"Topic2\", \"Topic2\", \"Topic2\", \"Topic2\", \"Topic2\", \"Topic2\", \"Topic2\", \"Topic2\", \"Topic2\", \"Topic2\", \"Topic2\", \"Topic2\", \"Topic2\", \"Topic2\", \"Topic2\", \"Topic2\", \"Topic2\", \"Topic2\", \"Topic2\", \"Topic2\", \"Topic2\", \"Topic2\", \"Topic2\", \"Topic2\", \"Topic2\", \"Topic2\", \"Topic2\", \"Topic2\", \"Topic2\", \"Topic2\", \"Topic2\", \"Topic2\", \"Topic2\", \"Topic2\", \"Topic2\", \"Topic2\", \"Topic2\", \"Topic2\", \"Topic2\", \"Topic2\", \"Topic2\", \"Topic2\", \"Topic2\", \"Topic2\", \"Topic2\", \"Topic2\", \"Topic2\", \"Topic2\", \"Topic2\", \"Topic2\", \"Topic2\", \"Topic2\", \"Topic2\", \"Topic2\", \"Topic2\", \"Topic2\", \"Topic2\", \"Topic2\", \"Topic2\", \"Topic2\", \"Topic2\", \"Topic2\", \"Topic2\", \"Topic2\", \"Topic2\", \"Topic2\", \"Topic2\", \"Topic2\", \"Topic2\", \"Topic2\", \"Topic2\", \"Topic3\", \"Topic3\", \"Topic3\", \"Topic3\", \"Topic3\", \"Topic3\", \"Topic3\", \"Topic3\", \"Topic3\", \"Topic3\", \"Topic3\", \"Topic3\", \"Topic3\", \"Topic3\", \"Topic3\", \"Topic3\", \"Topic3\", \"Topic3\", \"Topic3\", \"Topic3\", \"Topic3\", \"Topic3\", \"Topic3\", \"Topic3\", \"Topic3\", \"Topic3\", \"Topic3\", \"Topic3\", \"Topic3\", \"Topic3\", \"Topic3\", \"Topic3\", \"Topic3\", \"Topic3\", \"Topic3\", \"Topic3\", \"Topic3\", \"Topic3\", \"Topic3\", \"Topic3\", \"Topic3\", \"Topic3\", \"Topic3\", \"Topic3\", \"Topic3\", \"Topic3\", \"Topic3\", \"Topic3\", \"Topic3\", \"Topic3\", \"Topic3\", \"Topic3\", \"Topic3\", \"Topic3\", \"Topic3\", \"Topic3\", \"Topic3\", \"Topic3\", \"Topic3\", \"Topic3\", \"Topic3\", \"Topic3\", \"Topic3\", \"Topic3\", \"Topic3\", \"Topic3\", \"Topic3\", \"Topic3\", \"Topic3\", \"Topic3\", \"Topic3\", \"Topic3\", \"Topic3\", \"Topic3\", \"Topic3\", \"Topic3\", \"Topic3\", \"Topic3\", \"Topic3\", \"Topic3\", \"Topic3\", \"Topic3\", \"Topic3\", \"Topic3\", \"Topic3\", \"Topic3\", \"Topic3\", \"Topic3\", \"Topic3\", \"Topic3\", \"Topic3\", \"Topic3\", \"Topic3\", \"Topic3\", \"Topic3\", \"Topic3\", \"Topic3\", \"Topic3\"], \"logprob\": [30.0, 29.0, 28.0, 27.0, 26.0, 25.0, 24.0, 23.0, 22.0, 21.0, 20.0, 19.0, 18.0, 17.0, 16.0, 15.0, 14.0, 13.0, 12.0, 11.0, 10.0, 9.0, 8.0, 7.0, 6.0, 5.0, 4.0, 3.0, 2.0, 1.0, -11.9142, -10.9101, -11.6895, -12.4401, -12.1573, -11.6732, -12.2568, -12.3416, -13.4453, -13.0056, -11.6971, -13.4394, -13.0556, -11.9121, -12.1694, -12.7032, -13.1257, -12.8444, -13.4694, -13.0606, -11.5071, -12.8528, -13.6143, -13.1373, -11.7785, -13.4946, -13.6067, -13.2222, -12.3727, -13.462, -8.7647, -10.2269, -10.9875, -11.5562, -9.9374, -8.5476, -11.2436, -6.3486, -8.7924, -8.1735, -8.1211, -10.731, -11.4366, -7.1682, -11.5466, -9.9772, -8.2277, -7.2729, -8.1444, -7.2736, -7.5894, -10.39, -6.513, -7.2843, -8.2233, -8.0489, -6.4636, -7.1376, -5.6471, -7.2224, -7.3959, -8.2629, -8.9523, -9.3263, -6.0101, -7.732, -7.5719, -6.1603, -4.8378, -4.7995, -5.5997, -4.4334, -4.3968, -4.3821, -4.7976, -5.8469, -5.1581, -6.1623, -6.7588, -5.1023, -6.6972, -6.7704, -5.323, -5.324, -5.6154, -6.2091, -5.6958, -5.3531, -5.6557, -6.078, -5.9838, -5.5376, -5.7771, -5.6964, -5.795, -6.0227, -5.7882, -5.7383, -5.6906, -5.7151, -5.7424, -5.8372, -5.8944, -5.6405, -5.8936, -11.3573, -11.4884, -11.2788, -10.869, -11.4705, -11.5788, -11.6759, -11.0725, -11.0019, -11.2131, -11.6826, -12.2862, -11.64, -11.9629, -11.7455, -12.6332, -12.749, -12.6832, -11.5627, -11.2039, -8.6945, -11.6727, -11.8723, -12.6479, -12.7193, -12.7815, -11.9955, -12.5952, -12.9509, -12.186, -8.6193, -8.6727, -11.8762, -9.1301, -8.6792, -10.0374, -8.7292, -7.5567, -8.5575, -10.9611, -11.1812, -9.0588, -8.546, -8.4994, -8.9948, -8.2294, -9.0027, -8.7455, -7.9977, -8.0794, -4.7539, -8.5146, -7.1675, -6.3699, -5.3036, -5.8579, -5.3282, -6.6358, -5.6063, -4.4528, -6.4822, -5.4085, -6.2582, -5.5007, -5.9876, -6.0795, -6.1641, -5.6129, -5.5186, -5.9111, -5.2765, -5.2713, -5.2593, -5.658, -5.6225, -4.6311, -6.1354, -4.7098, -6.4519, -5.1175, -5.9338, -5.6221, -5.7343, -6.1067, -5.3505, -5.2409, -5.2162, -5.6167, -5.4861, -5.8862, -5.8962, -5.9024, -7.9728, -10.97, -10.3092, -11.5674, -10.748, -11.5289, -11.2771, -11.4978, -9.5507, -11.5312, -12.0732, -9.6994, -11.4099, -10.471, -10.8952, -10.6149, -11.0968, -11.9923, -11.4725, -11.2954, -12.2538, -12.0203, -9.9045, -11.8057, -9.0387, -12.1885, -12.5238, -11.761, -12.3998, -11.6265, -9.6991, -8.6906, -9.2659, -10.2586, -10.4664, -9.1323, -8.6753, -8.9094, -8.9308, -8.0468, -8.7949, -8.6661, -9.4683, -8.1002, -7.4966, -8.9004, -8.9872, -9.0197, -9.3788, -5.262, -6.7985, -5.9685, -7.6648, -6.204, -7.1481, -6.1862, -8.0152, -7.1213, -8.2459, -8.5809, -5.9703, -7.2765, -7.9108, -4.8662, -6.6477, -4.3495, -6.1581, -4.9668, -4.459, -6.4099, -4.8107, -5.3211, -6.5132, -6.8239, -4.9808, -6.0087, -5.2858, -6.0224, -5.257, -5.584, -4.7822, -5.7014, -5.6107, -5.2057, -5.4628, -6.0466, -5.7778, -5.499, -5.7088, -5.8174, -5.8689, -5.7629, -5.8455, -5.8224, -5.8762, -5.9349, -5.9197, -5.9486], \"loglift\": [30.0, 29.0, 28.0, 27.0, 26.0, 25.0, 24.0, 23.0, 22.0, 21.0, 20.0, 19.0, 18.0, 17.0, 16.0, 15.0, 14.0, 13.0, 12.0, 11.0, 10.0, 9.0, 8.0, 7.0, 6.0, 5.0, 4.0, 3.0, 2.0, 1.0, 0.6001, 0.5889, 0.5747, 0.5696, 0.569, 0.5593, 0.5591, 0.5574, 0.5551, 0.5535, 0.5525, 0.5524, 0.5519, 0.5513, 0.5476, 0.545, 0.5429, 0.5417, 0.5402, 0.5398, 0.5388, 0.5383, 0.5379, 0.5377, 0.5367, 0.5358, 0.5355, 0.535, 0.5346, 0.5343, 0.5092, 0.5237, 0.5291, 0.5335, 0.5163, 0.4965, 0.5227, 0.4464, 0.4818, 0.4601, 0.4584, 0.5101, 0.5232, 0.4352, 0.5245, 0.4919, 0.4559, 0.4246, 0.45, 0.4159, 0.4166, 0.5, 0.3791, 0.394, 0.4277, 0.4168, 0.3487, 0.3668, 0.2819, 0.3597, 0.3616, 0.4028, 0.4323, 0.4502, 0.2719, 0.364, 0.3482, 0.2558, 0.1393, 0.1328, 0.1793, 0.0757, 0.0664, 0.0614, 0.0892, 0.1902, 0.0934, 0.202, 0.2557, 0.0195, 0.2438, 0.2469, 0.0263, 0.0171, 0.0541, 0.1492, 0.0461, -0.039, 0.0155, 0.1044, 0.0798, -0.037, 0.0232, -0.0003, 0.0171, 0.084, -0.0235, -0.064, -0.0933, -0.0863, -0.0907, -0.0303, 0.0057, -0.479, -0.0727, 1.3242, 1.3134, 1.3054, 1.3003, 1.2972, 1.295, 1.2842, 1.284, 1.2774, 1.2712, 1.2702, 1.2631, 1.2598, 1.2491, 1.2428, 1.2369, 1.2368, 1.2344, 1.2305, 1.228, 1.2239, 1.2215, 1.2169, 1.2084, 1.2033, 1.1921, 1.1884, 1.1828, 1.1821, 1.1797, 1.1651, 1.1617, 1.1783, 1.124, 1.0793, 1.1096, 1.0465, 0.977, 0.9835, 1.1271, 1.1358, 0.9691, 0.9224, 0.914, 0.9567, 0.8763, 0.9555, 0.917, 0.8229, 0.8255, 0.4076, 0.8762, 0.6542, 0.5214, 0.3481, 0.4089, 0.3006, 0.5019, 0.291, 0.0563, 0.4218, 0.1889, 0.358, 0.1953, 0.2984, 0.3136, 0.3278, 0.1874, 0.1557, 0.2533, 0.0728, 0.0699, 0.0548, 0.163, 0.1421, -0.1679, 0.2723, -0.2662, 0.3665, -0.1403, 0.1729, 0.0491, 0.0726, 0.2365, -0.2288, -0.3086, -0.3294, -0.1162, -0.2347, -0.0741, -0.1544, -0.2329, 1.4447, 1.4124, 1.4063, 1.4048, 1.4015, 1.3974, 1.3973, 1.3906, 1.3827, 1.3795, 1.3737, 1.3708, 1.3687, 1.366, 1.3641, 1.3634, 1.3631, 1.361, 1.3589, 1.3586, 1.3585, 1.3566, 1.35, 1.349, 1.3469, 1.345, 1.3388, 1.3384, 1.3244, 1.3199, 1.3155, 1.2969, 1.3021, 1.305, 1.3084, 1.2601, 1.2387, 1.2473, 1.2396, 1.1799, 1.2184, 1.2047, 1.245, 1.1473, 1.0595, 1.1715, 1.1678, 1.1706, 1.205, 0.791, 0.9356, 0.8364, 1.0229, 0.8287, 0.92, 0.7407, 1.0107, 0.8392, 1.0349, 1.0927, 0.5951, 0.8288, 0.9511, 0.2953, 0.6609, 0.094, 0.5014, 0.1549, 0.0042, 0.5349, 0.0761, 0.1795, 0.5282, 0.5965, -0.0485, 0.3114, 0.0283, 0.2786, -0.0055, 0.0855, -0.2731, 0.0405, -0.0133, -0.2285, -0.1216, 0.2014, 0.0343, -0.1497, -0.0345, -0.0105, 0.0312, -0.0917, -0.0246, -0.1936, -0.1116, 0.0364, -0.268, -0.2525]}, \"token.table\": {\"Topic\": [1, 2, 3, 1, 2, 3, 1, 2, 3, 1, 2, 3, 1, 2, 3, 1, 2, 3, 1, 2, 3, 1, 2, 3, 1, 2, 3, 1, 2, 3, 1, 2, 3, 1, 2, 3, 1, 2, 3, 1, 2, 3, 1, 2, 3, 1, 2, 3, 1, 2, 3, 1, 2, 3, 1, 2, 3, 1, 2, 3, 1, 2, 3, 1, 2, 3, 1, 2, 3, 1, 2, 3, 1, 2, 3, 1, 2, 3, 1, 2, 3, 1, 1, 2, 3, 1, 2, 3, 1, 2, 3, 1, 2, 3, 1, 2, 3, 1, 2, 3, 1, 2, 3, 1, 2, 3, 1, 2, 3, 1, 2, 3, 1, 2, 3, 1, 2, 3, 1, 2, 3, 1, 2, 3, 1, 2, 3, 1, 2, 3, 1, 2, 3, 1, 2, 3, 1, 2, 3, 1, 2, 3, 1, 2, 3, 1, 2, 3, 1, 2, 3, 1, 2, 3, 1, 2, 3, 1, 2, 3, 1, 2, 3, 1, 2, 3, 1, 2, 3, 1, 2, 3, 1, 2, 3, 1, 2, 3, 1, 2, 3, 1, 2, 3, 1, 1, 2, 3, 1, 2, 3, 1, 2, 3, 1, 2, 3, 1, 2, 3, 1, 2, 3, 1, 2, 3, 1, 2, 3, 1, 2, 3, 1, 2, 3, 1, 2, 3, 1, 2, 3, 1, 2, 3, 1, 2, 3, 1, 2, 3, 1, 2, 3, 1, 2, 3, 1, 2, 3, 1, 2, 3, 1, 2, 3, 1, 2, 3, 1, 2, 3, 1, 3, 1, 2, 3, 1, 2, 3, 1, 2, 3, 1, 2, 3, 1, 2, 3, 1, 2, 3, 1, 2, 3, 1, 2, 3, 1, 2, 3, 1, 2, 3, 1, 2, 3, 1, 2, 3, 1, 2, 3, 1, 2, 3, 1, 2, 3, 1, 2, 3, 1, 2, 3, 1, 2, 3, 1, 2, 3, 1, 2, 3, 1, 2, 3, 1, 2, 3, 1, 2, 3, 1, 2, 3, 1, 2, 3, 1, 2, 3, 1, 2, 3, 1, 2, 3, 1, 2, 3, 1, 2, 3, 1, 2, 3, 1, 2, 3, 1, 2, 3, 1, 2, 3, 1, 2, 3, 1, 2, 3, 1, 2, 3, 1, 2, 3, 1, 2, 3, 1, 2, 3, 1, 1, 2, 3, 1, 2, 3, 1, 2, 3, 1, 2, 3, 1, 2, 3, 1, 3, 1, 2, 3, 1, 2, 3, 1, 2, 3, 1, 2, 3, 1, 2, 3, 1, 2, 3, 1, 2, 3, 1, 2, 3, 1, 2, 3, 1, 2, 3, 1, 2, 3, 1, 2, 3, 1, 2, 3, 1, 2, 3, 1, 2, 3, 1, 2, 3, 1, 2, 3, 1, 2, 3, 1, 2, 3, 1, 2, 3, 1, 2, 3, 1, 2, 3, 1, 2, 3, 1, 3, 1, 2, 3, 1, 2, 3, 1, 2, 3, 1, 2, 3, 1, 2, 3, 1, 2, 3, 1, 2, 3, 1, 2, 3, 1, 2, 3, 1, 2, 3, 1, 2, 3, 1, 2, 3, 1, 2, 3, 1, 2, 3, 1, 2, 3, 1, 1, 2, 3, 1, 2, 3, 1, 2, 3, 1, 2, 3, 1, 2, 3, 1, 2, 3, 1, 2, 3, 1, 2, 3, 1, 2, 3, 1, 2, 3, 1, 2, 3, 1, 2, 3, 1, 2, 3, 1, 2, 3, 1, 2, 3, 1, 2, 3, 1, 2, 3, 1, 2, 3, 1, 2, 3, 1, 2, 3, 1, 2, 3, 1, 2, 3, 1, 2, 3, 1, 2, 3, 1, 2, 3, 1, 2, 3, 1, 2, 3, 1, 2, 3, 1, 2, 3, 1, 2, 3, 1, 2, 3, 1, 1, 2, 3, 1, 2, 3, 1, 2, 3, 1, 2, 3, 1, 2, 3, 1, 2, 3, 1, 2, 3, 1, 2, 3, 1, 2, 3, 1, 2, 3, 1, 2, 3, 1, 2, 3, 1, 2, 3, 1, 2, 1, 1, 2, 3, 1, 3, 1, 2, 3, 1, 2, 3, 1, 2, 3, 1, 2, 3, 1, 2, 3, 1, 2, 3, 1, 2, 3, 1, 2, 3, 1, 2, 3, 1, 3, 1, 2, 3, 1, 2, 3, 1, 2, 3, 1, 2, 3, 1, 2, 3, 1, 2, 3, 1, 2, 3, 1, 2, 3, 1, 2, 3, 1, 2, 3], \"Freq\": [0.061945701191230565, 0.29292967173480217, 0.6446552632443316, 0.9187688813592055, 0.08352444375992778, 0.08352444375992778, 0.9122967554728381, 0.03258202698117279, 0.06516405396234558, 0.8635074769983341, 0.06858182127784603, 0.06858182127784603, 0.3495502231026125, 0.20161274214503938, 0.4489684408685598, 0.5736937137018465, 0.2861315280308461, 0.14016470824511032, 0.5308969623591304, 0.3293762653232883, 0.13976264728772564, 0.288806400632114, 0.3180513374865922, 0.39313695390881664, 0.7558113005898444, 0.11643908286852052, 0.12756162212760308, 0.8907073217024478, 0.06851594782326521, 0.06851594782326521, 0.9273430076760641, 0.036366392457884866, 0.0545495886868273, 0.5415443521873399, 0.2588649831596767, 0.1995712618514352, 0.03735153260482604, 0.056027298907239065, 0.915112548818238, 0.05577420552968192, 0.05577420552968192, 0.8923872884749107, 0.8242899816485962, 0.0872461231895597, 0.08843260718579124, 0.8922812631469409, 0.049571181285941165, 0.06196397660742645, 0.8926121177774107, 0.035704484711096426, 0.035704484711096426, 0.5356989728470402, 0.25279685175432864, 0.21148244712001496, 0.9150472838723185, 0.029517654318461886, 0.05903530863692377, 0.11575078651718285, 0.6051130225848766, 0.2796355634672536, 0.8541378426261396, 0.04152714372988966, 0.10476165804585799, 0.04326622412463094, 0.04326622412463094, 0.8653244824926188, 0.2026690895706973, 0.052375157978944244, 0.7446381156136855, 0.8841364235302327, 0.06753819901967055, 0.04911869019612403, 0.3046910777150611, 0.6261030072559487, 0.06874127972839793, 0.12741330258589498, 0.8281864668083174, 0.06370665129294749, 0.06678248172179424, 0.06678248172179424, 0.8681722623833251, 0.8592023102282477, 0.0922288067217299, 0.8300592604955691, 0.0922288067217299, 0.9232705866329702, 0.07693921555274752, 0.07693921555274752, 0.885936948415074, 0.04152829445695659, 0.06921382409492766, 0.3891619505135481, 0.5480647500298659, 0.06236185339508321, 0.06784615021313792, 0.881999952770793, 0.06784615021313792, 0.22036015900387718, 0.7397805337987304, 0.031480022714839594, 0.26479771880108544, 0.2040965806041589, 0.5310616486697295, 0.11660688915976826, 0.10079578554488443, 0.7846260168886102, 0.031392379828716926, 0.06278475965743385, 0.9103790150327908, 0.33258983379250295, 0.284652690562597, 0.38273733521168407, 0.3485854889873462, 0.2310699264120666, 0.4203271994733783, 0.23526311755106416, 0.22975101055241445, 0.5349939213037272, 0.016734283235372172, 0.033468566470744344, 0.9371198611808417, 0.21493101936777356, 0.7307654658504301, 0.055267976408856063, 0.3809742933061944, 0.34720887772517783, 0.27174276904050765, 0.4947974597155761, 0.28124922065146507, 0.2239677425160314, 0.11291295559368075, 0.8656659928848858, 0.03763765186456025, 0.4664776576460602, 0.33409965235789835, 0.19944329658154658, 0.2655390536743099, 0.6395440597816854, 0.09496396665301592, 0.5167397980709708, 0.24287360513806527, 0.24040946881843073, 0.10245578206452469, 0.046570810029329404, 0.8569029045396611, 0.12409505511306271, 0.7859353490493971, 0.0827300367420418, 0.5365927801478951, 0.22351125788265425, 0.23990977951780065, 0.6023752714173207, 0.17678778454137956, 0.220837366588471, 0.4817504688659324, 0.3409268339545835, 0.17730918544254354, 0.0512053925109739, 0.887560136856881, 0.06827385668129854, 0.0457242538740892, 0.0457242538740892, 0.914485077481784, 0.09254633192316084, 0.7684650775762462, 0.13881949788474124, 0.1452678577228069, 0.8231845270959057, 0.048422619240935626, 0.40994524989110503, 0.40541643047441983, 0.18454939122992386, 0.476517912322307, 0.3442914677453648, 0.17912416804120035, 0.4376771284658394, 0.25605173869775893, 0.30629676414250295, 0.3267128690180454, 0.36183199282551576, 0.31143898447732943, 0.9220842483466097, 0.05763026552166311, 0.05763026552166311, 0.950473917962116, 0.09432738391826684, 0.7719124250644835, 0.13363046055087802, 0.8984635546235229, 0.04728755550650121, 0.04728755550650121, 0.18635857845905113, 0.06605114173232192, 0.7477932831837873, 0.11210353167957372, 0.8594604095433985, 0.03736784389319124, 0.5083166063386314, 0.2143041481625532, 0.2773857859486173, 0.5273040250349103, 0.29261867869327074, 0.18007303304201275, 0.8001724397268271, 0.07526582591229745, 0.12446192441363153, 0.38141012176561695, 0.4631250870541394, 0.15570013656326576, 0.26250034859335925, 0.599845837901354, 0.13667373521803003, 0.8667758334540081, 0.04798758939537762, 0.08547789361051637, 0.09990307360349238, 0.14580448579969157, 0.7542232043218613, 0.04230514765694813, 0.0564068635425975, 0.90250981668156, 0.42115888473787577, 0.1578791466830647, 0.42086323090513594, 0.30675870218890144, 0.6266107636175731, 0.06733727609024666, 0.39410048209203513, 0.3975545717004188, 0.20835959895733833, 0.1216265634110329, 0.7297593804661974, 0.1216265634110329, 0.035825273170681446, 0.035825273170681446, 0.9314571024377176, 0.6812077879672076, 0.19061996669798217, 0.12826211712701435, 0.11097994088193752, 0.8212515625263377, 0.06658796452916252, 0.09350526377034402, 0.8415473739330961, 0.09350526377034402, 0.03097510911674772, 0.11701707888549139, 0.8535363401059372, 0.11614330753641955, 0.85171758860041, 0.07742887169094637, 0.09281309292764822, 0.9281309292764823, 0.4905205395531512, 0.2832924102405597, 0.22619193708222632, 0.3022481437289741, 0.1864710977697384, 0.5112795702331243, 0.33067942795965455, 0.2735294962589307, 0.3957311187058161, 0.5398777349745326, 0.29032982778190425, 0.16979789605463244, 0.08756056245270934, 0.10348066471683831, 0.803965164338513, 0.692311975978411, 0.18137730816042916, 0.1263011177190247, 0.0514173925376982, 0.17653304771276382, 0.7729748011500629, 0.9348540398474026, 0.07191184921903096, 0.07191184921903096, 0.9518224768831771, 0.01746463260336105, 0.0349292652067221, 0.9235441823866956, 0.029791747818925664, 0.05958349563785133, 0.9084253913895831, 0.059245134221059766, 0.03949675614737318, 0.48389339693106687, 0.32509277308589496, 0.1910092544109136, 0.10630392554299957, 0.8504314043439966, 0.03543464184766652, 0.8690126618842255, 0.09022535833770648, 0.03798962456324483, 0.0481477969252915, 0.10399924135862965, 0.8474012258851304, 0.11247868917584142, 0.28744553900492803, 0.5998863422711542, 0.568945858828771, 0.25464587902539926, 0.17640466392925308, 0.7994641438853076, 0.11918439318328884, 0.08145556741909839, 0.23541596021660424, 0.5779355780092311, 0.18557564431489074, 0.2994268002929708, 0.10965494983702039, 0.5907609843618072, 0.338441561981573, 0.1250762294279726, 0.5365846353755823, 0.7706864790344783, 0.09719663206915996, 0.1321525508671269, 0.8064972212544746, 0.08932907553435294, 0.10415224090686566, 0.8092851775315256, 0.0905954013621908, 0.10021167301516076, 0.06174427152127285, 0.8644198012978198, 0.08232569536169712, 0.8273568093305949, 0.06025835721136124, 0.11238661860849121, 0.8775017595125981, 0.05283881562656505, 0.06887917037034372, 0.8281418498342525, 0.06706233435569277, 0.10605206363225833, 0.8770207790927068, 0.08770207790927068, 0.033731568426642565, 0.9266843671945445, 0.05791777294965903, 0.05791777294965903, 0.9383440036986939, 0.03753376014794775, 0.03753376014794775, 0.10357696171987965, 0.8631413476656637, 0.03452565390662655, 0.09849535169432022, 0.15298214199330587, 0.7481455437206876, 0.8976248730651798, 0.05332424988506018, 0.04443687490421682, 0.9036997135134989, 0.05020553963963883, 0.05020553963963883, 0.14035299854134536, 0.5781586587640647, 0.28150345730167564, 0.1948016440340702, 0.685701786999927, 0.11999781272498723, 0.010842288728770641, 0.043369154915082565, 0.9432791194030458, 0.8322994068831293, 0.09724101110569225, 0.0705781532218734, 0.8151589987358155, 0.09639184153169597, 0.08858108457516811, 0.9586941307749285, 0.12587081596127442, 0.10139593507991551, 0.7727069535400458, 0.9281749557064083, 0.07139807351587756, 0.07139807351587756, 0.08606773997710737, 0.0484131037371229, 0.866056633519643, 0.08422707006254908, 0.6337084318991788, 0.2807569002084969, 0.5067685017213027, 0.3049370966546722, 0.1883390587064766, 0.06123786244327698, 0.9185679366491548, 0.1883174902088153, 0.800349333387465, 0.047079372552203826, 0.21292683335046408, 0.7077136475389525, 0.07965608154118081, 0.16940525184588937, 0.7905578419474837, 0.05646841728196312, 0.2713895961324441, 0.5493029806334566, 0.17940418013563014, 0.10560597781594934, 0.7417562727548823, 0.15338011063745025, 0.03503499013801613, 0.03503499013801613, 0.9459447337264355, 0.9051887691901732, 0.04525943845950866, 0.04525943845950866, 0.03682312778064276, 0.29412473314788407, 0.6688000583159242, 0.6731316319794551, 0.18608602227552792, 0.14086885798427815, 0.8125726762478003, 0.11066164851623739, 0.07588227326827707, 0.0570247315049786, 0.13685935561194865, 0.807470198110497, 0.0575153439216071, 0.817796296385351, 0.1240174603309653, 0.05169206663856749, 0.8787651328556473, 0.05169206663856749, 0.09854108381682214, 0.7883286705345771, 0.09854108381682214, 0.889729700623285, 0.057033955168159296, 0.057033955168159296, 0.8355374790688445, 0.11140499720917926, 0.05321577991688474, 0.5072916959343753, 0.25424846035021664, 0.23845461938605292, 0.7573820885396352, 0.14559464266977398, 0.09713213003147085, 0.5609005781172943, 0.18443590313581176, 0.2546548734863136, 0.05709926681014652, 0.05709926681014652, 0.9135882689623444, 0.5179422889970046, 0.19850792748144297, 0.2835500601216369, 0.48051035807078046, 0.29073718365529033, 0.22874509094324652, 0.064259928350518, 0.899638996907252, 0.032129964175259, 0.8486708875840996, 0.10608386094801245, 0.09805123544535888, 0.784409883562871, 0.09805123544535888, 0.7590984724316084, 0.11823692241854751, 0.12259454855190921, 0.014878402336167816, 0.059513609344671266, 0.9224609448424046, 0.6455552925583832, 0.16721193240938767, 0.187213605751101, 0.9640210787296527, 0.024100526968241318, 0.024100526968241318, 0.7821714161349905, 0.11920078088358589, 0.0985367610835421, 0.03309084013187105, 0.0661816802637421, 0.8934526835605184, 0.10370185928185033, 0.8296148742548026, 0.10370185928185033, 0.5305029356825787, 0.2303414525758016, 0.2391659286567999, 0.5855847573768945, 0.20516900796528678, 0.20928439132606144, 0.6310843912899514, 0.2026480828084814, 0.16627681865263466, 0.2842238827079704, 0.13420113746151682, 0.5817266148068698, 0.07456897840743008, 0.03441645157266004, 0.8919597032581059, 0.021121967530860392, 0.021121967530860392, 0.9504885388887176, 0.7475903352811616, 0.12200957565790084, 0.13037962570303388, 0.8600521094650124, 0.3228809077975179, 0.6432970758408563, 0.0332739866814236, 0.12846984330071334, 0.8136423409045178, 0.04282328110023778, 0.1978491774344515, 0.7518268742509157, 0.0395698354868903, 0.1757623205340291, 0.1710119875466229, 0.6526957524696108, 0.06902992789149602, 0.06902992789149602, 0.8628740986437002, 0.6063615250894645, 0.20918894639127533, 0.18445155394640542, 0.536612913722787, 0.25813164168540775, 0.20527065820980514, 0.6992850388769872, 0.16409143647070612, 0.13660978064653675, 0.4834600604361323, 0.3220273372287613, 0.19450580108491947, 0.10496890241670713, 0.839751219333657, 0.10496890241670713, 0.7611632767403808, 0.11319369387943136, 0.12557425414749418, 0.027713512896007434, 0.05542702579201487, 0.9145459255682453, 0.4858373705785113, 0.32441459967285013, 0.18976090682901142, 0.7889051716332103, 0.13302502568554783, 0.07806874094286977, 0.0852805515466608, 0.7675249639199472, 0.0852805515466608, 0.028285963905113294, 0.028285963905113294, 0.9334368088687387, 0.47628131320480854, 0.3622835138244783, 0.16138804658590122, 0.6752491230962473, 0.1995615550335654, 0.12517053971659772, 0.5152168062116265, 0.2774526620783518, 0.207334398511089, 0.07621032546746119, 0.8573661615089384, 0.05715774410059589, 0.19143588979557088, 0.17155600893218467, 0.6368924795121877, 0.10571828781585609, 0.8105068732548966, 0.10571828781585609, 0.9248163811529825, 0.0369926552461193, 0.0369926552461193, 0.17112637856566573, 0.03006274218045479, 0.8001314457259506, 0.08545753724280097, 0.9115470639232104, 0.028485845747600325, 0.08081321153074729, 0.08081321153074729, 0.8889453268382201, 0.03412215921198352, 0.05118323881797528, 0.9156112721882244, 0.5378637664905083, 0.19147297051584014, 0.2706535222329169, 0.9162333853852962, 0.04581166926926481, 0.04581166926926481, 0.07236542508641405, 0.6025813281234094, 0.32564441288886325, 0.9206016332413394, 0.0354077551246669, 0.0354077551246669, 0.8780760029573925, 0.0021784031759746526, 0.014159620643835242, 0.9824598323645684, 0.5254872119686959, 0.31601187844224143, 0.15846237099117325, 0.31169208255155245, 0.15740099051283737, 0.5308897653243693, 0.20492227786901526, 0.06524431268475374, 0.7305525152729467, 0.9491908848571748, 0.039549620202382285, 0.039549620202382285, 0.681293346193244, 0.1916459066988229, 0.12704190367771645, 0.7473097270790953, 0.1296279017952653, 0.12304904211768604, 0.6379589132263337, 0.22753002959809626, 0.13448663202702724, 0.5791146100245597, 0.19034593067215197, 0.23054415251583146, 0.5117645517650373, 0.25882717490291823, 0.2294076336891265, 0.19350824643311096, 0.32022726601897283, 0.48620752030558245, 0.7999547782902038, 0.06398576221969436, 0.13593655708084446, 0.020511523288014283, 0.08204609315205713, 0.8956698502432904, 0.917281829974991, 0.07644015249791591, 0.8678409351006869, 0.571285941620668, 0.25134602029059644, 0.17734682849218367, 0.0722631355501477, 0.8671576266017723, 0.036390155660758074, 0.036390155660758074, 0.9461440471797099, 0.031049386413501023, 0.8693828195780287, 0.06209877282700205, 0.023388873513398065, 0.8653883199957284, 0.11694436756699032, 0.11137853015913203, 0.03712617671971068, 0.8539020645533456, 0.10916164150011291, 0.0894767553279614, 0.799922192631975, 0.0684718654487902, 0.022823955149596738, 0.9129582059838695, 0.024485780841057365, 0.06121445210264341, 0.9059738911191224, 0.4460691326060087, 0.3670345384167693, 0.18691328692745351, 0.5637080754309228, 0.20350491450314223, 0.2327888499561632, 0.03809567469276623, 0.9523918673191557, 0.5568029874079439, 0.19070001827422436, 0.2525042772250093, 0.057745804463051435, 0.12415347959556058, 0.8171031331521779, 0.6123544796905774, 0.2199794408303351, 0.16764232479635205, 0.09286834423745789, 0.21528570709592512, 0.6908841972816943, 0.5767008502121818, 0.17314636904311376, 0.2501446391475399, 0.5523463562850902, 0.20625382222155308, 0.2413790550895179, 0.43979528030525444, 0.24370758597675954, 0.3165148583315444, 0.4515696452404442, 0.3100988752630183, 0.23835298477446662, 0.8344348777407714, 0.09988717904067958, 0.06596323144195822, 0.8973812774129737, 0.06188836395951543, 0.046416272969636574], \"Term\": [\"2015\", \"2015\", \"2015\", \"465\", \"465\", \"465\", \"497\", \"497\", \"497\", \"abu\", \"abu\", \"abu\", \"address\", \"address\", \"address\", \"africa\", \"africa\", \"africa\", \"african\", \"african\", \"african\", \"agenda\", \"agenda\", \"agenda\", \"aggression\", \"aggression\", \"aggression\", \"alnakba\", \"alnakba\", \"alnakba\", \"alsaud\", \"alsaud\", \"alsaud\", \"also\", \"also\", \"also\", \"aosis\", \"aosis\", \"aosis\", \"apia\", \"apia\", \"apia\", \"arab\", \"arab\", \"arab\", \"arabian\", \"arabian\", \"arabian\", \"arabislamic\", \"arabislamic\", \"arabislamic\", \"assembly\", \"assembly\", \"assembly\", \"ayatollah\", \"ayatollah\", \"ayatollah\", \"azerbaijan\", \"azerbaijan\", \"azerbaijan\", \"bahrain\", \"bahrain\", \"bahrain\", \"bangabandhu\", \"bangabandhu\", \"bangabandhu\", \"barbuda\", \"barbuda\", \"barbuda\", \"beirut\", \"beirut\", \"beirut\", \"benin\", \"benin\", \"benin\", \"blaise\", \"blaise\", \"blaise\", \"bleaching\", \"bleaching\", \"bleaching\", \"bluster\", \"boziz\\u00e9\", \"boziz\\u00e9\", \"boziz\\u00e9\", \"bulldozers\", \"bulldozers\", \"bulldozers\", \"bullying\", \"bullying\", \"bullying\", \"burundi\", \"burundi\", \"burundi\", \"burundians\", \"burundians\", \"burundians\", \"burundis\", \"burundis\", \"burundis\", \"caribbean\", \"caribbean\", \"caribbean\", \"caricom\", \"caricom\", \"caricom\", \"celsius\", \"celsius\", \"celsius\", \"challenges\", \"challenges\", \"challenges\", \"change\", \"change\", \"change\", \"climate\", \"climate\", \"climate\", \"climatechange\", \"climatechange\", \"climatechange\", \"coca\", \"coca\", \"coca\", \"commitment\", \"commitment\", \"commitment\", \"community\", \"community\", \"community\", \"compaor\\u00e9\", \"compaor\\u00e9\", \"compaor\\u00e9\", \"conflict\", \"conflict\", \"conflict\", \"congo\", \"congo\", \"congo\", \"cooperation\", \"cooperation\", \"cooperation\", \"coral\", \"coral\", \"coral\", \"cote\", \"cote\", \"cote\", \"council\", \"council\", \"council\", \"countries\", \"countries\", \"countries\", \"country\", \"country\", \"country\", \"cplp\", \"cplp\", \"cplp\", \"crossstrait\", \"crossstrait\", \"crossstrait\", \"c\\u00f4te\", \"c\\u00f4te\", \"c\\u00f4te\", \"deby\", \"deby\", \"deby\", \"democracy\", \"democracy\", \"democracy\", \"democratic\", \"democratic\", \"democratic\", \"developing\", \"developing\", \"developing\", \"development\", \"development\", \"development\", \"dismantles\", \"dismantles\", \"dismantles\", \"divinely\", \"divoire\", \"divoire\", \"divoire\", \"domineering\", \"domineering\", \"domineering\", \"dominica\", \"dominica\", \"dominica\", \"eccas\", \"eccas\", \"eccas\", \"economic\", \"economic\", \"economic\", \"efforts\", \"efforts\", \"efforts\", \"egypt\", \"egypt\", \"egypt\", \"elections\", \"elections\", \"elections\", \"electoral\", \"electoral\", \"electoral\", \"emirates\", \"emirates\", \"emirates\", \"emissions\", \"emissions\", \"emissions\", \"emitters\", \"emitters\", \"emitters\", \"energy\", \"energy\", \"energy\", \"equatorial\", \"equatorial\", \"equatorial\", \"european\", \"european\", \"european\", \"fdlr\", \"fdlr\", \"fdlr\", \"filipino\", \"filipino\", \"filipino\", \"forces\", \"forces\", \"forces\", \"fran\\u00e7ois\", \"fran\\u00e7ois\", \"fran\\u00e7ois\", \"f\\u00e9lix\", \"f\\u00e9lix\", \"f\\u00e9lix\", \"g20\", \"g20\", \"g20\", \"gabons\", \"gabons\", \"gabons\", \"gaming\", \"gaming\", \"general\", \"general\", \"general\", \"global\", \"global\", \"global\", \"goals\", \"goals\", \"goals\", \"government\", \"government\", \"government\", \"graduation\", \"graduation\", \"graduation\", \"great\", \"great\", \"great\", \"greenhouse\", \"greenhouse\", \"greenhouse\", \"gunpowder\", \"gunpowder\", \"gunpowder\", \"hamad\", \"hamad\", \"hamad\", \"heavenly\", \"heavenly\", \"heavenly\", \"highhandedness\", \"highhandedness\", \"highhandedness\", \"human\", \"human\", \"human\", \"idriss\", \"idriss\", \"idriss\", \"il\", \"il\", \"il\", \"impacts\", \"impacts\", \"impacts\", \"inclusive\", \"inclusive\", \"inclusive\", \"international\", \"international\", \"international\", \"iran\", \"iran\", \"iran\", \"ireland\", \"ireland\", \"ireland\", \"island\", \"island\", \"island\", \"islands\", \"islands\", \"islands\", \"israel\", \"israel\", \"israel\", \"israeli\", \"israeli\", \"israeli\", \"israels\", \"israels\", \"israels\", \"ivorian\", \"ivorian\", \"ivorian\", \"jerusalem\", \"jerusalem\", \"jerusalem\", \"jewish\", \"jewish\", \"jewish\", \"jews\", \"jews\", \"jews\", \"jong\", \"jong\", \"jong\", \"judaizing\", \"judaizing\", \"judaizing\", \"judea\", \"judea\", \"judea\", \"kabila\", \"kabila\", \"kabila\", \"kazakhstan\", \"kazakhstan\", \"kazakhstan\", \"khalifa\", \"khalifa\", \"khalifa\", \"kippur\", \"kippur\", \"kippur\", \"kosovo\", \"kosovo\", \"kosovo\", \"lakes\", \"lakes\", \"lakes\", \"ldc\", \"ldc\", \"ldc\", \"lebanese\", \"lebanese\", \"lebanese\", \"lebanon\", \"lebanon\", \"lebanon\", \"lied\", \"livelihoods\", \"livelihoods\", \"livelihoods\", \"loftiness\", \"loftiness\", \"loftiness\", \"lowlying\", \"lowlying\", \"lowlying\", \"macedonia\", \"macedonia\", \"macedonia\", \"made\", \"made\", \"made\", \"majuro\", \"majuro\", \"malabo\", \"malabo\", \"malabo\", \"malawi\", \"malawi\", \"malawi\", \"malawians\", \"malawians\", \"malawians\", \"mali\", \"mali\", \"mali\", \"marino\", \"marino\", \"marino\", \"marshallese\", \"marshallese\", \"marshallese\", \"materialistic\", \"materialistic\", \"materialistic\", \"mdgs\", \"mdgs\", \"mdgs\", \"military\", \"military\", \"military\", \"missiles\", \"missiles\", \"missiles\", \"mitigation\", \"mitigation\", \"mitigation\", \"moldova\", \"moldova\", \"moldova\", \"moldovan\", \"moldovan\", \"moldovan\", \"moldovas\", \"moldovas\", \"moldovas\", \"monotheistic\", \"monotheistic\", \"monotheistic\", \"morocco\", \"morocco\", \"morocco\", \"must\", \"must\", \"must\", \"namibia\", \"namibia\", \"namibia\", \"nations\", \"nations\", \"nations\", \"naurus\", \"naurus\", \"naurus\", \"need\", \"need\", \"need\", \"new\", \"new\", \"new\", \"nguesso\", \"nguesso\", \"nguesso\", \"nitrate\", \"nitrate\", \"nkurunziza\", \"nkurunziza\", \"nkurunziza\", \"nonaligned\", \"nonaligned\", \"nonaligned\", \"noncommunicable\", \"noncommunicable\", \"noncommunicable\", \"nuclear\", \"nuclear\", \"nuclear\", \"obeisance\", \"obeisance\", \"obeisance\", \"occupation\", \"occupation\", \"occupation\", \"oecs\", \"oecs\", \"oecs\", \"ondimba\", \"ondimba\", \"ondimba\", \"one\", \"one\", \"one\", \"order\", \"order\", \"order\", \"organization\", \"organization\", \"organization\", \"pacific\", \"pacific\", \"pacific\", \"palau\", \"palau\", \"palau\", \"palaus\", \"palaus\", \"palaus\", \"palestinian\", \"palestinian\", \"palestinian\", \"paragon\", \"paraguay\", \"paraguay\", \"paraguay\", \"paraguayans\", \"paraguayans\", \"paraguayans\", \"paraguays\", \"paraguays\", \"paraguays\", \"partnerships\", \"partnerships\", \"partnerships\", \"pathway\", \"pathway\", \"pathway\", \"peace\", \"peace\", \"peace\", \"people\", \"people\", \"people\", \"peoples\", \"peoples\", \"peoples\", \"political\", \"political\", \"political\", \"postelectoral\", \"postelectoral\", \"postelectoral\", \"powers\", \"powers\", \"powers\", \"preindustrial\", \"preindustrial\", \"preindustrial\", \"process\", \"process\", \"process\", \"racist\", \"racist\", \"racist\", \"ramoshorta\", \"ramoshorta\", \"ramoshorta\", \"ramsi\", \"ramsi\", \"ramsi\", \"republic\", \"republic\", \"republic\", \"resolutions\", \"resolutions\", \"resolutions\", \"rights\", \"rights\", \"rights\", \"sahelosaharan\", \"sahelosaharan\", \"sahelosaharan\", \"saint\", \"saint\", \"saint\", \"salvadorans\", \"salvadorans\", \"salvadorans\", \"samaria\", \"samaria\", \"samaria\", \"samoa\", \"samoa\", \"samoa\", \"sassou\", \"sassou\", \"sassou\", \"seafarers\", \"seafarers\", \"seafarers\", \"sealevel\", \"sealevel\", \"sealevel\", \"security\", \"security\", \"security\", \"sedition\", \"sedition\", \"sedition\", \"serbia\", \"serbia\", \"serbia\", \"shabaa\", \"shabaa\", \"shabaa\", \"sidewalks\", \"sids\", \"sids\", \"sids\", \"situation\", \"situation\", \"situation\", \"small\", \"small\", \"small\", \"solomon\", \"solomon\", \"solomon\", \"songun\", \"songun\", \"songun\", \"south\", \"south\", \"south\", \"soviet\", \"soviet\", \"soviet\", \"state\", \"state\", \"state\", \"states\", \"states\", \"states\", \"support\", \"support\", \"support\", \"sustainable\", \"sustainable\", \"sustainable\", \"syrian\", \"syrian\", \"syrian\", \"taiwans\", \"taiwans\", \"taiwans\", \"taiz\", \"taiz\", \"teeters\", \"time\", \"time\", \"time\", \"tongan\", \"tongan\", \"tongas\", \"tongas\", \"tongas\", \"transdniestrian\", \"transdniestrian\", \"transdniestrian\", \"transnistrian\", \"transnistrian\", \"transnistrian\", \"trawling\", \"trawling\", \"trawling\", \"tuvalu\", \"tuvalu\", \"tuvalu\", \"tuvalus\", \"tuvalus\", \"tuvalus\", \"unfccc\", \"unfccc\", \"unfccc\", \"union\", \"union\", \"union\", \"united\", \"united\", \"united\", \"unreported\", \"unreported\", \"us\", \"us\", \"us\", \"vulnerabilities\", \"vulnerabilities\", \"vulnerabilities\", \"war\", \"war\", \"war\", \"warming\", \"warming\", \"warming\", \"world\", \"world\", \"world\", \"would\", \"would\", \"would\", \"year\", \"year\", \"year\", \"years\", \"years\", \"years\", \"yemen\", \"yemen\", \"yemen\", \"yitzhak\", \"yitzhak\", \"yitzhak\"]}, \"R\": 30, \"lambda.step\": 0.01, \"plot.opts\": {\"xlab\": \"PC1\", \"ylab\": \"PC2\"}, \"topic.order\": [3, 1, 2]};\n",
       "\n",
       "function LDAvis_load_lib(url, callback){\n",
       "  var s = document.createElement('script');\n",
       "  s.src = url;\n",
       "  s.async = true;\n",
       "  s.onreadystatechange = s.onload = callback;\n",
       "  s.onerror = function(){console.warn(\"failed to load library \" + url);};\n",
       "  document.getElementsByTagName(\"head\")[0].appendChild(s);\n",
       "}\n",
       "\n",
       "if(typeof(LDAvis) !== \"undefined\"){\n",
       "   // already loaded: just create the visualization\n",
       "   !function(LDAvis){\n",
       "       new LDAvis(\"#\" + \"ldavis_el2021220145774798801744251514\", ldavis_el2021220145774798801744251514_data);\n",
       "   }(LDAvis);\n",
       "}else if(typeof define === \"function\" && define.amd){\n",
       "   // require.js is available: use it to load d3/LDAvis\n",
       "   require.config({paths: {d3: \"https://d3js.org/d3.v5\"}});\n",
       "   require([\"d3\"], function(d3){\n",
       "      window.d3 = d3;\n",
       "      LDAvis_load_lib(\"https://cdn.jsdelivr.net/gh/bmabey/pyLDAvis@3.3.1/pyLDAvis/js/ldavis.v3.0.0.js\", function(){\n",
       "        new LDAvis(\"#\" + \"ldavis_el2021220145774798801744251514\", ldavis_el2021220145774798801744251514_data);\n",
       "      });\n",
       "    });\n",
       "}else{\n",
       "    // require.js not available: dynamically load d3 & LDAvis\n",
       "    LDAvis_load_lib(\"https://d3js.org/d3.v5.js\", function(){\n",
       "         LDAvis_load_lib(\"https://cdn.jsdelivr.net/gh/bmabey/pyLDAvis@3.3.1/pyLDAvis/js/ldavis.v3.0.0.js\", function(){\n",
       "                 new LDAvis(\"#\" + \"ldavis_el2021220145774798801744251514\", ldavis_el2021220145774798801744251514_data);\n",
       "            })\n",
       "         });\n",
       "}\n",
       "</script>"
      ],
      "text/plain": [
       "<IPython.core.display.HTML object>"
      ]
     },
     "execution_count": 175,
     "metadata": {},
     "output_type": "execute_result"
    }
   ],
   "source": [
    "pyLDAvis.enable_notebook()\n",
    "vis = gensim_pyvis.prepare(ldamodel,\n",
    "                       gensim_corpus,\n",
    "                       dictionary)\n",
    "pyLDAvis.display(vis)"
   ]
  },
  {
   "cell_type": "markdown",
   "metadata": {},
   "source": [
    "## <center> <font color='royalblue'> Topic Modeling - USA "
   ]
  },
  {
   "cell_type": "code",
   "execution_count": 176,
   "metadata": {},
   "outputs": [],
   "source": [
    "# filter dataset to only include USA\n",
    "usa_un_speeches = un_speeches[un_speeches.country == 'USA']"
   ]
  },
  {
   "cell_type": "code",
   "execution_count": 177,
   "metadata": {
    "scrolled": true
   },
   "outputs": [
    {
     "name": "stdout",
     "output_type": "stream",
     "text": [
      "Dimensionality: This dataset has  46  observations and  9  features.\n"
     ]
    }
   ],
   "source": [
    "print('Dimensionality: This dataset has ',usa_un_speeches.shape[0], ' observations and ',usa_un_speeches.shape[1], ' features.')"
   ]
  },
  {
   "cell_type": "code",
   "execution_count": 178,
   "metadata": {},
   "outputs": [],
   "source": [
    "warnings.filterwarnings(\"ignore\")\n",
    "\n",
    "# remove punctuation\n",
    "usa_un_speeches[\"text\"] = usa_un_speeches['text'].str.replace(\"[^\\w\\s]\", '')"
   ]
  },
  {
   "cell_type": "code",
   "execution_count": 179,
   "metadata": {},
   "outputs": [],
   "source": [
    "# enforce uniform lower casing\n",
    "usa_un_speeches[\"text\"] = usa_un_speeches['text'].str.lower()"
   ]
  },
  {
   "cell_type": "code",
   "execution_count": 180,
   "metadata": {},
   "outputs": [],
   "source": [
    "# tokenize text column\n",
    "usa_un_speeches[\"tokenized\"] = usa_un_speeches[\"text\"].apply(word_tokenize)"
   ]
  },
  {
   "cell_type": "code",
   "execution_count": 181,
   "metadata": {},
   "outputs": [],
   "source": [
    "# remove stopwords\n",
    "sw = stopwords.words(\"english\")\n",
    "usa_un_speeches[\"tokenized\"] = usa_un_speeches['tokenized'].apply(lambda x: [each for each in x if each not in sw])"
   ]
  },
  {
   "cell_type": "code",
   "execution_count": 182,
   "metadata": {},
   "outputs": [
    {
     "data": {
      "text/html": [
       "<div>\n",
       "<style scoped>\n",
       "    .dataframe tbody tr th:only-of-type {\n",
       "        vertical-align: middle;\n",
       "    }\n",
       "\n",
       "    .dataframe tbody tr th {\n",
       "        vertical-align: top;\n",
       "    }\n",
       "\n",
       "    .dataframe thead th {\n",
       "        text-align: right;\n",
       "    }\n",
       "</style>\n",
       "<table border=\"1\" class=\"dataframe\">\n",
       "  <thead>\n",
       "    <tr style=\"text-align: right;\">\n",
       "      <th></th>\n",
       "      <th>id</th>\n",
       "      <th>session</th>\n",
       "      <th>year</th>\n",
       "      <th>country</th>\n",
       "      <th>country_name</th>\n",
       "      <th>speaker</th>\n",
       "      <th>position</th>\n",
       "      <th>text</th>\n",
       "      <th>tokenized</th>\n",
       "    </tr>\n",
       "  </thead>\n",
       "  <tbody>\n",
       "    <tr>\n",
       "      <th>65</th>\n",
       "      <td>65</td>\n",
       "      <td>25</td>\n",
       "      <td>1970</td>\n",
       "      <td>USA</td>\n",
       "      <td>United States</td>\n",
       "      <td>Mr. YOST</td>\n",
       "      <td>NaN</td>\n",
       "      <td>1\\t it is my privilege to extend to you once a...</td>\n",
       "      <td>[1, privilege, extend, warm, congratulations, ...</td>\n",
       "    </tr>\n",
       "    <tr>\n",
       "      <th>179</th>\n",
       "      <td>179</td>\n",
       "      <td>26</td>\n",
       "      <td>1971</td>\n",
       "      <td>USA</td>\n",
       "      <td>United States</td>\n",
       "      <td>Mr. ROGERS</td>\n",
       "      <td>NaN</td>\n",
       "      <td>mr president i should like first of all to as...</td>\n",
       "      <td>[mr, president, like, first, associate, previo...</td>\n",
       "    </tr>\n",
       "    <tr>\n",
       "      <th>304</th>\n",
       "      <td>304</td>\n",
       "      <td>27</td>\n",
       "      <td>1972</td>\n",
       "      <td>USA</td>\n",
       "      <td>United States</td>\n",
       "      <td>Mr. Rogers</td>\n",
       "      <td>NaN</td>\n",
       "      <td>during the past few years the world has made r...</td>\n",
       "      <td>[past, years, world, made, remarkable, advance...</td>\n",
       "    </tr>\n",
       "    <tr>\n",
       "      <th>424</th>\n",
       "      <td>424</td>\n",
       "      <td>28</td>\n",
       "      <td>1973</td>\n",
       "      <td>USA</td>\n",
       "      <td>United States</td>\n",
       "      <td>Kissinger</td>\n",
       "      <td>NaN</td>\n",
       "      <td>35\\ti should like to add my congratulations to...</td>\n",
       "      <td>[35, like, add, congratulations, well, express...</td>\n",
       "    </tr>\n",
       "    <tr>\n",
       "      <th>554</th>\n",
       "      <td>554</td>\n",
       "      <td>29</td>\n",
       "      <td>1974</td>\n",
       "      <td>USA</td>\n",
       "      <td>United States</td>\n",
       "      <td>Mr. Kissinger</td>\n",
       "      <td>NaN</td>\n",
       "      <td>last year at the previous session 2124th meeti...</td>\n",
       "      <td>[last, year, previous, session, 2124th, meetin...</td>\n",
       "    </tr>\n",
       "  </tbody>\n",
       "</table>\n",
       "</div>"
      ],
      "text/plain": [
       "      id  session  year country   country_name        speaker position  \\\n",
       "65    65       25  1970     USA  United States       Mr. YOST      NaN   \n",
       "179  179       26  1971     USA  United States     Mr. ROGERS      NaN   \n",
       "304  304       27  1972     USA  United States    Mr. Rogers       NaN   \n",
       "424  424       28  1973     USA  United States      Kissinger      NaN   \n",
       "554  554       29  1974     USA  United States  Mr. Kissinger      NaN   \n",
       "\n",
       "                                                  text  \\\n",
       "65   1\\t it is my privilege to extend to you once a...   \n",
       "179   mr president i should like first of all to as...   \n",
       "304  during the past few years the world has made r...   \n",
       "424  35\\ti should like to add my congratulations to...   \n",
       "554  last year at the previous session 2124th meeti...   \n",
       "\n",
       "                                             tokenized  \n",
       "65   [1, privilege, extend, warm, congratulations, ...  \n",
       "179  [mr, president, like, first, associate, previo...  \n",
       "304  [past, years, world, made, remarkable, advance...  \n",
       "424  [35, like, add, congratulations, well, express...  \n",
       "554  [last, year, previous, session, 2124th, meetin...  "
      ]
     },
     "execution_count": 182,
     "metadata": {},
     "output_type": "execute_result"
    }
   ],
   "source": [
    "# view dataframe\n",
    "usa_un_speeches.head()"
   ]
  },
  {
   "cell_type": "code",
   "execution_count": 183,
   "metadata": {},
   "outputs": [],
   "source": [
    "# create gensim dictionary with tokens and ids\n",
    "dictionary = Dictionary(usa_un_speeches[\"tokenized\"])"
   ]
  },
  {
   "cell_type": "code",
   "execution_count": 184,
   "metadata": {},
   "outputs": [],
   "source": [
    "# create gensim corpus, uses bag of words with token ids and tf\n",
    "# gensim_corpus: Returned in gensim_corpus: series of tuples with (token_id, token_freq_in_doc)\n",
    "gensim_corpus = [dictionary.doc2bow(doc) for doc in usa_un_speeches[\"tokenized\"]]"
   ]
  },
  {
   "cell_type": "code",
   "execution_count": 185,
   "metadata": {},
   "outputs": [],
   "source": [
    "# fit model - LDA\n",
    "ldamodel = LdaModel(corpus=gensim_corpus,\n",
    "                   num_topics = 3,\n",
    "                   id2word=dictionary)"
   ]
  },
  {
   "cell_type": "code",
   "execution_count": 186,
   "metadata": {},
   "outputs": [
    {
     "name": "stdout",
     "output_type": "stream",
     "text": [
      "Top 5 words in topic 1:\n"
     ]
    },
    {
     "data": {
      "text/plain": [
       "[(0.01485841, 'nations'),\n",
       " (0.01400524, 'united'),\n",
       " (0.00878821, 'states'),\n",
       " (0.008483238, 'world'),\n",
       " (0.006210164, 'must')]"
      ]
     },
     "execution_count": 186,
     "metadata": {},
     "output_type": "execute_result"
    }
   ],
   "source": [
    "# view the top 5 words in topic 1 \n",
    "print(f\"Top 5 words in topic 1:\")\n",
    "ldamodel.top_topics(gensim_corpus, topn=5)[0][0]"
   ]
  },
  {
   "cell_type": "code",
   "execution_count": 187,
   "metadata": {},
   "outputs": [
    {
     "name": "stdout",
     "output_type": "stream",
     "text": [
      "Top 5 words in topic 2:\n"
     ]
    },
    {
     "data": {
      "text/plain": [
       "[(0.014583317, 'united'),\n",
       " (0.011847617, 'nations'),\n",
       " (0.007447906, 'must'),\n",
       " (0.0068933354, 'world'),\n",
       " (0.0058615417, 'states')]"
      ]
     },
     "execution_count": 187,
     "metadata": {},
     "output_type": "execute_result"
    }
   ],
   "source": [
    "# view the top 5 words in topic 2\n",
    "print(f\"Top 5 words in topic 2:\")\n",
    "ldamodel.top_topics(gensim_corpus, topn=5)[1][0]"
   ]
  },
  {
   "cell_type": "code",
   "execution_count": 188,
   "metadata": {},
   "outputs": [
    {
     "name": "stdout",
     "output_type": "stream",
     "text": [
      "Top 5 words in topic 3:\n"
     ]
    },
    {
     "data": {
      "text/plain": [
       "[(0.015452854, 'nations'),\n",
       " (0.015224995, 'united'),\n",
       " (0.010149671, 'world'),\n",
       " (0.008928082, 'states'),\n",
       " (0.0087628625, 'peace')]"
      ]
     },
     "execution_count": 188,
     "metadata": {},
     "output_type": "execute_result"
    }
   ],
   "source": [
    "# view the top 5 words in topic 3\n",
    "print(f\"Top 5 words in topic 3:\")\n",
    "ldamodel.top_topics(gensim_corpus, topn=5)[2][0]"
   ]
  },
  {
   "cell_type": "markdown",
   "metadata": {},
   "source": [
    "#### Model evaluation"
   ]
  },
  {
   "cell_type": "code",
   "execution_count": 189,
   "metadata": {
    "scrolled": true
   },
   "outputs": [
    {
     "name": "stdout",
     "output_type": "stream",
     "text": [
      "Perplexity: -8.125292143908132\n",
      "Coherence: 0.2562649919937329\n"
     ]
    }
   ],
   "source": [
    "# perlexity and coherence\n",
    "perp = ldamodel.log_perplexity(gensim_corpus)\n",
    "\n",
    "# Calculate coherence\n",
    "coh = CoherenceModel(model=ldamodel,\n",
    "                     texts=usa_un_speeches[\"tokenized\"],\n",
    "                    corpus=gensim_corpus,\n",
    "                    coherence=\"c_v\").get_coherence()\n",
    "\n",
    "# view\n",
    "print(f\"Perplexity: {perp}\\nCoherence: {coh}\")"
   ]
  },
  {
   "cell_type": "markdown",
   "metadata": {},
   "source": [
    "#### Analysis"
   ]
  },
  {
   "cell_type": "code",
   "execution_count": 190,
   "metadata": {
    "scrolled": true
   },
   "outputs": [
    {
     "data": {
      "text/html": [
       "\n",
       "<link rel=\"stylesheet\" type=\"text/css\" href=\"https://cdn.jsdelivr.net/gh/bmabey/pyLDAvis@3.3.1/pyLDAvis/js/ldavis.v1.0.0.css\">\n",
       "\n",
       "\n",
       "<div id=\"ldavis_el202122014570446280447347132\"></div>\n",
       "<script type=\"text/javascript\">\n",
       "\n",
       "var ldavis_el202122014570446280447347132_data = {\"mdsDat\": {\"x\": [-0.004930320542711303, 0.0010844717821413368, 0.003845848760569963], \"y\": [0.0010639396669954659, -0.003381398019528044, 0.00231745835253258], \"topics\": [1, 2, 3], \"cluster\": [1, 1, 1], \"Freq\": [74.66931997283653, 18.24809559334608, 7.082584433817379]}, \"tinfo\": {\"Term\": [\"united\", \"nations\", \"must\", \"world\", \"states\", \"international\", \"people\", \"nuclear\", \"one\", \"us\", \"new\", \"peace\", \"would\", \"security\", \"also\", \"economic\", \"many\", \"progress\", \"war\", \"weapons\", \"global\", \"work\", \"today\", \"make\", \"rights\", \"countries\", \"every\", \"efforts\", \"development\", \"time\", \"hate\", \"peace\", \"tap\", \"endured\", \"pray\", \"longer\", \"law\", \"transition\", \"choice\", \"structure\", \"transform\", \"vote\", \"extraordinary\", \"freedom\", \"jewish\", \"reform\", \"muslim\", \"seen\", \"safeguard\", \"counter\", \"yes\", \"within\", \"hamas\", \"morning\", \"wars\", \"precisely\", \"regions\", \"bargaining\", \"bombers\", \"ideology\", \"country\", \"full\", \"challenges\", \"negotiations\", \"effort\", \"human\", \"arab\", \"israelis\", \"government\", \"people\", \"world\", \"must\", \"security\", \"years\", \"nuclear\", \"together\", \"american\", \"israel\", \"hope\", \"upon\", \"nations\", \"united\", \"states\", \"time\", \"new\", \"rights\", \"make\", \"believe\", \"us\", \"weapons\", \"war\", \"today\", \"also\", \"countries\", \"work\", \"every\", \"international\", \"economic\", \"would\", \"efforts\", \"one\", \"future\", \"207\", \"instincts\", \"stems\", \"devastation\", \"nationalism\", \"tempts\", \"preaches\", \"diverse\", \"supplied\", \"bodies\", \"reagan\", \"producers\", \"imported\", \"labors\", \"alive\", \"liberated\", \"longrange\", \"220\", \"arabic\", \"average\", \"shares\", \"disease\", \"sensitivity\", \"eludes\", \"maimed\", \"application\", \"substantially\", \"modernization\", \"disregard\", \"effortincluding\", \"call\", \"stimulate\", \"liberty\", \"bold\", \"video\", \"opportunity\", \"order\", \"meet\", \"private\", \"prices\", \"achieve\", \"bilateral\", \"purposes\", \"principles\", \"cooperation\", \"progress\", \"beyond\", \"two\", \"political\", \"international\", \"global\", \"worlds\", \"many\", \"away\", \"contribute\", \"nations\", \"support\", \"states\", \"united\", \"common\", \"face\", \"made\", \"economic\", \"future\", \"new\", \"us\", \"system\", \"world\", \"work\", \"one\", \"people\", \"efforts\", \"development\", \"must\", \"also\", \"weapons\", \"war\", \"countries\", \"today\", \"human\", \"every\", \"peace\", \"security\", \"rights\", \"would\", \"nuclear\", \"abdicate\", \"argentine\", \"serb\", \"gateway\", \"responds\", \"timeless\", \"nationstate\", \"flaws\", \"adults\", \"divisive\", \"en\", \"temperatures\", \"publichealth\", \"pharmaceutical\", \"skip\", \"heal\", \"stonecold\", \"disclose\", \"vaccine\", \"degree\", \"interesting\", \"gene\", \"inherently\", \"knife\", \"index\", \"donors\", \"italian\", \"unjust\", \"disabled\", \"husseins\", \"desperate\", \"reasonable\", \"population\", \"justify\", \"convention\", \"care\", \"reverse\", \"threatening\", \"one\", \"innocents\", \"actively\", \"shaping\", \"achieve\", \"arms\", \"recent\", \"coordinated\", \"would\", \"important\", \"yet\", \"east\", \"global\", \"agreement\", \"finally\", \"many\", \"united\", \"carry\", \"nuclear\", \"part\", \"international\", \"progress\", \"make\", \"improve\", \"must\", \"challenge\", \"could\", \"interests\", \"ensure\", \"meet\", \"nations\", \"made\", \"democracy\", \"take\", \"help\", \"need\", \"also\", \"economic\", \"world\", \"last\", \"states\", \"security\", \"development\", \"people\", \"us\", \"first\", \"peace\", \"war\", \"new\", \"weapons\", \"let\", \"every\", \"today\", \"rights\", \"work\", \"time\", \"countries\", \"human\"], \"Freq\": [1392.0, 1404.0, 738.0, 895.0, 808.0, 417.0, 681.0, 368.0, 254.0, 462.0, 464.0, 715.0, 242.0, 374.0, 300.0, 263.0, 208.0, 215.0, 300.0, 315.0, 179.0, 273.0, 284.0, 205.0, 284.0, 262.0, 241.0, 226.0, 201.0, 267.0, 12.055216950841627, 609.0971398900867, 5.39487572239902, 7.983582926747851, 4.510294099507812, 35.11713838748287, 77.05895596946296, 23.102587298575546, 26.795726068333924, 26.24173411277181, 8.72480990130973, 14.02353408399767, 17.64040868456585, 209.9383720006195, 13.147930428237318, 50.10952621373939, 22.049219691326673, 47.16698231428224, 5.9755057191254695, 10.535179143596965, 15.234182000061912, 84.75760931261735, 4.302860171695565, 14.45449673603791, 33.61136053749494, 5.9412061624099115, 23.547726965859823, 5.00038024577211, 3.4480911449304075, 17.982754876451263, 138.09120080072694, 46.76586664895868, 74.75284434024043, 114.69972444893943, 85.90811617757001, 309.1986633127019, 27.28087210740274, 26.086187494319475, 153.38355549633073, 543.2733228472562, 705.4926869106251, 583.8385538674211, 299.60215106469263, 205.85921098887314, 294.7445489191128, 188.03302231073764, 105.6187069247437, 69.48649586416857, 131.51321138176036, 84.45643674962204, 1074.1112670629216, 1058.2730163613858, 620.5813637957385, 211.2831978404981, 357.47784137397286, 223.13167069831604, 163.2604036553642, 153.95989324389993, 354.44347459752845, 242.14822695892252, 229.7081550231985, 217.45081445633338, 226.644026225026, 199.7417641758421, 204.92844786020302, 183.020136533575, 295.5284925474474, 192.29183976794522, 178.66395729131247, 168.15082656226244, 178.86322851128944, 164.33186880518915, 1.084459420147464, 0.7403901409532906, 0.48704308209604275, 1.0459237706313835, 2.5452634223203927, 0.4664344210150912, 0.49998171693457344, 1.7960955217473398, 0.46613340180833907, 2.9168243265063447, 3.4349859720553195, 3.2362581715725605, 0.9833914335529352, 0.7678090912197268, 2.1978740329059856, 1.1910828827488487, 1.571942073095001, 0.9379686178459912, 0.4651992596754578, 0.7442363395551871, 0.9322086514767575, 11.793515011666484, 0.457496264074219, 0.44510265877663474, 0.46793874457090384, 1.9443598716190402, 2.6575804799857243, 0.9980235254480515, 1.1882931867867867, 0.4532255733903721, 18.732761789376344, 1.6381608603357123, 11.78602308793974, 2.198011719375426, 1.5660577686752672, 26.83432461824682, 16.349151428317768, 23.786409918800256, 8.41528330343728, 3.4529892813117047, 15.947329411201094, 5.796099056147591, 6.929909311468141, 18.338271514959132, 30.381604659023743, 49.931265957027094, 14.686413038801076, 33.28331956406138, 30.999751153487768, 90.17036159653358, 41.33901327036571, 26.367216967250545, 46.910239917185265, 9.40395422207583, 7.244712985512658, 252.39935670826665, 44.059543658109426, 149.28506292842656, 237.90658868864736, 31.285512128619285, 19.54621246205787, 32.54465365568612, 53.15277536163528, 45.51036848115972, 84.66512557786804, 83.44964821231275, 19.10857812008189, 144.10450000926133, 52.44074103220368, 49.04446028402357, 105.37659568711227, 43.69596041178388, 39.91098952440908, 105.49187065553761, 53.62515118864002, 55.44659140286799, 52.9010103376154, 47.999423441672896, 50.30567032164028, 56.92770823796693, 43.25237366373228, 76.06594357861897, 52.16700154429267, 44.881940737796306, 41.02855475387923, 43.932067246000834, 0.2240919831679867, 0.22585964872565392, 0.22333444647982023, 0.22453216659898537, 0.4372370419040821, 0.21456493333095308, 0.21440279078553293, 0.2183609877404765, 0.21468951445238982, 0.21623001254738333, 0.2177755716005253, 0.2144346196550259, 0.21272895683107335, 0.20926124107602578, 0.21343585995217146, 0.3162116153431865, 0.20528865277089697, 0.21372347108562315, 0.21417564730844282, 0.5205177706369384, 0.20578743298273316, 0.20873144750454045, 0.21170438864022006, 0.2084415577406428, 0.2102174743390829, 0.3130866775639673, 0.20429704077196786, 0.20693001024510524, 0.20715758546270088, 0.31359634723077695, 0.9834474021996944, 0.5309706400169709, 3.3703333260375365, 1.2416109549023624, 3.9408398353121834, 1.8119375722996938, 1.1175150138515315, 0.7073399465474144, 26.416842224016648, 0.977455227751906, 1.675442715525617, 0.4983768222904755, 6.497129700161989, 12.326510729732451, 7.084084179505661, 1.071722984812503, 22.538283547074048, 9.473797428000891, 8.41487190336943, 12.723118687447622, 16.348167014914107, 12.255113514501542, 4.267834337680733, 18.193108942189916, 96.14936738060611, 2.639698292829972, 29.35764824227133, 7.542212664761958, 31.471808965577424, 17.76108444732292, 17.007464317138194, 3.9236312344147017, 49.104840330260245, 7.260784631003866, 10.807643793490694, 8.143367377160391, 5.8531382704562285, 7.863957202582938, 78.11260760190581, 12.095960532226512, 11.711198766445142, 11.872612917661272, 13.913328632547431, 9.419982988772277, 20.44524548814648, 18.43755005466397, 45.44849791587366, 12.243946594296485, 38.645771924106526, 22.29430295780592, 14.416827864051669, 32.78353563394787, 24.77725526965051, 13.331844401351498, 30.315257126521473, 18.0345477322345, 22.539539240348876, 17.723834260272827, 13.644719262226323, 15.28743470423806, 16.494654841487463, 16.422854668451368, 15.906637321076778, 15.492401302577395, 14.999681384246559, 15.828911749457752], \"Total\": [1392.0, 1404.0, 738.0, 895.0, 808.0, 417.0, 681.0, 368.0, 254.0, 462.0, 464.0, 715.0, 242.0, 374.0, 300.0, 263.0, 208.0, 215.0, 300.0, 315.0, 179.0, 273.0, 284.0, 205.0, 284.0, 262.0, 241.0, 226.0, 201.0, 267.0, 14.014833160081158, 715.4783405952272, 6.356477669571843, 9.409601794593563, 5.3379042140839035, 41.604708046550726, 91.39785437245322, 27.404242333058367, 31.79670478859035, 31.22476717177056, 10.390639900996696, 16.707175141732787, 21.034260927138376, 250.47664220702387, 15.701342422912726, 59.92679442523129, 26.413546493275444, 56.542525249712774, 7.165508071501482, 12.63697739291022, 18.28749369416288, 101.84147502526832, 5.173153756091458, 17.384296607476145, 40.42886385261781, 7.1463137542454005, 28.329674997459225, 6.0200511859242445, 4.151880312613088, 21.66479497695372, 167.79564076622452, 56.38931956753664, 90.6581645677827, 140.00099897855816, 104.61639146966841, 381.9552833001266, 32.89588780184485, 31.45359121502459, 188.37011944560348, 681.4334541683163, 895.0456848357601, 738.4352648532189, 374.0634555667912, 255.10381352971424, 368.03426440738497, 233.44609637273652, 129.98580479371475, 84.8282742616239, 162.87051566752936, 103.67643967421043, 1404.623231373094, 1392.3289724306392, 808.5121986482716, 267.5771042121817, 464.68250619218975, 284.4364661045637, 205.7686894936951, 193.6116424455922, 462.6703780794917, 315.3186526220633, 300.6437130930484, 284.2511396194611, 300.71442290181255, 262.74086900176155, 273.2758262134835, 241.55994490154532, 417.1706631095584, 263.88216518424446, 242.23079559226576, 226.16180390280897, 254.32453101932964, 221.86919762663132, 3.0913584080845893, 2.2022507134709643, 1.4826301258651307, 3.2124073470125074, 7.8365512643964195, 1.4363823266666031, 1.5588899044870812, 5.601946796317213, 1.4684546900651425, 9.235234409447187, 10.926761271034156, 10.362699492027199, 3.152154708126132, 2.4658219874703176, 7.071054083796072, 3.85560562831614, 5.109082165235844, 3.048938842831523, 1.5124948445635473, 2.4197373335787993, 3.035175675224437, 38.528698971086406, 1.4970476761922473, 1.4568553141762877, 1.5322604428206743, 6.377969006264116, 8.718030645009463, 3.277495552471372, 3.903361984532451, 1.4916616329508348, 62.83220694788697, 5.407142736309711, 40.6418698891546, 7.348306787455173, 5.200315574344605, 98.62964578592754, 58.97352560684836, 88.23306023384302, 29.957466336760753, 11.944942997227752, 60.43888019513921, 20.84323338278661, 25.3985258505905, 72.65960016851359, 125.36594762096848, 215.88559704347202, 57.81083171402113, 140.79782871927594, 130.4061810285915, 417.1706631095584, 179.24495493948496, 110.49903884294693, 208.40858397889505, 35.78122367023774, 27.003122357967953, 1404.623231373094, 200.81407647298965, 808.5121986482716, 1392.3289724306392, 139.5213052836794, 82.11289021925998, 149.68849395149192, 263.88216518424446, 221.86919762663132, 464.68250619218975, 462.6703780794917, 81.86711842860363, 895.0456848357601, 273.2758262134835, 254.32453101932964, 681.4334541683163, 226.16180390280897, 201.50039984904893, 738.4352648532189, 300.71442290181255, 315.3186526220633, 300.6437130930484, 262.74086900176155, 284.2511396194611, 381.9552833001266, 241.55994490154532, 715.4783405952272, 374.0634555667912, 284.4364661045637, 242.23079559226576, 368.03426440738497, 1.401581742276736, 1.4177973070597814, 1.4070002234477046, 1.4445510369379333, 2.8416228423018404, 1.4079163243228614, 1.4120212993956596, 1.4418984106911457, 1.4268342230347804, 1.444735728667668, 1.46119802980117, 1.4469514094377927, 1.4382323963397372, 1.4359926846686595, 1.4653856693726413, 2.1731171050603244, 1.419318811018493, 1.477821514622755, 1.4816909620026324, 3.603688109221393, 1.4278882458905047, 1.4600581170813631, 1.4834891273218493, 1.4678991064326676, 1.4830067607569766, 2.2087185808742222, 1.4476331895619707, 1.4664375021174643, 1.4699119626856771, 2.2492187784102726, 7.132120588703769, 3.8370136015913605, 25.53891542059323, 9.346376883854717, 31.153998839181135, 13.94284648947735, 8.597983093240469, 5.290132178077279, 254.32453101932964, 7.588872627426161, 13.635013230232682, 3.6948353390457203, 60.43888019513921, 123.73250256602736, 67.50150434048686, 8.508689909716182, 242.23079559226576, 94.31308332418735, 84.36167850841456, 134.08291256527215, 179.24495493948496, 130.41862609712956, 40.177572655110744, 208.40858397889505, 1392.3289724306392, 23.702497153193892, 368.03426440738497, 79.49262913066865, 417.1706631095584, 215.88559704347202, 205.7686894936951, 38.33251438741317, 738.4352648532189, 79.09440208671852, 126.73209470950083, 91.22874665670966, 61.59588163223094, 88.23306023384302, 1404.623231373094, 149.68849395149192, 144.0661866189723, 146.7782908974857, 179.91926531887285, 111.1272922374996, 300.71442290181255, 263.88216518424446, 895.0456848357601, 157.71213850381307, 808.5121986482716, 374.0634555667912, 201.50039984904893, 681.4334541683163, 462.6703780794917, 180.9566478149209, 715.4783405952272, 300.6437130930484, 464.68250619218975, 315.3186526220633, 191.70639149168022, 241.55994490154532, 284.2511396194611, 284.4364661045637, 273.2758262134835, 267.5771042121817, 262.74086900176155, 381.9552833001266], \"Category\": [\"Default\", \"Default\", \"Default\", \"Default\", \"Default\", \"Default\", \"Default\", \"Default\", \"Default\", \"Default\", \"Default\", \"Default\", \"Default\", \"Default\", \"Default\", \"Default\", \"Default\", \"Default\", \"Default\", \"Default\", \"Default\", \"Default\", \"Default\", \"Default\", \"Default\", \"Default\", \"Default\", \"Default\", \"Default\", \"Default\", \"Topic1\", \"Topic1\", \"Topic1\", \"Topic1\", \"Topic1\", \"Topic1\", \"Topic1\", \"Topic1\", \"Topic1\", \"Topic1\", \"Topic1\", \"Topic1\", \"Topic1\", \"Topic1\", \"Topic1\", \"Topic1\", \"Topic1\", \"Topic1\", \"Topic1\", \"Topic1\", \"Topic1\", \"Topic1\", \"Topic1\", \"Topic1\", \"Topic1\", \"Topic1\", \"Topic1\", \"Topic1\", \"Topic1\", \"Topic1\", \"Topic1\", \"Topic1\", \"Topic1\", \"Topic1\", \"Topic1\", \"Topic1\", \"Topic1\", \"Topic1\", \"Topic1\", \"Topic1\", \"Topic1\", \"Topic1\", \"Topic1\", \"Topic1\", \"Topic1\", \"Topic1\", \"Topic1\", \"Topic1\", \"Topic1\", \"Topic1\", \"Topic1\", \"Topic1\", \"Topic1\", \"Topic1\", \"Topic1\", \"Topic1\", \"Topic1\", \"Topic1\", \"Topic1\", \"Topic1\", \"Topic1\", \"Topic1\", \"Topic1\", \"Topic1\", \"Topic1\", \"Topic1\", \"Topic1\", \"Topic1\", \"Topic1\", \"Topic1\", \"Topic1\", \"Topic1\", \"Topic2\", \"Topic2\", \"Topic2\", \"Topic2\", \"Topic2\", \"Topic2\", \"Topic2\", \"Topic2\", \"Topic2\", \"Topic2\", \"Topic2\", \"Topic2\", \"Topic2\", \"Topic2\", \"Topic2\", \"Topic2\", \"Topic2\", \"Topic2\", \"Topic2\", \"Topic2\", \"Topic2\", \"Topic2\", \"Topic2\", \"Topic2\", \"Topic2\", \"Topic2\", \"Topic2\", \"Topic2\", \"Topic2\", \"Topic2\", \"Topic2\", \"Topic2\", \"Topic2\", \"Topic2\", \"Topic2\", \"Topic2\", \"Topic2\", \"Topic2\", \"Topic2\", \"Topic2\", \"Topic2\", \"Topic2\", \"Topic2\", \"Topic2\", \"Topic2\", \"Topic2\", \"Topic2\", \"Topic2\", \"Topic2\", \"Topic2\", \"Topic2\", \"Topic2\", \"Topic2\", \"Topic2\", \"Topic2\", \"Topic2\", \"Topic2\", \"Topic2\", \"Topic2\", \"Topic2\", \"Topic2\", \"Topic2\", \"Topic2\", \"Topic2\", \"Topic2\", \"Topic2\", \"Topic2\", \"Topic2\", \"Topic2\", \"Topic2\", \"Topic2\", \"Topic2\", \"Topic2\", \"Topic2\", \"Topic2\", \"Topic2\", \"Topic2\", \"Topic2\", \"Topic2\", \"Topic2\", \"Topic2\", \"Topic2\", \"Topic2\", \"Topic2\", \"Topic2\", \"Topic2\", \"Topic3\", \"Topic3\", \"Topic3\", \"Topic3\", \"Topic3\", \"Topic3\", \"Topic3\", \"Topic3\", \"Topic3\", \"Topic3\", \"Topic3\", \"Topic3\", \"Topic3\", \"Topic3\", \"Topic3\", \"Topic3\", \"Topic3\", \"Topic3\", \"Topic3\", \"Topic3\", \"Topic3\", \"Topic3\", \"Topic3\", \"Topic3\", \"Topic3\", \"Topic3\", \"Topic3\", \"Topic3\", \"Topic3\", \"Topic3\", \"Topic3\", \"Topic3\", \"Topic3\", \"Topic3\", \"Topic3\", \"Topic3\", \"Topic3\", \"Topic3\", \"Topic3\", \"Topic3\", \"Topic3\", \"Topic3\", \"Topic3\", \"Topic3\", \"Topic3\", \"Topic3\", \"Topic3\", \"Topic3\", \"Topic3\", \"Topic3\", \"Topic3\", \"Topic3\", \"Topic3\", \"Topic3\", \"Topic3\", \"Topic3\", \"Topic3\", \"Topic3\", \"Topic3\", \"Topic3\", \"Topic3\", \"Topic3\", \"Topic3\", \"Topic3\", \"Topic3\", \"Topic3\", \"Topic3\", \"Topic3\", \"Topic3\", \"Topic3\", \"Topic3\", \"Topic3\", \"Topic3\", \"Topic3\", \"Topic3\", \"Topic3\", \"Topic3\", \"Topic3\", \"Topic3\", \"Topic3\", \"Topic3\", \"Topic3\", \"Topic3\", \"Topic3\", \"Topic3\", \"Topic3\", \"Topic3\", \"Topic3\", \"Topic3\", \"Topic3\", \"Topic3\", \"Topic3\", \"Topic3\", \"Topic3\", \"Topic3\", \"Topic3\"], \"logprob\": [30.0, 29.0, 28.0, 27.0, 26.0, 25.0, 24.0, 23.0, 22.0, 21.0, 20.0, 19.0, 18.0, 17.0, 16.0, 15.0, 14.0, 13.0, 12.0, 11.0, 10.0, 9.0, 8.0, 7.0, 6.0, 5.0, 4.0, 3.0, 2.0, 1.0, -8.6597, -4.7372, -9.4638, -9.0718, -9.6428, -7.5905, -6.8046, -8.0093, -7.861, -7.8819, -8.983, -8.5085, -8.279, -5.8024, -8.5729, -7.235, -8.0559, -7.2955, -9.3615, -8.7945, -8.4257, -6.7094, -9.6899, -8.4782, -7.6343, -9.3673, -7.9902, -9.5397, -9.9114, -8.2598, -6.2213, -7.3041, -6.835, -6.4069, -6.6959, -5.4152, -7.843, -7.8878, -6.1163, -4.8516, -4.5903, -4.7796, -5.4468, -5.822, -5.4631, -5.9126, -6.4894, -6.9081, -6.2701, -6.713, -4.17, -4.1848, -4.7186, -5.796, -5.2701, -5.7414, -6.0539, -6.1125, -5.2787, -5.6597, -5.7124, -5.7672, -5.7258, -5.8522, -5.8265, -5.9396, -5.4604, -5.8902, -5.9637, -6.0243, -5.9626, -6.0473, -9.6591, -10.0408, -10.4596, -9.6953, -8.806, -10.5028, -10.4334, -9.1546, -10.5035, -8.6697, -8.5062, -8.5658, -9.7569, -10.0044, -8.9527, -9.5653, -9.2879, -9.8042, -10.5055, -10.0356, -9.8104, -7.2727, -10.5222, -10.5497, -10.4996, -9.0753, -8.7628, -9.7422, -9.5677, -10.5316, -6.8099, -9.2466, -7.2733, -8.9526, -9.2916, -6.4505, -6.946, -6.5711, -7.6102, -8.501, -6.9709, -7.983, -7.8044, -6.8312, -6.3264, -5.8296, -7.0533, -6.2351, -6.3062, -5.2385, -6.0184, -6.4681, -5.892, -7.4991, -7.7599, -4.2092, -5.9547, -4.7343, -4.2683, -6.297, -6.7674, -6.2576, -5.767, -5.9223, -5.3015, -5.316, -6.7901, -4.7697, -5.7805, -5.8475, -5.0827, -5.9629, -6.0536, -5.0816, -5.7582, -5.7248, -5.7718, -5.869, -5.8221, -5.6984, -5.9731, -5.4086, -5.7858, -5.9362, -6.0259, -5.9576, -10.2895, -10.2816, -10.2929, -10.2875, -9.6211, -10.3329, -10.3337, -10.3154, -10.3323, -10.3252, -10.3181, -10.3335, -10.3415, -10.358, -10.3382, -9.9451, -10.3771, -10.3369, -10.3347, -9.4467, -10.3747, -10.3605, -10.3463, -10.3619, -10.3534, -9.9551, -10.382, -10.3692, -10.3681, -9.9534, -8.8105, -9.4268, -7.5788, -8.5774, -7.4224, -8.1994, -8.6827, -9.14, -5.5198, -8.8166, -8.2777, -9.4902, -6.9224, -6.282, -6.8359, -8.7245, -5.6786, -6.5453, -6.6638, -6.2504, -5.9997, -6.2878, -7.3427, -5.8927, -4.2279, -7.8231, -5.4142, -6.7733, -5.3447, -5.9168, -5.9601, -7.4268, -4.8998, -6.8113, -6.4135, -6.6966, -7.0268, -6.7315, -4.4356, -6.3009, -6.3332, -6.3195, -6.1609, -6.5509, -5.776, -5.8794, -4.9772, -6.2887, -5.1393, -5.6894, -6.1254, -5.3039, -5.5839, -6.2036, -5.3821, -5.9015, -5.6785, -5.9189, -6.1804, -6.0667, -5.9907, -5.9951, -6.027, -6.0534, -6.0858, -6.0319], \"loglift\": [30.0, 29.0, 28.0, 27.0, 26.0, 25.0, 24.0, 23.0, 22.0, 21.0, 20.0, 19.0, 18.0, 17.0, 16.0, 15.0, 14.0, 13.0, 12.0, 11.0, 10.0, 9.0, 8.0, 7.0, 6.0, 5.0, 4.0, 3.0, 2.0, 1.0, 0.1415, 0.1311, 0.1281, 0.1278, 0.1236, 0.1226, 0.1214, 0.1213, 0.121, 0.1182, 0.1174, 0.117, 0.1161, 0.1155, 0.1146, 0.1132, 0.1115, 0.1108, 0.1105, 0.1102, 0.1094, 0.1085, 0.1079, 0.1075, 0.1074, 0.1074, 0.1072, 0.1065, 0.1064, 0.1058, 0.0973, 0.105, 0.0992, 0.0928, 0.0951, 0.0808, 0.1049, 0.105, 0.0866, 0.0655, 0.0541, 0.0572, 0.0701, 0.0776, 0.07, 0.0758, 0.0845, 0.0926, 0.0783, 0.0871, 0.0238, 0.0178, 0.0276, 0.0559, 0.0298, 0.0494, 0.0607, 0.0629, 0.0256, 0.0281, 0.023, 0.0242, 0.0093, 0.018, 0.0043, 0.0146, -0.0526, -0.0244, -0.0123, -0.0043, -0.0599, -0.0081, 0.6536, 0.6111, 0.5879, 0.579, 0.5765, 0.5763, 0.564, 0.5636, 0.5536, 0.5486, 0.5439, 0.5373, 0.5363, 0.5344, 0.5326, 0.5264, 0.5224, 0.5223, 0.5221, 0.5221, 0.5206, 0.5173, 0.5156, 0.5154, 0.5149, 0.5132, 0.5131, 0.5121, 0.5118, 0.5099, 0.4909, 0.507, 0.4632, 0.4942, 0.501, 0.3994, 0.4182, 0.3902, 0.4314, 0.46, 0.3688, 0.4213, 0.4023, 0.3243, 0.2837, 0.237, 0.3309, 0.2588, 0.2644, 0.1693, 0.2342, 0.2682, 0.2098, 0.3648, 0.3854, -0.0154, 0.1843, 0.0118, -0.0657, 0.206, 0.2658, 0.1752, 0.0988, 0.117, -0.0015, -0.0117, 0.2461, -0.1252, 0.0503, 0.0552, -0.1655, 0.0571, 0.082, -0.2448, -0.023, -0.0371, -0.0364, 0.0011, -0.0306, -0.2024, -0.019, -0.5402, -0.2689, -0.1454, -0.0745, -0.4244, 0.8142, 0.8106, 0.807, 0.786, 0.7759, 0.7663, 0.7626, 0.76, 0.7535, 0.7482, 0.744, 0.7383, 0.7364, 0.7215, 0.721, 0.72, 0.714, 0.7139, 0.7134, 0.7126, 0.7104, 0.7023, 0.7006, 0.6956, 0.6938, 0.6938, 0.6894, 0.6893, 0.6881, 0.6773, 0.6662, 0.6698, 0.6223, 0.629, 0.58, 0.607, 0.6071, 0.6354, 0.3829, 0.598, 0.551, 0.6442, 0.4173, 0.3412, 0.3932, 0.5757, 0.2729, 0.3494, 0.3424, 0.2925, 0.2529, 0.2827, 0.4053, 0.2091, -0.0253, 0.4526, 0.1189, 0.2924, 0.0631, 0.1498, 0.1544, 0.3683, -0.063, 0.2594, 0.1857, 0.2314, 0.2939, 0.2298, -0.2418, 0.1318, 0.1378, 0.1328, 0.0879, 0.1797, -0.0409, -0.0136, -0.3328, 0.0918, -0.3932, -0.1726, 0.0101, -0.3867, -0.2796, 0.0394, -0.5138, -0.1661, -0.3786, -0.2311, 0.0049, -0.1126, -0.1993, -0.2043, -0.1962, -0.2015, -0.2156, -0.5359]}, \"token.table\": {\"Topic\": [1, 2, 1, 2, 1, 1, 2, 3, 1, 2, 3, 1, 1, 2, 3, 1, 2, 3, 1, 2, 3, 1, 2, 3, 1, 2, 1, 2, 3, 1, 1, 1, 2, 3, 1, 2, 1, 2, 3, 1, 2, 1, 2, 3, 1, 2, 3, 1, 2, 3, 1, 2, 3, 1, 2, 1, 2, 1, 2, 3, 1, 2, 3, 1, 2, 3, 1, 2, 3, 1, 2, 3, 1, 2, 3, 1, 2, 3, 1, 2, 3, 1, 2, 3, 1, 2, 3, 1, 2, 3, 1, 2, 3, 1, 2, 1, 2, 3, 1, 2, 3, 1, 2, 3, 1, 2, 3, 1, 2, 3, 1, 2, 1, 2, 3, 1, 1, 1, 2, 3, 1, 2, 1, 2, 1, 1, 1, 2, 3, 1, 2, 3, 1, 2, 3, 1, 1, 2, 3, 1, 1, 1, 2, 1, 2, 3, 1, 2, 3, 1, 2, 3, 1, 2, 3, 1, 2, 3, 1, 2, 3, 1, 1, 2, 3, 1, 2, 3, 1, 2, 3, 1, 1, 1, 2, 3, 1, 2, 3, 1, 2, 1, 2, 3, 1, 1, 2, 3, 1, 2, 3, 1, 2, 3, 1, 1, 2, 3, 1, 2, 3, 1, 2, 1, 2, 3, 1, 1, 1, 2, 3, 1, 2, 1, 1, 2, 3, 1, 2, 3, 1, 2, 3, 1, 2, 3, 1, 1, 2, 3, 1, 2, 3, 1, 1, 2, 1, 2, 3, 1, 2, 3, 1, 2, 3, 1, 2, 1, 2, 3, 1, 2, 3, 1, 2, 3, 1, 2, 3, 1, 1, 2, 3, 1, 2, 3, 1, 2, 3, 1, 2, 1, 2, 3, 1, 2, 3, 1, 2, 3, 1, 2, 3, 1, 2, 3, 1, 1, 2, 3, 1, 2, 3, 1, 2, 3, 1, 2, 3, 1, 2, 3, 1, 2, 3, 1, 2, 3, 1, 2, 3, 1, 2, 3, 1, 2, 3, 1, 1, 2, 3, 1, 2, 3, 1, 2, 1, 1, 2, 1, 2, 3, 1, 2, 3, 1, 2, 3, 1, 2, 3, 1, 2, 3, 1, 1, 2, 3, 1, 2, 3, 1, 2, 3, 1, 2, 3, 1, 2, 3, 1, 2, 3, 1, 2, 1, 2, 3, 1, 2, 3, 1, 2, 1, 2, 3, 1, 2, 3, 1, 1, 1, 2, 1, 2, 1, 1, 2, 3, 1, 1, 2, 1, 1, 2, 3, 1, 2, 3, 1, 1, 2, 3, 1, 2, 3, 1, 2, 3, 1, 2, 1, 1, 1, 2, 3, 1, 2, 3, 1, 1, 2, 3, 1, 2, 3, 1, 2, 3, 1, 2, 3, 1, 2, 3, 1, 2, 3, 1, 1, 2, 3, 1, 2, 3, 1, 1, 2, 3, 1, 2, 3, 1, 2, 3, 1, 2, 3, 1, 2, 3, 1, 2, 3, 1, 2, 3, 1, 2, 3, 1, 2, 3, 1, 2, 3, 1, 2, 3, 1, 2, 3, 1, 2, 3], \"Freq\": [0.6469647759928306, 0.3234823879964153, 0.6559659288352985, 0.32798296441764924, 0.7134796136653402, 0.6287343491029165, 0.26473025225385954, 0.09927384459519734, 0.6600653661299318, 0.2200217887099773, 0.1466811924733182, 0.7008522671071536, 0.7667616428156878, 0.1380170957068238, 0.09201139713788253, 0.5656865231969225, 0.28284326159846124, 0.14142163079923062, 0.754869014294398, 0.17957236463390966, 0.06650828319774432, 0.8154736601294287, 0.13078351153019138, 0.053852034159490574, 0.6271588958916865, 0.31357944794584325, 0.8207712818890938, 0.12159574546505092, 0.06079787273252546, 0.6611592783898478, 0.7053194381316702, 0.7031297209362932, 0.2020487703839923, 0.0969834097843163, 0.8265359930790478, 0.4132679965395239, 0.642795232828525, 0.2515285693676837, 0.08384285645589457, 0.8305577221155075, 0.1661115444231015, 0.795406712399934, 0.14978438090648108, 0.05681476517142386, 0.6746140618236626, 0.25946694685525484, 0.08648898228508495, 0.6716808156819807, 0.28786320672084886, 0.04797720112014148, 0.649685729023001, 0.3248428645115005, 0.10828095483716683, 0.6804288585958145, 0.2721715434383258, 0.7225641815555797, 0.24085472718519324, 0.6207007822015006, 0.3023926887648336, 0.07957702335916675, 0.6454922964828085, 0.28688546510347046, 0.14344273255173523, 0.7172240076699794, 0.16875859003999513, 0.12656894252999634, 0.7206578278132202, 0.18964679679295268, 0.08850183850337792, 0.8272834593284148, 0.09927401511940978, 0.07721312287065205, 0.8491445946841776, 0.09434939940935307, 0.06289959960623537, 0.7167364138163461, 0.2221882882830673, 0.05733891310530769, 0.6665895803226861, 0.25922928123660016, 0.0740655089247429, 0.7061693785624554, 0.16049304058237623, 0.128394432465901, 0.6859917037440859, 0.23929943153863462, 0.07178982946159038, 0.7051614365624634, 0.2350538121874878, 0.1175269060937439, 0.7338314750748611, 0.1814852035131377, 0.08679727124541368, 0.8704613182398648, 0.15826569422542996, 0.7612062819152018, 0.18268950765964842, 0.05709047114364013, 0.8224289938036217, 0.11323297740774502, 0.059596303898813166, 0.554986985383737, 0.2774934926918685, 0.2774934926918685, 0.7427141823569932, 0.17353135101798906, 0.08329504848863475, 0.5608430129932761, 0.28042150649663805, 0.14021075324831903, 0.6225860496365665, 0.31129302481828325, 0.7295270883339333, 0.19851077233576417, 0.06947877031751745, 0.6803128523240939, 0.6766717023031507, 0.6229122872280384, 0.3114561436140192, 0.0778640359035048, 0.5123788180356432, 0.2561894090178216, 0.5355281135429983, 0.3570187423619989, 0.6921681108573383, 0.45275120545424796, 0.6936006849845776, 0.21628408456508336, 0.09695493446020978, 0.7275974860443645, 0.20084722271016311, 0.06821226431665918, 0.8220509118299507, 0.12426350992778325, 0.05735238919743842, 0.6703933237337345, 0.7428310046209063, 0.19455097740071356, 0.06190258371840886, 0.6864099614211892, 0.6843699345365757, 0.8501953828265643, 0.10627442285332053, 0.6818637689248186, 0.21105307133387244, 0.09740910984640266, 0.7575759303744952, 0.1780096448420945, 0.062096387735614364, 0.8557467296973779, 0.14262445494956297, 0.04754148498318766, 0.6819879296717889, 0.24356711773992462, 0.08524849120897361, 0.6720167052343192, 0.19911606081016864, 0.09955803040508432, 0.7681397819778725, 0.15473319349194553, 0.07184041126411757, 0.6935301354002253, 0.8384015297778978, 0.10779448240001545, 0.05589343531852652, 0.8334911710312235, 0.10640312821675194, 0.05320156410837597, 0.7391742601241319, 0.20732936564457358, 0.05408592147249745, 0.6922566073675984, 0.6849042434002468, 0.6806328247352263, 0.22873726077167442, 0.08926332127675099, 0.8122307319775445, 0.13802613746023631, 0.04777827835162026, 0.7732227164696094, 0.19330567911740235, 0.8562356656645714, 0.07135297213871429, 0.07135297213871429, 0.46016848225592544, 0.7670106909086202, 0.15562535757566207, 0.07781267878783103, 0.8104597659005027, 0.13507662765008377, 0.06139846711367444, 0.808995224074958, 0.14923212871285632, 0.0418897203404509, 0.4445988134185821, 0.8308410035335112, 0.13847350058891852, 0.04615783352963951, 0.6785908989955234, 0.22266263873290612, 0.09542684517124549, 0.6344866242903872, 0.3172433121451936, 0.7043628739591812, 0.20870011080272033, 0.10435005540136016, 0.6743057593948973, 0.6740865042976791, 0.6588593913053721, 0.26354375652214884, 0.13177187826107442, 0.45408090635779674, 0.45408090635779674, 0.7003349196815809, 0.734417631014032, 0.18634477204833647, 0.08769165743451128, 0.7095417443634183, 0.2157390438942826, 0.07431011511914179, 0.8134080364194728, 0.12967374493643768, 0.04715408906779552, 0.8266146724632338, 0.12717148807126674, 0.06358574403563337, 0.690782725355021, 0.8279546837364238, 0.12737764365175752, 0.06368882182587876, 0.6419599888342429, 0.21398666294474764, 0.10699333147237382, 0.6812457311389949, 0.811088557958637, 0.4055442789793185, 0.7418579261555778, 0.183879315030015, 0.0760879924262131, 0.8424705429759777, 0.10941175882804904, 0.05470587941402452, 0.7563649749585568, 0.17213823568022327, 0.0730283424097917, 0.5187252516989038, 0.2593626258494519, 0.6397343446773391, 0.295262005235695, 0.07381550130892375, 0.8412509459467702, 0.12017870656382432, 0.048071482625529724, 0.5871896170339854, 0.3914597446893236, 0.1957298723446618, 0.7014567200737976, 0.22045782630890778, 0.08016648229414829, 0.652630565962495, 0.792151616463468, 0.12635547256472496, 0.08261703975385863, 0.6861521597137342, 0.22551854200381477, 0.08636880332060991, 0.6460163554220333, 0.2720068864934877, 0.0906689621644959, 0.610222033250942, 0.305111016625471, 0.8053245015377428, 0.11504635736253468, 0.05752317868126734, 0.8329059486805728, 0.1135780839109872, 0.0757187226073248, 0.7908614712707194, 0.14219255904696151, 0.0663565275552487, 0.6380357674320792, 0.38282146045924753, 0.12760715348641583, 0.7646178533941146, 0.17940754101984813, 0.055530905553762513, 0.7082046144969603, 0.7018977825294218, 0.21596854847059133, 0.08098820567647175, 0.82142271011661, 0.12857051114868678, 0.049999643224489305, 0.7682664943111653, 0.1829205938836108, 0.049496160697918214, 0.8015558020800427, 0.11955408573397248, 0.07879701105193641, 0.7038251453077301, 0.19266721854792612, 0.1022315853519608, 0.6590310599014053, 0.2737513633436607, 0.0709725756816898, 0.6782704542147122, 0.2713081816858849, 0.050870284066103416, 0.6918880480049531, 0.2138563057469855, 0.10063826152799317, 0.8511788064658327, 0.1062226425146195, 0.041929990466297175, 0.7968496361287792, 0.15408694621274738, 0.048427325952577746, 0.6963823776238385, 0.6901513355434244, 0.2377187933538462, 0.06901513355434244, 0.6656508203277928, 0.2349355836451033, 0.11746779182255165, 0.9366972128888426, 0.18733944257776852, 0.6414821195015874, 0.8395936991201357, 0.13993228318668927, 0.669739487401211, 0.2511523077754541, 0.08371743592515138, 0.6881403129667518, 0.24773051266803067, 0.05505122503734015, 0.6342325411106324, 0.2670452804676347, 0.10014198017536301, 0.5789997099323636, 0.2894998549661818, 0.09649995165539393, 0.6855482812510083, 0.2316041490712866, 0.08337749366566317, 0.6952979244140051, 0.6693301847518351, 0.2756065466625204, 0.07874472761786296, 0.6406289866107315, 0.2745552799760278, 0.09151842665867593, 0.7818580572025551, 0.2606193524008517, 0.2606193524008517, 0.7259097479196503, 0.17777381581705723, 0.10370139255995005, 0.8343513194650077, 0.11680918472510109, 0.050061079167900466, 0.8471682079710573, 0.14119470132850956, 0.03529867533212739, 0.7038231711214397, 0.35191158556071983, 0.6978380784113263, 0.23261269280377542, 0.11630634640188771, 0.7840063654778406, 0.15820756254037144, 0.056251577792132065, 0.8373446711843201, 0.1395574451973867, 0.8020029637630112, 0.13901384705225528, 0.05881355067595415, 0.8312327720141709, 0.10611482195925585, 0.05305741097962793, 0.6679813982568064, 0.7107319411432688, 0.5412961110512026, 0.2706480555256013, 0.6589404416771063, 0.32947022083855315, 0.6824142073315883, 0.7680774650502888, 0.18428911802333822, 0.048236749012820074, 0.6744770543607356, 0.5548216768635651, 0.36988111790904343, 0.7045633385795874, 0.8326723417014259, 0.09607757788862606, 0.032025859296208686, 0.5735240220636518, 0.3441144132381911, 0.11470480441273036, 0.6809879846926967, 0.7170812053076797, 0.2191081460662355, 0.06473649770138776, 0.7084651458763855, 0.23208340985605733, 0.061074581541067714, 0.7698686182340312, 0.14988592567388218, 0.08175595945848119, 0.786599160716754, 0.1573198321433508, 0.6911082110134895, 0.6961934726116333, 0.5670935808432603, 0.18903119361442008, 0.18903119361442008, 0.7885577528063928, 0.15322686191972562, 0.05605860801941181, 0.7102694831533762, 0.7634094283333638, 0.1759007899385631, 0.056288252780340185, 0.8053250961190883, 0.14564390036196279, 0.047120085411223256, 0.8661641713843531, 0.09624046348715035, 0.09624046348715035, 0.8392861119993298, 0.10947210156512997, 0.036490700521709996, 0.7031358430774323, 0.23437861435914412, 0.06392144027976657, 0.7598778887384718, 0.17093661391281312, 0.0689492224186137, 0.6819247315729778, 0.810213007545002, 0.125390108310536, 0.057872357681785856, 0.7651235453400456, 0.17939337362492594, 0.05403414868220661, 0.6749045689314418, 0.5768880671012143, 0.3845920447341429, 0.19229602236707144, 0.8379633230173936, 0.11970904614534195, 0.05985452307267097, 0.7650251443269517, 0.17628840282316713, 0.05987153303428317, 0.8409833163738156, 0.12367401711379641, 0.049469606845518564, 0.7674775912798851, 0.174426725290883, 0.057085110095198066, 0.8346304880100204, 0.1276493687544737, 0.03927672884753037, 0.7501578271319677, 0.19028393663835277, 0.05854890358103162, 0.7876692910143093, 0.16088564241994402, 0.0502767632562325, 0.6787389355177834, 0.23529616431283157, 0.08144867226213401, 0.7389646702944459, 0.16926006414565523, 0.09495076769146513, 0.8075143885530559, 0.14111901935878648, 0.05095964587956178, 0.8202326820097714, 0.10936435760130285, 0.054682178800651425, 0.6756622320443114, 0.2252207440147705, 0.09482978695358757], \"Term\": [\"207\", \"207\", \"220\", \"220\", \"abdicate\", \"achieve\", \"achieve\", \"achieve\", \"actively\", \"actively\", \"actively\", \"adults\", \"agreement\", \"agreement\", \"agreement\", \"alive\", \"alive\", \"alive\", \"also\", \"also\", \"also\", \"american\", \"american\", \"american\", \"application\", \"application\", \"arab\", \"arab\", \"arab\", \"arabic\", \"argentine\", \"arms\", \"arms\", \"arms\", \"average\", \"average\", \"away\", \"away\", \"away\", \"bargaining\", \"bargaining\", \"believe\", \"believe\", \"believe\", \"beyond\", \"beyond\", \"beyond\", \"bilateral\", \"bilateral\", \"bilateral\", \"bodies\", \"bodies\", \"bodies\", \"bold\", \"bold\", \"bombers\", \"bombers\", \"call\", \"call\", \"call\", \"care\", \"care\", \"care\", \"carry\", \"carry\", \"carry\", \"challenge\", \"challenge\", \"challenge\", \"challenges\", \"challenges\", \"challenges\", \"choice\", \"choice\", \"choice\", \"common\", \"common\", \"common\", \"contribute\", \"contribute\", \"contribute\", \"convention\", \"convention\", \"convention\", \"cooperation\", \"cooperation\", \"cooperation\", \"coordinated\", \"coordinated\", \"coordinated\", \"could\", \"could\", \"could\", \"counter\", \"counter\", \"countries\", \"countries\", \"countries\", \"country\", \"country\", \"country\", \"degree\", \"degree\", \"degree\", \"democracy\", \"democracy\", \"democracy\", \"desperate\", \"desperate\", \"desperate\", \"devastation\", \"devastation\", \"development\", \"development\", \"development\", \"disabled\", \"disclose\", \"disease\", \"disease\", \"disease\", \"disregard\", \"disregard\", \"diverse\", \"diverse\", \"divisive\", \"donors\", \"east\", \"east\", \"east\", \"economic\", \"economic\", \"economic\", \"effort\", \"effort\", \"effort\", \"effortincluding\", \"efforts\", \"efforts\", \"efforts\", \"eludes\", \"en\", \"endured\", \"endured\", \"ensure\", \"ensure\", \"ensure\", \"every\", \"every\", \"every\", \"extraordinary\", \"extraordinary\", \"extraordinary\", \"face\", \"face\", \"face\", \"finally\", \"finally\", \"finally\", \"first\", \"first\", \"first\", \"flaws\", \"freedom\", \"freedom\", \"freedom\", \"full\", \"full\", \"full\", \"future\", \"future\", \"future\", \"gateway\", \"gene\", \"global\", \"global\", \"global\", \"government\", \"government\", \"government\", \"hamas\", \"hamas\", \"hate\", \"hate\", \"hate\", \"heal\", \"help\", \"help\", \"help\", \"hope\", \"hope\", \"hope\", \"human\", \"human\", \"human\", \"husseins\", \"ideology\", \"ideology\", \"ideology\", \"important\", \"important\", \"important\", \"imported\", \"imported\", \"improve\", \"improve\", \"improve\", \"index\", \"inherently\", \"innocents\", \"innocents\", \"innocents\", \"instincts\", \"instincts\", \"interesting\", \"interests\", \"interests\", \"interests\", \"international\", \"international\", \"international\", \"israel\", \"israel\", \"israel\", \"israelis\", \"israelis\", \"israelis\", \"italian\", \"jewish\", \"jewish\", \"jewish\", \"justify\", \"justify\", \"justify\", \"knife\", \"labors\", \"labors\", \"last\", \"last\", \"last\", \"law\", \"law\", \"law\", \"let\", \"let\", \"let\", \"liberated\", \"liberated\", \"liberty\", \"liberty\", \"liberty\", \"longer\", \"longer\", \"longer\", \"longrange\", \"longrange\", \"longrange\", \"made\", \"made\", \"made\", \"maimed\", \"make\", \"make\", \"make\", \"many\", \"many\", \"many\", \"meet\", \"meet\", \"meet\", \"modernization\", \"modernization\", \"morning\", \"morning\", \"morning\", \"muslim\", \"muslim\", \"muslim\", \"must\", \"must\", \"must\", \"nationalism\", \"nationalism\", \"nationalism\", \"nations\", \"nations\", \"nations\", \"nationstate\", \"need\", \"need\", \"need\", \"negotiations\", \"negotiations\", \"negotiations\", \"new\", \"new\", \"new\", \"nuclear\", \"nuclear\", \"nuclear\", \"one\", \"one\", \"one\", \"opportunity\", \"opportunity\", \"opportunity\", \"order\", \"order\", \"order\", \"part\", \"part\", \"part\", \"peace\", \"peace\", \"peace\", \"people\", \"people\", \"people\", \"pharmaceutical\", \"political\", \"political\", \"political\", \"population\", \"population\", \"population\", \"pray\", \"pray\", \"preaches\", \"precisely\", \"precisely\", \"prices\", \"prices\", \"prices\", \"principles\", \"principles\", \"principles\", \"private\", \"private\", \"private\", \"producers\", \"producers\", \"producers\", \"progress\", \"progress\", \"progress\", \"publichealth\", \"purposes\", \"purposes\", \"purposes\", \"reagan\", \"reagan\", \"reagan\", \"reasonable\", \"reasonable\", \"reasonable\", \"recent\", \"recent\", \"recent\", \"reform\", \"reform\", \"reform\", \"regions\", \"regions\", \"regions\", \"responds\", \"responds\", \"reverse\", \"reverse\", \"reverse\", \"rights\", \"rights\", \"rights\", \"safeguard\", \"safeguard\", \"security\", \"security\", \"security\", \"seen\", \"seen\", \"seen\", \"sensitivity\", \"serb\", \"shaping\", \"shaping\", \"shares\", \"shares\", \"skip\", \"states\", \"states\", \"states\", \"stems\", \"stimulate\", \"stimulate\", \"stonecold\", \"structure\", \"structure\", \"structure\", \"substantially\", \"substantially\", \"substantially\", \"supplied\", \"support\", \"support\", \"support\", \"system\", \"system\", \"system\", \"take\", \"take\", \"take\", \"tap\", \"tap\", \"temperatures\", \"tempts\", \"threatening\", \"threatening\", \"threatening\", \"time\", \"time\", \"time\", \"timeless\", \"today\", \"today\", \"today\", \"together\", \"together\", \"together\", \"transform\", \"transform\", \"transform\", \"transition\", \"transition\", \"transition\", \"two\", \"two\", \"two\", \"united\", \"united\", \"united\", \"unjust\", \"upon\", \"upon\", \"upon\", \"us\", \"us\", \"us\", \"vaccine\", \"video\", \"video\", \"video\", \"vote\", \"vote\", \"vote\", \"war\", \"war\", \"war\", \"wars\", \"wars\", \"wars\", \"weapons\", \"weapons\", \"weapons\", \"within\", \"within\", \"within\", \"work\", \"work\", \"work\", \"world\", \"world\", \"world\", \"worlds\", \"worlds\", \"worlds\", \"would\", \"would\", \"would\", \"years\", \"years\", \"years\", \"yes\", \"yes\", \"yes\", \"yet\", \"yet\", \"yet\"]}, \"R\": 30, \"lambda.step\": 0.01, \"plot.opts\": {\"xlab\": \"PC1\", \"ylab\": \"PC2\"}, \"topic.order\": [3, 1, 2]};\n",
       "\n",
       "function LDAvis_load_lib(url, callback){\n",
       "  var s = document.createElement('script');\n",
       "  s.src = url;\n",
       "  s.async = true;\n",
       "  s.onreadystatechange = s.onload = callback;\n",
       "  s.onerror = function(){console.warn(\"failed to load library \" + url);};\n",
       "  document.getElementsByTagName(\"head\")[0].appendChild(s);\n",
       "}\n",
       "\n",
       "if(typeof(LDAvis) !== \"undefined\"){\n",
       "   // already loaded: just create the visualization\n",
       "   !function(LDAvis){\n",
       "       new LDAvis(\"#\" + \"ldavis_el202122014570446280447347132\", ldavis_el202122014570446280447347132_data);\n",
       "   }(LDAvis);\n",
       "}else if(typeof define === \"function\" && define.amd){\n",
       "   // require.js is available: use it to load d3/LDAvis\n",
       "   require.config({paths: {d3: \"https://d3js.org/d3.v5\"}});\n",
       "   require([\"d3\"], function(d3){\n",
       "      window.d3 = d3;\n",
       "      LDAvis_load_lib(\"https://cdn.jsdelivr.net/gh/bmabey/pyLDAvis@3.3.1/pyLDAvis/js/ldavis.v3.0.0.js\", function(){\n",
       "        new LDAvis(\"#\" + \"ldavis_el202122014570446280447347132\", ldavis_el202122014570446280447347132_data);\n",
       "      });\n",
       "    });\n",
       "}else{\n",
       "    // require.js not available: dynamically load d3 & LDAvis\n",
       "    LDAvis_load_lib(\"https://d3js.org/d3.v5.js\", function(){\n",
       "         LDAvis_load_lib(\"https://cdn.jsdelivr.net/gh/bmabey/pyLDAvis@3.3.1/pyLDAvis/js/ldavis.v3.0.0.js\", function(){\n",
       "                 new LDAvis(\"#\" + \"ldavis_el202122014570446280447347132\", ldavis_el202122014570446280447347132_data);\n",
       "            })\n",
       "         });\n",
       "}\n",
       "</script>"
      ],
      "text/plain": [
       "<IPython.core.display.HTML object>"
      ]
     },
     "execution_count": 190,
     "metadata": {},
     "output_type": "execute_result"
    }
   ],
   "source": [
    "pyLDAvis.enable_notebook()\n",
    "vis = gensim_pyvis.prepare(ldamodel,\n",
    "                       gensim_corpus,\n",
    "                       dictionary)\n",
    "pyLDAvis.display(vis)"
   ]
  },
  {
   "cell_type": "code",
   "execution_count": null,
   "metadata": {},
   "outputs": [],
   "source": []
  }
 ],
 "metadata": {
  "kernelspec": {
   "display_name": "Python 3",
   "language": "python",
   "name": "python3"
  },
  "language_info": {
   "codemirror_mode": {
    "name": "ipython",
    "version": 3
   },
   "file_extension": ".py",
   "mimetype": "text/x-python",
   "name": "python",
   "nbconvert_exporter": "python",
   "pygments_lexer": "ipython3",
   "version": "3.7.6"
  }
 },
 "nbformat": 4,
 "nbformat_minor": 4
}
